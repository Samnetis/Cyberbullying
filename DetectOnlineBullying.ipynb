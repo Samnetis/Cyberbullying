{
  "cells": [
    {
      "cell_type": "markdown",
      "metadata": {
        "colab_type": "text",
        "id": "view-in-github"
      },
      "source": [
        "<a href=\"https://colab.research.google.com/github/Areefahnk/Web-App-Classifying-Bullying-Comments-using-Machine-Learning/blob/main/DetectOnlineBullying.ipynb\" target=\"_parent\"><img src=\"https://colab.research.google.com/assets/colab-badge.svg\" alt=\"Open In Colab\"/></a>"
      ]
    },
    {
      "cell_type": "code",
      "execution_count": null,
      "metadata": {
        "id": "lW9hgSpXBzl0"
      },
      "outputs": [],
      "source": [
        "import numpy as np # linear algebra\n",
        "import pandas as pd # data processing, CSV file I/O (e.g. pd.read_csv)\n",
        "import os"
      ]
    },
    {
      "cell_type": "code",
      "execution_count": 27,
      "metadata": {
        "id": "GoKOL3rbCbrK"
      },
      "outputs": [
        {
          "name": "stdout",
          "output_type": "stream",
          "text": [
            "Dataset loaded successfully!\n"
          ]
        }
      ],
      "source": [
        "import pandas as pd\n",
        "\n",
        "df = pd.read_json(r'C:\\Users\\wealt\\Documents\\Cyberbullying Detection with ML\\Cyberbullying_Detector_ML\\dataset.json', lines= True)\n",
        "print(\"Dataset loaded successfully!\")\n"
      ]
    },
    {
      "cell_type": "code",
      "execution_count": 28,
      "metadata": {
        "colab": {
          "base_uri": "https://localhost:8080/",
          "height": 197
        },
        "id": "Faqp33kZEXov",
        "outputId": "0effcbf7-e75a-46be-9fb0-636c01c9bddf"
      },
      "outputs": [
        {
          "data": {
            "text/html": [
              "<div>\n",
              "<style scoped>\n",
              "    .dataframe tbody tr th:only-of-type {\n",
              "        vertical-align: middle;\n",
              "    }\n",
              "\n",
              "    .dataframe tbody tr th {\n",
              "        vertical-align: top;\n",
              "    }\n",
              "\n",
              "    .dataframe thead th {\n",
              "        text-align: right;\n",
              "    }\n",
              "</style>\n",
              "<table border=\"1\" class=\"dataframe\">\n",
              "  <thead>\n",
              "    <tr style=\"text-align: right;\">\n",
              "      <th></th>\n",
              "      <th>content</th>\n",
              "      <th>annotation</th>\n",
              "      <th>extras</th>\n",
              "    </tr>\n",
              "  </thead>\n",
              "  <tbody>\n",
              "    <tr>\n",
              "      <th>0</th>\n",
              "      <td>Get fucking real dude.</td>\n",
              "      <td>{'notes': '', 'label': ['1']}</td>\n",
              "      <td>NaN</td>\n",
              "    </tr>\n",
              "    <tr>\n",
              "      <th>1</th>\n",
              "      <td>She is as dirty as they come  and that crook ...</td>\n",
              "      <td>{'notes': '', 'label': ['1']}</td>\n",
              "      <td>NaN</td>\n",
              "    </tr>\n",
              "    <tr>\n",
              "      <th>2</th>\n",
              "      <td>why did you fuck it up. I could do it all day...</td>\n",
              "      <td>{'notes': '', 'label': ['1']}</td>\n",
              "      <td>NaN</td>\n",
              "    </tr>\n",
              "    <tr>\n",
              "      <th>3</th>\n",
              "      <td>Dude they dont finish enclosing the fucking s...</td>\n",
              "      <td>{'notes': '', 'label': ['1']}</td>\n",
              "      <td>NaN</td>\n",
              "    </tr>\n",
              "    <tr>\n",
              "      <th>4</th>\n",
              "      <td>WTF are you talking about Men? No men thats n...</td>\n",
              "      <td>{'notes': '', 'label': ['1']}</td>\n",
              "      <td>NaN</td>\n",
              "    </tr>\n",
              "  </tbody>\n",
              "</table>\n",
              "</div>"
            ],
            "text/plain": [
              "                                             content  \\\n",
              "0                             Get fucking real dude.   \n",
              "1   She is as dirty as they come  and that crook ...   \n",
              "2   why did you fuck it up. I could do it all day...   \n",
              "3   Dude they dont finish enclosing the fucking s...   \n",
              "4   WTF are you talking about Men? No men thats n...   \n",
              "\n",
              "                      annotation  extras  \n",
              "0  {'notes': '', 'label': ['1']}     NaN  \n",
              "1  {'notes': '', 'label': ['1']}     NaN  \n",
              "2  {'notes': '', 'label': ['1']}     NaN  \n",
              "3  {'notes': '', 'label': ['1']}     NaN  \n",
              "4  {'notes': '', 'label': ['1']}     NaN  "
            ]
          },
          "execution_count": 28,
          "metadata": {},
          "output_type": "execute_result"
        }
      ],
      "source": [
        "df.head()"
      ]
    },
    {
      "cell_type": "code",
      "execution_count": 29,
      "metadata": {
        "colab": {
          "base_uri": "https://localhost:8080/"
        },
        "id": "19vl5yvKF5cj",
        "outputId": "8d130c1b-e9d5-43b1-d158-ed88de6043c1"
      },
      "outputs": [
        {
          "data": {
            "text/plain": [
              "(20001, 3)"
            ]
          },
          "execution_count": 29,
          "metadata": {},
          "output_type": "execute_result"
        }
      ],
      "source": [
        "df.shape"
      ]
    },
    {
      "cell_type": "code",
      "execution_count": 30,
      "metadata": {},
      "outputs": [
        {
          "name": "stdout",
          "output_type": "stream",
          "text": [
            "['C:\\\\Users\\\\wealt/nltk_data', 'c:\\\\Users\\\\wealt\\\\AppData\\\\Local\\\\Programs\\\\Python\\\\Python312\\\\nltk_data', 'c:\\\\Users\\\\wealt\\\\AppData\\\\Local\\\\Programs\\\\Python\\\\Python312\\\\share\\\\nltk_data', 'c:\\\\Users\\\\wealt\\\\AppData\\\\Local\\\\Programs\\\\Python\\\\Python312\\\\lib\\\\nltk_data', 'C:\\\\Users\\\\wealt\\\\AppData\\\\Roaming\\\\nltk_data', 'C:\\\\nltk_data', 'D:\\\\nltk_data', 'E:\\\\nltk_data', 'C:\\\\Users\\\\wealt\\\\Documents\\\\Cyberbullying Detection with ML\\\\Cyberbullying_Detector_ML\\\\nltk_data', 'C:\\\\Users\\\\wealt\\\\Documents\\\\Cyberbullying Detection with ML\\\\Cyberbullying_Detector_ML\\\\nltk_data', 'C:\\\\Users\\\\wealt\\\\Documents\\\\Cyberbullying Detection with ML\\\\Cyberbullying_Detector_ML\\\\nltk_data', 'C:\\\\Users\\\\wealt\\\\Documents\\\\Cyberbullying Detection with ML\\\\Cyberbullying_Detector_ML\\\\nltk_data', 'C:\\\\Users\\\\wealt\\\\Documents\\\\Cyberbullying Detection with ML\\\\Cyberbullying_Detector_ML\\\\nltk_data', 'C:\\\\Users\\\\wealt\\\\Documents\\\\Cyberbullying Detection with ML\\\\Cyberbullying_Detector_ML\\\\nltk_data', 'C:\\\\Users\\\\wealt\\\\Documents\\\\Cyberbullying Detection with ML\\\\Cyberbullying_Detector_ML\\\\nltk_data', 'C:\\\\Users\\\\wealt\\\\Documents\\\\Cyberbullying Detection with ML\\\\Cyberbullying_Detector_ML\\\\nltk_data', 'C:\\\\Users\\\\wealt\\\\Documents\\\\Cyberbullying Detection with ML\\\\Cyberbullying_Detector_ML\\\\nltk_data']\n"
          ]
        }
      ],
      "source": [
        "import nltk\n",
        "print(nltk.data.path)"
      ]
    },
    {
      "cell_type": "markdown",
      "metadata": {
        "id": "SLyBNeodiU6l"
      },
      "source": [
        "**Data Processing**"
      ]
    },
    {
      "cell_type": "code",
      "execution_count": 32,
      "metadata": {
        "colab": {
          "base_uri": "https://localhost:8080/",
          "height": 406
        },
        "id": "K4kC6XdPF7G-",
        "outputId": "f84e2596-53d9-451a-c760-f8f94c67cff2"
      },
      "outputs": [
        {
          "name": "stdout",
          "output_type": "stream",
          "text": [
            "Columns in the dataset: Index(['content', 'annotation', 'extras'], dtype='object')\n",
            "                                             content  \\\n",
            "0                             Get fucking real dude.   \n",
            "1   She is as dirty as they come  and that crook ...   \n",
            "2   why did you fuck it up. I could do it all day...   \n",
            "3   Dude they dont finish enclosing the fucking s...   \n",
            "4   WTF are you talking about Men? No men thats n...   \n",
            "\n",
            "                      annotation  extras  \n",
            "0  {'notes': '', 'label': ['1']}     NaN  \n",
            "1  {'notes': '', 'label': ['1']}     NaN  \n",
            "2  {'notes': '', 'label': ['1']}     NaN  \n",
            "3  {'notes': '', 'label': ['1']}     NaN  \n",
            "4  {'notes': '', 'label': ['1']}     NaN  \n",
            "content              Get fucking real dude.\n",
            "annotation    {'notes': '', 'label': ['1']}\n",
            "extras                                  NaN\n",
            "Name: 0, dtype: object\n",
            "Processed extras created successfully!\n",
            "Data split successfully!\n"
          ]
        }
      ],
      "source": [
        "import numpy as np\n",
        "import pandas as pd\n",
        "import nltk\n",
        "from nltk.corpus import stopwords\n",
        "from nltk.tokenize import word_tokenize\n",
        "from sklearn.model_selection import train_test_split\n",
        "from sklearn.feature_extraction.text import TfidfVectorizer\n",
        "\n",
        "# Set NLTK data path if you have local data\n",
        "nltk.data.path.append(r'C:\\Users\\wealt\\Documents\\Cyberbullying Detection with ML\\Cyberbullying_Detector_ML\\nltk_data')\n",
        "\n",
        "# Load dataset from JSON\n",
        "data = pd.read_json(r'C:\\Users\\wealt\\Documents\\Cyberbullying Detection with ML\\Cyberbullying_Detector_ML\\dataset.json', lines=True)\n",
        "\n",
        "# Print the column names to verify the structure\n",
        "print(\"Columns in the dataset:\", data.columns)\n",
        "print(data.head())  # Check the first few rows to verify the structure\n",
        "\n",
        "# Preprocessing function\n",
        "def preprocess_extras(extras):\n",
        "    # Handle NaN or non-string values\n",
        "    if isinstance(extras, str):\n",
        "        tokens = word_tokenize(extras.lower())\n",
        "        stop_words = set(stopwords.words('english'))\n",
        "        filtered_words = [w for w in tokens if w.isalpha() and w not in stop_words]\n",
        "        return ' '.join(filtered_words)\n",
        "    else:\n",
        "        return ''  # Return empty string for non-string values\n",
        "\n",
        "# Print the first row to understand the structure better\n",
        "print(data.iloc[0])\n",
        "\n",
        "# Now check for the correct text column\n",
        "# Replace 'extras' or 'message' with the actual column name that contains the text, if different\n",
        "if 'extras' in data.columns:\n",
        "    data['processed_extras'] = data['extras'].apply(preprocess_extras)\n",
        "elif 'message' in data.columns:\n",
        "    data['processed_extras'] = data['message'].apply(preprocess_extras)\n",
        "else:\n",
        "    raise KeyError(\"Extras column not found! Please verify if the dataset has a column with the actual text content.\")\n",
        "\n",
        "# Check if 'processed_extras' was created successfully\n",
        "if 'processed_extras' in data.columns:\n",
        "    print(\"Processed extras created successfully!\")\n",
        "else:\n",
        "    raise KeyError(\"'processed_extras' column not found!\")\n",
        "\n",
        "# Split the data into features and labels\n",
        "if 'content' in data.columns:\n",
        "    X = data['processed_extras']\n",
        "    y = data['content']  # Assuming label column exists\n",
        "    X_train, X_test, y_train, y_test = train_test_split(X, y, test_size=0.2, random_state=42)\n",
        "    print(\"Data split successfully!\")\n",
        "else:\n",
        "    raise KeyError(\"Label column not found!\")\n"
      ]
    },
    {
      "cell_type": "code",
      "execution_count": 33,
      "metadata": {},
      "outputs": [
        {
          "name": "stdout",
          "output_type": "stream",
          "text": [
            "Index(['content', 'annotation', 'extras', 'processed_extras'], dtype='object')\n"
          ]
        }
      ],
      "source": [
        "print(data.columns)"
      ]
    },
    {
      "cell_type": "code",
      "execution_count": 34,
      "metadata": {
        "colab": {
          "base_uri": "https://localhost:8080/"
        },
        "id": "Ax-gMyBEi0BI",
        "outputId": "d24e9b1b-428d-4024-e2d6-3067eda97886"
      },
      "outputs": [
        {
          "name": "stdout",
          "output_type": "stream",
          "text": [
            "Index(['content', 'annotation', 'extras', 'processed_extras'], dtype='object')\n"
          ]
        }
      ],
      "source": [
        "data['extras'].unique()\n",
        "\n",
        "print(data.columns)"
      ]
    },
    {
      "cell_type": "code",
      "execution_count": 35,
      "metadata": {
        "colab": {
          "base_uri": "https://localhost:8080/"
        },
        "id": "OHbfEDu_GOYR",
        "outputId": "50b59a21-ab1a-43e9-f0d0-c0df6f90c345"
      },
      "outputs": [
        {
          "data": {
            "text/plain": [
              "array([nan])"
            ]
          },
          "execution_count": 35,
          "metadata": {},
          "output_type": "execute_result"
        }
      ],
      "source": [
        "df.extras.unique()"
      ]
    },
    {
      "cell_type": "code",
      "execution_count": 36,
      "metadata": {
        "colab": {
          "base_uri": "https://localhost:8080/"
        },
        "id": "QdxbuEFiGTvT",
        "outputId": "f879f749-7c81-4863-8a60-a2a9ee86191b"
      },
      "outputs": [
        {
          "data": {
            "text/plain": [
              "array([''], dtype=object)"
            ]
          },
          "execution_count": 36,
          "metadata": {},
          "output_type": "execute_result"
        }
      ],
      "source": [
        "df[\"notes\"] = df.annotation.apply(lambda x: x.get('notes'))\n",
        "df.notes.unique()"
      ]
    },
    {
      "cell_type": "code",
      "execution_count": 44,
      "metadata": {
        "colab": {
          "base_uri": "https://localhost:8080/"
        },
        "id": "8OlQlyN8Gcvx",
        "outputId": "dc00843b-a734-473c-a4c6-f2abc5018725"
      },
      "outputs": [],
      "source": [
        "import nltk\n",
        "import re\n",
        "import numpy as np\n",
        "import pandas as pd\n",
        "from nltk.tokenize import word_tokenize\n",
        "from nltk.stem import WordNetLemmatizer\n",
        "from sklearn.model_selection import train_test_split\n",
        "from sklearn.preprocessing import LabelEncoder\n",
        "from tensorflow.keras.preprocessing.sequence import pad_sequences\n",
        "from tensorflow.keras.models import Sequential\n",
        "from tensorflow.keras.layers import Embedding, LSTM, Dense, Conv1D, MaxPooling1D, Flatten\n",
        "from tensorflow.keras.preprocessing.text import Tokenizer  # Correct import for Tokenizer\n",
        "\n",
        "# Set NLTK data path\n",
        "nltk.data.path.append(r'C:\\Users\\wealt\\Documents\\Cyberbullying Detection with ML\\Cyberbullying_Detector_ML\\nltk_data')\n"
      ]
    },
    {
      "cell_type": "code",
      "execution_count": 46,
      "metadata": {
        "id": "LMvIYHlHGkcx"
      },
      "outputs": [],
      "source": [
        "# First, extract 'content' from 'annotation'\n",
        "df[\"content\"] = df.annotation.apply(lambda x: x.get('content') if x else None)\n",
        "\n",
        "# Then, handle cases where 'content' is None or is not a list\n",
        "df[\"content\"] = df.content.apply(lambda x: x[0] if x and isinstance(x, list) else None)\n"
      ]
    },
    {
      "cell_type": "code",
      "execution_count": 47,
      "metadata": {
        "colab": {
          "base_uri": "https://localhost:8080/",
          "height": 406
        },
        "id": "6m0ppjA5G5KT",
        "outputId": "48bb1e57-da17-4156-8359-ef79159bbb0d"
      },
      "outputs": [
        {
          "data": {
            "text/html": [
              "<div>\n",
              "<style scoped>\n",
              "    .dataframe tbody tr th:only-of-type {\n",
              "        vertical-align: middle;\n",
              "    }\n",
              "\n",
              "    .dataframe tbody tr th {\n",
              "        vertical-align: top;\n",
              "    }\n",
              "\n",
              "    .dataframe thead th {\n",
              "        text-align: right;\n",
              "    }\n",
              "</style>\n",
              "<table border=\"1\" class=\"dataframe\">\n",
              "  <thead>\n",
              "    <tr style=\"text-align: right;\">\n",
              "      <th></th>\n",
              "      <th>content</th>\n",
              "      <th>annotation</th>\n",
              "      <th>extras</th>\n",
              "      <th>notes</th>\n",
              "    </tr>\n",
              "  </thead>\n",
              "  <tbody>\n",
              "    <tr>\n",
              "      <th>0</th>\n",
              "      <td>None</td>\n",
              "      <td>{'notes': '', 'label': ['1']}</td>\n",
              "      <td>NaN</td>\n",
              "      <td></td>\n",
              "    </tr>\n",
              "    <tr>\n",
              "      <th>1</th>\n",
              "      <td>None</td>\n",
              "      <td>{'notes': '', 'label': ['1']}</td>\n",
              "      <td>NaN</td>\n",
              "      <td></td>\n",
              "    </tr>\n",
              "    <tr>\n",
              "      <th>2</th>\n",
              "      <td>None</td>\n",
              "      <td>{'notes': '', 'label': ['1']}</td>\n",
              "      <td>NaN</td>\n",
              "      <td></td>\n",
              "    </tr>\n",
              "    <tr>\n",
              "      <th>3</th>\n",
              "      <td>None</td>\n",
              "      <td>{'notes': '', 'label': ['1']}</td>\n",
              "      <td>NaN</td>\n",
              "      <td></td>\n",
              "    </tr>\n",
              "    <tr>\n",
              "      <th>4</th>\n",
              "      <td>None</td>\n",
              "      <td>{'notes': '', 'label': ['1']}</td>\n",
              "      <td>NaN</td>\n",
              "      <td></td>\n",
              "    </tr>\n",
              "    <tr>\n",
              "      <th>...</th>\n",
              "      <td>...</td>\n",
              "      <td>...</td>\n",
              "      <td>...</td>\n",
              "      <td>...</td>\n",
              "    </tr>\n",
              "    <tr>\n",
              "      <th>19996</th>\n",
              "      <td>None</td>\n",
              "      <td>{'notes': '', 'label': ['0']}</td>\n",
              "      <td>NaN</td>\n",
              "      <td></td>\n",
              "    </tr>\n",
              "    <tr>\n",
              "      <th>19997</th>\n",
              "      <td>None</td>\n",
              "      <td>{'notes': '', 'label': ['0']}</td>\n",
              "      <td>NaN</td>\n",
              "      <td></td>\n",
              "    </tr>\n",
              "    <tr>\n",
              "      <th>19998</th>\n",
              "      <td>None</td>\n",
              "      <td>{'notes': '', 'label': ['0']}</td>\n",
              "      <td>NaN</td>\n",
              "      <td></td>\n",
              "    </tr>\n",
              "    <tr>\n",
              "      <th>19999</th>\n",
              "      <td>None</td>\n",
              "      <td>{'notes': '', 'label': ['0']}</td>\n",
              "      <td>NaN</td>\n",
              "      <td></td>\n",
              "    </tr>\n",
              "    <tr>\n",
              "      <th>20000</th>\n",
              "      <td>None</td>\n",
              "      <td>{'notes': '', 'label': ['0']}</td>\n",
              "      <td>NaN</td>\n",
              "      <td></td>\n",
              "    </tr>\n",
              "  </tbody>\n",
              "</table>\n",
              "<p>20001 rows × 4 columns</p>\n",
              "</div>"
            ],
            "text/plain": [
              "      content                     annotation  extras notes\n",
              "0        None  {'notes': '', 'label': ['1']}     NaN      \n",
              "1        None  {'notes': '', 'label': ['1']}     NaN      \n",
              "2        None  {'notes': '', 'label': ['1']}     NaN      \n",
              "3        None  {'notes': '', 'label': ['1']}     NaN      \n",
              "4        None  {'notes': '', 'label': ['1']}     NaN      \n",
              "...       ...                            ...     ...   ...\n",
              "19996    None  {'notes': '', 'label': ['0']}     NaN      \n",
              "19997    None  {'notes': '', 'label': ['0']}     NaN      \n",
              "19998    None  {'notes': '', 'label': ['0']}     NaN      \n",
              "19999    None  {'notes': '', 'label': ['0']}     NaN      \n",
              "20000    None  {'notes': '', 'label': ['0']}     NaN      \n",
              "\n",
              "[20001 rows x 4 columns]"
            ]
          },
          "execution_count": 47,
          "metadata": {},
          "output_type": "execute_result"
        }
      ],
      "source": [
        "df"
      ]
    },
    {
      "cell_type": "markdown",
      "metadata": {
        "id": "j9MyJKVsCFeO"
      },
      "source": [
        "**Droping the columns which are not necessary**"
      ]
    },
    {
      "cell_type": "code",
      "execution_count": 48,
      "metadata": {
        "id": "OiEt5yYOBvtj"
      },
      "outputs": [],
      "source": [
        "df = df.drop(['annotation','extras','notes'],axis='columns')\n"
      ]
    },
    {
      "cell_type": "code",
      "execution_count": 49,
      "metadata": {
        "colab": {
          "base_uri": "https://localhost:8080/",
          "height": 406
        },
        "id": "TGnQVcHTCA4t",
        "outputId": "adf3ead8-19eb-47e9-a95a-2893c2d2f637"
      },
      "outputs": [
        {
          "data": {
            "text/html": [
              "<div>\n",
              "<style scoped>\n",
              "    .dataframe tbody tr th:only-of-type {\n",
              "        vertical-align: middle;\n",
              "    }\n",
              "\n",
              "    .dataframe tbody tr th {\n",
              "        vertical-align: top;\n",
              "    }\n",
              "\n",
              "    .dataframe thead th {\n",
              "        text-align: right;\n",
              "    }\n",
              "</style>\n",
              "<table border=\"1\" class=\"dataframe\">\n",
              "  <thead>\n",
              "    <tr style=\"text-align: right;\">\n",
              "      <th></th>\n",
              "      <th>content</th>\n",
              "    </tr>\n",
              "  </thead>\n",
              "  <tbody>\n",
              "    <tr>\n",
              "      <th>0</th>\n",
              "      <td>None</td>\n",
              "    </tr>\n",
              "    <tr>\n",
              "      <th>1</th>\n",
              "      <td>None</td>\n",
              "    </tr>\n",
              "    <tr>\n",
              "      <th>2</th>\n",
              "      <td>None</td>\n",
              "    </tr>\n",
              "    <tr>\n",
              "      <th>3</th>\n",
              "      <td>None</td>\n",
              "    </tr>\n",
              "    <tr>\n",
              "      <th>4</th>\n",
              "      <td>None</td>\n",
              "    </tr>\n",
              "    <tr>\n",
              "      <th>...</th>\n",
              "      <td>...</td>\n",
              "    </tr>\n",
              "    <tr>\n",
              "      <th>19996</th>\n",
              "      <td>None</td>\n",
              "    </tr>\n",
              "    <tr>\n",
              "      <th>19997</th>\n",
              "      <td>None</td>\n",
              "    </tr>\n",
              "    <tr>\n",
              "      <th>19998</th>\n",
              "      <td>None</td>\n",
              "    </tr>\n",
              "    <tr>\n",
              "      <th>19999</th>\n",
              "      <td>None</td>\n",
              "    </tr>\n",
              "    <tr>\n",
              "      <th>20000</th>\n",
              "      <td>None</td>\n",
              "    </tr>\n",
              "  </tbody>\n",
              "</table>\n",
              "<p>20001 rows × 1 columns</p>\n",
              "</div>"
            ],
            "text/plain": [
              "      content\n",
              "0        None\n",
              "1        None\n",
              "2        None\n",
              "3        None\n",
              "4        None\n",
              "...       ...\n",
              "19996    None\n",
              "19997    None\n",
              "19998    None\n",
              "19999    None\n",
              "20000    None\n",
              "\n",
              "[20001 rows x 1 columns]"
            ]
          },
          "execution_count": 49,
          "metadata": {},
          "output_type": "execute_result"
        }
      ],
      "source": [
        "df"
      ]
    },
    {
      "cell_type": "code",
      "execution_count": 51,
      "metadata": {
        "id": "n5HzcZOk8kkW"
      },
      "outputs": [],
      "source": [
        "bully = df[df.content==1]\n",
        "nonbully = df[df.content==0]"
      ]
    },
    {
      "cell_type": "code",
      "execution_count": 52,
      "metadata": {
        "id": "LRJX-G51d1_l"
      },
      "outputs": [],
      "source": [
        "import matplotlib.pyplot as plt\n",
        "import matplotlib as mpl\n",
        "mpl.rcParams['patch.force_edgecolor'] = True\n"
      ]
    },
    {
      "cell_type": "code",
      "execution_count": 53,
      "metadata": {
        "colab": {
          "base_uri": "https://localhost:8080/",
          "height": 296
        },
        "id": "5x5QAWL-6x0k",
        "outputId": "43f9b3fd-728a-41da-998b-407b73935460"
      },
      "outputs": [
        {
          "data": {
            "image/png": "[encoded data removed]",
            "text/plain": [
              "<Figure size 600x400 with 1 Axes>"
            ]
          },
          "metadata": {},
          "output_type": "display_data"
        }
      ],
      "source": [
        "import seaborn as sns\n",
        "def get_heatmap(df):\n",
        "    #This function gives heatmap of all NaN values\n",
        "    plt.figure(figsize=(6,4))\n",
        "    sns.heatmap(df.isnull(), yticklabels=False, cbar=False, cmap='viridis')\n",
        "    plt.tight_layout()\n",
        "    return plt.show()\n",
        "\n",
        "get_heatmap(df)"
      ]
    },
    {
      "cell_type": "code",
      "execution_count": 54,
      "metadata": {
        "colab": {
          "base_uri": "https://localhost:8080/",
          "height": 256
        },
        "id": "0rZYYhPr7dtn",
        "outputId": "2a20e676-b112-4115-a186-9e5abdf3def4"
      },
      "outputs": [
        {
          "name": "stderr",
          "output_type": "stream",
          "text": [
            "c:\\Users\\wealt\\AppData\\Local\\Programs\\Python\\Python312\\Lib\\site-packages\\seaborn\\matrix.py:202: RuntimeWarning: All-NaN slice encountered\n",
            "  vmin = np.nanmin(calc_data)\n",
            "c:\\Users\\wealt\\AppData\\Local\\Programs\\Python\\Python312\\Lib\\site-packages\\seaborn\\matrix.py:207: RuntimeWarning: All-NaN slice encountered\n",
            "  vmax = np.nanmax(calc_data)\n"
          ]
        },
        {
          "data": {
            "image/png": "[encoded data removed]",
            "text/plain": [
              "<Figure size 800x400 with 2 Axes>"
            ]
          },
          "metadata": {},
          "output_type": "display_data"
        }
      ],
      "source": [
        "plt.figure(figsize=(8,4))\n",
        "sns.heatmap(df.corr(method='spearman'), cmap='coolwarm', annot=True)\n",
        "plt.tight_layout()\n",
        "plt.show()"
      ]
    },
    {
      "cell_type": "code",
      "execution_count": 75,
      "metadata": {
        "id": "67Y--L6dG7ZD"
      },
      "outputs": [],
      "source": [
        "def load_data(path):\n",
        "    df = pd.read_json(path, lines= True)\n",
        "    \n",
        "    df[\"label\"] = df.annotation.apply(lambda x: x.get('label'))\n",
        "    df[\"label\"] = df.label.apply(lambda x: x[0])\n",
        "    \n",
        "    X = df.content.values\n",
        "    y = df.label.values\n",
        "    \n",
        "    return X, y"
      ]
    },
    {
      "cell_type": "code",
      "execution_count": 76,
      "metadata": {
        "id": "X1wnDbjsR8wy"
      },
      "outputs": [],
      "source": [
        "def tokenize(extras):\n",
        "\n",
        "    tokens = word_tokenize(extras)\n",
        "    lemmatizer = WordNetLemmatizer()\n",
        "\n",
        "    clean_tokens = []\n",
        "    for tok in tokens:\n",
        "        clean_tok = lemmatizer.lemmatize(tok).lower().strip()\n",
        "        clean_tokens.append(clean_tok)\n",
        "\n",
        "    return clean_tokens\n"
      ]
    },
    {
      "cell_type": "code",
      "execution_count": 77,
      "metadata": {
        "colab": {
          "base_uri": "https://localhost:8080/"
        },
        "id": "rQTxL1RmSa-V",
        "outputId": "5d81572e-40dd-4b06-bdf4-e1cbdfb27656"
      },
      "outputs": [
        {
          "ename": "LookupError",
          "evalue": "\n**********************************************************************\n  Resource \u001b[93mpunkt_tab\u001b[0m not found.\n  Please use the NLTK Downloader to obtain the resource:\n\n  \u001b[31m>>> import nltk\n  >>> nltk.download('punkt_tab')\n  \u001b[0m\n  For more information see: https://www.nltk.org/data.html\n\n  Attempted to load \u001b[93mtokenizers/punkt_tab/english/\u001b[0m\n\n  Searched in:\n    - 'C:\\\\Users\\\\wealt/nltk_data'\n    - 'c:\\\\Users\\\\wealt\\\\AppData\\\\Local\\\\Programs\\\\Python\\\\Python312\\\\nltk_data'\n    - 'c:\\\\Users\\\\wealt\\\\AppData\\\\Local\\\\Programs\\\\Python\\\\Python312\\\\share\\\\nltk_data'\n    - 'c:\\\\Users\\\\wealt\\\\AppData\\\\Local\\\\Programs\\\\Python\\\\Python312\\\\lib\\\\nltk_data'\n    - 'C:\\\\Users\\\\wealt\\\\AppData\\\\Roaming\\\\nltk_data'\n    - 'C:\\\\nltk_data'\n    - 'D:\\\\nltk_data'\n    - 'E:\\\\nltk_data'\n    - 'C:\\\\Users\\\\wealt\\\\Documents\\\\Cyberbullying Detection with ML\\\\Cyberbullying_Detector_ML\\\\nltk_data'\n    - 'C:\\\\Users\\\\wealt\\\\Documents\\\\Cyberbullying Detection with ML\\\\Cyberbullying_Detector_ML\\\\nltk_data'\n    - 'C:\\\\Users\\\\wealt\\\\Documents\\\\Cyberbullying Detection with ML\\\\Cyberbullying_Detector_ML\\\\nltk_data'\n    - 'C:\\\\Users\\\\wealt\\\\Documents\\\\Cyberbullying Detection with ML\\\\Cyberbullying_Detector_ML\\\\nltk_data'\n    - 'C:\\\\Users\\\\wealt\\\\Documents\\\\Cyberbullying Detection with ML\\\\Cyberbullying_Detector_ML\\\\nltk_data'\n    - 'C:\\\\Users\\\\wealt\\\\Documents\\\\Cyberbullying Detection with ML\\\\Cyberbullying_Detector_ML\\\\nltk_data'\n    - 'C:\\\\Users\\\\wealt\\\\Documents\\\\Cyberbullying Detection with ML\\\\Cyberbullying_Detector_ML\\\\nltk_data'\n    - 'C:\\\\Users\\\\wealt\\\\Documents\\\\Cyberbullying Detection with ML\\\\Cyberbullying_Detector_ML\\\\nltk_data'\n    - 'C:\\\\Users\\\\wealt\\\\Documents\\\\Cyberbullying Detection with ML\\\\Cyberbullying_Detector_ML\\\\nltk_data'\n    - 'C:\\\\Users\\\\wealt\\\\Documents\\\\Cyberbullying Detection with ML\\\\Cyberbullying_Detector_ML\\\\nltk_data'\n    - 'C:\\\\Users\\\\wealt\\\\Documents\\\\Cyberbullying Detection with ML\\\\Cyberbullying_Detector_ML\\\\nltk_data'\n    - 'C:\\\\Users\\\\wealt\\\\Documents\\\\Cyberbullying Detection with ML\\\\Cyberbullying_Detector_ML\\\\nltk_data'\n**********************************************************************\n",
          "output_type": "error",
          "traceback": [
            "\u001b[1;31m---------------------------------------------------------------------------\u001b[0m",
            "\u001b[1;31mLookupError\u001b[0m                               Traceback (most recent call last)",
            "Cell \u001b[1;32mIn[77], line 7\u001b[0m\n\u001b[0;32m      4\u001b[0m     tokens \u001b[38;5;241m=\u001b[39m word_tokenize(extras)\n\u001b[0;32m      5\u001b[0m     \u001b[38;5;28;01mreturn\u001b[39;00m tokens\n\u001b[1;32m----> 7\u001b[0m \u001b[38;5;28mprint\u001b[39m(\u001b[43mtokenize\u001b[49m\u001b[43m(\u001b[49m\u001b[38;5;124;43m\"\u001b[39;49m\u001b[38;5;124;43mwhoa stops you\u001b[39;49m\u001b[38;5;124;43m'\u001b[39;49m\u001b[38;5;124;43ms stupid sjw\u001b[39;49m\u001b[38;5;124;43m\"\u001b[39;49m\u001b[43m)\u001b[49m)\n",
            "Cell \u001b[1;32mIn[77], line 4\u001b[0m, in \u001b[0;36mtokenize\u001b[1;34m(extras)\u001b[0m\n\u001b[0;32m      3\u001b[0m \u001b[38;5;28;01mdef\u001b[39;00m \u001b[38;5;21mtokenize\u001b[39m(extras):\n\u001b[1;32m----> 4\u001b[0m     tokens \u001b[38;5;241m=\u001b[39m \u001b[43mword_tokenize\u001b[49m\u001b[43m(\u001b[49m\u001b[43mextras\u001b[49m\u001b[43m)\u001b[49m\n\u001b[0;32m      5\u001b[0m     \u001b[38;5;28;01mreturn\u001b[39;00m tokens\n",
            "File \u001b[1;32mc:\\Users\\wealt\\AppData\\Local\\Programs\\Python\\Python312\\Lib\\site-packages\\nltk\\tokenize\\__init__.py:142\u001b[0m, in \u001b[0;36mword_tokenize\u001b[1;34m(text, language, preserve_line)\u001b[0m\n\u001b[0;32m    127\u001b[0m \u001b[38;5;28;01mdef\u001b[39;00m \u001b[38;5;21mword_tokenize\u001b[39m(text, language\u001b[38;5;241m=\u001b[39m\u001b[38;5;124m\"\u001b[39m\u001b[38;5;124menglish\u001b[39m\u001b[38;5;124m\"\u001b[39m, preserve_line\u001b[38;5;241m=\u001b[39m\u001b[38;5;28;01mFalse\u001b[39;00m):\n\u001b[0;32m    128\u001b[0m \u001b[38;5;250m    \u001b[39m\u001b[38;5;124;03m\"\"\"\u001b[39;00m\n\u001b[0;32m    129\u001b[0m \u001b[38;5;124;03m    Return a tokenized copy of *text*,\u001b[39;00m\n\u001b[0;32m    130\u001b[0m \u001b[38;5;124;03m    using NLTK's recommended word tokenizer\u001b[39;00m\n\u001b[1;32m   (...)\u001b[0m\n\u001b[0;32m    140\u001b[0m \u001b[38;5;124;03m    :type preserve_line: bool\u001b[39;00m\n\u001b[0;32m    141\u001b[0m \u001b[38;5;124;03m    \"\"\"\u001b[39;00m\n\u001b[1;32m--> 142\u001b[0m     sentences \u001b[38;5;241m=\u001b[39m [text] \u001b[38;5;28;01mif\u001b[39;00m preserve_line \u001b[38;5;28;01melse\u001b[39;00m \u001b[43msent_tokenize\u001b[49m\u001b[43m(\u001b[49m\u001b[43mtext\u001b[49m\u001b[43m,\u001b[49m\u001b[43m \u001b[49m\u001b[43mlanguage\u001b[49m\u001b[43m)\u001b[49m\n\u001b[0;32m    143\u001b[0m     \u001b[38;5;28;01mreturn\u001b[39;00m [\n\u001b[0;32m    144\u001b[0m         token \u001b[38;5;28;01mfor\u001b[39;00m sent \u001b[38;5;129;01min\u001b[39;00m sentences \u001b[38;5;28;01mfor\u001b[39;00m token \u001b[38;5;129;01min\u001b[39;00m _treebank_word_tokenizer\u001b[38;5;241m.\u001b[39mtokenize(sent)\n\u001b[0;32m    145\u001b[0m     ]\n",
            "File \u001b[1;32mc:\\Users\\wealt\\AppData\\Local\\Programs\\Python\\Python312\\Lib\\site-packages\\nltk\\tokenize\\__init__.py:119\u001b[0m, in \u001b[0;36msent_tokenize\u001b[1;34m(text, language)\u001b[0m\n\u001b[0;32m    109\u001b[0m \u001b[38;5;28;01mdef\u001b[39;00m \u001b[38;5;21msent_tokenize\u001b[39m(text, language\u001b[38;5;241m=\u001b[39m\u001b[38;5;124m\"\u001b[39m\u001b[38;5;124menglish\u001b[39m\u001b[38;5;124m\"\u001b[39m):\n\u001b[0;32m    110\u001b[0m \u001b[38;5;250m    \u001b[39m\u001b[38;5;124;03m\"\"\"\u001b[39;00m\n\u001b[0;32m    111\u001b[0m \u001b[38;5;124;03m    Return a sentence-tokenized copy of *text*,\u001b[39;00m\n\u001b[0;32m    112\u001b[0m \u001b[38;5;124;03m    using NLTK's recommended sentence tokenizer\u001b[39;00m\n\u001b[1;32m   (...)\u001b[0m\n\u001b[0;32m    117\u001b[0m \u001b[38;5;124;03m    :param language: the model name in the Punkt corpus\u001b[39;00m\n\u001b[0;32m    118\u001b[0m \u001b[38;5;124;03m    \"\"\"\u001b[39;00m\n\u001b[1;32m--> 119\u001b[0m     tokenizer \u001b[38;5;241m=\u001b[39m \u001b[43m_get_punkt_tokenizer\u001b[49m\u001b[43m(\u001b[49m\u001b[43mlanguage\u001b[49m\u001b[43m)\u001b[49m\n\u001b[0;32m    120\u001b[0m     \u001b[38;5;28;01mreturn\u001b[39;00m tokenizer\u001b[38;5;241m.\u001b[39mtokenize(text)\n",
            "File \u001b[1;32mc:\\Users\\wealt\\AppData\\Local\\Programs\\Python\\Python312\\Lib\\site-packages\\nltk\\tokenize\\__init__.py:105\u001b[0m, in \u001b[0;36m_get_punkt_tokenizer\u001b[1;34m(language)\u001b[0m\n\u001b[0;32m     96\u001b[0m \u001b[38;5;129m@functools\u001b[39m\u001b[38;5;241m.\u001b[39mlru_cache\n\u001b[0;32m     97\u001b[0m \u001b[38;5;28;01mdef\u001b[39;00m \u001b[38;5;21m_get_punkt_tokenizer\u001b[39m(language\u001b[38;5;241m=\u001b[39m\u001b[38;5;124m\"\u001b[39m\u001b[38;5;124menglish\u001b[39m\u001b[38;5;124m\"\u001b[39m):\n\u001b[0;32m     98\u001b[0m \u001b[38;5;250m    \u001b[39m\u001b[38;5;124;03m\"\"\"\u001b[39;00m\n\u001b[0;32m     99\u001b[0m \u001b[38;5;124;03m    A constructor for the PunktTokenizer that utilizes\u001b[39;00m\n\u001b[0;32m    100\u001b[0m \u001b[38;5;124;03m    a lru cache for performance.\u001b[39;00m\n\u001b[1;32m   (...)\u001b[0m\n\u001b[0;32m    103\u001b[0m \u001b[38;5;124;03m    :type language: str\u001b[39;00m\n\u001b[0;32m    104\u001b[0m \u001b[38;5;124;03m    \"\"\"\u001b[39;00m\n\u001b[1;32m--> 105\u001b[0m     \u001b[38;5;28;01mreturn\u001b[39;00m \u001b[43mPunktTokenizer\u001b[49m\u001b[43m(\u001b[49m\u001b[43mlanguage\u001b[49m\u001b[43m)\u001b[49m\n",
            "File \u001b[1;32mc:\\Users\\wealt\\AppData\\Local\\Programs\\Python\\Python312\\Lib\\site-packages\\nltk\\tokenize\\punkt.py:1744\u001b[0m, in \u001b[0;36mPunktTokenizer.__init__\u001b[1;34m(self, lang)\u001b[0m\n\u001b[0;32m   1742\u001b[0m \u001b[38;5;28;01mdef\u001b[39;00m \u001b[38;5;21m__init__\u001b[39m(\u001b[38;5;28mself\u001b[39m, lang\u001b[38;5;241m=\u001b[39m\u001b[38;5;124m\"\u001b[39m\u001b[38;5;124menglish\u001b[39m\u001b[38;5;124m\"\u001b[39m):\n\u001b[0;32m   1743\u001b[0m     PunktSentenceTokenizer\u001b[38;5;241m.\u001b[39m\u001b[38;5;21m__init__\u001b[39m(\u001b[38;5;28mself\u001b[39m)\n\u001b[1;32m-> 1744\u001b[0m     \u001b[38;5;28;43mself\u001b[39;49m\u001b[38;5;241;43m.\u001b[39;49m\u001b[43mload_lang\u001b[49m\u001b[43m(\u001b[49m\u001b[43mlang\u001b[49m\u001b[43m)\u001b[49m\n",
            "File \u001b[1;32mc:\\Users\\wealt\\AppData\\Local\\Programs\\Python\\Python312\\Lib\\site-packages\\nltk\\tokenize\\punkt.py:1749\u001b[0m, in \u001b[0;36mPunktTokenizer.load_lang\u001b[1;34m(self, lang)\u001b[0m\n\u001b[0;32m   1746\u001b[0m \u001b[38;5;28;01mdef\u001b[39;00m \u001b[38;5;21mload_lang\u001b[39m(\u001b[38;5;28mself\u001b[39m, lang\u001b[38;5;241m=\u001b[39m\u001b[38;5;124m\"\u001b[39m\u001b[38;5;124menglish\u001b[39m\u001b[38;5;124m\"\u001b[39m):\n\u001b[0;32m   1747\u001b[0m     \u001b[38;5;28;01mfrom\u001b[39;00m \u001b[38;5;21;01mnltk\u001b[39;00m\u001b[38;5;21;01m.\u001b[39;00m\u001b[38;5;21;01mdata\u001b[39;00m \u001b[38;5;28;01mimport\u001b[39;00m find\n\u001b[1;32m-> 1749\u001b[0m     lang_dir \u001b[38;5;241m=\u001b[39m \u001b[43mfind\u001b[49m\u001b[43m(\u001b[49m\u001b[38;5;124;43mf\u001b[39;49m\u001b[38;5;124;43m\"\u001b[39;49m\u001b[38;5;124;43mtokenizers/punkt_tab/\u001b[39;49m\u001b[38;5;132;43;01m{\u001b[39;49;00m\u001b[43mlang\u001b[49m\u001b[38;5;132;43;01m}\u001b[39;49;00m\u001b[38;5;124;43m/\u001b[39;49m\u001b[38;5;124;43m\"\u001b[39;49m\u001b[43m)\u001b[49m\n\u001b[0;32m   1750\u001b[0m     \u001b[38;5;28mself\u001b[39m\u001b[38;5;241m.\u001b[39m_params \u001b[38;5;241m=\u001b[39m load_punkt_params(lang_dir)\n\u001b[0;32m   1751\u001b[0m     \u001b[38;5;28mself\u001b[39m\u001b[38;5;241m.\u001b[39m_lang \u001b[38;5;241m=\u001b[39m lang\n",
            "File \u001b[1;32mc:\\Users\\wealt\\AppData\\Local\\Programs\\Python\\Python312\\Lib\\site-packages\\nltk\\data.py:579\u001b[0m, in \u001b[0;36mfind\u001b[1;34m(resource_name, paths)\u001b[0m\n\u001b[0;32m    577\u001b[0m sep \u001b[38;5;241m=\u001b[39m \u001b[38;5;124m\"\u001b[39m\u001b[38;5;124m*\u001b[39m\u001b[38;5;124m\"\u001b[39m \u001b[38;5;241m*\u001b[39m \u001b[38;5;241m70\u001b[39m\n\u001b[0;32m    578\u001b[0m resource_not_found \u001b[38;5;241m=\u001b[39m \u001b[38;5;124mf\u001b[39m\u001b[38;5;124m\"\u001b[39m\u001b[38;5;130;01m\\n\u001b[39;00m\u001b[38;5;132;01m{\u001b[39;00msep\u001b[38;5;132;01m}\u001b[39;00m\u001b[38;5;130;01m\\n\u001b[39;00m\u001b[38;5;132;01m{\u001b[39;00mmsg\u001b[38;5;132;01m}\u001b[39;00m\u001b[38;5;130;01m\\n\u001b[39;00m\u001b[38;5;132;01m{\u001b[39;00msep\u001b[38;5;132;01m}\u001b[39;00m\u001b[38;5;130;01m\\n\u001b[39;00m\u001b[38;5;124m\"\u001b[39m\n\u001b[1;32m--> 579\u001b[0m \u001b[38;5;28;01mraise\u001b[39;00m \u001b[38;5;167;01mLookupError\u001b[39;00m(resource_not_found)\n",
            "\u001b[1;31mLookupError\u001b[0m: \n**********************************************************************\n  Resource \u001b[93mpunkt_tab\u001b[0m not found.\n  Please use the NLTK Downloader to obtain the resource:\n\n  \u001b[31m>>> import nltk\n  >>> nltk.download('punkt_tab')\n  \u001b[0m\n  For more information see: https://www.nltk.org/data.html\n\n  Attempted to load \u001b[93mtokenizers/punkt_tab/english/\u001b[0m\n\n  Searched in:\n    - 'C:\\\\Users\\\\wealt/nltk_data'\n    - 'c:\\\\Users\\\\wealt\\\\AppData\\\\Local\\\\Programs\\\\Python\\\\Python312\\\\nltk_data'\n    - 'c:\\\\Users\\\\wealt\\\\AppData\\\\Local\\\\Programs\\\\Python\\\\Python312\\\\share\\\\nltk_data'\n    - 'c:\\\\Users\\\\wealt\\\\AppData\\\\Local\\\\Programs\\\\Python\\\\Python312\\\\lib\\\\nltk_data'\n    - 'C:\\\\Users\\\\wealt\\\\AppData\\\\Roaming\\\\nltk_data'\n    - 'C:\\\\nltk_data'\n    - 'D:\\\\nltk_data'\n    - 'E:\\\\nltk_data'\n    - 'C:\\\\Users\\\\wealt\\\\Documents\\\\Cyberbullying Detection with ML\\\\Cyberbullying_Detector_ML\\\\nltk_data'\n    - 'C:\\\\Users\\\\wealt\\\\Documents\\\\Cyberbullying Detection with ML\\\\Cyberbullying_Detector_ML\\\\nltk_data'\n    - 'C:\\\\Users\\\\wealt\\\\Documents\\\\Cyberbullying Detection with ML\\\\Cyberbullying_Detector_ML\\\\nltk_data'\n    - 'C:\\\\Users\\\\wealt\\\\Documents\\\\Cyberbullying Detection with ML\\\\Cyberbullying_Detector_ML\\\\nltk_data'\n    - 'C:\\\\Users\\\\wealt\\\\Documents\\\\Cyberbullying Detection with ML\\\\Cyberbullying_Detector_ML\\\\nltk_data'\n    - 'C:\\\\Users\\\\wealt\\\\Documents\\\\Cyberbullying Detection with ML\\\\Cyberbullying_Detector_ML\\\\nltk_data'\n    - 'C:\\\\Users\\\\wealt\\\\Documents\\\\Cyberbullying Detection with ML\\\\Cyberbullying_Detector_ML\\\\nltk_data'\n    - 'C:\\\\Users\\\\wealt\\\\Documents\\\\Cyberbullying Detection with ML\\\\Cyberbullying_Detector_ML\\\\nltk_data'\n    - 'C:\\\\Users\\\\wealt\\\\Documents\\\\Cyberbullying Detection with ML\\\\Cyberbullying_Detector_ML\\\\nltk_data'\n    - 'C:\\\\Users\\\\wealt\\\\Documents\\\\Cyberbullying Detection with ML\\\\Cyberbullying_Detector_ML\\\\nltk_data'\n    - 'C:\\\\Users\\\\wealt\\\\Documents\\\\Cyberbullying Detection with ML\\\\Cyberbullying_Detector_ML\\\\nltk_data'\n    - 'C:\\\\Users\\\\wealt\\\\Documents\\\\Cyberbullying Detection with ML\\\\Cyberbullying_Detector_ML\\\\nltk_data'\n**********************************************************************\n"
          ]
        }
      ],
      "source": [
        "from nltk.tokenize import word_tokenize\n",
        "\n",
        "def tokenize(extras):\n",
        "    tokens = word_tokenize(extras)\n",
        "    return tokens\n",
        "\n",
        "print(tokenize(\"whoa stops you's stupid sjw\"))\n"
      ]
    },
    {
      "cell_type": "code",
      "execution_count": 78,
      "metadata": {
        "colab": {
          "base_uri": "https://localhost:8080/"
        },
        "id": "tGD_TJVCSKqS",
        "outputId": "314db9eb-f74d-49ae-e241-fe1304313397"
      },
      "outputs": [
        {
          "data": {
            "text/html": [
              "<style>#sk-container-id-2 {\n",
              "  /* Definition of color scheme common for light and dark mode */\n",
              "  --sklearn-color-text: black;\n",
              "  --sklearn-color-line: gray;\n",
              "  /* Definition of color scheme for unfitted estimators */\n",
              "  --sklearn-color-unfitted-level-0: #fff5e6;\n",
              "  --sklearn-color-unfitted-level-1: #f6e4d2;\n",
              "  --sklearn-color-unfitted-level-2: #ffe0b3;\n",
              "  --sklearn-color-unfitted-level-3: chocolate;\n",
              "  /* Definition of color scheme for fitted estimators */\n",
              "  --sklearn-color-fitted-level-0: #f0f8ff;\n",
              "  --sklearn-color-fitted-level-1: #d4ebff;\n",
              "  --sklearn-color-fitted-level-2: #b3dbfd;\n",
              "  --sklearn-color-fitted-level-3: cornflowerblue;\n",
              "\n",
              "  /* Specific color for light theme */\n",
              "  --sklearn-color-text-on-default-background: var(--sg-text-color, var(--theme-code-foreground, var(--jp-content-font-color1, black)));\n",
              "  --sklearn-color-background: var(--sg-background-color, var(--theme-background, var(--jp-layout-color0, white)));\n",
              "  --sklearn-color-border-box: var(--sg-text-color, var(--theme-code-foreground, var(--jp-content-font-color1, black)));\n",
              "  --sklearn-color-icon: #696969;\n",
              "\n",
              "  @media (prefers-color-scheme: dark) {\n",
              "    /* Redefinition of color scheme for dark theme */\n",
              "    --sklearn-color-text-on-default-background: var(--sg-text-color, var(--theme-code-foreground, var(--jp-content-font-color1, white)));\n",
              "    --sklearn-color-background: var(--sg-background-color, var(--theme-background, var(--jp-layout-color0, #111)));\n",
              "    --sklearn-color-border-box: var(--sg-text-color, var(--theme-code-foreground, var(--jp-content-font-color1, white)));\n",
              "    --sklearn-color-icon: #878787;\n",
              "  }\n",
              "}\n",
              "\n",
              "#sk-container-id-2 {\n",
              "  color: var(--sklearn-color-text);\n",
              "}\n",
              "\n",
              "#sk-container-id-2 pre {\n",
              "  padding: 0;\n",
              "}\n",
              "\n",
              "#sk-container-id-2 input.sk-hidden--visually {\n",
              "  border: 0;\n",
              "  clip: rect(1px 1px 1px 1px);\n",
              "  clip: rect(1px, 1px, 1px, 1px);\n",
              "  height: 1px;\n",
              "  margin: -1px;\n",
              "  overflow: hidden;\n",
              "  padding: 0;\n",
              "  position: absolute;\n",
              "  width: 1px;\n",
              "}\n",
              "\n",
              "#sk-container-id-2 div.sk-dashed-wrapped {\n",
              "  border: 1px dashed var(--sklearn-color-line);\n",
              "  margin: 0 0.4em 0.5em 0.4em;\n",
              "  box-sizing: border-box;\n",
              "  padding-bottom: 0.4em;\n",
              "  background-color: var(--sklearn-color-background);\n",
              "}\n",
              "\n",
              "#sk-container-id-2 div.sk-container {\n",
              "  /* jupyter's `normalize.less` sets `[hidden] { display: none; }`\n",
              "     but bootstrap.min.css set `[hidden] { display: none !important; }`\n",
              "     so we also need the `!important` here to be able to override the\n",
              "     default hidden behavior on the sphinx rendered scikit-learn.org.\n",
              "     See: https://github.com/scikit-learn/scikit-learn/issues/21755 */\n",
              "  display: inline-block !important;\n",
              "  position: relative;\n",
              "}\n",
              "\n",
              "#sk-container-id-2 div.sk-text-repr-fallback {\n",
              "  display: none;\n",
              "}\n",
              "\n",
              "div.sk-parallel-item,\n",
              "div.sk-serial,\n",
              "div.sk-item {\n",
              "  /* draw centered vertical line to link estimators */\n",
              "  background-image: linear-gradient(var(--sklearn-color-text-on-default-background), var(--sklearn-color-text-on-default-background));\n",
              "  background-size: 2px 100%;\n",
              "  background-repeat: no-repeat;\n",
              "  background-position: center center;\n",
              "}\n",
              "\n",
              "/* Parallel-specific style estimator block */\n",
              "\n",
              "#sk-container-id-2 div.sk-parallel-item::after {\n",
              "  content: \"\";\n",
              "  width: 100%;\n",
              "  border-bottom: 2px solid var(--sklearn-color-text-on-default-background);\n",
              "  flex-grow: 1;\n",
              "}\n",
              "\n",
              "#sk-container-id-2 div.sk-parallel {\n",
              "  display: flex;\n",
              "  align-items: stretch;\n",
              "  justify-content: center;\n",
              "  background-color: var(--sklearn-color-background);\n",
              "  position: relative;\n",
              "}\n",
              "\n",
              "#sk-container-id-2 div.sk-parallel-item {\n",
              "  display: flex;\n",
              "  flex-direction: column;\n",
              "}\n",
              "\n",
              "#sk-container-id-2 div.sk-parallel-item:first-child::after {\n",
              "  align-self: flex-end;\n",
              "  width: 50%;\n",
              "}\n",
              "\n",
              "#sk-container-id-2 div.sk-parallel-item:last-child::after {\n",
              "  align-self: flex-start;\n",
              "  width: 50%;\n",
              "}\n",
              "\n",
              "#sk-container-id-2 div.sk-parallel-item:only-child::after {\n",
              "  width: 0;\n",
              "}\n",
              "\n",
              "/* Serial-specific style estimator block */\n",
              "\n",
              "#sk-container-id-2 div.sk-serial {\n",
              "  display: flex;\n",
              "  flex-direction: column;\n",
              "  align-items: center;\n",
              "  background-color: var(--sklearn-color-background);\n",
              "  padding-right: 1em;\n",
              "  padding-left: 1em;\n",
              "}\n",
              "\n",
              "\n",
              "/* Toggleable style: style used for estimator/Pipeline/ColumnTransformer box that is\n",
              "clickable and can be expanded/collapsed.\n",
              "- Pipeline and ColumnTransformer use this feature and define the default style\n",
              "- Estimators will overwrite some part of the style using the `sk-estimator` class\n",
              "*/\n",
              "\n",
              "/* Pipeline and ColumnTransformer style (default) */\n",
              "\n",
              "#sk-container-id-2 div.sk-toggleable {\n",
              "  /* Default theme specific background. It is overwritten whether we have a\n",
              "  specific estimator or a Pipeline/ColumnTransformer */\n",
              "  background-color: var(--sklearn-color-background);\n",
              "}\n",
              "\n",
              "/* Toggleable label */\n",
              "#sk-container-id-2 label.sk-toggleable__label {\n",
              "  cursor: pointer;\n",
              "  display: block;\n",
              "  width: 100%;\n",
              "  margin-bottom: 0;\n",
              "  padding: 0.5em;\n",
              "  box-sizing: border-box;\n",
              "  text-align: center;\n",
              "}\n",
              "\n",
              "#sk-container-id-2 label.sk-toggleable__label-arrow:before {\n",
              "  /* Arrow on the left of the label */\n",
              "  content: \"▸\";\n",
              "  float: left;\n",
              "  margin-right: 0.25em;\n",
              "  color: var(--sklearn-color-icon);\n",
              "}\n",
              "\n",
              "#sk-container-id-2 label.sk-toggleable__label-arrow:hover:before {\n",
              "  color: var(--sklearn-color-text);\n",
              "}\n",
              "\n",
              "/* Toggleable content - dropdown */\n",
              "\n",
              "#sk-container-id-2 div.sk-toggleable__content {\n",
              "  max-height: 0;\n",
              "  max-width: 0;\n",
              "  overflow: hidden;\n",
              "  text-align: left;\n",
              "  /* unfitted */\n",
              "  background-color: var(--sklearn-color-unfitted-level-0);\n",
              "}\n",
              "\n",
              "#sk-container-id-2 div.sk-toggleable__content.fitted {\n",
              "  /* fitted */\n",
              "  background-color: var(--sklearn-color-fitted-level-0);\n",
              "}\n",
              "\n",
              "#sk-container-id-2 div.sk-toggleable__content pre {\n",
              "  margin: 0.2em;\n",
              "  border-radius: 0.25em;\n",
              "  color: var(--sklearn-color-text);\n",
              "  /* unfitted */\n",
              "  background-color: var(--sklearn-color-unfitted-level-0);\n",
              "}\n",
              "\n",
              "#sk-container-id-2 div.sk-toggleable__content.fitted pre {\n",
              "  /* unfitted */\n",
              "  background-color: var(--sklearn-color-fitted-level-0);\n",
              "}\n",
              "\n",
              "#sk-container-id-2 input.sk-toggleable__control:checked~div.sk-toggleable__content {\n",
              "  /* Expand drop-down */\n",
              "  max-height: 200px;\n",
              "  max-width: 100%;\n",
              "  overflow: auto;\n",
              "}\n",
              "\n",
              "#sk-container-id-2 input.sk-toggleable__control:checked~label.sk-toggleable__label-arrow:before {\n",
              "  content: \"▾\";\n",
              "}\n",
              "\n",
              "/* Pipeline/ColumnTransformer-specific style */\n",
              "\n",
              "#sk-container-id-2 div.sk-label input.sk-toggleable__control:checked~label.sk-toggleable__label {\n",
              "  color: var(--sklearn-color-text);\n",
              "  background-color: var(--sklearn-color-unfitted-level-2);\n",
              "}\n",
              "\n",
              "#sk-container-id-2 div.sk-label.fitted input.sk-toggleable__control:checked~label.sk-toggleable__label {\n",
              "  background-color: var(--sklearn-color-fitted-level-2);\n",
              "}\n",
              "\n",
              "/* Estimator-specific style */\n",
              "\n",
              "/* Colorize estimator box */\n",
              "#sk-container-id-2 div.sk-estimator input.sk-toggleable__control:checked~label.sk-toggleable__label {\n",
              "  /* unfitted */\n",
              "  background-color: var(--sklearn-color-unfitted-level-2);\n",
              "}\n",
              "\n",
              "#sk-container-id-2 div.sk-estimator.fitted input.sk-toggleable__control:checked~label.sk-toggleable__label {\n",
              "  /* fitted */\n",
              "  background-color: var(--sklearn-color-fitted-level-2);\n",
              "}\n",
              "\n",
              "#sk-container-id-2 div.sk-label label.sk-toggleable__label,\n",
              "#sk-container-id-2 div.sk-label label {\n",
              "  /* The background is the default theme color */\n",
              "  color: var(--sklearn-color-text-on-default-background);\n",
              "}\n",
              "\n",
              "/* On hover, darken the color of the background */\n",
              "#sk-container-id-2 div.sk-label:hover label.sk-toggleable__label {\n",
              "  color: var(--sklearn-color-text);\n",
              "  background-color: var(--sklearn-color-unfitted-level-2);\n",
              "}\n",
              "\n",
              "/* Label box, darken color on hover, fitted */\n",
              "#sk-container-id-2 div.sk-label.fitted:hover label.sk-toggleable__label.fitted {\n",
              "  color: var(--sklearn-color-text);\n",
              "  background-color: var(--sklearn-color-fitted-level-2);\n",
              "}\n",
              "\n",
              "/* Estimator label */\n",
              "\n",
              "#sk-container-id-2 div.sk-label label {\n",
              "  font-family: monospace;\n",
              "  font-weight: bold;\n",
              "  display: inline-block;\n",
              "  line-height: 1.2em;\n",
              "}\n",
              "\n",
              "#sk-container-id-2 div.sk-label-container {\n",
              "  text-align: center;\n",
              "}\n",
              "\n",
              "/* Estimator-specific */\n",
              "#sk-container-id-2 div.sk-estimator {\n",
              "  font-family: monospace;\n",
              "  border: 1px dotted var(--sklearn-color-border-box);\n",
              "  border-radius: 0.25em;\n",
              "  box-sizing: border-box;\n",
              "  margin-bottom: 0.5em;\n",
              "  /* unfitted */\n",
              "  background-color: var(--sklearn-color-unfitted-level-0);\n",
              "}\n",
              "\n",
              "#sk-container-id-2 div.sk-estimator.fitted {\n",
              "  /* fitted */\n",
              "  background-color: var(--sklearn-color-fitted-level-0);\n",
              "}\n",
              "\n",
              "/* on hover */\n",
              "#sk-container-id-2 div.sk-estimator:hover {\n",
              "  /* unfitted */\n",
              "  background-color: var(--sklearn-color-unfitted-level-2);\n",
              "}\n",
              "\n",
              "#sk-container-id-2 div.sk-estimator.fitted:hover {\n",
              "  /* fitted */\n",
              "  background-color: var(--sklearn-color-fitted-level-2);\n",
              "}\n",
              "\n",
              "/* Specification for estimator info (e.g. \"i\" and \"?\") */\n",
              "\n",
              "/* Common style for \"i\" and \"?\" */\n",
              "\n",
              ".sk-estimator-doc-link,\n",
              "a:link.sk-estimator-doc-link,\n",
              "a:visited.sk-estimator-doc-link {\n",
              "  float: right;\n",
              "  font-size: smaller;\n",
              "  line-height: 1em;\n",
              "  font-family: monospace;\n",
              "  background-color: var(--sklearn-color-background);\n",
              "  border-radius: 1em;\n",
              "  height: 1em;\n",
              "  width: 1em;\n",
              "  text-decoration: none !important;\n",
              "  margin-left: 1ex;\n",
              "  /* unfitted */\n",
              "  border: var(--sklearn-color-unfitted-level-1) 1pt solid;\n",
              "  color: var(--sklearn-color-unfitted-level-1);\n",
              "}\n",
              "\n",
              ".sk-estimator-doc-link.fitted,\n",
              "a:link.sk-estimator-doc-link.fitted,\n",
              "a:visited.sk-estimator-doc-link.fitted {\n",
              "  /* fitted */\n",
              "  border: var(--sklearn-color-fitted-level-1) 1pt solid;\n",
              "  color: var(--sklearn-color-fitted-level-1);\n",
              "}\n",
              "\n",
              "/* On hover */\n",
              "div.sk-estimator:hover .sk-estimator-doc-link:hover,\n",
              ".sk-estimator-doc-link:hover,\n",
              "div.sk-label-container:hover .sk-estimator-doc-link:hover,\n",
              ".sk-estimator-doc-link:hover {\n",
              "  /* unfitted */\n",
              "  background-color: var(--sklearn-color-unfitted-level-3);\n",
              "  color: var(--sklearn-color-background);\n",
              "  text-decoration: none;\n",
              "}\n",
              "\n",
              "div.sk-estimator.fitted:hover .sk-estimator-doc-link.fitted:hover,\n",
              ".sk-estimator-doc-link.fitted:hover,\n",
              "div.sk-label-container:hover .sk-estimator-doc-link.fitted:hover,\n",
              ".sk-estimator-doc-link.fitted:hover {\n",
              "  /* fitted */\n",
              "  background-color: var(--sklearn-color-fitted-level-3);\n",
              "  color: var(--sklearn-color-background);\n",
              "  text-decoration: none;\n",
              "}\n",
              "\n",
              "/* Span, style for the box shown on hovering the info icon */\n",
              ".sk-estimator-doc-link span {\n",
              "  display: none;\n",
              "  z-index: 9999;\n",
              "  position: relative;\n",
              "  font-weight: normal;\n",
              "  right: .2ex;\n",
              "  padding: .5ex;\n",
              "  margin: .5ex;\n",
              "  width: min-content;\n",
              "  min-width: 20ex;\n",
              "  max-width: 50ex;\n",
              "  color: var(--sklearn-color-text);\n",
              "  box-shadow: 2pt 2pt 4pt #999;\n",
              "  /* unfitted */\n",
              "  background: var(--sklearn-color-unfitted-level-0);\n",
              "  border: .5pt solid var(--sklearn-color-unfitted-level-3);\n",
              "}\n",
              "\n",
              ".sk-estimator-doc-link.fitted span {\n",
              "  /* fitted */\n",
              "  background: var(--sklearn-color-fitted-level-0);\n",
              "  border: var(--sklearn-color-fitted-level-3);\n",
              "}\n",
              "\n",
              ".sk-estimator-doc-link:hover span {\n",
              "  display: block;\n",
              "}\n",
              "\n",
              "/* \"?\"-specific style due to the `<a>` HTML tag */\n",
              "\n",
              "#sk-container-id-2 a.estimator_doc_link {\n",
              "  float: right;\n",
              "  font-size: 1rem;\n",
              "  line-height: 1em;\n",
              "  font-family: monospace;\n",
              "  background-color: var(--sklearn-color-background);\n",
              "  border-radius: 1rem;\n",
              "  height: 1rem;\n",
              "  width: 1rem;\n",
              "  text-decoration: none;\n",
              "  /* unfitted */\n",
              "  color: var(--sklearn-color-unfitted-level-1);\n",
              "  border: var(--sklearn-color-unfitted-level-1) 1pt solid;\n",
              "}\n",
              "\n",
              "#sk-container-id-2 a.estimator_doc_link.fitted {\n",
              "  /* fitted */\n",
              "  border: var(--sklearn-color-fitted-level-1) 1pt solid;\n",
              "  color: var(--sklearn-color-fitted-level-1);\n",
              "}\n",
              "\n",
              "/* On hover */\n",
              "#sk-container-id-2 a.estimator_doc_link:hover {\n",
              "  /* unfitted */\n",
              "  background-color: var(--sklearn-color-unfitted-level-3);\n",
              "  color: var(--sklearn-color-background);\n",
              "  text-decoration: none;\n",
              "}\n",
              "\n",
              "#sk-container-id-2 a.estimator_doc_link.fitted:hover {\n",
              "  /* fitted */\n",
              "  background-color: var(--sklearn-color-fitted-level-3);\n",
              "}\n",
              "</style><div id=\"sk-container-id-2\" class=\"sk-top-container\"><div class=\"sk-text-repr-fallback\"><pre>CountVectorizer(tokenizer=&lt;function tokenize at 0x0000023E31957B00&gt;)</pre><b>In a Jupyter environment, please rerun this cell to show the HTML representation or trust the notebook. <br />On GitHub, the HTML representation is unable to render, please try loading this page with nbviewer.org.</b></div><div class=\"sk-container\" hidden><div class=\"sk-item\"><div class=\"sk-estimator  sk-toggleable\"><input class=\"sk-toggleable__control sk-hidden--visually\" id=\"sk-estimator-id-2\" type=\"checkbox\" checked><label for=\"sk-estimator-id-2\" class=\"sk-toggleable__label  sk-toggleable__label-arrow \">&nbsp;&nbsp;CountVectorizer<a class=\"sk-estimator-doc-link \" rel=\"noreferrer\" target=\"_blank\" href=\"https://scikit-learn.org/1.5/modules/generated/sklearn.feature_extraction.text.CountVectorizer.html\">?<span>Documentation for CountVectorizer</span></a><span class=\"sk-estimator-doc-link \">i<span>Not fitted</span></span></label><div class=\"sk-toggleable__content \"><pre>CountVectorizer(tokenizer=&lt;function tokenize at 0x0000023E31957B00&gt;)</pre></div> </div></div></div></div>"
            ],
            "text/plain": [
              "CountVectorizer(tokenizer=<function tokenize at 0x0000023E31957B00>)"
            ]
          },
          "execution_count": 78,
          "metadata": {},
          "output_type": "execute_result"
        }
      ],
      "source": [
        "vect = CountVectorizer(tokenizer=tokenize)\n",
        "vect"
      ]
    },
    {
      "cell_type": "code",
      "execution_count": 80,
      "metadata": {
        "id": "irNUSCzJXUQR"
      },
      "outputs": [
        {
          "name": "stdout",
          "output_type": "stream",
          "text": [
            "(20001, 3)\n",
            "                                             content  \\\n",
            "0                             Get fucking real dude.   \n",
            "1   She is as dirty as they come  and that crook ...   \n",
            "2   why did you fuck it up. I could do it all day...   \n",
            "3   Dude they dont finish enclosing the fucking s...   \n",
            "4   WTF are you talking about Men? No men thats n...   \n",
            "\n",
            "                      annotation  extras  \n",
            "0  {'notes': '', 'label': ['1']}     NaN  \n",
            "1  {'notes': '', 'label': ['1']}     NaN  \n",
            "2  {'notes': '', 'label': ['1']}     NaN  \n",
            "3  {'notes': '', 'label': ['1']}     NaN  \n",
            "4  {'notes': '', 'label': ['1']}     NaN  \n",
            "(15000, 1) (5001, 1) (15000,) (5001,)\n"
          ]
        }
      ],
      "source": [
        "import pandas as pd\n",
        "\n",
        "# Load the dataset\n",
        "url = r'C:\\Users\\wealt\\Documents\\Cyberbullying Detection with ML\\Cyberbullying_Detector_ML\\dataset.json'\n",
        "df = pd.read_json(url, lines=True)  # Make sure to load the DataFrame correctly\n",
        "\n",
        "# Check the structure of the DataFrame\n",
        "print(df.shape)\n",
        "print(df.head())\n",
        "\n",
        "# Ensure that the DataFrame has at least 15000 rows and 2 columns\n",
        "if df.shape[0] < 15000 or df.shape[1] < 2:\n",
        "    raise ValueError(\"DataFrame does not have enough rows or columns for splitting.\")\n",
        "\n",
        "# Splitting the DataFrame into training and testing sets\n",
        "X_train = df.iloc[:15000, 0:1]\n",
        "X_test = df.iloc[15000:, 0:1]\n",
        "y_train = df.iloc[:15000, 1]\n",
        "y_test = df.iloc[15000:, 1]\n",
        "\n",
        "# Check the shapes of the splits\n",
        "print(X_train.shape, X_test.shape, y_train.shape, y_test.shape)\n"
      ]
    },
    {
      "cell_type": "code",
      "execution_count": 81,
      "metadata": {
        "colab": {
          "base_uri": "https://localhost:8080/"
        },
        "id": "4heRZ1RxXZ9S",
        "outputId": "f6eddbd3-bf81-47b4-c2a0-d72042c91c6d"
      },
      "outputs": [
        {
          "data": {
            "text/plain": [
              "15000"
            ]
          },
          "execution_count": 81,
          "metadata": {},
          "output_type": "execute_result"
        }
      ],
      "source": [
        "X_train.size"
      ]
    },
    {
      "cell_type": "code",
      "execution_count": 82,
      "metadata": {
        "colab": {
          "base_uri": "https://localhost:8080/",
          "height": 419
        },
        "id": "jUTVez3Ua0XS",
        "outputId": "a08a56ee-fb0b-4201-8cde-3b90e6dab9cb"
      },
      "outputs": [
        {
          "data": {
            "text/html": [
              "<div>\n",
              "<style scoped>\n",
              "    .dataframe tbody tr th:only-of-type {\n",
              "        vertical-align: middle;\n",
              "    }\n",
              "\n",
              "    .dataframe tbody tr th {\n",
              "        vertical-align: top;\n",
              "    }\n",
              "\n",
              "    .dataframe thead th {\n",
              "        text-align: right;\n",
              "    }\n",
              "</style>\n",
              "<table border=\"1\" class=\"dataframe\">\n",
              "  <thead>\n",
              "    <tr style=\"text-align: right;\">\n",
              "      <th></th>\n",
              "      <th>content</th>\n",
              "    </tr>\n",
              "  </thead>\n",
              "  <tbody>\n",
              "    <tr>\n",
              "      <th>0</th>\n",
              "      <td>Get fucking real dude.</td>\n",
              "    </tr>\n",
              "    <tr>\n",
              "      <th>1</th>\n",
              "      <td>She is as dirty as they come  and that crook ...</td>\n",
              "    </tr>\n",
              "    <tr>\n",
              "      <th>2</th>\n",
              "      <td>why did you fuck it up. I could do it all day...</td>\n",
              "    </tr>\n",
              "    <tr>\n",
              "      <th>3</th>\n",
              "      <td>Dude they dont finish enclosing the fucking s...</td>\n",
              "    </tr>\n",
              "    <tr>\n",
              "      <th>4</th>\n",
              "      <td>WTF are you talking about Men? No men thats n...</td>\n",
              "    </tr>\n",
              "    <tr>\n",
              "      <th>...</th>\n",
              "      <td>...</td>\n",
              "    </tr>\n",
              "    <tr>\n",
              "      <th>14995</th>\n",
              "      <td>What can you smell right now?</td>\n",
              "    </tr>\n",
              "    <tr>\n",
              "      <th>14996</th>\n",
              "      <td>yew neva seen mi dik nd lol thankz</td>\n",
              "    </tr>\n",
              "    <tr>\n",
              "      <th>14997</th>\n",
              "      <td>whwhwhwhoa just slow down. huh!? what do you ...</td>\n",
              "    </tr>\n",
              "    <tr>\n",
              "      <th>14998</th>\n",
              "      <td>What&amp;;s a subject you wish you knew more about?</td>\n",
              "    </tr>\n",
              "    <tr>\n",
              "      <th>14999</th>\n",
              "      <td>im sure. people find anyting to talk about f...</td>\n",
              "    </tr>\n",
              "  </tbody>\n",
              "</table>\n",
              "<p>15000 rows × 1 columns</p>\n",
              "</div>"
            ],
            "text/plain": [
              "                                                 content\n",
              "0                                 Get fucking real dude.\n",
              "1       She is as dirty as they come  and that crook ...\n",
              "2       why did you fuck it up. I could do it all day...\n",
              "3       Dude they dont finish enclosing the fucking s...\n",
              "4       WTF are you talking about Men? No men thats n...\n",
              "...                                                  ...\n",
              "14995                      What can you smell right now?\n",
              "14996                 yew neva seen mi dik nd lol thankz\n",
              "14997   whwhwhwhoa just slow down. huh!? what do you ...\n",
              "14998    What&;s a subject you wish you knew more about?\n",
              "14999    im sure. people find anyting to talk about f...\n",
              "\n",
              "[15000 rows x 1 columns]"
            ]
          },
          "execution_count": 82,
          "metadata": {},
          "output_type": "execute_result"
        }
      ],
      "source": [
        "X_train"
      ]
    },
    {
      "cell_type": "code",
      "execution_count": 83,
      "metadata": {
        "colab": {
          "base_uri": "https://localhost:8080/"
        },
        "id": "apcGVvq1YAAd",
        "outputId": "0707c262-c247-4c77-9c4a-157ae9634e79"
      },
      "outputs": [
        {
          "data": {
            "text/plain": [
              "5001"
            ]
          },
          "execution_count": 83,
          "metadata": {},
          "output_type": "execute_result"
        }
      ],
      "source": [
        "X_test.size"
      ]
    },
    {
      "cell_type": "code",
      "execution_count": 84,
      "metadata": {
        "colab": {
          "base_uri": "https://localhost:8080/",
          "height": 419
        },
        "id": "OFJdFLFca_Dq",
        "outputId": "9d5705b4-025d-4a29-9dd0-1a0e0a029a13"
      },
      "outputs": [
        {
          "data": {
            "text/html": [
              "<div>\n",
              "<style scoped>\n",
              "    .dataframe tbody tr th:only-of-type {\n",
              "        vertical-align: middle;\n",
              "    }\n",
              "\n",
              "    .dataframe tbody tr th {\n",
              "        vertical-align: top;\n",
              "    }\n",
              "\n",
              "    .dataframe thead th {\n",
              "        text-align: right;\n",
              "    }\n",
              "</style>\n",
              "<table border=\"1\" class=\"dataframe\">\n",
              "  <thead>\n",
              "    <tr style=\"text-align: right;\">\n",
              "      <th></th>\n",
              "      <th>content</th>\n",
              "    </tr>\n",
              "  </thead>\n",
              "  <tbody>\n",
              "    <tr>\n",
              "      <th>15000</th>\n",
              "      <td>How often do you get sick?</td>\n",
              "    </tr>\n",
              "    <tr>\n",
              "      <th>15001</th>\n",
              "      <td>Wow awesome question....I think my best achi...</td>\n",
              "    </tr>\n",
              "    <tr>\n",
              "      <th>15002</th>\n",
              "      <td>Nahh hates a strong word.</td>\n",
              "    </tr>\n",
              "    <tr>\n",
              "      <th>15003</th>\n",
              "      <td>does anyone sang you a song on public? if so ...</td>\n",
              "    </tr>\n",
              "    <tr>\n",
              "      <th>15004</th>\n",
              "      <td>Nope.</td>\n",
              "    </tr>\n",
              "    <tr>\n",
              "      <th>...</th>\n",
              "      <td>...</td>\n",
              "    </tr>\n",
              "    <tr>\n",
              "      <th>19996</th>\n",
              "      <td>I dont. But what is complaining about it goi...</td>\n",
              "    </tr>\n",
              "    <tr>\n",
              "      <th>19997</th>\n",
              "      <td>Bahah  yeah i&amp;;m totally just gonna&amp;; get pis...</td>\n",
              "    </tr>\n",
              "    <tr>\n",
              "      <th>19998</th>\n",
              "      <td>hahahahaha &gt;:) im evil mwahahahahahahahahaha</td>\n",
              "    </tr>\n",
              "    <tr>\n",
              "      <th>19999</th>\n",
              "      <td>What&amp;;s something unique about Ohio? :)</td>\n",
              "    </tr>\n",
              "    <tr>\n",
              "      <th>20000</th>\n",
              "      <td>Who is the biggest gossiper you know?</td>\n",
              "    </tr>\n",
              "  </tbody>\n",
              "</table>\n",
              "<p>5001 rows × 1 columns</p>\n",
              "</div>"
            ],
            "text/plain": [
              "                                                 content\n",
              "15000                         How often do you get sick?\n",
              "15001    Wow awesome question....I think my best achi...\n",
              "15002                          Nahh hates a strong word.\n",
              "15003   does anyone sang you a song on public? if so ...\n",
              "15004                                              Nope.\n",
              "...                                                  ...\n",
              "19996    I dont. But what is complaining about it goi...\n",
              "19997   Bahah  yeah i&;m totally just gonna&; get pis...\n",
              "19998       hahahahaha >:) im evil mwahahahahahahahahaha\n",
              "19999            What&;s something unique about Ohio? :)\n",
              "20000              Who is the biggest gossiper you know?\n",
              "\n",
              "[5001 rows x 1 columns]"
            ]
          },
          "execution_count": 84,
          "metadata": {},
          "output_type": "execute_result"
        }
      ],
      "source": [
        "X_test"
      ]
    },
    {
      "cell_type": "code",
      "execution_count": 85,
      "metadata": {
        "colab": {
          "base_uri": "https://localhost:8080/"
        },
        "id": "NJBvjx2YX8tT",
        "outputId": "b20fc2b1-0557-42fb-8354-5a53706ac461"
      },
      "outputs": [
        {
          "data": {
            "text/plain": [
              "5001"
            ]
          },
          "execution_count": 85,
          "metadata": {},
          "output_type": "execute_result"
        }
      ],
      "source": [
        "20001-15000"
      ]
    },
    {
      "cell_type": "code",
      "execution_count": 86,
      "metadata": {
        "colab": {
          "base_uri": "https://localhost:8080/"
        },
        "id": "8UQm3I5_bDGf",
        "outputId": "d1c9aa3d-2171-4347-a587-f1933e728d31"
      },
      "outputs": [
        {
          "data": {
            "text/plain": [
              "0        {'notes': '', 'label': ['1']}\n",
              "1        {'notes': '', 'label': ['1']}\n",
              "2        {'notes': '', 'label': ['1']}\n",
              "3        {'notes': '', 'label': ['1']}\n",
              "4        {'notes': '', 'label': ['1']}\n",
              "                     ...              \n",
              "14995    {'notes': '', 'label': ['0']}\n",
              "14996    {'notes': '', 'label': ['0']}\n",
              "14997    {'notes': '', 'label': ['0']}\n",
              "14998    {'notes': '', 'label': ['0']}\n",
              "14999    {'notes': '', 'label': ['0']}\n",
              "Name: annotation, Length: 15000, dtype: object"
            ]
          },
          "execution_count": 86,
          "metadata": {},
          "output_type": "execute_result"
        }
      ],
      "source": [
        "y_train"
      ]
    },
    {
      "cell_type": "code",
      "execution_count": 87,
      "metadata": {
        "colab": {
          "base_uri": "https://localhost:8080/"
        },
        "id": "4pBTO7JRaqfB",
        "outputId": "5a2a64c7-8bd4-450e-c400-b278d6990a40"
      },
      "outputs": [
        {
          "data": {
            "text/plain": [
              "0    {'notes': '', 'label': ['1']}\n",
              "1    {'notes': '', 'label': ['1']}\n",
              "2    {'notes': '', 'label': ['1']}\n",
              "3    {'notes': '', 'label': ['1']}\n",
              "4    {'notes': '', 'label': ['1']}\n",
              "Name: annotation, dtype: object"
            ]
          },
          "execution_count": 87,
          "metadata": {},
          "output_type": "execute_result"
        }
      ],
      "source": [
        "y_train.head()"
      ]
    },
    {
      "cell_type": "code",
      "execution_count": 88,
      "metadata": {
        "colab": {
          "base_uri": "https://localhost:8080/"
        },
        "id": "Jn1oARRrYGSl",
        "outputId": "c953e214-1b6e-4c9f-f8cd-dce32c1fcdc8"
      },
      "outputs": [
        {
          "data": {
            "text/plain": [
              "5001"
            ]
          },
          "execution_count": 88,
          "metadata": {},
          "output_type": "execute_result"
        }
      ],
      "source": [
        "y_test.size"
      ]
    },
    {
      "cell_type": "code",
      "execution_count": 90,
      "metadata": {
        "colab": {
          "base_uri": "https://localhost:8080/"
        },
        "id": "sHssdeR3bQEm",
        "outputId": "da532f8e-65f4-434f-b785-08037c15be09"
      },
      "outputs": [
        {
          "name": "stdout",
          "output_type": "stream",
          "text": [
            "['neutral']\n"
          ]
        }
      ],
      "source": [
        "import pandas as pd\n",
        "\n",
        "# Sample DataFrame for demonstration\n",
        "df = pd.DataFrame({\n",
        "    'annotation': [{'label': 'positive'}, {'label': 'negative'}, {'label': 'positive'}, {'label': 'neutral'}]\n",
        "})\n",
        "\n",
        "# Extract the 'label' values from dictionaries in the 'annotation' column\n",
        "df['label'] = df['annotation'].apply(lambda x: x.get('label') if isinstance(x, dict) else x)\n",
        "\n",
        "# Split the DataFrame into training and testing sets\n",
        "X_train = df.iloc[:3, 0:1]  # Example train split\n",
        "X_test = df.iloc[3:, 0:1]   # Example test split\n",
        "y_train = df.iloc[:3, 1]\n",
        "y_test = df.iloc[3:, 1]\n",
        "\n",
        "# Check unique values in y_test\n",
        "print(y_test.unique())\n"
      ]
    },
    {
      "cell_type": "markdown",
      "metadata": {
        "id": "R6Gm2MJwGeDu"
      },
      "source": [
        "**y_test had all labels 0's so we cannot test the trained model for label 1's**"
      ]
    },
    {
      "cell_type": "markdown",
      "metadata": {
        "id": "T5R-mKn8GoZt"
      },
      "source": [
        "**Making use of train_test_split() method helps in balanced spliting- in form of arrays**"
      ]
    },
    {
      "cell_type": "code",
      "execution_count": 91,
      "metadata": {
        "id": "pgVCShl7Eu7U"
      },
      "outputs": [],
      "source": [
        "X_train, X_test, y_train, y_test = train_test_split(X, y)"
      ]
    },
    {
      "cell_type": "code",
      "execution_count": 92,
      "metadata": {
        "colab": {
          "base_uri": "https://localhost:8080/"
        },
        "id": "QNaEkDzmE3L-",
        "outputId": "83bd390e-b5c1-440c-aaff-7a875a3e1406"
      },
      "outputs": [
        {
          "data": {
            "text/plain": [
              "array(['  Yes. Karma :]',\n",
              "       \"LMAO. Vista isn't that bad. I did hate it  but on this computer I love it. You just need a faster laptop. Still using my n ...\",\n",
              "       \"Damn  you're totally geeking out on us tonite.\", ...,\n",
              "       'damn you look great in HD I mean you look great either way but ya LOL what kind of cam you use? Xoxo',\n",
              "       \"don't you hate yogurt! When you do recover from hating yogurt  go to Trader Joe's  get the Greek style kind  it's fantastic!\",\n",
              "       'yeah dat bitch stabbed me in my eye when I was trying to hit the snooze buttone this morning'],\n",
              "      dtype=object)"
            ]
          },
          "execution_count": 92,
          "metadata": {},
          "output_type": "execute_result"
        }
      ],
      "source": [
        "X_train"
      ]
    },
    {
      "cell_type": "code",
      "execution_count": 93,
      "metadata": {
        "colab": {
          "base_uri": "https://localhost:8080/"
        },
        "id": "BurmOG1JFLJF",
        "outputId": "41f15b74-c9a0-45de-add6-2013078374f0"
      },
      "outputs": [
        {
          "data": {
            "text/plain": [
              "15000"
            ]
          },
          "execution_count": 93,
          "metadata": {},
          "output_type": "execute_result"
        }
      ],
      "source": [
        "X_train.size"
      ]
    },
    {
      "cell_type": "code",
      "execution_count": 94,
      "metadata": {
        "colab": {
          "base_uri": "https://localhost:8080/"
        },
        "id": "bO0ExBzVE5O7",
        "outputId": "38effe44-b4d4-4429-cfb1-52634fe6560b"
      },
      "outputs": [
        {
          "data": {
            "text/plain": [
              "array(['Fuck.',\n",
              "       ' If you had to give up one favorite food  what would the most difficult?',\n",
              "       'ouch that sucks.', ...,\n",
              "       'no  depeche mode sucks ass as well. se my earlier tweet. http://twitter.com/tcar/status/1073343643',\n",
              "       \"lmfao he's so cute tho seriously. im watching the AIR awards interviews omg so fucking cute &lt;3333\",\n",
              "       \"They do fear us; why do you think they hate us owning guns? It's all that stands between them and absolute power.\"],\n",
              "      dtype=object)"
            ]
          },
          "execution_count": 94,
          "metadata": {},
          "output_type": "execute_result"
        }
      ],
      "source": [
        "X_test"
      ]
    },
    {
      "cell_type": "code",
      "execution_count": 95,
      "metadata": {
        "colab": {
          "base_uri": "https://localhost:8080/"
        },
        "id": "ma9_G17_FN2o",
        "outputId": "98ae7728-c373-44a0-ac2e-fb41019aff93"
      },
      "outputs": [
        {
          "data": {
            "text/plain": [
              "5001"
            ]
          },
          "execution_count": 95,
          "metadata": {},
          "output_type": "execute_result"
        }
      ],
      "source": [
        "X_test.size"
      ]
    },
    {
      "cell_type": "code",
      "execution_count": 96,
      "metadata": {
        "colab": {
          "base_uri": "https://localhost:8080/"
        },
        "id": "VXqMMqnsE-Kw",
        "outputId": "c54387ad-f98c-4f1f-e3f6-36cd62ba2099"
      },
      "outputs": [
        {
          "data": {
            "text/plain": [
              "array(['0', '0', '1', ..., '0', '1', '1'], dtype=object)"
            ]
          },
          "execution_count": 96,
          "metadata": {},
          "output_type": "execute_result"
        }
      ],
      "source": [
        "y_train"
      ]
    },
    {
      "cell_type": "code",
      "execution_count": 97,
      "metadata": {
        "colab": {
          "base_uri": "https://localhost:8080/"
        },
        "id": "VX-iE4IZFAZC",
        "outputId": "3a7da165-13e8-4b33-9aed-16d301722458"
      },
      "outputs": [
        {
          "data": {
            "text/plain": [
              "15000"
            ]
          },
          "execution_count": 97,
          "metadata": {},
          "output_type": "execute_result"
        }
      ],
      "source": [
        "y_train.size"
      ]
    },
    {
      "cell_type": "code",
      "execution_count": 98,
      "metadata": {
        "colab": {
          "base_uri": "https://localhost:8080/"
        },
        "id": "AxWkjfSfFCos",
        "outputId": "00e47753-7b22-437a-9673-83a14e90b43a"
      },
      "outputs": [
        {
          "data": {
            "text/plain": [
              "array(['1', '0', '0', ..., '0', '0', '0'], dtype=object)"
            ]
          },
          "execution_count": 98,
          "metadata": {},
          "output_type": "execute_result"
        }
      ],
      "source": [
        "y_test"
      ]
    },
    {
      "cell_type": "code",
      "execution_count": 99,
      "metadata": {
        "colab": {
          "base_uri": "https://localhost:8080/"
        },
        "id": "SbL4cPYaFGED",
        "outputId": "d948a434-8deb-4b24-a7bf-75d51abcbd46"
      },
      "outputs": [
        {
          "data": {
            "text/plain": [
              "5001"
            ]
          },
          "execution_count": 99,
          "metadata": {},
          "output_type": "execute_result"
        }
      ],
      "source": [
        "y_test.size"
      ]
    },
    {
      "cell_type": "code",
      "execution_count": 100,
      "metadata": {
        "id": "MtOXqL4m9otf"
      },
      "outputs": [],
      "source": [
        "from sklearn.linear_model import *\n",
        "from sklearn.tree import *\n",
        "from sklearn.naive_bayes import *\n",
        "from sklearn.neighbors import *"
      ]
    },
    {
      "cell_type": "markdown",
      "metadata": {
        "id": "1Ppa_WOnRGCn"
      },
      "source": [
        "**CNN CLASSIFIER**"
      ]
    },
    {
      "cell_type": "code",
      "execution_count": 102,
      "metadata": {
        "colab": {
          "base_uri": "https://localhost:8080/"
        },
        "id": "aqaEVtVl8gK3",
        "outputId": "6be962fc-b9cc-46c9-c514-df43cde65043"
      },
      "outputs": [
        {
          "name": "stderr",
          "output_type": "stream",
          "text": [
            "c:\\Users\\wealt\\AppData\\Local\\Programs\\Python\\Python312\\Lib\\site-packages\\keras\\src\\layers\\core\\embedding.py:90: UserWarning: Argument `input_length` is deprecated. Just remove it.\n",
            "  warnings.warn(\n"
          ]
        },
        {
          "name": "stdout",
          "output_type": "stream",
          "text": [
            "Epoch 1/5\n",
            "\u001b[1m200/200\u001b[0m \u001b[32m━━━━━━━━━━━━━━━━━━━━\u001b[0m\u001b[37m\u001b[0m \u001b[1m56s\u001b[0m 161ms/step - accuracy: 0.6511 - loss: 0.6185 - val_accuracy: 0.7769 - val_loss: 0.4553\n",
            "Epoch 2/5\n",
            "\u001b[1m200/200\u001b[0m \u001b[32m━━━━━━━━━━━━━━━━━━━━\u001b[0m\u001b[37m\u001b[0m \u001b[1m31s\u001b[0m 153ms/step - accuracy: 0.8739 - loss: 0.3016 - val_accuracy: 0.8509 - val_loss: 0.3862\n",
            "Epoch 3/5\n",
            "\u001b[1m200/200\u001b[0m \u001b[32m━━━━━━━━━━━━━━━━━━━━\u001b[0m\u001b[37m\u001b[0m \u001b[1m30s\u001b[0m 151ms/step - accuracy: 0.9692 - loss: 0.0966 - val_accuracy: 0.8600 - val_loss: 0.4382\n",
            "Epoch 4/5\n",
            "\u001b[1m200/200\u001b[0m \u001b[32m━━━━━━━━━━━━━━━━━━━━\u001b[0m\u001b[37m\u001b[0m \u001b[1m30s\u001b[0m 149ms/step - accuracy: 0.9872 - loss: 0.0414 - val_accuracy: 0.8853 - val_loss: 0.5091\n",
            "Epoch 5/5\n",
            "\u001b[1m200/200\u001b[0m \u001b[32m━━━━━━━━━━━━━━━━━━━━\u001b[0m\u001b[37m\u001b[0m \u001b[1m41s\u001b[0m 151ms/step - accuracy: 0.9924 - loss: 0.0276 - val_accuracy: 0.8662 - val_loss: 0.5980\n",
            "\u001b[1m126/126\u001b[0m \u001b[32m━━━━━━━━━━━━━━━━━━━━\u001b[0m\u001b[37m\u001b[0m \u001b[1m4s\u001b[0m 22ms/step - accuracy: 0.8727 - loss: 0.5724\n",
            "\u001b[1m126/126\u001b[0m \u001b[32m━━━━━━━━━━━━━━━━━━━━\u001b[0m\u001b[37m\u001b[0m \u001b[1m3s\u001b[0m 23ms/step\n",
            "Confusion Matrix:\n",
            " [[2111  313]\n",
            " [ 193 1384]]\n",
            "Accuracy: 87.35316395759583\n"
          ]
        }
      ],
      "source": [
        "import numpy as np\n",
        "import pandas as pd\n",
        "from sklearn.model_selection import train_test_split\n",
        "from sklearn.metrics import confusion_matrix\n",
        "from tensorflow.keras.preprocessing.text import Tokenizer\n",
        "from tensorflow.keras.preprocessing.sequence import pad_sequences\n",
        "from tensorflow.keras.models import Sequential\n",
        "from tensorflow.keras.layers import Embedding, Conv1D, MaxPooling1D, Flatten, Dense\n",
        "from tensorflow.keras.utils import to_categorical\n",
        "\n",
        "# Load your dataset\n",
        "url = r'C:\\Users\\wealt\\Documents\\Cyberbullying Detection with ML\\Cyberbullying_Detector_ML\\dataset.json'\n",
        "X, y = load_data(url)  # Make sure `load_data` correctly reads and processes the dataset\n",
        "\n",
        "# Split into training and testing sets\n",
        "X_train, X_test, y_train, y_test = train_test_split(X, y, test_size=0.2, random_state=42)\n",
        "\n",
        "# Tokenize and pad sequences\n",
        "tokenizer = Tokenizer(num_words=5000)  # Limit to the top 5000 words\n",
        "tokenizer.fit_on_texts(X_train)\n",
        "\n",
        "X_train_seq = tokenizer.texts_to_sequences(X_train)\n",
        "X_test_seq = tokenizer.texts_to_sequences(X_test)\n",
        "\n",
        "max_len = 100  # Define max length for padding\n",
        "X_train_pad = pad_sequences(X_train_seq, maxlen=max_len, padding='post')\n",
        "X_test_pad = pad_sequences(X_test_seq, maxlen=max_len, padding='post')\n",
        "\n",
        "# Convert y labels to categorical if they are multi-class\n",
        "num_classes = len(np.unique(y_train))\n",
        "y_train_cat = to_categorical(y_train, num_classes=num_classes)\n",
        "y_test_cat = to_categorical(y_test, num_classes=num_classes)\n",
        "\n",
        "# Build CNN model\n",
        "model = Sequential()\n",
        "model.add(Embedding(input_dim=5000, output_dim=100, input_length=max_len))\n",
        "model.add(Conv1D(filters=128, kernel_size=5, activation='relu'))\n",
        "model.add(MaxPooling1D(pool_size=2))\n",
        "model.add(Flatten())\n",
        "model.add(Dense(128, activation='relu'))\n",
        "model.add(Dense(num_classes, activation='softmax'))  # Use softmax for multi-class classification\n",
        "\n",
        "# Compile the model\n",
        "model.compile(optimizer='adam', loss='categorical_crossentropy', metrics=['accuracy'])\n",
        "\n",
        "# Train the model\n",
        "model.fit(X_train_pad, y_train_cat, epochs=5, batch_size=64, validation_split=0.2)\n",
        "\n",
        "# Evaluate the model\n",
        "loss, accuracy = model.evaluate(X_test_pad, y_test_cat)\n",
        "y_pred = model.predict(X_test_pad)\n",
        "y_pred_classes = np.argmax(y_pred, axis=1)\n",
        "\n",
        "# Confusion matrix\n",
        "confusion_mat = confusion_matrix(np.argmax(y_test_cat, axis=1), y_pred_classes)\n",
        "print(\"Confusion Matrix:\\n\", confusion_mat)\n",
        "print(\"Accuracy:\", accuracy * 100)\n"
      ]
    },
    {
      "cell_type": "markdown",
      "metadata": {
        "id": "3OZequB6RS9E"
      },
      "source": [
        "**LSTM REGRESSION**"
      ]
    },
    {
      "cell_type": "code",
      "execution_count": 104,
      "metadata": {
        "colab": {
          "base_uri": "https://localhost:8080/"
        },
        "id": "b4-uiS_0-eMo",
        "outputId": "2ed5a796-2c25-48eb-ce30-6a7b295ee449"
      },
      "outputs": [
        {
          "name": "stdout",
          "output_type": "stream",
          "text": [
            "Epoch 1/5\n"
          ]
        },
        {
          "name": "stderr",
          "output_type": "stream",
          "text": [
            "c:\\Users\\wealt\\AppData\\Local\\Programs\\Python\\Python312\\Lib\\site-packages\\keras\\src\\layers\\core\\embedding.py:90: UserWarning: Argument `input_length` is deprecated. Just remove it.\n",
            "  warnings.warn(\n"
          ]
        },
        {
          "name": "stdout",
          "output_type": "stream",
          "text": [
            "\u001b[1m200/200\u001b[0m \u001b[32m━━━━━━━━━━━━━━━━━━━━\u001b[0m\u001b[37m\u001b[0m \u001b[1m83s\u001b[0m 358ms/step - accuracy: 0.6048 - loss: 0.6743 - val_accuracy: 0.6159 - val_loss: 0.6661\n",
            "Epoch 2/5\n",
            "\u001b[1m200/200\u001b[0m \u001b[32m━━━━━━━━━━━━━━━━━━━━\u001b[0m\u001b[37m\u001b[0m \u001b[1m63s\u001b[0m 313ms/step - accuracy: 0.6070 - loss: 0.6707 - val_accuracy: 0.6159 - val_loss: 0.6666\n",
            "Epoch 3/5\n",
            "\u001b[1m200/200\u001b[0m \u001b[32m━━━━━━━━━━━━━━━━━━━━\u001b[0m\u001b[37m\u001b[0m \u001b[1m72s\u001b[0m 359ms/step - accuracy: 0.6126 - loss: 0.6679 - val_accuracy: 0.6159 - val_loss: 0.6663\n",
            "Epoch 4/5\n",
            "\u001b[1m200/200\u001b[0m \u001b[32m━━━━━━━━━━━━━━━━━━━━\u001b[0m\u001b[37m\u001b[0m \u001b[1m71s\u001b[0m 355ms/step - accuracy: 0.6084 - loss: 0.6699 - val_accuracy: 0.6159 - val_loss: 0.6661\n",
            "Epoch 5/5\n",
            "\u001b[1m200/200\u001b[0m \u001b[32m━━━━━━━━━━━━━━━━━━━━\u001b[0m\u001b[37m\u001b[0m \u001b[1m64s\u001b[0m 320ms/step - accuracy: 0.6084 - loss: 0.6699 - val_accuracy: 0.6159 - val_loss: 0.6664\n",
            "\u001b[1m126/126\u001b[0m \u001b[32m━━━━━━━━━━━━━━━━━━━━\u001b[0m\u001b[37m\u001b[0m \u001b[1m11s\u001b[0m 80ms/step - accuracy: 0.6089 - loss: 0.6693\n",
            "\u001b[1m126/126\u001b[0m \u001b[32m━━━━━━━━━━━━━━━━━━━━\u001b[0m\u001b[37m\u001b[0m \u001b[1m12s\u001b[0m 90ms/step\n",
            "Confusion Matrix:\n",
            " [[2424    0]\n",
            " [1577    0]]\n",
            "Accuracy: 60.58485507965088\n"
          ]
        }
      ],
      "source": [
        "import numpy as np\n",
        "import pandas as pd\n",
        "from sklearn.model_selection import train_test_split\n",
        "from sklearn.preprocessing import LabelEncoder\n",
        "from sklearn.metrics import confusion_matrix\n",
        "from tensorflow.keras.preprocessing.text import Tokenizer\n",
        "from tensorflow.keras.preprocessing.sequence import pad_sequences\n",
        "from tensorflow.keras.models import Sequential\n",
        "from tensorflow.keras.layers import Embedding, LSTM, Dense\n",
        "from tensorflow.keras.utils import to_categorical\n",
        "\n",
        "# Load your dataset\n",
        "url = r'C:\\Users\\wealt\\Documents\\Cyberbullying Detection with ML\\Cyberbullying_Detector_ML\\dataset.json'\n",
        "X, y = load_data(url)  # Ensure load_data is properly defined for your dataset\n",
        "\n",
        "# Encode labels if necessary (for classification tasks)\n",
        "label_encoder = LabelEncoder()\n",
        "y_encoded = label_encoder.fit_transform(y)\n",
        "\n",
        "# Train-test split\n",
        "X_train, X_test, y_train, y_test = train_test_split(X, y_encoded, test_size=0.2, random_state=42)\n",
        "\n",
        "# Tokenize and pad sequences\n",
        "tokenizer = Tokenizer(num_words=5000)  # Use the top 5000 most frequent words\n",
        "tokenizer.fit_on_texts(X_train)\n",
        "\n",
        "X_train_seq = tokenizer.texts_to_sequences(X_train)\n",
        "X_test_seq = tokenizer.texts_to_sequences(X_test)\n",
        "\n",
        "max_len = 100  # Define the max length of sequences (adjust based on data)\n",
        "X_train_pad = pad_sequences(X_train_seq, maxlen=max_len, padding='post')\n",
        "X_test_pad = pad_sequences(X_test_seq, maxlen=max_len, padding='post')\n",
        "\n",
        "# One-hot encode the labels for classification (if needed)\n",
        "num_classes = len(np.unique(y_encoded))\n",
        "y_train_cat = to_categorical(y_train, num_classes=num_classes)\n",
        "y_test_cat = to_categorical(y_test, num_classes=num_classes)\n",
        "\n",
        "# Build LSTM model\n",
        "model = Sequential()\n",
        "model.add(Embedding(input_dim=5000, output_dim=100, input_length=max_len))\n",
        "model.add(LSTM(128, return_sequences=False))\n",
        "model.add(Dense(128, activation='relu'))\n",
        "model.add(Dense(num_classes, activation='softmax'))  # Use softmax for multi-class classification\n",
        "\n",
        "# Compile the model\n",
        "model.compile(optimizer='adam', loss='categorical_crossentropy', metrics=['accuracy'])\n",
        "\n",
        "# Train the model\n",
        "model.fit(X_train_pad, y_train_cat, epochs=5, batch_size=64, validation_split=0.2)\n",
        "\n",
        "# Evaluate the model\n",
        "loss, accuracy = model.evaluate(X_test_pad, y_test_cat)\n",
        "y_pred = model.predict(X_test_pad)\n",
        "y_pred_classes = np.argmax(y_pred, axis=1)\n",
        "\n",
        "# Confusion matrix\n",
        "confusion_mat = confusion_matrix(y_test, y_pred_classes)\n",
        "print(\"Confusion Matrix:\\n\", confusion_mat)\n",
        "print(\"Accuracy:\", accuracy * 100)\n"
      ]
    },
    {
      "cell_type": "code",
      "execution_count": 106,
      "metadata": {
        "id": "rM9GGHYF_xPn"
      },
      "outputs": [],
      "source": [
        "url = r'C:\\Users\\wealt\\Documents\\Cyberbullying Detection with ML\\Cyberbullying_Detector_ML\\dataset.json'\n",
        "X, y = load_data(url)\n",
        "X_train, X_test, y_train, y_test = train_test_split(X, y)"
      ]
    },
    {
      "cell_type": "code",
      "execution_count": 107,
      "metadata": {
        "colab": {
          "base_uri": "https://localhost:8080/"
        },
        "id": "gvbgtnlVGxNc",
        "outputId": "bcc4c760-0945-48df-df2f-3d3f3112885b"
      },
      "outputs": [
        {
          "data": {
            "text/plain": [
              "array(['it was just a joke man..i wasnt taking the piss out of anything.',\n",
              "       ' What do you do when you have alot on your mind?',\n",
              "       ' y0 v@q!N@ sm3lL lykK c0tT@q3 (h33s3', ...,\n",
              "       'that sucks.  I heard about their closing a few months ago.  They were a great group of people.',\n",
              "       \"Hey DM me your addy...you get the can even if you don't get the job  'cause I HATE coffee!\",\n",
              "       'Agreed.... i mean honestly  Off The Wall  and Thriller.. nobody is fucking with those...'],\n",
              "      dtype=object)"
            ]
          },
          "execution_count": 107,
          "metadata": {},
          "output_type": "execute_result"
        }
      ],
      "source": [
        "X_train"
      ]
    },
    {
      "cell_type": "markdown",
      "metadata": {
        "id": "VHZ9ZYyIH6bg"
      },
      "source": [
        "**GloVe**"
      ]
    },
    {
      "cell_type": "code",
      "execution_count": 110,
      "metadata": {
        "colab": {
          "base_uri": "https://localhost:8080/"
        },
        "id": "42BegAD1HZs2",
        "outputId": "3bfc8397-9f5a-4427-a061-b42de3279258"
      },
      "outputs": [
        {
          "name": "stdout",
          "output_type": "stream",
          "text": [
            "[10775  6204  5883 ...  8821 11985  4371]\n"
          ]
        }
      ],
      "source": [
        "\n",
        "# Converting string labels into numbers.\n",
        "X_encoded=le.fit_transform(X_train)\n",
        "print(X_encoded)"
      ]
    },
    {
      "cell_type": "code",
      "execution_count": 111,
      "metadata": {
        "colab": {
          "base_uri": "https://localhost:8080/"
        },
        "id": "Dj0nSrqxIeQU",
        "outputId": "e99cb771-0304-44d8-b991-00fb483e3c9e"
      },
      "outputs": [
        {
          "data": {
            "text/plain": [
              "(16000,)"
            ]
          },
          "execution_count": 111,
          "metadata": {},
          "output_type": "execute_result"
        }
      ],
      "source": [
        "X_encoded.shape"
      ]
    },
    {
      "cell_type": "code",
      "execution_count": 112,
      "metadata": {
        "colab": {
          "base_uri": "https://localhost:8080/"
        },
        "id": "3RFjn-PdH34u",
        "outputId": "fb5e5f97-b773-42b7-8a2f-a53944d5d5c1"
      },
      "outputs": [
        {
          "data": {
            "text/plain": [
              "array([1, 0, 1, ..., 1, 1, 0])"
            ]
          },
          "execution_count": 112,
          "metadata": {},
          "output_type": "execute_result"
        }
      ],
      "source": [
        "y_train"
      ]
    },
    {
      "cell_type": "code",
      "execution_count": 113,
      "metadata": {
        "colab": {
          "base_uri": "https://localhost:8080/"
        },
        "id": "dTKqML5VJNcP",
        "outputId": "e97dda1c-1890-487b-9233-56591846c64f"
      },
      "outputs": [
        {
          "data": {
            "text/plain": [
              "(16000,)"
            ]
          },
          "execution_count": 113,
          "metadata": {},
          "output_type": "execute_result"
        }
      ],
      "source": [
        "y_train.shape"
      ]
    },
    {
      "cell_type": "code",
      "execution_count": 114,
      "metadata": {
        "colab": {
          "base_uri": "https://localhost:8080/"
        },
        "id": "Vt-AXMg7IBMt",
        "outputId": "0e97456d-58d9-49b9-ead9-01113cc1eebe"
      },
      "outputs": [
        {
          "name": "stdout",
          "output_type": "stream",
          "text": [
            "[2801 2793 2133 ... 2027  251 2555]\n"
          ]
        }
      ],
      "source": [
        "Xt_encoded = le.fit_transform(X_test)\n",
        "print(Xt_encoded)"
      ]
    },
    {
      "cell_type": "code",
      "execution_count": 115,
      "metadata": {
        "colab": {
          "base_uri": "https://localhost:8080/"
        },
        "id": "TBe9VEZ9HnPy",
        "outputId": "4a792b0a-2975-4867-e150-fc6b61fa2ffd"
      },
      "outputs": [
        {
          "data": {
            "text/plain": [
              "array([0, 1, 0, ..., 1, 0, 1])"
            ]
          },
          "execution_count": 115,
          "metadata": {},
          "output_type": "execute_result"
        }
      ],
      "source": [
        "y_test"
      ]
    },
    {
      "cell_type": "code",
      "execution_count": 116,
      "metadata": {
        "colab": {
          "base_uri": "https://localhost:8080/"
        },
        "id": "iSTTPD4CHjbg",
        "outputId": "4fef7d89-8135-4e23-d15f-e67e47544d86"
      },
      "outputs": [
        {
          "name": "stdout",
          "output_type": "stream",
          "text": [
            "Labels: [0]\n",
            "Confusion Matrix:\n",
            " [[2424]]\n",
            "Accuracy: 0.6058485378655336\n",
            "Score: 60.58485378655336\n"
          ]
        },
        {
          "name": "stderr",
          "output_type": "stream",
          "text": [
            "c:\\Users\\wealt\\AppData\\Local\\Programs\\Python\\Python312\\Lib\\site-packages\\sklearn\\metrics\\_classification.py:409: UserWarning: A single label was found in 'y_true' and 'y_pred'. For the confusion matrix to have the correct shape, use the 'labels' parameter to pass all known labels.\n",
            "  warnings.warn(\n"
          ]
        }
      ],
      "source": [
        "from sklearn.naive_bayes import GaussianNB\n",
        "\n",
        "#Create a Gaussian Classifier\n",
        "model = GaussianNB()\n",
        "X_encoded= X_encoded.reshape(-1, 1)\n",
        "#y_train= y_train.reshape(-1, 1)\n",
        "Xt_encoded= Xt_encoded.reshape(-1, 1)\n",
        "#y_test = y_test.reshape(-1, 1)\n",
        "# Train the model using the training sets\n",
        "model.fit(X_encoded,y_train)\n",
        "y_pred = model.predict(Xt_encoded)\n",
        "\n",
        "labels = np.unique(y_pred)\n",
        "confusion_mat = confusion_matrix(y_test, y_pred, labels=labels)\n",
        "accuracy = (y_pred == y_test).mean()\n",
        "\n",
        "print(\"Labels:\", labels)\n",
        "print(\"Confusion Matrix:\\n\", confusion_mat)\n",
        "print(\"Accuracy:\", accuracy)\n",
        "print(\"Score:\",accuracy*100)"
      ]
    },
    {
      "cell_type": "code",
      "execution_count": 117,
      "metadata": {
        "colab": {
          "base_uri": "https://localhost:8080/"
        },
        "id": "zIbcKHJxHTCz",
        "outputId": "b476bf4c-b8ed-47fd-9a4e-44007053fca7"
      },
      "outputs": [
        {
          "ename": "FileNotFoundError",
          "evalue": "File /content/drive/MyDrive/dataset.json does not exist",
          "output_type": "error",
          "traceback": [
            "\u001b[1;31m---------------------------------------------------------------------------\u001b[0m",
            "\u001b[1;31mFileNotFoundError\u001b[0m                         Traceback (most recent call last)",
            "Cell \u001b[1;32mIn[117], line 70\u001b[0m\n\u001b[0;32m     67\u001b[0m       \u001b[38;5;28mprint\u001b[39m(\u001b[38;5;124m\"\u001b[39m\u001b[38;5;124mThe comment that you had done now correlates to Bullying.Stop doing this!\u001b[39m\u001b[38;5;124m\"\u001b[39m)\n\u001b[0;32m     68\u001b[0m     display_results(y_test, y_pred)\n\u001b[1;32m---> 70\u001b[0m \u001b[43mmain\u001b[49m\u001b[43m(\u001b[49m\u001b[43m)\u001b[49m\n",
            "Cell \u001b[1;32mIn[117], line 35\u001b[0m, in \u001b[0;36mmain\u001b[1;34m()\u001b[0m\n\u001b[0;32m     33\u001b[0m \u001b[38;5;28;01mdef\u001b[39;00m \u001b[38;5;21mmain\u001b[39m():\n\u001b[0;32m     34\u001b[0m     url \u001b[38;5;241m=\u001b[39m \u001b[38;5;124m'\u001b[39m\u001b[38;5;124m/content/drive/MyDrive/dataset.json\u001b[39m\u001b[38;5;124m'\u001b[39m\n\u001b[1;32m---> 35\u001b[0m     X, y \u001b[38;5;241m=\u001b[39m \u001b[43mload_data\u001b[49m\u001b[43m(\u001b[49m\u001b[43murl\u001b[49m\u001b[43m)\u001b[49m\n\u001b[0;32m     36\u001b[0m     X_train, X_test, y_train, y_test \u001b[38;5;241m=\u001b[39m train_test_split(X, y)\n\u001b[0;32m     38\u001b[0m     \u001b[38;5;66;03m#initializing\u001b[39;00m\n",
            "Cell \u001b[1;32mIn[117], line 2\u001b[0m, in \u001b[0;36mload_data\u001b[1;34m(path)\u001b[0m\n\u001b[0;32m      1\u001b[0m \u001b[38;5;28;01mdef\u001b[39;00m \u001b[38;5;21mload_data\u001b[39m(path):\n\u001b[1;32m----> 2\u001b[0m     df \u001b[38;5;241m=\u001b[39m \u001b[43mpd\u001b[49m\u001b[38;5;241;43m.\u001b[39;49m\u001b[43mread_json\u001b[49m\u001b[43m(\u001b[49m\u001b[43mpath\u001b[49m\u001b[43m,\u001b[49m\u001b[43m \u001b[49m\u001b[43mlines\u001b[49m\u001b[38;5;241;43m=\u001b[39;49m\u001b[43m \u001b[49m\u001b[38;5;28;43;01mTrue\u001b[39;49;00m\u001b[43m)\u001b[49m\n\u001b[0;32m      4\u001b[0m     df[\u001b[38;5;124m\"\u001b[39m\u001b[38;5;124mlabel\u001b[39m\u001b[38;5;124m\"\u001b[39m] \u001b[38;5;241m=\u001b[39m df\u001b[38;5;241m.\u001b[39mannotation\u001b[38;5;241m.\u001b[39mapply(\u001b[38;5;28;01mlambda\u001b[39;00m x: x\u001b[38;5;241m.\u001b[39mget(\u001b[38;5;124m'\u001b[39m\u001b[38;5;124mlabel\u001b[39m\u001b[38;5;124m'\u001b[39m))\n\u001b[0;32m      5\u001b[0m     df[\u001b[38;5;124m\"\u001b[39m\u001b[38;5;124mlabel\u001b[39m\u001b[38;5;124m\"\u001b[39m] \u001b[38;5;241m=\u001b[39m df\u001b[38;5;241m.\u001b[39mlabel\u001b[38;5;241m.\u001b[39mapply(\u001b[38;5;28;01mlambda\u001b[39;00m x: x[\u001b[38;5;241m0\u001b[39m])\n",
            "File \u001b[1;32mc:\\Users\\wealt\\AppData\\Local\\Programs\\Python\\Python312\\Lib\\site-packages\\pandas\\io\\json\\_json.py:791\u001b[0m, in \u001b[0;36mread_json\u001b[1;34m(path_or_buf, orient, typ, dtype, convert_axes, convert_dates, keep_default_dates, precise_float, date_unit, encoding, encoding_errors, lines, chunksize, compression, nrows, storage_options, dtype_backend, engine)\u001b[0m\n\u001b[0;32m    788\u001b[0m \u001b[38;5;28;01mif\u001b[39;00m convert_axes \u001b[38;5;129;01mis\u001b[39;00m \u001b[38;5;28;01mNone\u001b[39;00m \u001b[38;5;129;01mand\u001b[39;00m orient \u001b[38;5;241m!=\u001b[39m \u001b[38;5;124m\"\u001b[39m\u001b[38;5;124mtable\u001b[39m\u001b[38;5;124m\"\u001b[39m:\n\u001b[0;32m    789\u001b[0m     convert_axes \u001b[38;5;241m=\u001b[39m \u001b[38;5;28;01mTrue\u001b[39;00m\n\u001b[1;32m--> 791\u001b[0m json_reader \u001b[38;5;241m=\u001b[39m \u001b[43mJsonReader\u001b[49m\u001b[43m(\u001b[49m\n\u001b[0;32m    792\u001b[0m \u001b[43m    \u001b[49m\u001b[43mpath_or_buf\u001b[49m\u001b[43m,\u001b[49m\n\u001b[0;32m    793\u001b[0m \u001b[43m    \u001b[49m\u001b[43morient\u001b[49m\u001b[38;5;241;43m=\u001b[39;49m\u001b[43morient\u001b[49m\u001b[43m,\u001b[49m\n\u001b[0;32m    794\u001b[0m \u001b[43m    \u001b[49m\u001b[43mtyp\u001b[49m\u001b[38;5;241;43m=\u001b[39;49m\u001b[43mtyp\u001b[49m\u001b[43m,\u001b[49m\n\u001b[0;32m    795\u001b[0m \u001b[43m    \u001b[49m\u001b[43mdtype\u001b[49m\u001b[38;5;241;43m=\u001b[39;49m\u001b[43mdtype\u001b[49m\u001b[43m,\u001b[49m\n\u001b[0;32m    796\u001b[0m \u001b[43m    \u001b[49m\u001b[43mconvert_axes\u001b[49m\u001b[38;5;241;43m=\u001b[39;49m\u001b[43mconvert_axes\u001b[49m\u001b[43m,\u001b[49m\n\u001b[0;32m    797\u001b[0m \u001b[43m    \u001b[49m\u001b[43mconvert_dates\u001b[49m\u001b[38;5;241;43m=\u001b[39;49m\u001b[43mconvert_dates\u001b[49m\u001b[43m,\u001b[49m\n\u001b[0;32m    798\u001b[0m \u001b[43m    \u001b[49m\u001b[43mkeep_default_dates\u001b[49m\u001b[38;5;241;43m=\u001b[39;49m\u001b[43mkeep_default_dates\u001b[49m\u001b[43m,\u001b[49m\n\u001b[0;32m    799\u001b[0m \u001b[43m    \u001b[49m\u001b[43mprecise_float\u001b[49m\u001b[38;5;241;43m=\u001b[39;49m\u001b[43mprecise_float\u001b[49m\u001b[43m,\u001b[49m\n\u001b[0;32m    800\u001b[0m \u001b[43m    \u001b[49m\u001b[43mdate_unit\u001b[49m\u001b[38;5;241;43m=\u001b[39;49m\u001b[43mdate_unit\u001b[49m\u001b[43m,\u001b[49m\n\u001b[0;32m    801\u001b[0m \u001b[43m    \u001b[49m\u001b[43mencoding\u001b[49m\u001b[38;5;241;43m=\u001b[39;49m\u001b[43mencoding\u001b[49m\u001b[43m,\u001b[49m\n\u001b[0;32m    802\u001b[0m \u001b[43m    \u001b[49m\u001b[43mlines\u001b[49m\u001b[38;5;241;43m=\u001b[39;49m\u001b[43mlines\u001b[49m\u001b[43m,\u001b[49m\n\u001b[0;32m    803\u001b[0m \u001b[43m    \u001b[49m\u001b[43mchunksize\u001b[49m\u001b[38;5;241;43m=\u001b[39;49m\u001b[43mchunksize\u001b[49m\u001b[43m,\u001b[49m\n\u001b[0;32m    804\u001b[0m \u001b[43m    \u001b[49m\u001b[43mcompression\u001b[49m\u001b[38;5;241;43m=\u001b[39;49m\u001b[43mcompression\u001b[49m\u001b[43m,\u001b[49m\n\u001b[0;32m    805\u001b[0m \u001b[43m    \u001b[49m\u001b[43mnrows\u001b[49m\u001b[38;5;241;43m=\u001b[39;49m\u001b[43mnrows\u001b[49m\u001b[43m,\u001b[49m\n\u001b[0;32m    806\u001b[0m \u001b[43m    \u001b[49m\u001b[43mstorage_options\u001b[49m\u001b[38;5;241;43m=\u001b[39;49m\u001b[43mstorage_options\u001b[49m\u001b[43m,\u001b[49m\n\u001b[0;32m    807\u001b[0m \u001b[43m    \u001b[49m\u001b[43mencoding_errors\u001b[49m\u001b[38;5;241;43m=\u001b[39;49m\u001b[43mencoding_errors\u001b[49m\u001b[43m,\u001b[49m\n\u001b[0;32m    808\u001b[0m \u001b[43m    \u001b[49m\u001b[43mdtype_backend\u001b[49m\u001b[38;5;241;43m=\u001b[39;49m\u001b[43mdtype_backend\u001b[49m\u001b[43m,\u001b[49m\n\u001b[0;32m    809\u001b[0m \u001b[43m    \u001b[49m\u001b[43mengine\u001b[49m\u001b[38;5;241;43m=\u001b[39;49m\u001b[43mengine\u001b[49m\u001b[43m,\u001b[49m\n\u001b[0;32m    810\u001b[0m \u001b[43m\u001b[49m\u001b[43m)\u001b[49m\n\u001b[0;32m    812\u001b[0m \u001b[38;5;28;01mif\u001b[39;00m chunksize:\n\u001b[0;32m    813\u001b[0m     \u001b[38;5;28;01mreturn\u001b[39;00m json_reader\n",
            "File \u001b[1;32mc:\\Users\\wealt\\AppData\\Local\\Programs\\Python\\Python312\\Lib\\site-packages\\pandas\\io\\json\\_json.py:904\u001b[0m, in \u001b[0;36mJsonReader.__init__\u001b[1;34m(self, filepath_or_buffer, orient, typ, dtype, convert_axes, convert_dates, keep_default_dates, precise_float, date_unit, encoding, lines, chunksize, compression, nrows, storage_options, encoding_errors, dtype_backend, engine)\u001b[0m\n\u001b[0;32m    902\u001b[0m     \u001b[38;5;28mself\u001b[39m\u001b[38;5;241m.\u001b[39mdata \u001b[38;5;241m=\u001b[39m filepath_or_buffer\n\u001b[0;32m    903\u001b[0m \u001b[38;5;28;01melif\u001b[39;00m \u001b[38;5;28mself\u001b[39m\u001b[38;5;241m.\u001b[39mengine \u001b[38;5;241m==\u001b[39m \u001b[38;5;124m\"\u001b[39m\u001b[38;5;124mujson\u001b[39m\u001b[38;5;124m\"\u001b[39m:\n\u001b[1;32m--> 904\u001b[0m     data \u001b[38;5;241m=\u001b[39m \u001b[38;5;28;43mself\u001b[39;49m\u001b[38;5;241;43m.\u001b[39;49m\u001b[43m_get_data_from_filepath\u001b[49m\u001b[43m(\u001b[49m\u001b[43mfilepath_or_buffer\u001b[49m\u001b[43m)\u001b[49m\n\u001b[0;32m    905\u001b[0m     \u001b[38;5;28mself\u001b[39m\u001b[38;5;241m.\u001b[39mdata \u001b[38;5;241m=\u001b[39m \u001b[38;5;28mself\u001b[39m\u001b[38;5;241m.\u001b[39m_preprocess_data(data)\n",
            "File \u001b[1;32mc:\\Users\\wealt\\AppData\\Local\\Programs\\Python\\Python312\\Lib\\site-packages\\pandas\\io\\json\\_json.py:960\u001b[0m, in \u001b[0;36mJsonReader._get_data_from_filepath\u001b[1;34m(self, filepath_or_buffer)\u001b[0m\n\u001b[0;32m    952\u001b[0m     filepath_or_buffer \u001b[38;5;241m=\u001b[39m \u001b[38;5;28mself\u001b[39m\u001b[38;5;241m.\u001b[39mhandles\u001b[38;5;241m.\u001b[39mhandle\n\u001b[0;32m    953\u001b[0m \u001b[38;5;28;01melif\u001b[39;00m (\n\u001b[0;32m    954\u001b[0m     \u001b[38;5;28misinstance\u001b[39m(filepath_or_buffer, \u001b[38;5;28mstr\u001b[39m)\n\u001b[0;32m    955\u001b[0m     \u001b[38;5;129;01mand\u001b[39;00m filepath_or_buffer\u001b[38;5;241m.\u001b[39mlower()\u001b[38;5;241m.\u001b[39mendswith(\n\u001b[1;32m   (...)\u001b[0m\n\u001b[0;32m    958\u001b[0m     \u001b[38;5;129;01mand\u001b[39;00m \u001b[38;5;129;01mnot\u001b[39;00m file_exists(filepath_or_buffer)\n\u001b[0;32m    959\u001b[0m ):\n\u001b[1;32m--> 960\u001b[0m     \u001b[38;5;28;01mraise\u001b[39;00m \u001b[38;5;167;01mFileNotFoundError\u001b[39;00m(\u001b[38;5;124mf\u001b[39m\u001b[38;5;124m\"\u001b[39m\u001b[38;5;124mFile \u001b[39m\u001b[38;5;132;01m{\u001b[39;00mfilepath_or_buffer\u001b[38;5;132;01m}\u001b[39;00m\u001b[38;5;124m does not exist\u001b[39m\u001b[38;5;124m\"\u001b[39m)\n\u001b[0;32m    961\u001b[0m \u001b[38;5;28;01melse\u001b[39;00m:\n\u001b[0;32m    962\u001b[0m     warnings\u001b[38;5;241m.\u001b[39mwarn(\n\u001b[0;32m    963\u001b[0m         \u001b[38;5;124m\"\u001b[39m\u001b[38;5;124mPassing literal json to \u001b[39m\u001b[38;5;124m'\u001b[39m\u001b[38;5;124mread_json\u001b[39m\u001b[38;5;124m'\u001b[39m\u001b[38;5;124m is deprecated and \u001b[39m\u001b[38;5;124m\"\u001b[39m\n\u001b[0;32m    964\u001b[0m         \u001b[38;5;124m\"\u001b[39m\u001b[38;5;124mwill be removed in a future version. To read from a \u001b[39m\u001b[38;5;124m\"\u001b[39m\n\u001b[1;32m   (...)\u001b[0m\n\u001b[0;32m    967\u001b[0m         stacklevel\u001b[38;5;241m=\u001b[39mfind_stack_level(),\n\u001b[0;32m    968\u001b[0m     )\n",
            "\u001b[1;31mFileNotFoundError\u001b[0m: File /content/drive/MyDrive/dataset.json does not exist"
          ]
        }
      ],
      "source": [
        "def load_data(path):\n",
        "    df = pd.read_json(path, lines= True)\n",
        "    \n",
        "    df[\"label\"] = df.annotation.apply(lambda x: x.get('label'))\n",
        "    df[\"label\"] = df.label.apply(lambda x: x[0])\n",
        "    \n",
        "    X = df.content.values\n",
        "    y = df.label.values\n",
        "    \n",
        "    return X, y\n",
        "\n",
        "def tokenize(text):\n",
        "\n",
        "    tokens = word_tokenize(text)\n",
        "    lemmatizer = WordNetLemmatizer()\n",
        "\n",
        "    clean_tokens = []\n",
        "    for tok in tokens:\n",
        "        clean_tok = lemmatizer.lemmatize(tok).lower().strip()\n",
        "        clean_tokens.append(clean_tok)\n",
        "    #print(clean_tokens)\n",
        "    return clean_tokens\n",
        "\n",
        "def display_results(y_test, y_pred):\n",
        "    labels = np.unique(y_pred)\n",
        "    confusion_mat = confusion_matrix(y_test, y_pred, labels=labels)\n",
        "    accuracy = (y_pred == y_test).mean()\n",
        "\n",
        "    print(\"Labels:\", labels)\n",
        "    print(\"Confusion Matrix:\\n\", confusion_mat)\n",
        "    print(\"Accuracy:\", accuracy)\n",
        "    \n",
        "def main():\n",
        "    url = r'C:\\Users\\wealt\\Documents\\Cyberbullying Detection with ML\\Cyberbullying_Detector_ML\\dataset.json'\n",
        "    X, y = load_data(url)\n",
        "    X_train, X_test, y_train, y_test = train_test_split(X, y)\n",
        "\n",
        "    #initializing\n",
        "    vect = CountVectorizer(tokenizer=tokenize)\n",
        "\n",
        "    tfidf = TfidfTransformer()\n",
        "    clf = RandomForestClassifier()\n",
        "\n",
        "    # train classifier\n",
        "    X_train_counts = vect.fit_transform(X_train)\n",
        "    X_train_tfidf = tfidf.fit_transform(X_train_counts)\n",
        "    clf.fit(X_train_tfidf, y_train)\n",
        "\n",
        "    # predict on test data\n",
        "    X_test_counts = vect.transform(X_test)\n",
        "    X_test_tfidf = tfidf.transform(X_test_counts)\n",
        "    y_pred = clf.predict(X_test_tfidf)\n",
        "    \n",
        "    # predict on test data\n",
        "    X_test_counts = vect.transform([\"whoa stop you stupid bitch sjw\"])\n",
        "    comment=\"whoa stop you stupid bitch sjw\"\n",
        "    print(\"Comment given: \"+comment)\n",
        "    print(\"Applying CountVectorizer on the given comment:\")\n",
        "    print(X_test_counts)\n",
        "    X_test_tfidf = tfidf.transform(X_test_counts)\n",
        "    print(\"Applying Tfidf after CountVectorizer:\")\n",
        "    print(X_test_tfidf)\n",
        "    print(\"Results after applying RandomForest Algorithm\")\n",
        "    print(\"Given text: 'whoa stop you stupid bitch sjw' \")\n",
        "    print(\"Prediction: {}\\n\".format(clf.predict(X_test_tfidf)))\n",
        "    if(clf.predict(X_test_tfidf)=='1'):\n",
        "      print(\"The comment that you had done now correlates to Bullying.Stop doing this!\")\n",
        "    display_results(y_test, y_pred)\n",
        "\n",
        "main()\n"
      ]
    },
    {
      "cell_type": "code",
      "execution_count": null,
      "metadata": {
        "id": "z3XPZeNV-5J4"
      },
      "outputs": [],
      "source": []
    },
    {
      "cell_type": "code",
      "execution_count": null,
      "metadata": {
        "colab": {
          "base_uri": "https://localhost:8080/"
        },
        "id": "2Dbx5sVBe9Ud",
        "outputId": "2b22eaec-595a-4849-b1bd-31248cd62705"
      },
      "outputs": [
        {
          "data": {
            "text/plain": [
              "TfidfTransformer(norm='l2', smooth_idf=True, sublinear_tf=False, use_idf=True)"
            ]
          },
          "execution_count": 238,
          "metadata": {
            "tags": []
          },
          "output_type": "execute_result"
        }
      ],
      "source": [
        "tfidf"
      ]
    },
    {
      "cell_type": "code",
      "execution_count": null,
      "metadata": {
        "colab": {
          "base_uri": "https://localhost:8080/"
        },
        "id": "-HGJNtX9fB84",
        "outputId": "a7de6c10-aa73-4511-da07-545dd689f42b"
      },
      "outputs": [
        {
          "data": {
            "text/plain": [
              "<5001x15077 sparse matrix of type '<class 'numpy.float64'>'\n",
              "\twith 67674 stored elements in Compressed Sparse Row format>"
            ]
          },
          "execution_count": 239,
          "metadata": {
            "tags": []
          },
          "output_type": "execute_result"
        }
      ],
      "source": [
        "X_test_tfidf"
      ]
    },
    {
      "cell_type": "code",
      "execution_count": null,
      "metadata": {
        "colab": {
          "base_uri": "https://localhost:8080/"
        },
        "id": "kla2H-Zucluj",
        "outputId": "4fc66a40-d13e-4c3b-9c3c-efd5db4ddd34"
      },
      "outputs": [
        {
          "name": "stdout",
          "output_type": "stream",
          "text": [
            "{'fuck': 5678, 'yo': 14930, 'couch': 3620, '@': 1009, 'dncr1804': 4381, 'i': 6945, 'do': 4385, \"n't\": 9191, 'even': 4969, 'know': 7818, 'what': 14489, 'did': 4226, 'or': 9806, 'said': 11505, 'that': 13236, 'wa': 14275, '``': 1028, 'emo-esque': 4821, \"''\": 6, 'ech': 4699, '!': 0, 'lol': 8274, '...': 262, '.if': 349, 'it': 7353, 'me': 8670, 'would': 14736, 'wash': 14349, 'the': 13243, 'sweat': 12928, 'at': 1714, 'least': 8037, 'twice': 13769, 'then': 13261, 'again': 1209, 'hate': 6442, 'bug': 2672, 'ha': 6265, 'loser': 8329, ':': 989, ')': 91, 'hive': 6686, '.': 260, 'get': 5897, 'well': 14445, 'soon': 12342, 'schmap': 11624, 'published': 10736, '3': 772, 'photo': 10231, 'of': 9638, 'mine': 8860, 'paris': 10004, '(': 90, 'tour': 13571, 'de': 3993, 'france': 5587, 'gay': 5822, 'pride': 10595, 'and': 1424, 'le': 8021, 'halle': 6372, 'all': 1317, 'are': 1590, 'on': 9734, 'flickr.com': 5424, 'idnt': 7001, 'kno': 7809, 'if': 7008, 'she': 11863, 'iz': 7385, 'hey': 6601, 'betch': 2202, 'wan': 14315, 'na': 9200, 'not': 9514, 'be': 2066, 'a': 1029, 'lil': 8160, 'slut': 12172, '?': 1008, '&': 4, 'amp': 1409, ';': 996, 'please': 10349, 'oh': 9665, 'lordy': 8327, 'stop': 12676, 'cuttin': 3854, 'eye': 5103, 'r': 10851, 'cu': 3790, 'want': 14323, 'dead': 3994, 'yuck': 14998, 'is': 7328, 'going': 6010, 'to': 13460, 'take': 13019, 'long': 8297, 'as': 1645, 'time': 13423, 'yeah': 14869, 'swing': 12949, 'by': 2767, 'sometime': 12322, 'after': 1204, '17th': 661, \"'ll\": 45, 'you': 14948, 'rocco': 11350, \"'s\": 71, 'think': 13300, 'about': 1067, 'sometimes': 12323, 'your': 14968, 'daydreaming': 3977, 'but': 2738, 'so': 12272, 'nothing..haha': 9522, 'have': 6466, 'ever': 4975, 'blamed': 2338, 'someone': 12316, 'else': 4784, 'passing': 10031, 'gas': 5805, 'checked': 3089, 'out': 9857, 'link': 8178, 'holy': 6749, 'fairy': 5169, 'had': 6280, 'seen': 11735, 'vid': 14156, 'million': 8847, 'cuz': 3856, 'he': 6488, 'damn': 3911, 'close': 3303, 'came': 2835, 'up': 13992, 'with': 14649, 'angry': 1445, 'guy': 6238, 'never': 9341, 'took': 13518, 'for': 5512, 'sore': 12354, 'player': 10340, 'getting': 5902, 'kicked': 7731, 'in': 7115, 'goolies': 6042, 'other': 9842, 'than': 13214, 'slowskis': 12165, 'find': 5347, 'their': 13254, 'ad': 1140, 'annoying': 1471, '-': 216, 'most': 9030, 'live': 8215, 'dvrs': 4638, 'may': 8640, 'lot': 8337, 'right': 11311, 'now': 9535, 'die': 4235, 'd': 3870, 'nothing': 9521, 'say': 11586, 'love': 8357, 'him': 6650, 'more': 9011, 'wooly': 14694, 'sweater': 12929, 'gift': 5921, 'certificate': 3007, 'beer': 2123, 's': 11484, 'one': 9744, 'way': 14379, 'people': 10125, 'commonly': 3434, 'misspell': 8896, 'name': 9224, 'how': 6855, 'many': 8547, 'chair': 3019, 'dining': 4268, 'room': 11396, 'table': 12998, 'mcgaffigan': 8660, 'go': 5995, 'nao': 9230, 'just': 7625, 'when': 14506, 'brilliant': 2593, 'idea': 6983, 'record': 11032, 'them': 13256, 'good': 6025, 'off': 9641, 'dude': 4588, 'waste': 14355, 'my': 9166, 'imovie': 7089, '2008.': 697, 'downloaded': 4476, 'older': 9717, 'version': 14137, 'who': 14538, 'small': 12179, 'minded': 8855, 'snobby': 12250, 'texas': 13195, 'made': 8467, 'mad': 8463, 'gdnss': 5838, 'jus': 7623, 'saw': 11585, 'vlog': 14204, 'wow': 14743, 'met': 8775, 'fool': 5499, 'yr': 14992, 'ago': 1223, 'mj': 8917, 'restaurant': 11219, 'dc': 3986, 'im': 7064, 'aware': 1811, 'feel': 5274, 'weird': 14434, 'being': 2145, 'around': 1615, 'hope': 6803, 'can': 2846, 'over': 9877, 'continuously': 3551, '76ers': 936, 'need': 9287, 'new': 9345, 'gm': 5985, 'elgin': 4774, 'baylor': 2050, 'sunday': 12847, 'super': 12859, 'bummed': 2693, 'thx': 13392, 'win': 14614, 'xp': 14827, 'crash': 3688, 'anymore': 1515, 'necessary': 9281, 'why': 14572, 'been': 2119, 'conservative': 3516, \"'m\": 48, 'gon': 6019, 'try': 13703, 'chrome': 3201, 'like': 8149, 'alice': 1308, 'wonderland': 14683, 'nope': 9491, 'little': 8213, 'thai': 13212, 'some': 12310, 'spanish': 12407, 'haha': 6289, 'figure.im': 5326, 'seriously': 11785, 'whitest': 14532, 'korean': 7849, 'chick': 3134, \"'d\": 27, 'meet': 8711, ']': 1011, 'local': 8255, 'whore': 14555, 'house': 6849, 'trust': 13697, 'part': 10014, 'help': 6562, 'adam_callender': 1142, 'his': 6671, 'biggest': 2256, 'contest': 3543, 'last': 7964, 'received': 11009, 'flower': 5445, 'no': 9426, 'clue': 3318, 'homie': 6765, 'awwww': 1844, 'suck': 12802, 'happens': 6409, 'strong': 12729, 'naah': 9204, 'fail': 5157, 'whale': 14482, 'here': 6577, 'twitter': 13792, 'merciful': 8753, 'rest': 11216, 'u': 13830, '#': 1, 'mcl2': 8663, 'look': 8304, 'sitting': 12072, 'home': 6751, 'twittering': 13802, 'friday': 5631, 'night': 9399, 'should': 11949, 'better': 2214, 'anyone': 1519, 'jackienopants': 7405, 'an': 1415, 'wistfull': 14646, 'will': 14601, 'happen': 6403, 'soon..damn': 12343, 'sick': 11998, 'own': 9907, 'week': 14423, 'counting': 3633, 'enjoyed': 4865, 'reading': 10966, 'article': 1637, 'shame': 11841, 'such': 12798, 'bitch': 2290, 'bos': 2488, 'disagrees': 4292, 'everything': 4988, 'word': 14702, 'bother': 2497, 'too': 13510, 'let': 8088, 'start': 12592, 'our': 9854, 'favorite': 5242, 'jvc': 7636, 'lcd': 8018, 'reference': 11059, 'monitor': 8990, 'awe-fucking-some': 1817, 'great': 6118, 'accurate': 1106, '~': 15070, '$': 2, '4k': 866, 'former': 5546, 'newspaper': 9355, 'man': 8514, 'tell': 13141, 'see': 11723, 'reason': 10991, 'bailout': 1944, 'bailouts': 1945, 'general': 5868, 'ew': 5011, 'twilight': 13771, 'pepe': 10130, 'because': 2101, 'second': 11711, 'first': 5373, 'ok': 9692, 'they': 13282, 'old': 9714, 'quick': 10835, 'though': 13334, 'we': 14393, 'make': 8498, 'every': 4978, 'moment': 8973, 'absolutely': 1078, 'count': 3629, '*can*': 110, '*giggles': 135, 'cuddles*': 3798, 'kid': 7737, 'show': 11964, 'disturbing': 4351, 'could': 3623, 'vacation': 14077, 'next': 9360, 'month': 8998, 'unlimited': 13966, 'budget': 2667, 'where': 14508, \"'re\": 68, 'fucking': 5690, 'soft': 12299, 'this': 13313, 'country': 3637, 'french': 5619, 'put': 10779, 'shit': 11907, 'her': 6573, 'fear': 5258, 'only': 9750, 'corruptness': 3607, 'thanks': 13224, 'bright': 2591, 'dark': 3941, 'supposed': 12879, 'reply': 11169, 'anyway': 1529, 'couple': 3639, 'sure': 12886, 'maybe': 8644, 'understandable': 13921, 'send': 11759, 'two': 13810, 'fat': 5219, 'ketchup': 7711, 'sworn': 12960, 'were': 14457, 'working': 14717, 'another': 1481, 'season': 11700, 'guess': 6200, 'entourage': 4889, 'accuse': 1108, 'jeslous': 7495, 'whuut': 14571, 'youu': 14980, '2to': 768, 'follow': 5475, 'dis': 4286, 'shxt': 11991, 'mermaid': 8760, 'unknowlingly': 13961, 'unintentionally': 13953, 'raised': 10890, 'science': 11635, 'nerd': 9318, 'shall': 11838, '13': 635, 'year': 14878, 'doe': 4398, 'kill': 7747, 'stronger': 12731, 'either': 4754, 'doing': 4410, 'dish': 4317, 'wtf': 14774, 'pas': 10028, 'hug': 6879, 'kiss': 7773, 'sean': 11694, 'penn': 10120, 'movie': 9059, 'wait': 14292, 'creepy': 3727, 'hahaha': 6297, 'big': 2251, 'hahah': 6296, '<': 997, 'yes': 14905, 'walk': 14301, 'raise': 10889, 'money': 8984, 'cancer': 2856, 'patient': 10054, 'volunteer': 14220, 'adopt': 1174, 'highway': 6634, 'got': 6058, 'ta': 12987, 'care': 2890, 'mother': 9034, 'earth': 4671, 'dammit': 3909, 'keep': 7695, 'dirty': 4284, 'hand': 6386, 'fruit': 5665, 'gummy': 6222, 'chew': 3125, 'bout': 2513, 'cut': 3846, 'bus': 2723, 'driver': 4537, 'smug': 12217, 'late': 7970, 'bastard': 2031, 'fun': 5710, 'looking': 8308, \"'ve\": 86, 'truly': 13694, 'happy': 6415, 'directv': 4282, 'however': 6858, 'verizon': 14132, 'dsl': 4572, 'duck': 4581, 'faster': 5216, 'internet': 7259, 'drinking': 4533, 'maverick': 8638, 'done': 4430, 'talked': 13030, 'energy': 4855, 'universal': 13958, 'dance': 3924, 'brown': 2624, 'kidding': 7740, 'forget': 5533, 'prenup': 10548, 'lo-jack': 8248, 'implanted': 7096, 'wife': 14587, 'instead': 7227, 'total': 13554, 'spending': 12450, 'howard': 6856, 'stern': 12636, 'sex': 11811, 'cause': 2954, 'explode': 5081, 'shoot': 11931, 'trying': 13706, 'work': 14709, 'today': 13471, 'ca': 2785, 'play': 10335, 'electronic': 4767, 'catchphrase': 2943, 'fb': 5251, 'something': 12319, 'hi': 6614, 'april': 1578, 'lulz': 8408, 'ok.': 9693, 'explorer': 5084, 'south': 12383, 'america': 1397, 'africa': 1200, 'lmao': 8229, 'middle': 8820, 'bfe': 2224, 'combat': 3399, 'glow': 5980, 'stick': 12644, 'winter': 14634, 'bad': 1912, 'day': 3971, 'yup': 15014, 'prolly': 10668, 'change': 3036, 'major': 8496, 'promise': 10671, 'emo': 4819, 'raccoon': 10860, '}': 15069, 'bed': 2111, 'daily': 3896, 'son': 12331, 'cute': 3847, 'society': 12293, 'use': 14038, 'touchpad': 13564, 'always': 1368, 'usb': 14036, 'mouse': 9052, 'toshiba': 13549, 'family..': 5187, 'four': 5572, 'loan': 8251, 'cock': 3345, 'flavored': 5413, 'seasoning': 11703, 'am': 1375, 'pto': 10729, 'slip': 12152, 'twit': 13781, 'wrong': 14767, 'still': 12651, 'ta-dah': 12988, 'srsly': 12543, 'helllz': 6555, 'mama': 8507, 'goddamn': 6005, 'kj': 7787, '29': 735, 'http': 6870, '//tinyurl.com/6pey6r': 476, 'santyna': 11549, 'talking': 13033, 'u.': 13832, 'game': 5780, 'bear': 2077, 'awful': 1826, 'evil': 4996, 'killing': 7752, 'machine': 8459, 'cowboy': 3655, 'cool': 3572, 'jerry': 7491, 'jones': 7565, 'switch': 12953, 'faves': 5240, 'surrealism': 12901, 'drug': 4553, 'roald': 11338, 'dahl': 3894, 'jeffstaple': 7470, 'status': 12605, 'come': 3406, 'mean': 8679, 'myzou': 9189, 'thing': 13294, '70': 928, 'gawd': 5820, 'oooh': 9765, 'dh': 4192, 'rescue': 11189, 'gahhhhhh': 5767, '.i': 348, 'pipe': 10292, 'through': 13361, 'heating': 6516, 'vent': 14125, 'warm': 14332, 'booooo': 2469, 'loudest': 8348, 'friend': 5634, 'skippy': 12104, 'american': 1398, 'hence': 6568, 'pussy': 10774, 'read': 10963, 'emacs-rails': 4792, 'codebase': 3359, 'emacs': 4791, 'yuh': 15001, 'hun': 6910, 'xox': 14824, 'oooo': 9767, 'ga': 5750, 'finally': 5345, 'inner': 7202, 'everyone': 4984, 'there': 13270, 'much': 9097, 'f': 5112, 'few': 5303, 'really': 10983, 'forward': 5567, 'seeing': 11729, 'reality': 10973, 'warning': 14338, 'rly': 11332, 'special': 12426, 'heart': 6509, 'desire': 4154, 'ghost': 5912, 'exists': 5057, 'lotusphere': 8346, 'rhyme': 11278, 'test': 13188, 'cami': 2838, 'gym': 6252, 'short': 11940, 'ember_myst': 4808, 'spellchaser': 12442, 'staking': 12567, 'claim': 3246, 'etherist': 4954, 'full': 5707, 'crush': 3775, 'married': 8581, 'p': 9918, 'embarrassing': 4805, 'school': 11628, 'website': 14411, 'addicted': 1151, 'having': 6473, 'sense': 11765, 'glad': 5958, 'shifting': 11895, 'geologic': 5885, 'kind': 7757, 'snobbery': 12248, 'hell': 6550, 'deal': 3998, 'drama': 4500, 'queen': 10822, 'coming': 3419, 'woodwork': 14690, 'lately': 7972, 'busy': 2736, 'holiday': 6742, 'ugh': 13847, 'definitely': 4061, 'bitchy': 2301, 'thought': 13338, 'gotten': 6063, 'upset': 14016, 'god': 5999, 'divorced': 4364, '4': 828, 'dating': 3959, 'girl': 5939, '2g': 747, 'hot': 6836, 'hahahaha': 6303, 'jealous': 7461, 'hello': 6556, 'alone': 1342, 'cold': 3372, 'air': 1260, 'cali': 2815, 'totally': 13555, 'unacceptable': 13898, 'playtime': 10345, '20': 689, 'aww': 1839, 'alien': 1310, 'wii': 14592, 'speak': 12421, 'ot': 9839, 'side': 12002, 'dam': 3905, 'info': 7179, 'pussyyy': 10778, 'v': 14066, 'bleeping': 2352, 'employment': 4834, 'agency': 1215, 'f***ed': 5115, 'pay': 10067, '*again*': 100, '24': 716, 'dec.': 4018, 'until': 13987, '2': 680, 'jan.': 7434, 'temping': 13154, 'ii': 7028, 'lovee': 8364, 'yuuu': 15021, 'moree': 9014, 'grievance': 6140, 'aired': 1261, 'during': 4628, 'airing': 1262, 'pin': 10282, 'pryce': 10716, 'waiting': 14295, '..aaahhhh': 265, '..too': 305, 'dat': 3951, 'stabbed': 12553, 'hit': 6679, 'snooze': 12252, 'buttone': 2752, 'morning': 9021, 'whats': 14496, 'candyman': 2864, 'hahha': 6343, 'idk': 6995, 'navi': 9258, 'account': 1099, 'same': 11525, 'issue': 7350, 'eh': 4743, '2009': 699, 'three': 13350, 'apps': 1575, 'barely': 2006, 'started': 12594, 'back': 1897, 'chrimbo': 3186, 'staying': 12610, 'sacto': 11494, 'cali-': 2816, 'driving': 4541, 'palo': 9966, 'alto': 1366, 'later': 7975, 'tonite': 13505, 'eventually': 4974, 'n': 9190, 'toss': 13550, 'dumpster': 4618, 'bhut': 2233, 'lookin': 8307, 'rite': 11326, 'atm': 1730, 'chuz': 3218, 'dey': 4188, '2much': 761, 'geek': 5849, 'harsh': 6434, 'hero': 6591, 'blow': 2394, 'tire': 13440, 'myself': 9173, 'inside': 7215, 'tomorrow': 13497, 'cheap': 3080, 'designing': 4152, 'cs': 3784, 'afterparty': 1206, 'flier': 5425, 'wreckin': 14753, 'brain': 2544, 'hour': 6848, 'vega': 14113, 'slow': 12162, 'service': 11795, 'shiat': 11893, 'assume': 1698, 'including': 7134, 'teachin': 13095, 'ur': 14020, 'stickshift': 12648, 'mwhahahahahaha': 9165, 'llalala': 8227, 'best': 2185, 'frann': 5593, 'co': 3326, 'starlet': 12587, \"5'0\": 875, 'character': 3049, 'purely': 10762, 'awesome': 1819, 'magazine': 8475, 'yvonne': 15025, 'cwasont': 3859, 'dont': 4436, 'gut': 6233, 'prepared': 10550, 'toro': 13538, 'comple': 3454, 'job': 7531, 'sit': 12067, 'writing': 14764, '*sigh*': 181, 'gelizzy': 5859, 'check': 3086, 'nahh': 9214, 'sorry': 12358, 'punched': 10752, 'teo': 13173, 'personal.r': 10166, 'answer': 1484, 'stuff': 12752, 'formspring': 5548, 'loovveee': 8323, 'chicken': 3135, 'also': 1358, 'complain': 3451, 'since': 12038, 'found': 5571, 'mood': 9000, 'iseeya': 7335, 'before': 2127, 'gave': 5819, 'jump': 7607, 'trailer': 13606, 'lindsay': 8171, 'lohan': 8270, 'quot': 10846, 'machete': 8458, 'ball': 1958, 'ima': 7066, 'roundhouse': 11425, 'kick': 7728, 'fiscal': 5377, 'policy': 10400, 'ability': 1060, 'print': 10607, 'teh': 13130, 'moneez': 8983, 'mofo': 8958, 'competing': 3446, 'ass-kicking': 1676, 'red': 11044, '.hmmmm': 344, 'nominate': 9454, 'yiyinglu': 14929, 'shorty': 11944, 'award': 1810, 'design': 4148, 'designed': 4150, 'stye': 12773, 'from': 5656, 'dog': 4402, 'shitting': 11913, 'finger': 5352, 'consult': 3531, 'h': 6255, 'don': 4423, '*hugs*': 142, 'smoke': 12205, 'thats': 13241, '-p': 244, 'serious': 11782, 'remind': 11143, 'slap': 12122, 'c': 2775, 'saturday': 11568, 'mkay': 8918, 'knew': 7803, 'disco': 4303, 'babyyyy': 1893, 'hahahah': 6302, 'hmmm': 6706, '.or': 369, 'join': 7552, 'parranda': 10011, 'nah': 9213, 'probably': 10626, 'corp': 3596, 'council': 3626, 'sibling': 11997, 'lmfao': 8239, 're': 10955, 'must': 9142, 'nor': 9495, 'life': 8125, 'create': 3712, 'muliple': 9115, 'formsprings': 5554, 'yourself': 14973, 'saying': 11590, 'theyre': 13286, 'fake': 5174, 'quit': 10842, 'thinking': 13306, 'copy': 3584, 'm': 8437, 'pathetic': 10050, 'poser': 10462, 'buy': 2756, 'besties': 2196, 'okay': 9699, '8330': 966, 'bigger': 2255, 'keyboard': 7717, 'thumb': 13378, 'sale': 11510, 'marketing': 8572, 'web': 14406, 'report': 11171, '/': 402, 'igniter': 7014, 'convo': 3566, 'space': 12395, 'hmm..depended': 6693, 'happened': 6406, 'currently': 3831, 'used': 14039, 'car': 2879, 'bf': 2223, 'rent': 11156, 'hoe': 6729, 'responded': 11211, 'asked': 1658, 'vary': 14108, 'marriage': 8579, 'immoral': 7083, 'those': 13331, 'bigot': 2258, 'whatever': 14494, 'byrne': 2770, 'voiceover': 14215, 'eason': 4679, 'running': 11472, 'christmas': 3197, 'early': 4665, 'november': 9534, '..': 261, 'question': 10830, 'wonder': 14678, 'parent': 10001, 'allow': 1332, 'place': 10317, 'bravest': 2562, 'travel': 13636, 'dogsled': 4406, 'brrrrrr': 2630, 'bar': 1993, 'impersonating': 7094, 'effin': 4733, 'cunt': 3814, 'ihu': 7027, 'mortifying': 9028, 'experience': 5071, 'ask': 1657, 'woman': 14674, 'pregnant': 10544, 'lobby': 8252, 'card': 2884, 'ocean': 9631, '21': 705, 'half-ass': 6366, 'stalkerrrr': 12570, 'tall': 13036, 'chex': 3128, 'mix': 8911, 'almost': 1340, 'paletable': 9962, 'add': 1148, 'bacon': 1910, 'merry': 8761, 'per': 10136, 'tweet': 13756, 'hopefully': 6806, 'temporarily': 13157, 'stopped': 12678, 'using': 14047, 'adium': 1163, '75-80': 935, '%': 3, 'cpu': 3665, 'mhm': 8795, 'o': 9585, 'californication': 2818, 'david': 3966, 'duchovny': 4580, 'young': 14963, 'which': 14513, 'true': 13690, 'chris': 3187, 'wanting': 14326, 'classmate': 3259, 'tacitly': 13000, 'comparison': 3444, 'bit': 2288, 'mr.lydian': 9074, 'gmail.com': 5987, 'mansion': 8543, 'countryside': 3638, 'motorcycle': 9044, 'wallet': 14309, 'motherfucker': 9035, 'sherbert': 11884, 'jmo1200': 7528, 'bought': 2504, 'tim': 13418, 'biskup': 2286, 'gt': 6188, 'l': 7893, 'boot': 2474, 'thank': 13217, 'jesus': 7499, 'lord': 8325, 'rip': 11321, 'anytime': 1527, 'passion': 10032, 'dr': 4488, 'scholng': 11627, 'congrats': 3500, 'entrepreneur.com': 4890, 'plug': 10364, 'pitch': 10303, '//bit.ly/ps0m': 406, 'crook': 3752, 'rengel': 11155, 'dems': 4102, 'corrupt': 3605, 'joke': 7557, 'republican': 11180, 'yoga': 14932, 'any': 1508, 'already': 1354, 'showed': 11965, 'once': 9740, 'class': 3256, 'ala': 1280, 'page': 9940, 'anonymous': 1476, 'kevin': 7714, 'near': 9274, 'dated': 3957, '10': 593, 'listened': 8200, 'werdplay': 14456, 'feat': 5260, 'mic': 8802, 'geronimo..that': 5895, 'song': 12333, 'insane': 7207, 'pollgod': 10408, 'didnt': 4233, 'sp': 12392, 'member': 8730, 'head': 6490, 'dan': 3923, 'marino': 8565, 'blame': 2337, 'romo': 11388, 'whitten': 14535, 'shaving': 11856, 'cream': 3709, 'taste': 13069, 'between': 2217, 'boyfriend': 2524, 'contribute': 3556, 'cleaniness': 3269, 'messiness': 8772, '--': 217, '//tinyurl.com/7b7nze': 483, 'sent': 11769, 'decent': 4022, 'tag': 13006, 'lastnight': 7968, 'likely': 8156, 'lachlan': 7914, 'bikerswag': 2267, 'portage': 10452, 'wise': 14640, 'hang': 6393, 'drukenness': 4555, 'ensue': 4873, 'moving': 9063, 'pretty': 10577, 'witty': 14657, '//tinyurl.com/w2xzw': 498, 'huge': 6880, 'lost': 8336, '/again/': 559, 'awwhhh': 1842, 'thankyou': 13227, 'soo': 12341, 'nice': 9374, 'rachel': 10862, 'problem': 10630, 'signal': 12012, 'fagggggg': 5152, 'cajun': 2806, 'turkey': 13735, 'melted': 8729, 'pepperjack': 10132, 'cheese': 3101, 'lettuce': 8092, 'tomatoe': 13492, 'miracle': 8875, 'whip/': 14523, 'lightly': 8143, 'evenly': 4971, 'spread': 12508, 'pickle': 10253, 'cucumber': 3795, 'colby': 3371, 'sliced': 12139, 'circle': 3228, 'layered': 8010, 'perfectly': 10141, 'toasted': 13466, 'whole': 14541, 'wheat': 14502, 'honey': 6779, 'oat': 9600, 'bun': 2698, 'deliciousness': 4079, 'bedroom': 2112, 'door': 4451, 'drunk': 4560, 'bro': 2605, 'i..': 6953, '2pm': 766, 'nott': 9529, 'secret': 11713, 'person': 10164, 'child': 3140, 'living': 8222, 'horribly': 6821, 'abused': 1084, 'abuse': 1083, 'forgot': 5540, 'affliction': 1196, \"'\": 5, 'outta': 9875, 'tribal': 13658, 'tattoo': 13078, 'jersey': 7493, 'boy': 2521, 'drool': 4544, 'alittle': 1313, 'step': 12622, 'foot': 5507, 'eat': 4690, 'off..': 9643, 'xmas': 14818, 'eve': 4968, 'weekend': 14427, 'afterwards': 1208, 'dude..': 4589, 'upgrade': 14002, 'btw': 2649, 'phone': 10226, 'added': 1149, 'vocab': 14210, 'list..': 8196, 'occasionally': 9624, 'fortune': 5565, 'urinates': 14029, 'universe': 13959, 'brief': 2588, 'plumbing': 10366, 'concert': 3474, 'went': 14454, 'alwaysgayalways': 1369, 'both': 2495, 'watch/rewatch': 14359, 'sate': 11564, 'gay-wadishness': 5826, 'miss': 8889, 'ehh': 4747, 'id': 6978, 'nigga': 9392, 'white': 14528, 'club': 3314, 'knocked': 7813, 'clubin': 3316, 'viking': 14172, 'won': 14677, 'yesterday': 14912, 'matter': 8628, 'lung': 8416, 'fine': 5349, 'leg': 8052, 'heavy': 6521, '//is.gd/ewzm': 431, 'iguess': 7023, 'yew': 14920, 'dnt': 4384, 'wit': 14647, 'mhe': 8793, 'anymo': 1514, 'tx..': 13813, 'kick-ass': 7729, '09': 574, 'nikon': 9410, 'dumb': 4608, 'ashton': 1653, 'kutcher': 7881, 'run': 11468, 'fucked': 5683, 'anyways': 1530, 'dm': 4375, 'number': 9558, 'soemthing': 12298, 'car..': 2880, 'booo': 2468, 'twitting': 13806, 'post': 10473, 'blog': 2378, 'lighter': 8140, 'prsarahevans': 10712, 'socialmedia': 12291, 'shes': 11888, 'social': 12286, 'medium': 8707, 'neil': 9307, 'gaiman': 5771, \"'preludes\": 67, 'nocturne': 9441, \"'the\": 81, 'dreamhunters': 4515, 'bloody': 2391, 'expensive': 5069, 'comic': 3417, 'call': 2819, 'land': 7941, 'charge': 3053, 'ppl': 10507, '2bits': 742, 'gander': 5787, 'yupz': 15017, 'nowhere': 9538, 'act': 1124, 'without': 14653, 'entire': 4884, 'world': 14721, 'hearing': 6507, 'fact': 5143, '=': 998, 'crazy': 3704, 'wont': 14684, 'city': 3235, 'til': 13413, '9:30': 985, 'block': 2373, 'spot': 12499, 'googled': 6041, 'aint': 1258, 'mmmmmm': 8929, 'awhile': 1834, 'kept': 7709, 'textin': 13199, 'offa': 9644, 'dk': 4371, 'likeeeee': 8155, 'buhh': 2676, 'worry': 14725, 'friendly': 5639, 'ment': 8742, 'galore': 5778, 'omg': 9729, 'jerk': 7488, 'except': 5035, 'write': 14761, 'confiscation': 3491, 'dyed': 4643, 'hair': 6353, 'might': 8826, 'blessing': 2358, 'disguise': 4314, 'depending': 4120, 'goal': 5997, 'soundtrack': 12377, 'following': 5479, 'deleted': 4075, 'follower': 5477, 'stealing': 12617, 'damned': 3919, 'store': 12680, 'hold': 6738, 'poor': 10433, 'hostage': 6831, 'window': 14622, 'that-my': 13237, 'freak': 5599, 'weird-i': 14435, 'wear': 14400, 'high': 6624, 'heel': 6532, 'drum': 4556, 'cramp': 3684, 'case': 2924, 'appear': 1555, 'dropped': 4548, 'somewhere': 12327, 'rogue': 11369, 'spell': 12441, 'correctly': 3604, 'communist': 3435, 'rouge': 11421, 'flat': 5409, 'broke': 2613, 'ihave': 7025, 'paid': 9942, 'hosting': 6834, 'left': 8049, 'bluehost': 2406, 'ho': 6718, 'hear': 6505, 'haha.i': 6291, 'talk': 13029, 'matt': 8625, 'azn': 1858, 'sock': 12294, 'sexed': 11812, 'missing': 8892, 'each': 4655, 'ah': 1229, 'spooky': 12495, 'cock-tail': 3349, 'flavor': 5412, 'v8': 14070, 'happiness': 6413, 'punk': 10755, 'piston': 10302, 'pet': 10183, 'give': 5951, 'wat': 14357, 'fag': 5149, 'violent': 14184, 'baby': 1887, 'incredible': 7143, 'pain': 9945, 'butt': 2742, 'self': 11744, 'vampire': 14096, 'hard': 6420, 'blocked': 2375, 'load': 8249, 'straight': 12689, 'piss': 10296, 'bill': 2269, \"o'reilly\": 9590, 'wished': 14643, 'willing': 14603, 'shot': 11945, 'mattarmendariz': 8626, 'eating': 4694, 'lunch': 8412, '10:40am': 611, 'cocktail': 3351, 'ignoring': 7019, 'especially': 4939, 'see..': 11724, 'luck': 8396, 'eeeeit': 4726, 'beach': 2069, 'mountain': 9046, 'hmmm..prolly': 6709, 'timmy': 13428, 'ahaha': 1233, '10ish': 613, 'ish': 7336, 'istick': 7351, 'lick': 8116, 'em': 4789, \"ma'am\": 8447, 'lady': 7918, 'favourite': 5244, 'outside': 9874, 'depends': 4121, 'able': 1061, 'half': 6365, 'tneezy': 13459, 'boo': 2454, '1': 582, 'believe': 2149, 'specialty': 12428, 'kitchen': 7780, 'gadget': 5761, 'cling': 3288, 'potato': 10487, 'ricer': 11287, 'popover': 10437, 'pan': 9968, 'carb': 2882, 'sell': 11751, '.cakes': 323, 'cake': 2807, 'jfk': 7506, 'online': 9748, 'wasnt': 14354, 'customer': 3845, 'josh': 7574, 'medication': 8704, 'stat': 12598, 'wish': 14642, 'shave': 11855, 'widow': 14584, 'peak': 10087, 'grow': 6168, 'intercontinental': 7252, 'sexy': 11819, 'doesnt': 4400, 'vvv': 14241, 'ewwwe': 5016, 'innocent': 7204, 'mind': 8854, 'ahh..': 1241, 'cooky': 3571, 'wanted': 14325, 'well..': 14446, 'ill': 7042, 'ive': 7380, 'fractured': 5579, 'itz': 7377, 'teach': 13093, 'properly': 10684, '//snipurl.com/9iryv': 450, 'mom': 8970, 'haris': 6429, 'control': 3558, 'tummy': 13727, \"did'nt\": 4227, 'park': 10005, 'ftw': 5675, 'liking': 8159, 'strut': 12740, 'webwork': 14413, 'analogy': 1419, 'rail': 10883, 'merb': 8751, 'unrealistic': 13979, 'theory': 13264, 'weather': 14403, 'youre': 14969, 'hawaii': 6475, 'wahh': 14289, 'sickness': 12001, 'horrible': 6819, 'five': 5389, 'yeahhhh': 14875, 'cussed': 3840, 'alot': 1347, 'inconvient': 7140, 'eater': 4692, 'screen': 11671, 'tough': 13566, 'yea': 14864, 'u..truth': 13833, 'music': 9138, 'health': 6502, '/b/': 560, 'laughing': 7991, \"'omglol\": 62, 'fray': 5598, 'roflrofl': 11367, 'given': 5953, 'extra': 5097, 'ticket': 13398, 'coworker': 3658, 'henceforth': 6569, 'stay': 12607, 'crackhead': 3675, 'faggot': 5153, 'charging': 3056, 'entertainment': 4882, 'you-': 14951, 'grace': 6079, 'boggling': 2426, 'drag': 4493, 'wo': 14667, 'anything': 1524, 'above': 1070, '30': 778, 'moon': 9001, 'move': 9056, 'bunch': 2699, 'ice': 6967, 'stupid': 12763, 'busted': 2732, 'concord': 3479, 'tenant': 13162, 'woke': 14670, '2am': 740, 'lots': 8340, 'water': 14365, 'very': 14138, 'yes..': 14906, 'flickr': 5423, 'upload': 14008, 'eventbox..': 4973, 'huhuhu': 6888, '*tooos*': 194, 'gw': 6248, 'juga': 7594, 'gak': 5774, 'digg': 4251, 'sama': 11521, 'pownce': 10505, 'feature': 5262, 'twitteriffic': 13799, 'real': 10968, 'estate': 4946, 'trouble': 13679, 'risk': 11324, 'clearly': 3274, 'checkin': 3091, 'orange': 9810, 'cassie': 2929, 'ahh': 1240, 'delayed': 4072, 'kicking': 7734, 'used-to-be': 14040, 'sheriff': 11885, 'careful': 2894, 'law': 8002, 'outlier': 9869, 'msg': 9083, 'success': 12795, 'circumstance': 3231, 'into': 7269, 'self-made': 11746, 'concept': 3470, 'jay': 7451, 'making': 8502, 'catchy': 2944, 'tune': 13729, 'planning': 10325, 'monmouth': 8994, 'environment': 4895, 'minister': 8868, 'andrew': 1429, 'vanwyngarden': 14102, 'mgmt': 8791, 'spazz': 12418, 'tsa': 13708, 'jansport': 7437, 'santa': 11545, 'cum': 3810, 'visit': 14194, 'huny': 6921, 'yay': 14861, 'walmart': 14311, 'far': 5201, 'food': 5491, 'burger': 2706, '2.99': 688, 'fry': 5668, 'manage': 8519, 'party': 10024, \"c'est\": 2776, 'la': 7903, 'vie': 14165, 'allston': 1334, 'xdeartragedyo': 14810, 'imma': 7076, 'evry1': 5007, '2day': 743, 'bamboozle': 1968, 'tic': 13395, 'miller': 8846, 'ginger': 5935, 'ale': 1296, 'pack': 9931, 'ten': 13161, 'while': 14514, '8': 951, 'unless': 13964, 'openly': 9788, 'consider': 3517, 'rockin': 11357, 'nevamind': 9340, 'stiletto': 12650, 'listen': 8199, 'meant': 8685, 'ready': 10967, 'wild': 14597, 'freaky': 5605, 'bored': 2480, 'grown': 6171, 'beu03c4ter': 2218, 'thu03b1n': 13376, 'formspru03b9ng': 5556, '//tr.im/m73w': 502, 'jack': 7397, 'hrmm': 6866, 'iono': 7297, 'gah': 5764, 'goooooood': 6046, 'cat': 2935, 'held': 6546, 'gay~': 5831, 'rear-end': 10990, 'designer': 4151, 'iphone': 7302, 'sh': 11827, 'everytime': 4992, 'popularity': 10443, 'stamp': 12573, 'death': 4008, 'literary': 8206, 'ficiton': 5314, 'epic': 4904, '//tinyurl.com/yrqwmz': 500, 'macbook': 8456, 'pro': 10620, 'tapping': 13055, 'track': 13592, 'pad': 9938, 'click': 3281, 'loud': 8347, 'press': 10560, 'champ': 3032, 'tt': 13709, 'shell': 11878, 'helmet': 6561, 'trip': 13670, 'backwards': 1907, 'huoooooooah': 6922, 'o_o': 9598, 'text': 13197, 't': 12975, 'asleep': 1667, 'woulda': 14738, 'away': 1814, 'lala': 7931, 'vain': 14086, 'fwy': 5741, 'toddler': 13474, 'strong_bow': 12730, 'smoking': 12209, 'weed': 14421, 'inject': 7195, '15': 645, 'degree': 4068, 'power': 10501, 'vista': 14197, 'computer': 3466, 'laptop': 7955, 'actually': 1136, 'exact': 5027, 'marry': 8583, 'brunch': 2634, 'gaaaaayer': 5752, 'rather': 10937, 'rich': 11288, 'famous': 5188, 'voicemail': 14214, 'enjoy': 4863, 'engaged': 4858, '.living': 354, 'ky': 7887, 'teaching': 13096, 'etc': 4952, 'update': 13999, 't-mo': 12977, 'gasface': 5806, 'lack': 7915, 'blackberry': 2319, 'slash': 12125, 'retard': 11231, 'missread': 8898, 'lucky': 8399, 'oooooooohhhhhhh': 9775, 'sh*t': 11828, 'celebs': 2977, 'crossover': 3759, 'meaning': 8681, 'lastlee': 7967, 'boring': 2485, '.but': 322, 'equally': 4910, 'dear': 4004, 'sister': 12065, 'heat': 6513, 'sonic': 12336, 'cd': 2965, 'lunar': 8411, 'third': 13310, 'war': 14327, 'popful': 10436, 'mail': 8486, 'lose': 8328, 'ferrero': 5297, 'rocher': 11351, 'chocolate': 3171, 'induce': 7159, 'zit': 15049, 'chin': 3153, 'course': 3643, 'hanging': 6396, 'core': 3587, 'i7': 6955, 'mac': 8453, 'murdering': 9131, 'ansys': 1487, 'hehehe.': 6538, 'lt': 8389, '/nerd': 564, 'exp': 5062, 'publish': 10735, 'official': 9657, 'yet': 14917, 'targeted': 13061, 'orientation': 9825, 'prosecuted': 10689, 'under': 13913, 'crime': 3737, 'statute': 12606, 'embaresed': 4800, 'jacob': 7411, 'werewolf': 14461, 'grr': 6174, 'snow': 12256, 'ordering': 9817, 'pizza': 10310, 'shyt': 11993, 'profile': 10658, 'pic': 10246, 'measure': 8689, 'apple': 1560, 'pie': 10259, 'drink': 4530, 'grape': 6099, 'juice': 7599, 'essay': 4941, 'complete': 3457, 'brah': 2542, 'noe': 9443, 'britteny': 2604, 'bi-sexual': 2235, '__': 1018, 'feeling': 5276, 'bouncing': 2508, 'ouch': 9851, 'attempt': 1737, 'instant': 7225, 'messaging': 8768, 'product': 10648, 'kathynewman': 7674, 'mash': 8602, 'wonderful': 14680, 'tatties': 13076, 'carrot': 2911, 'turnip': 13742, 'lovely': 8369, 'creamed': 3710, 'spinach': 12467, 'clean': 3266, 'floor': 5439, 'impressive': 7106, 'hate-mail': 6447, 'lover': 8370, 'linux': 8183, 'neckalce': 9283, '3333': 794, 'ack..': 1119, 'doncha': 4429, 'tho..': 13322, 'here..': 6580, 'comfort': 3412, 'gaming': 5783, 'console': 3523, 'wht': 14564, 'jackinthebox': 7406, 'evn': 4999, 'mile': 8837, 'frmh': 5652, 'thts': 13375, 'askin': 1661, 'idc': 6981, 'femalez': 5290, 'mi': 8798, 'bombarded': 2440, 'everyday': 4983, '15-20.': 646, 'enough': 4869, 'suppose': 12878, 'mr': 9071, 'fanboy': 5190, 'cant': 2868, 'judge': 7588, 'alright': 1356, 'black': 2315, 'arm': 1610, 'avril': 1806, 'bet': 2200, 'nin': 9411, 'spoiler': 12482, 'threeeeee': 13352, 'arguing': 1602, 'bush': 2724, 'admire': 1167, 'post-2008': 10474, 'election': 4763, 'makin': 8501, 'hadnt': 6283, 'heard': 6506, 'prospective': 10690, 'client': 3284, 'returning': 11243, 'cris': 3741, 'seem': 11731, '~30': 15073, 'buck': 2658, 'leave': 8040, '2-3': 681, 'entry': 4891, 'cont': 3536, 'navigate': 9259, 'distracting': 4347, 'hahahhaha': 6340, 'sweet': 12937, 'dropping': 4550, 'nuke': 9554, 'trend': 13652, '.tell': 380, 'tht': 13373, 'remove': 11151, 'vimax': 14173, 'fom': 5484, 'thr': 13343, 'site': 12070, 'ban': 1971, 'divorce': 4363, 'company': 3440, 'january': 7438, 'silly': 12026, 'spoil': 12480, 'vibe': 14144, 'catching': 2942, 'melonheads': 8727, 'bio': 2275, 'wrote': 14771, 'cyberbullying=jail': 3863, 'isnt': 7344, 'random': 10906, 'broken': 2614, 'bone': 2449, 'ewww': 5015, 'talker': 13031, 'listener': 8201, 'lying': 8429, 'wrestle': 14754, 'sad': 11495, 'face': 5131, 'usually': 14052, 'listening': 8202, 'deathcab': 4010, 'cutie': 3852, 'burning': 2713, 'staff': 12560, 'meeting': 8713, 'wouldnt': 14740, 'doubt': 4462, 'esp': 4938, 'employer': 4833, 'supportive': 12877, 'seems': 11734, '.pluto': 371, 'alaska': 1287, 'inch': 7129, 'bang': 1978, 'straw': 12700, 'alanis': 1285, 'morrissette': 9027, 'hardest': 6425, 'called': 2820, 'sspitsbergen': 12547, 'hoping': 6808, 'shoe': 11927, 'natural': 9251, 'born': 2486, 'relation': 11109, 'miley': 8838, 'cyrus': 3869, 'smile': 12198, 'relationship': 11110, 'krockxp': 7864, 'easiest': 4676, 'lemming': 8067, 'laneige': 7946, 'whitening': 14530, 'breakin': 2569, 'somethin': 12318, 'whiten': 14529, 'acne': 1120, 'scar': 11602, 'bleh': 2354, 'wx': 14796, 'ny': 9578, 'snowww': 12266, 'blowing': 2397, 'wind': 14619, 'remember': 11138, 'mentioning': 8747, 'keller': 7702, 'grew': 6135, 'blcks': 2346, 'story': 12684, 'awww': 1843, 'sending': 11761, 'healing': 6500, 'light': 8136, 'shitfaced': 11911, 'stuck': 12744, 'plateau': 10332, 'christ': 3191, '11.': 617, 'lunchtime': 8415, 'amusing': 1412, 'whipping': 14525, '.he': 341, 'steal': 12615, 'klepto': 7795, 'rain': 10885, 'soothing': 12351, '^^': 1014, 'dd': 3989, 'cereal': 3001, 'yuppers': 15015, 'nose': 9508, 'cartilage': 2917, 'piercings': 10265, 'wondering': 14682, 'down': 4471, 'quite': 10843, 'tqbf': 13590, 'comment': 3424, 'master': 8611, 'chief': 3137, 'action': 1128, 'figure': 5325, 'doll-': 4415, 'cortana': 3608, 'forum': 5566, 'simply': 12036, 'amazing': 1385, 'typed': 13822, 'considering': 3520, 'played': 10339, 'family': 5186, 'completely': 3458, 'worse': 14728, 'dang': 3930, 'cleaning': 3270, 'tabitha': 12997, 'jai': 7415, 'locascio': 8257, 'myspace.com/tabiisaninja': 9178, 'book': 2462, 'cheyenne': 3130, 'picture': 10256, 'campus': 2844, 'sheen': 11870, 'covered': 3649, 'yall': 14853, \"'em\": 31, 'piece': 10260, 'fiance': 5310, 'miniature': 8865, 'dressing': 4525, 't-shirt': 12981, 'booty': 2477, 'nescessary': 9327, 'beautiful': 2092, 'video': 14158, 'punch': 10751, 'shirley': 11905, 'phelps': 10205, 'roeper': 11363, 'ung': 13947, 'shopping': 11936, 'worked': 14713, 'reminds': 11145, 'ptsd': 10730, 'iraq': 7307, 'homeless': 6757, 'yelled': 14893, 'alarm': 1286, 'helped': 6564, 'funny': 5724, 'hurry': 6924, '-/': 219, 'modest': 8955, 'often': 9663, 'gradeschool': 6083, 'ditching': 4354, 'wake.=': 14297, 'train': 13608, 'refused': 11074, 'wanker': 14319, 'catch': 2940, 'interested': 7255, 'say..': 11587, 'surprised': 12899, 'huckabee': 6876, 'slick': 12141, 'glib': 5967, 'seemed': 11732, 'stumble': 12757, 'odd': 9634, 'sounding': 12376, 'statement': 12601, 'wink': 14628, 'playa': 10337, 'congratulate': 3502, 'kinda': 7759, 'date': 3955, 'tiddly': 13402, 'destined': 4165, '2b': 741, 'fault': 5233, \"'uncles\": 85, 'advert': 1186, 'afternoon': 1205, 'imagined': 7071, \"'mummy\": 53, 'syck': 12961, '1977.': 671, 'pointless': 10389, 'fastest': 5217, 'growing': 6169, 'ass..': 1679, 'telling': 13145, 'prettiest': 10573, 'standard': 12576, 'biz': 2307, '24/7..': 718, 'lizzy': 8224, 'cook': 3568, 'guessing': 6205, '=p': 1005, 'guiness': 6215, 'paddy-ass': 9939, 'cj': 3238, 'told': 13484, 'playing': 10342, 'cunt..': 3815, '//twitpic.com/vk9k': 527, 'dick': 4211, 'whittington': 14536, 'lolcat': 8281, 'trousrs': 13681, 'twitpanto': 13788, 'okie': 9711, 'dokie': 4413, 'reservoir': 11196, 'walkin': 14304, 'ommmgg': 9733, 'hiiii': 6637, 'haahaa': 6271, 'liked': 8152, 'kylee': 7889, 'sooo': 12345, 'bisnatch': 2287, 'genentech': 5867, 'westin': 14470, 'offsite': 9662, 'x-mas': 14801, 'egg': 4739, 'nog': 9444, 'w/': 14250, 'rum': 11464, 'twitpic': 13789, 'shizzle': 11920, 'aw': 1807, 'tree': 13650, 'blahblah': 2331, 'fully': 5709, 'barfworthy': 2007, 'nastradamus': 9241, 'aka': 1273, 'iced': 6970, 'office': 9656, 'panama': 9969, 'fl': 5398, 'cooking': 3570, 'dad': 3889, 'lasagna': 7959, 'chili': 3145, 'veggie': 14117, 'soup': 12378, 'ma': 8446, 'fried': 5633, 'wedge': 14417, 'tater': 13075, 'baked': 1950, 'ham.oh': 6376, 'beat': 2083, 'together': 13478, 'against': 1212, 'faka': 5173, 'homo': 6769, 'sapien': 11550, 'doh': 4407, 'inspires': 7221, 'bra': 2533, 'thang': 13215, 'key': 7716, 'simple': 12034, 'bribe': 2585, 'leah': 8027, 'giove_dea': 5937, 'vids': 14164, 'unexplained': 13940, 'related': 11107, 'delay': 4071, 'cyber': 3862, 'pocket': 10378, 'cry': 3779, 'ro': 11334, 'reminded': 11144, 'bull': 2684, 'wake': 14296, 'bibingka': 2241, 'nightmare': 9401, '31st': 788, 'prob': 10623, 'awkward': 1836, 'huh': 6887, 'gone': 6021, 'sldnt': 12129, 'boxer': 2519, 'guna': 6225, 'b': 1859, 'jumpin': 7610, 'junk': 7617, 'fall': 5178, 'ihdontmind..goahead': 7026, 'ya': 14842, 'ipod': 7304, 'clicking': 3282, 'noise': 9447, 'program': 10662, 'objective-c': 9608, 'fate': 5224, 'hater': 6455, 'daytime': 3980, 'indoors': 7158, 'stuart': 12742, 'maclean': 8461, 'faux': 5234, 'stumbly': 12759, 'bumbly': 2692, 'style': 12774, 'prairie': 10519, 'companion': 3439, 'wannabe': 14320, 'ohhh': 9671, 'deffinately': 4053, 'drowning': 4552, 'demand': 4089, 'blendmom': 2355, 'rooster': 11401, 'football': 5509, 'avi': 1799, '1200': 631, 'replaced': 11165, 'george': 5886, 'thier': 13290, 'point': 10387, 'scan': 11599, 'perfect': 10139, 'inking': 7200, 'mylar': 9171, 'exactly': 5028, 'penciling': 10112, 'peace': 10083, 'positivity': 10468, 'whoopin': 14552, 'unemployed': 13936, 'ai': 1249, 'goin': 6009, 'anywhere': 1532, 'camera': 2836, 'bomb-ass-tic': 2438, 'w': 14247, 'traumatic': 13635, 'crap': 3686, 'belting': 2164, 'fiddler': 5317, 'roof': 11393, 'rocky': 11360, 'horror': 6826, 'jewish': 7504, 'double': 4460, 'jointed': 7556, 'wearing': 14401, 'chain': 3017, 'xd': 14808, 'guyliner': 6243, 'biatch': 2238, 'terri': 13179, 'bwahahaha': 2763, 'saint': 11507, 'immaculate': 7077, 'conception': 3471, '1/2': 591, 'realtor': 10986, '7/8ths': 927, 'stimulus': 12652, 'housing': 6853, 'market': 8571, 'vibrate': 14145, 'moto': 9041, 'q': 10790, 'period': 10150, 'iloveyoumorebabygirl': 7056, 'dream': 4511, 'sold': 12303, 'sucks..': 12808, 'apos': 1549, 'and/or': 1425, 'tootin': 13530, 'darn': 3946, 'dern': 4137, 'notch': 9518, 'mess': 8765, 'different': 4245, 'opinion': 9791, 'screening': 11673, 'prepare': 10549, 'tuesday': 13722, 'woody': 14691, 'freebirds/mash': 5610, 'hitting': 6685, 'avatar': 1793, 'assuming': 1700, 'presently': 10557, 'afford': 1197, 'leverage': 8096, 'easy': 4688, 'draw': 4504, 'erotic': 4926, 'lolis': 8283, 'kyo': 7890, 'clannad': 3249, 'document': 4394, 'incase': 7127, 'suggest': 12826, 'honesty': 6778, 'babe': 1879, 'hated': 6451, 'bob': 2419, 'sugar': 12825, 'spiit': 12462, 'gamme': 5784, 'niqqa': 9416, 'aha': 1230, 'sheesh': 11872, 'balance': 1954, 'salt': 11517, 'attack': 1735, 'diabetes': 4199, 'stroke': 12727, 'bite': 2302, 'particular': 10017, 'lol..': 8276, 'smarter': 12184, 'security': 11718, 'guitar': 6216, 'laughed': 7989, 'husband': 6930, 'code': 3358, 'emergency': 4812, 'alors': 1345, '233': 714, 'tait': 13016, 'bien': 2249, 'vous': 14229, 'avez': 1797, 'du': 4576, '234': 715, 'tre': 13643, 'folles': 5474, 'pendant': 10113, 'lapdance': 7953, '224': 710, 'samediiii': 11526, 'mystery': 9180, 'o.o': 9593, 'spend': 12449, 'smart': 12182, '//thetyser.com/': 452, 'letter': 8090, 'k': 7637, 'myspace': 9177, 'bc': 2058, 'disorganized': 4326, 'accumulating': 1104, 'nearly': 9276, '4gb': 863, 'leech': 8046, 'welcome': 14440, 'lend': 8071, 'youthassets': 14977, 'ground': 6164, 'org': 9820, 'texted': 13198, 'drove': 4551, 'drive': 4535, 'slideshare': 12144, 'refined': 11063, 'accustomed': 1109, 'lifestyle': 8131, 'snowball': 12259, 'fight': 5322, 'heyy': 6606, 've': 14112, 'offline': 9659, 'fer': 5294, 'bloxx': 2400, 'banned': 1989, 'worstseoblog': 14730, 'system': 12974, 'prohibited': 10664, 'url': 14031, 'database': 3954, 'hate-and-discrimination': 6444, 'snippy': 12246, 'showing': 11969, 'age': 1213, 'minnie': 8871, 'human': 6893, 'confusing': 3495, 'hella': 6551, 'racist': 10868, 'dissin': 4338, 'harder': 6424, 'remote-control': 11148, 'battery': 2043, 'king': 7766, 'hahaa': 6293, 'u2665': 13838, 'combo': 3403, 'design_doll': 4149, 'impressed': 7104, 'mouth': 9055, 'pissed': 10297, 'coweta': 3656, 'pick': 10250, 'falling': 5180, 'star': 12582, 'lyric': 8434, 'missed': 8890, 'roxy': 11433, 'nite': 9417, 'decided': 4025, 'hipster': 6668, 'dig': 4249, 'kanye': 7657, 'dianor': 4205, 'heyyy': 6607, 'doin': 4409, 'noarmsjames': 9434, 'beats+lyrics': 2089, 'tec': 13111, 'whenever': 14507, 'dock': 4391, 'clothes': 3309, 'pirate': 10293, 'sayin': 11589, 'gaaah': 5754, \"'surprise\": 76, 'minor': 8872, 'dedicate': 4038, 'hmm': 6691, 'yummy': 15011, 'havnt': 6474, 'mcr': 8667, 'yepp': 14900, 'unfair': 13942, 'firefox': 5365, 'slightly': 12146, 'balding': 1957, 'men': 8738, 'ces..if': 3010, 'someww': 12329, 'pinball': 10283, 'miami': 8801, 'end': 4846, '..hear': 279, 'dmb': 4377, 'rose': 11407, 'milton': 8850, \"'look\": 46, 'homeward': 6761, 'angel': 1438, 'melt': 8728, 'ruth': 11478, 'w.e': 14249, 'half-hour': 6367, 'film4+1': 5337, 'content': 3542, 'complaining': 3452, 'fellow': 5287, 'soaper': 12277, 'plagiarism': 10318, 'prada': 10518, 'it.on': 7361, 'plane': 10322, 'agony': 1224, 'cabin': 2790, 'pressure.my': 10562, 'ear': 4660, 'involves': 7293, 'betty': 2215, 'boop': 2472, 'ahhaaha': 1243, 'starting': 12595, 'wussup': 14782, 'ahahaha': 1235, 'hardcore': 6421, 'locked': 8262, 'dvd': 4636, 'german': 5892, 'sub-titled': 12780, 'erotica': 4927, 'def': 4045, 'gloat': 5970, 'proven': 10709, 'whooped': 14549, 'q3a': 10796, 'xaero': 14805, 'grunt': 6187, 'laugh-': 7988, 'grr..ha-ha': 6175, 'alynndeluc': 1373, 'studying': 12750, 'zebra': 15038, 'twitterin': 13801, 'hahahahahahahahahahahahaha': 6320, 'eww': 5013, 'gross': 6161, 'hahahahahahahahahahahahahahahahahahaahahahahahahahahahaahahaahahaah': 6321, 'shut': 11986, 'rehearsing': 11097, '4da': 862, '2knock': 754, '..now': 294, 'macy': 8462, 'sleep': 12130, 'sleepy': 12133, 'tea': 13091, 'savior': 11581, 'york': 14944, 'douche': 4463, 'bagel': 1929, 'notice': 9524, 'opposite': 9796, 'immovable': 7085, 'object': 9607, 'disappointing': 4298, 'stress': 12712, 'connection': 3509, 'lesson': 8086, 'lesbian': 8082, 'nekked': 9309, 'free': 5608, 'porn': 10447, 'orgasm': 9823, 'lipgloss': 8185, 'matching': 8616, 'blush': 2410, 'liner': 8175, 'moracco': 9009, 'recall': 11005, 'p.s': 9921, 'female': 5289, 'worst': 14729, 'eaten': 4691, 'throw': 13363, 'killed': 7749, 'honestly': 6777, 'wack': 14281, 'arsenio': 1634, 'sport': 12497, 'type': 13820, 'jim': 7514, 'rome': 11387, 'setting': 11802, 'burritoville': 2718, 'ummm': 13887, 'injured': 7197, 'process': 10636, 'pillowfight': 10276, 'possibly': 10472, 'scarf': 11606, 'muchly': 9100, 'proud': 10705, '//tinyurl.com/65kpkr': 466, 'save': 11578, 'kiko': 7746, 'transwhatever': 13627, 'potion': 10491, 'needed': 9292, 'larry': 7958, 'along': 1343, 'polly': 10409, 'lilgego1youngg': 8161, 'yahoo.com': 14851, 'figured': 5327, 'anna': 1459, 'language': 7949, 'onto': 9755, 'plan': 10321, 'blind': 2360, 'lingerie': 8176, 'popular': 10442, 'trashman': 13631, 'stalker': 12569, 'arrested': 1624, 'supporter': 12875, 'felt': 5288, 'arrest': 1623, 'monit-whore': 8989, 'wall-e.': 14308, 'hole': 6741, 'cracker': 3673, 'body': 2423, 'immune': 7086, 'loveeeeeeeee': 8367, 'alexisssssssss': 1306, 'teew': 13128, 'fukinn': 5703, 'broccoli': 2610, '333': 793, 'tupac': 13732, 'resurrection': 11228, 'geez': 5854, 'crawled': 3695, 'messing': 8773, 'clarify-': 3250, 'punting': 10757, 'smelly': 12194, 'clothing': 3310, 'shop': 11934, '123': 632, '789': 938, 'color': 3388, 'hoodie': 6787, 'junsten': 7620, 'similarly': 12032, 'blue': 2404, 'bird': 2278, 'sentence': 11770, 'dumbass': 4610, 'cable': 2793, 'tv': 13750, 'commercial': 3428, 'news': 9353, 'big-ass': 2252, 'pretzel': 10580, 'bomb-diggity': 2439, 'ticklish': 13401, 'is..': 7330, 'ahaa': 1231, 'onee': 9746, '[': 1010, '//tinyurl.com/5nv2tl': 463, 'numerous': 9563, 'mod_ella': 8947, '..http': 282, '//tinyurl.com/5hdbje': 459, 'hahahahaha': 6308, '//lmgtfy.com/': 434, 'q=what+is+a+dero': 10798, '3f': 814, 'yooozers': 14941, '442': 847, 'youtube': 14979, 'silence': 12020, 'zzzzzzzz': 15066, 'ayeeeeee': 1855, 'named': 9225, 'kasumi': 7670, 'ik': 7035, 'ben': 2166, 'benieuwd': 2171, 'obvious': 9620, 'return': 11241, 'spammed': 12402, 'pool': 10429, 'enter': 4875, 'leaf': 8025, 'dislike': 4322, 'quickly': 10837, 'neighbor': 9304, 'watched': 14360, 'ridiculous': 11303, 'uncontrollable': 13909, 'drooling': 4546, 'bedwetter': 2114, 'alergic': 1298, '*wink*': 202, 'controller': 3560, '49': 856, '//tinyurl.com/5mq4sq': 461, 'dickmode': 4223, '3xy': 826, 'i-10': 6949, 'i-45': 6950, 'hubby': 6874, 'noticed': 9525, 'slept': 12137, 'bah': 1932, 'ambien': 1393, 'gosh': 6055, 'ragamuffin': 10878, 'bojangles': 2432, 'bash': 2019, 'nickelback': 9380, 'staind': 12564, '58126': 898, 'candy': 2863, 'br': 2531, '>': 1007, 'cover': 3648, 'punt': 10756, 'wait..what': 14293, 'teela': 13125, 'shaun': 11854, 'diviney': 4361, 'phillyd': 10217, 'band': 1973, 'posted': 10480, 'guest': 6206, 'pink': 10287, 'loveee': 8365, 'oic': 9686, 'sir': 12058, 'conspiracy': 3526, 'hmmmm': 6713, 'recent': 11012, 'charles': 3060, 'golf': 6015, 'dry': 4568, 'heave': 6518, 'insane.hate': 7209, 'bearer': 2079, 'news..lol..dont': 9354, 'messenger': 8770, 'pistol': 10301, 'mobb': 8939, 'deep': 4042, 'owns': 9911, 'ruining': 11461, 'bffot': 2228, 'spam': 12401, '**': 93, 'greed': 6122, 'oooops': 9776, 'destroy': 4167, 'refuse': 11073, 'vv': 14238, 'isn': 7343, 'daydrien': 3978, 'salad': 11509, 'longer': 8300, 'werd': 14455, 'hip': 6662, 'hop': 6801, 'doit': 4411, 'yo~': 14991, 'backup': 1905, 'worth': 14731, 'hermy': 6590, 'dentist': 4107, 'seriously.r': 11786, 'griffen': 6141, 'adtr': 1181, 'emarosa': 4797, 'robot': 11349, 'emmure': 4818, 'thrashin': 13345, 'ohh': 9669, 'instrumental': 7231, 'underoaths': 13917, 'violin': 14185, 'sweety': 12943, 'loki': 8273, 'rubbed': 11442, 'passed': 10030, 'frankly': 5592, 'shocked': 11923, 'coal': 3335, 'hydro': 6938, 'push': 10770, 'ups': 14015, 'yah': 14848, 'cop': 3580, 'static': 12602, 'fookin': 5498, 'augh': 1758, 'registered': 11089, 'voter': 14226, 'tone': 13501, 'clicquot': 3283, 'tried': 13664, 'korbel': 7847, 'green': 6125, 'backdrop': 1898, 'fucker': 5685, 'stonkered': 12673, 'wobbly': 14669, 'gutful': 6235, 'hairy': 6360, 'laser': 7961, 'nannon_x': 9228, 'yoooooooooouuuuuuuuuuuu': 14939, 'checking': 3092, 'catalogue': 2939, 'list': 8195, 'ex': 5020, 'wouldt': 14741, 'user': 14044, 'cremated': 3728, 'fighter': 5323, 'lame': 7935, 'edited': 4715, 'directly': 4280, 'jk': 7522, 'chippers': 3162, 'basement': 2018, 'tired': 13442, \"'no\": 58, 'pennytel': 10123, 'app': 1550, 'optus': 9805, 'loss': 8334, 'celerbity': 2978, 'hahahahahahahahahahahhahahahaha': 6324, 'recently': 11013, 'weight': 14430, 'book.r': 2464, '*lover': 156, 'buddy': 2666, 'youuuu': 14986, 'glove': 5979, 'zipper': 15047, 'greg': 6130, 'muuuuuuch': 9154, '*cries*': 114, 'yours': 14971, 'fukin': 5702, 'sun': 12845, 'blinding': 2361, 'reflecting': 11066, 'doll': 4414, 'paradiso': 9991, 'tudds': 13719, 'turn': 13737, 'deadly': 3996, 'fly': 5453, 'gaff': 5762, 'pretend-to-cut': 10568, 'themselves': 13260, 'clique': 3296, 'library': 8113, 'jared': 7444, 'leto': 8089, 'bday': 2065, '25th': 726, 'birth': 2280, '26th': 730, 'echelon': 4700, 'doooor': 4450, 'emang': 4796, 'lagu2nya': 7923, 'bukannya': 2680, 'mellow': 8724, 'forever': 5528, 'theirs': 13255, 'cursing': 3836, 'curse': 3834, 'baaaaahhhhh': 1874, 'ninja': 9412, 'distinct': 4342, 'smell': 12190, 'shift': 11894, 'arent': 1595, 'y3': 14839, 'x': 14799, '3d': 813, 'wuz': 14787, 'j3rk': 7393, 'y': 14832, 'p0rn': 9922, 'hisz': 6678, 'qe': 10801, 'wi+': 14577, 'y0': 14835, 'square': 12523, 'nakedness': 9222, 'amuses': 1411, \"'oh\": 61, 'nipple': 9414, 'skin': 12097, 'wifi': 14590, 'cranky': 3685, 'damn-fridays': 3912, 'bad_wookie_pun': 1917, 'aight': 1252, 'hehe': 6534, 'mama..they': 8508, 'mizzjess': 8916, 'moved': 9057, 'philly': 10216, '2050965967': 702, 'protest': 10703, 'disapointed': 4293, 'whoever': 14540, '-d': 231, 'giving': 5956, 'treat': 13647, 'wet': 14471, 'milk': 8842, 'everything-except': 4989, 'vacuum': 14081, 'carpet': 2907, '*loves*': 157, 'stak': 12566, 'gangster': 5791, 'ikr': 7039, 'watch': 14358, 'hysterically': 6943, 'gota': 6059, 'kute': 7882, 'thick': 13288, 'bring': 2594, 'finish': 5355, 'garland': 5798, 'sound': 12374, 'puuurty': 10784, 'legit': 8061, 'shaddup': 11831, 'mark': 8569, 'important': 7101, 'considered': 3519, 'assassinated': 1683, 'murdered': 9129, '2days': 745, 'fast': 5214, 'editing': 4717, 'karma': 7666, 'obama': 9603, 'administration': 1166, 'da': 3886, 'tampon': 13042, 'front': 5657, 'sink': 12049, 'touring': 13573, 'bromance': 2616, 'codeword': 3361, 'closet': 3307, 'ka': 7643, 'weak': 14395, 'column': 3395, 'joy': 7580, 'seven': 11806, 'uhmmmm': 13872, 'birthday': 2281, 'clarissssssa': 3251, '33333333': 797, 'gots': 6062, 'heyyyyyy': 6608, 'become': 2105, '19': 668, 'tab': 12990, '//twitpic.com/uzdf': 522, 'amaing': 1378, 'tap': 13050, 'bass': 2029, 'bahahahaha': 1937, '.took': 390, 'gee': 5845, 'hahaha..i': 6298, 'fuckinggg': 5691, 'craaaaaaaazzzzzzzzzzy': 3666, '58': 897, '//tinyurl.com/59blcl': 458, 'brother': 2621, 'baseball': 2016, '3r': 821, 'rollerblading': 11378, 'finding': 5348, 'something..from': 12320, 'grocery': 6157, 'w.': 14248, 'pole': 10397, 'dancing': 3927, 'slutty': 12173, 'frozen': 5663, 'february': 5268, 'nigella': 9390, 'coca': 3344, 'cola': 3370, 'ham': 6375, 'pig': 10268, 'rock': 11352, 'difference': 4244, 'edward': 4724, 'bella': 2157, 'twat': 13751, 'louis': 8350, 'drake': 4499, 'shakespeare': 11835, 'austin': 1766, 'beagle': 2072, 'fib': 5313, 'diet': 4240, 'exercise': 5050, \"'guide\": 38, 'chow': 3185, 'town': 13582, 'pierced': 10262, 'tongue': 13502, 'lip': 8184, 'breath': 2572, 'watching': 14363, 'fire': 5361, 'safe': 11498, 'peril': 10149, 'juvenile': 7633, 'thankk': 13222, 'these': 13280, '.awful': 321, 'kk': 7788, 'denying': 4110, 'maury': 8637, 'clear': 3272, 'daddy': 3890, 'suspect': 12911, 'curly': 3827, 'tail': 13011, 'dare': 3940, 'laugh': 7987, 'spongebob': 12486, 'crayon': 3699, 'best.': 2186, 'ernies': 4924, 'thrusday': 13369, 'margarita': 8556, 'valley': 14093, 'louisiana': 8351, 'ping': 10285, 'sched': 11619, 'jennifer': 7483, 'aniston/vince': 1454, 'vaughan': 14109, 'shown': 11970, 'lifted': 8134, 'truely': 13693, 'accepted': 1090, 'pasta': 10038, 'savitto': 11582, 'mostest': 9032, 'contributing': 3557, 'sauce': 11571, 'accomplishment': 1097, 'email': 4794, 'justin': 7629, 'divorsing': 4366, 'mr.': 9072, 'anominous': 1474, 'hahahahah': 6306, 'lady..': 7919, 'unmanageable': 13968, 'fraggle': 5580, 'muffen': 9106, 'drilly': 4528, 'distribution': 4349, 'japan': 7440, 'bumped': 2696, 'nobody': 9436, 'address': 1156, 'perrybelcher': 10160, 'attitude': 1744, 'picking': 10252, 'lumines': 8410, 'mizuguchi': 8915, 'threatened': 13348, 'taking': 13023, 'trash': 13629, 'perhaps': 10147, 'juiceegapeach': 7601, 'nc': 9267, 'present': 10554, '*sobs*': 187, 'predictive': 10536, 'solved': 12309, 'feed': 5270, 'reader': 10965, 'pernicious': 10156, 'shouldn': 11952, 'ashlee': 1649, 'message': 8766, 'www.findersingle.com': 14792, 'username': 14045, 'wishfulthinker': 14644, 'yummyone': 15012, 'attend': 1739, 'wedding': 14415, 'dyke': 4645, 'barry': 2011, 'van': 14097, 'diagnosis': 4201, 'murder': 9128, 'bammed': 1970, 'glark': 5963, 'gorgeous': 6051, 'lucas': 8395, 'guide': 6210, 'sucking': 12806, 'igorthetroll': 7021, 'thee': 13249, 'troll': 13675, 'taunt': 13081, 'getz': 5903, 'booze': 2478, 's.': 11486, 'african': 1201, 'location': 8259, 'ok..ok': 9694, 'ya..': 14843, 'tank': 13046, 'rply': 11435, 'smack': 12177, 'p90x': 9924, 'workout': 14718, 'nutrition': 9570, 'recover': 11036, 'build': 2677, 'muscle': 9134, 'burn': 2711, 'wristband': 14760, 'shipping': 11903, 'assclowns': 1686, 'delivered': 4085, 'tan': 13043, 'blahhh': 2333, 'scientist': 11638, 'doctor': 4393, 'engineer': 4859, 'ourselves': 9856, 'clown': 3313, 'carly': 2903, 'interrupted': 7262, 'pocoyo': 10379, \"tooey'z\": 13517, 'bad-ass': 1913, 'stanley': 12580, 'plus': 10369, 'paranoia': 9994, \"'dick\": 30, 'box': 2517, 'sour': 12380, 'w/ur': 14267, 'break': 2566, 'glass': 5964, 'mil': 8833, 'brave': 2561, '*shudders*': 178, 'cousin': 3647, 'ghwt': 5916, 'set': 11799, 'need2bust': 9288, 'std': 12611, 'yeshh': 14908, 'deja': 4069, 'vu': 14235, '74': 933, '//tinyurl.com/6q8olq': 478, 'seat': 11704, 'protector': 10701, 'britain': 2598, 'zone': 15056, 'summer': 12837, 'bioshock': 2277, 'apartment': 1542, 'hunt': 6918, 'steph': 12625, 'excited': 5043, '229': 711, 'honest': 6776, 'roflmfao': 11366, 'abbreviation': 1055, 'jeg': 7471, 'er': 4914, 'jo': 7529, 'ily': 7061, 'graphic': 6104, '//poetic-beauty81.deviantart.com/art/a-rok-shining-star-163949988': 443, 'household': 6851, 'chore': 3182, 'hamster': 6385, 'none': 9467, 'aim': 1256, 'error': 4929, 'weeeee': 14422, 'chip': 3158, 'dick-ish': 4213, 'andy': 1431, 'pete': 10185, 'remembered': 11139, 'elephant': 4769, 'duh': 4599, 'flu': 5447, 'acting': 1127, 'hay': 6479, 'boston': 2493, 'downtown': 4482, 'pdx': 10080, 'gresham/troutdale': 6134, 'hellish': 6554, 'sandy': 11540, 'pant': 9977, 'comfortable': 3413, 'fujitsu': 5700, 'sfansnap': 11822, 'model': 8950, 's300': 11489, 'cost': 3613, 'yuk': 15005, 'thanksgiving': 13225, 'koi': 7837, 'hahahahahahaha': 6315, 'achievement': 1116, 'ahem': 1239, 'butthurt': 2750, 'wut': 14783, '112': 620, 'cuisinart': 3803, 'dcc-2000': 3987, 'coffee': 3364, 'coffeemaker.haha': 3366, 'unfollow': 13943, 'ack': 1118, 'net': 9330, 'indeed': 7145, 'musta': 9143, 'preference': 10539, 'thorough': 13329, 'slide': 12142, '5': 874, 'recycled': 11043, 'rated': 10936, 'allowed': 1333, 'e': 4649, 'anne': 1461, 'prty': 10713, 'w/u': 14266, 'jen': 7478, 'disposable': 4331, 'disney': 4324, 'threatening': 13349, 'business': 2727, 'professional': 10653, 'not-over-the-top': 9516, 'w/o': 14260, 'somehow': 12315, 'ecoterrorists': 4707, 'shoulda': 11950, 'rented': 11158, 'helicopter': 6549, 'enviroment': 4894, 'richard': 11289, 'bell': 2155, 'fireman': 5366, 'rescued': 11190, '12': 625, 'tenement': 13167, 'familiar': 5185, 'damnit': 3920, 'highschool': 6632, 'prefer': 10538, 'chinese': 3156, 'mexican': 8787, 'merch': 8752, 'hurricane': 6923, 'watered': 14367, 'poncho': 10418, 'telemarketer': 13135, 'vegetarian': 14116, 'aftenoon-': 1203, 'pm': 10374, 'fresh': 5625, 'shore': 11939, 'caching': 2796, 'nnot': 9425, 'alive': 1314, 'behind': 2142, 'plow': 10359, 'storm': 12683, 'plowed': 10360, 'road': 11336, 'hampshire': 6384, 'mounts.i': 9050, 'maine': 8488, 'fla': 5399, 'grandmother': 6093, 'sandman': 11535, 'awee': 1818, 'dame': 3908, 'magic': 8477, 'signing': 12015, 'boobie': 2458, 'anybody': 1511, 'buying': 2758, 'havent': 6471, 'hoochie': 6785, 'bieber': 2248, 'ghurl': 5914, '33': 790, 'peter': 10187, 'captain': 2876, 'hook': 6792, 'u2013': 13837, 'cooler': 3574, 'congratulation': 3504, 'whose': 14562, 'mwahaha': 9160, 'fairly': 5166, 'chiseled': 3165, 'feminist': 5291, 'tabi': 12993, 'babeeee': 1880, 'woah': 14668, 'giggidy': 5924, 'wtch': 14773, 'mike': 8831, 'pplz': 10508, 'letting': 8091, 'katie': 7675, 'argh': 1599, 'hesitant': 6597, 'breaking': 2570, 'seal': 11692, 'contract': 3553, 'guilty': 6213, 'meh': 8720, 'lox': 8382, 'f**k': 5116, 'thoro': 13328, 'prodigy': 10645, 'joe': 7539, 'thru': 13368, 'nore': 9497, 'smooth': 12210, 'charter': 3068, 'weirdest': 14437, 'ton': 13500, 'muscular': 9135, 'calf': 2814, 'lace': 7911, 'uofa': 13991, 'navy': 9260, 'rule': 11463, 'byus': 2772, 'plenty': 10352, 'concur': 3482, 'jourdan': 7575, 'prettttty': 10574, '-haa': 236, 'guessedd': 6204, 'righhtttt': 11310, 'maryyyy': 8597, 'ahhh': 1245, 'ilovee': 7049, 'mayb': 8643, 'becuase': 2109, 'youhr': 14961, 'nathan': 9247, 'nba': 9265, 'stereotyping': 12634, 'muahahahahaahahahahahahahahaaha': 9096, 'cradle': 3679, 'snatcher': 12231, 'bb': 2052, 'grab': 6076, 'hump': 6907, 'ttyl': 13713, 'minute': 8874, 'devil': 4184, 'assmartini': 1696, 'scottsdale': 11657, 'shea': 11866, 'lindsey': 8172, 'challenge.': 3027, 'swift': 12945, 'retarded': 11232, 'signed': 12013, \"'running\": 70, 'pleez': 10351, 'fitness': 5385, 'lit': 8203, 'collection': 3382, 'stranger': 12694, 'celebrate': 2974, 'halloween': 6373, 'bryan': 2641, 'uglyyy': 13859, 'dum': 4607, '5/19/10': 879, 'yu': 14995, 'ugly': 13858, 'wee': 14420, 'lassie': 7963, 'teeth': 13127, 'mutant': 9148, 'goose': 6047, 'loose': 8322, 'foolin': 5501, 'leppard': 8078, 'hahahahahahahhaahahhahaa': 6327, 'himself': 6655, 'gettin': 5901, 'complaint': 3453, 'inbox': 7124, 'talley': 13039, 'actual': 1135, 'comcast': 3405, 'titanlineaudio': 13445, 'bj': 2311, 'j/k': 7391, 'tomato': 13490, 'lawn': 8005, 'adidas': 1162, 'strugglin': 12738, 'handle': 6389, 'tho': 13321, 'disease': 4313, 'kuup': 7883, 'switching': 12955, 'changing': 3038, 'korea': 7848, 'madrid': 8472, 'milan': 8834, 'frendzz': 5620, 'wiff': 14589, 'bestie': 2194, 'krissy': 7858, 'tootsie': 13531, '454333': 850, 'yeahp': 14877, 'luh': 8402, 'herm': 6585, 'panamenanegra': 9970, 'takin': 13022, 'cc': 2963, 'flight': 5426, '..damn': 274, 'jamba': 7425, 'hippie': 6665, 'creative': 3716, 'beet': 2124, 'order': 9813, 'speed': 12436, 'dial': 4202, 'heal': 6499, 'due': 4594, 'ended': 4849, '47': 853, 'sorta': 12362, 'choose': 3177, 'yessss..': 14910, 'holidays..': 6743, 'awful.i.hate.being.ill': 1827, 'hows': 6860, 'jane': 7435, 'eyre': 5111, 'ronson': 11392, 'dope': 4453, 'beamer': 2074, 'underwhelming': 13929, 'on-board': 9736, 'enought': 4870, 'admit': 1169, 'basket': 2025, 'tearing': 13104, 'wimp': 14612, '16f': 655, '2nite': 764, 'yeow': 14898, 'bklyn': 2313, 'cred': 3721, 'ooops': 9777, 'interents': 7253, 'equivalent': 4913, '40': 839, 'crowd': 3762, 'responsible': 11215, 'adult': 1183, 'voice': 14213, 'stomach': 12666, 'serious..screw-your-selfs': 11783, 'sittinghere': 12073, 'quote': 10847, 'everythings': 4990, 'magnet': 8479, 'xxx': 14830, 'ooo': 9762, 'corner': 3593, 'intense': 7247, 'neeci': 9286, 'bon': 2446, 'voyage': 14230, 'riva': 11327, 'derci': 4133, 'sayonara': 11591, 'hitler': 6681, 'sort': 12361, 'elvis': 4787, 'semicolon': 11756, 'praying': 10525, 'momma': 8976, 'facing': 5139, 'uhmm': 13869, 'evr': 5005, 'brace': 2534, 'fcked': 5254, 'calorie': 2826, 'delicious': 4078, 'low': 8375, 'speechless': 12435, 'couldnt': 3625, 'poem': 10382, 'writer': 14762, 'became': 2099, 'ghey': 5911, 'man..': 8516, 'coughing': 3622, 'sneezing': 12239, 'smater': 12188, 'nye': 9581, 'pneumonia': 10376, 'possible': 10471, 'open': 9784, 'yep': 14899, 'mixtape': 8913, 'hype': 6940, 'peanut': 10088, 'finsh': 5358, 'whiskey': 14527, 'rboscia': 10952, 'hipsterville': 6669, 'joining': 7554, 'myside': 9176, 'college': 3384, 'unfortunately': 13946, 'facebook': 5134, 'group': 6165, 'ibm': 6963, 'pillow': 10275, 'livejournal': 8219, 'jrock': 7586, 'rotation': 11413, 'lj': 8225, 'uhh': 13862, 'dunno': 4622, 'emaled': 4795, '30th': 786, 'study': 12748, 'xoxo': 14825, 'delete': 4074, '{': 15067, 'nada': 9210, 'distracted': 4346, 'easily': 4677, 'grabbed': 6077, 'sing': 12042, 'cow-loving': 3653, 'yahoo': 14850, 'slurpee': 12170, 'bag': 1927, 'cup': 3818, 'uber': 13842, 'het': 6598, '-5': 222, 'fuck..': 5681, 'brought': 2623, 'prussia': 10715, 'debt': 4015, 'produce': 10646, 'corn': 3592, 'spying': 12520, 'bitching': 2298, 'past': 10037, 'sewing': 11810, 'wheres': 14509, 'spring': 12511, 'sucks..it': 12810, 'breeze': 2578, 'balcony': 1955, '.do': 329, 'rub': 11441, 'bamf': 1969, 'f*cker': 5117, 'terrifying': 13182, 'niggaz': 9396, 'unite': 13956, 'fatron': 5229, 'trick': 13659, 'boxing': 2520, '//twitpic.com/xm6u': 536, 'folder': 5470, 'cya': 3860, 'covering': 3650, 'counrty': 3627, 'sizzling': 12082, 'looool': 8313, '=d': 1002, 'tu': 13715, 'silvester': 12028, 'ou': 9850, 'pa': 9925, 'jamais': 7422, 'bourr': 2511, 'ensemble': 4872, '-_-': 224, 'mais': 8494, 'trop': 13676, 'ch': 3014, '232': 713, '-bas': 230, 'et': 4951, 'mdr': 8669, 'lieb': 8120, 'dich': 4210, 'some1': 12311, 'frustration': 5667, 'aerial': 1192, 'mitre': 8910, '//tr.im/20c2': 501, 'vantage': 14101, '..hha': 280, 'afraid': 1199, 'strangerrrs': 12695, 'blonde': 2387, 'male': 8503, 'overheard': 9885, 'yeh': 14891, 'changed': 3037, 'straighten': 12690, 'regretted': 11092, 'jingle': 7516, 'wk': 14660, 'theodore': 13263, 'titz': 13449, 'canadian': 2851, 'mapl': 8548, 'flvrd': 5452, '*sucks*': 189, 'big_rig': 2253, 'involved': 7292, 'chea': 3078, 'hooked': 6793, 'oowee': 9782, 'touching': 13563, 'california': 2817, 'community': 3436, 'peeeeisssssssst': 10099, 'atlantis': 1728, 'gate': 5810, 'sudoku': 12819, 'crue': 3768, 'sleeping': 12132, 'pill': 10274, 'grinched': 6148, 'danville-ites': 3938, 'bathroom': 2038, 'within': 14652, 'imagine': 7070, '//twitpic.com/taap': 516, 'contains': 3541, '610': 915, '330': 791, 'request': 11182, 'cerritos': 3002, 'timing': 13426, 'traffic': 13603, 'hurt': 6925, 'easier': 4675, 'roth..if': 11419, 'ward': 14329, 'polamalu': 10396, 'hazel': 6483, 'expected': 5066, 'driveway': 4539, 'loving': 8373, 'nikki': 9409, 'top': 13532, 'celebrity': 2976, 'hannah': 6398, 'deathbed': 4009, 'vigil': 14169, 'eas': 4674, 'bxtch': 2766, 'clea': 3265, 'ineva': 7166, 'hiz': 6687, 'sirloin': 12062, 'butcher': 2739, 'rib': 11283, 'economical': 4705, 'jose': 7572, 'postsecret': 10485, '1.': 586, 'secrettweet': 11716, 'entertaining': 4881, 'sallie': 11514, 'mae': 8473, 'bonez': 2450, 'prison': 10612, 'miserable': 8882, 'sistas': 12064, 'ass': 1671, 'credit': 3722, 'kim': 7754, 'j-lo': 7390, 'vida': 14157, 'brit': 2597, 'freakshow': 5604, 'shake': 11834, 'gov': 6068, 'lift': 8133, 'sweep': 12936, 'desk': 4155, 'sigh': 12007, 'embedding/linking': 4806, 'webkit': 14409, 'building': 2678, 'source': 12381, 'compile': 3449, 'worky': 14720, 'crowded': 3763, 'gouthami': 6067, 'police': 10399, 'dress': 4523, 'kannu': 7655, 'adchifying': 1147, 'asking': 1662, 'perverted': 10180, 'guaranteed': 6195, 'folie': 5472, 'deux': 4177, 'cassiemeltesen': 2930, 'duuude': 4634, 'row': 11431, 'evilbeet': 4997, 'jon': 7563, 'kate': 7672, 'advertisement': 1187, 'christopher': 3199, 'encouraged': 4842, 'retail': 11229, 'worker': 14714, '//tinyurl.com/6dunlq': 474, 'fart': 5205, 'accident': 1092, 'bestfriend': 2192, 'fcc': 5253, '18': 662, 'fuckin': 5689, 'upping': 14013, 'downing': 4474, 'seanzageek': 11696, 'amd': 1395, 'release': 11115, 'beaten': 2085, 'subset': 12789, 'animal': 1449, 'entirely': 4885, 'um': 13882, 'girlfriend': 5942, 'favoroute': 5243, 'stack': 12557, 'reattach': 10998, '6': 909, 'morn': 9019, 'nasty': 9243, 'everybody': 4981, 'grammar': 6090, 'coaching': 3334, 'dfference': 4190, 'babysinead': 1891, 'bottle': 2501, 'bourbon': 2509, 'stole': 12664, 'slogan': 12160, 'rt': 11438, 'tail-all': 13012, 'confessional': 3490, 'diary': 4208, 'cynical': 3867, 'hr': 6863, 'rightt': 11314, 'thhere': 13287, 'server-hugger': 11794, 'moniker': 8988, 'wise-ass': 14641, 'woot': 14700, 'pound': 10495, 'gear': 5840, 'ange': 1437, 'sez': 11821, 'christian': 3193, 'chanukah': 3043, '8or9': 969, 'gf': 5905, 'mslika': 9085, 'nick': 9378, 'killer': 7750, 'toilet': 13480, 'paper': 9984, 'mmm': 8922, 'beowulf': 2177, '14': 639, 'item': 7366, 'common': 3433, 'l7': 7901, 'hawthorne': 6478, 'embrace': 4809, 'enclosing': 4840, 'shower': 11966, 'assed': 1687, 'reasononing': 10995, 'lanky': 7951, 'playin': 10341, 'tennis': 13170, 'leader': 8023, 'karkar': 7665, 'cart': 2915, 'spike': 12463, 'barbed': 2004, 'wire': 14636, 'flamethrower': 5404, 'wayy': 14384, 'anothers': 1482, 'themself': 13259, 'insecure': 7212, 'whether': 14510, 'personally': 10170, 'physically': 10243, 'emotionally..just': 4829, 'others': 9844, 'friendliness': 5638, 'bushwhacking': 2725, 'alchy': 1293, 'scrub': 11683, '.you': 400, 'shawty': 11859, 'damn..': 3913, 'underwear..': 13928, 'dedication': 4040, 'blogger': 2381, 'best..': 2187, 'x-': 14800, 'fking': 5395, 'bloggers..': 2382, 'pop': 10434, 'microwave': 8814, 'rue': 11456, 'forever21': 5529, 'toy': 13584, 'proof': 10680, 'habs': 6274, 'fan': 5189, 'toronto': 13539, 'embracing': 4810, 'wing': 14627, 'butthole': 2749, 'stoner': 12671, \"y'know\": 14834, 'stereotyped': 12633, 'emo..': 4824, 'cult': 3806, 'cape': 2874, 'cod': 3356, 'scared': 11604, '*z': 204, 'snap*': 12225, '//twitpic.com/vhtp': 526, 'looooool': 8315, 'swim': 12946, 'kitty': 7785, 'someday': 12313, 'll': 8226, 'realize': 10974, 'bffls': 2227, 'suitable': 12830, 'candidate': 2861, 'stalking': 12571, 'rude': 11448, 'idiot': 6994, 'ssaam': 12546, 'everywhere': 4994, '101': 604, 'cure': 3825, 'dashboard': 3950, 'razorblade': 10950, 'hehehe': 6537, 'pleasure': 10350, 'presumptous': 10564, 'pricksy': 10594, 'wicksies': 14578, 'jolly': 7561, 'dam..she': 3906, 'live..by': 8217, 'course..lol': 3644, '484': 855, '264': 729, '3364': 800, 'princessersatz': 10604, 'agree': 1226, 'relaxing': 11114, 'millon': 8849, 'firstr': 5376, 'rosario': 11405, 'chemistry': 3114, 'thinkin': 13305, 'jada': 7412, 'stressed': 12713, 'rag': 10877, '1/10': 590, 'guru': 6232, 'celphone': 2988, 'ti': 13394, 'year-a': 14880, 'throat': 13358, 'awe': 1816, 'torment': 13537, 'that..': 13238, 'now..': 9536, 'hehe..': 6535, 'forbidden': 5515, 'territory': 13183, 'turned': 13740, 'unhappy': 13949, 'undeniably': 13912, 'ridiculously': 11304, 'que': 10821, 'earlier': 4662, '.its': 351, 'muah': 9095, 'pepper': 10131, 'onion': 9747, 'bacon-crunchy': 1911, 'cha': 3015, 'hint': 6661, 'lemon': 8068, 'dayumm': 3982, 'brooke': 2619, 'yearly': 14882, 'doc': 4389, 'tuesday..': 13723, '73': 932, 'growth': 6173, 'ebooks': 4698, 'boyu2019s': 2527, 'dick-tongue': 4214, 'ummmm': 13889, 'ike': 7037, '2.': 684, 'uggg': 13846, 'aqree': 1582, 'aboutt': 1069, 'smile4mexxx': 12199, 'cow': 3652, 'bimbo': 2272, 'worthless': 14732, 'dumping': 4616, 'street': 12707, 'shivering': 11916, 'screaming': 11669, 'layer': 8009, 'revengenow': 11256, 'mo': 8935, 'ending': 4850, 'chapter': 3048, 'mary': 8595, 'courtesy': 3646, 'chirp': 3164, 'hospital': 6829, 'shat': 11853, 'public': 10732, 'london': 8292, 'hardly': 6426, 'review': 11258, 'ooh': 9759, 'whooty': 14554, 'grls': 6155, 'corny': 3595, 'gypsy': 6254, 'freakin': 5602, 'charisma': 3058, 'carpenter': 2906, 'searched': 11698, 'peppermint': 10133, 'mocha': 8944, 'twist': 13780, 'nonfat': 9469, 'chai': 3016, 'doesn': 4399, 'expecting': 5067, 'unexpected': 13939, 'brad': 2535, 'angelina': 1440, 'blurry': 2409, '//twitpic.com/rddb': 507, 'wknd': 14662, 'treadmill': 13644, '5am': 903, 'schedule': 11620, 'sux': 12917, 'areee': 1593, '*hehe*': 140, 'enak': 4839, 'aja': 1270, 'carter': 2916, 'strength': 12710, 'guinea': 6214, 'formspringg': 5550, 'noo..my': 9475, 'yell': 14892, 'cta': 3787, 'delta': 4087, 'chi': 3132, 'raleigh': 10893, 'bahama': 1939, 'sealed': 11693, 'deal-': 3999, 'gin': 5933, '08': 573, 'a.': 1034, 'dinner': 4270, 'sprint': 12514, 'jogging': 7544, 'eggnog': 4740, '*rawr*': 168, 'well..currently': 14447, '6:54': 920, 'answering': 1486, '38': 809, 'sup': 12857, 'whare': 14487, 'countr': 3635, '^_^': 1015, 'channel': 3039, 'describe': 4140, 'bridge': 2587, 'standing': 12577, 'uranium': 14021, 'sputnik': 12518, 'somebody': 12312, 'immediately': 7081, 'fuckface': 5687, 'pointing': 10388, '_______': 1019, 'shrug': 11977, 'shouldnt': 11953, 'nosy': 9513, '//twitpic.com/rt32': 509, 'delightful': 4081, 'episode': 4907, 'lotsa': 8341, 'urge': 14024, 'vermont': 14133, 'gangsta': 5790, 'pretend': 10567, 'classy': 3260, 'fav': 5237, '2nd': 762, 'erykah': 4932, 'badu': 1925, 'dumd': 4613, 'fainted': 5162, 'angela': 1439, 'davis': 3968, 'agreed': 1227, 'illusion': 7047, 'seller': 11752, '//tinyurl.com/6py66j': 477, 'banker': 1987, 'investor': 7285, 'taken': 13020, 'regardless': 11079, 'nike': 9407, 'seee': 11727, 'dese': 4142, 'crazi': 3700, 'dawg': 3970, 'mechanical': 8698, 'hawaiian': 6476, 'argument': 1603, 'necc': 9279, 'valuable': 14094, 'conference': 3487, 'people.you': 10128, 'disagree': 4289, 'redcliffe': 11046, 'bolt': 2436, 'flew': 5421, 'truck': 13688, 'windshield': 14623, 'cracked': 3672, 'kkkkkk': 7793, 'vet': 14140, 'cassidee': 2928, 'applicantjan': 1562, 'mmmhm': 8924, 'glorous': 5977, 'sat': 11562, 'shopper': 11935, 'gurl': 6229, 'coulda': 3624, 'dorkass': 4456, 'wel': 14439, 'mytouch': 9185, 'share': 11847, 'ohhhh': 9672, 'jeez': 7467, ':0': 990, 'recorded': 11033, 'sprayed': 12507, 'rolled': 11375, 'kool': 7845, 'aid': 1250, 'hapa': 6401, '/3': 558, '.u': 392, 'bottom': 2502, 'msfb': 9082, 'sincerity': 12041, 'sneeks': 12237, 'vuitton': 14236, 'rolling': 11380, 'dollar': 4416, 'expect': 5064, 'painful': 9946, 'duo': 4626, 'jail': 7416, 'naww': 9262, '58390': 901, 'similar': 12031, 'nooo': 9479, '//tinyurl.com/3z2pkr': 455, 'lisha': 8193, 'jennie': 7482, 'respect': 11208, 'view': 14166, 'specific': 12430, 'activity': 1132, 'racism': 10867, 'ran': 10900, '300': 779, 'apache': 1540, 'gpa': 6073, 'buster': 2733, 'mel': 8722, 'nickname': 9382, 'include': 7131, 'passionate': 10033, 'belief': 2148, 'lois': 8271, 'torch': 13535, 'smash': 12186, 'carlos': 2901, 'whittaker': 14534, 'micky': 8810, 'rouke': 11423, '7th': 950, 'filled': 5334, 'nicely': 9376, 'molding': 8964, 'died': 4237, 'lazy': 8015, 'roar': 11339, 'scored': 11648, '1st': 678, 'unibroue': 13952, '17': 657, 'fallopian': 5181, 'tube': 13717, 'tax': 13083, 'thigh': 13292, 'light-reflecting': 8137, 'sphere': 12454, 'spotlight': 12500, 'rear': 10989, 'bleech': 2349, 'cajones': 2805, 'hat': 6441, 'blah': 2329, 'arg': 1597, 'job.i': 7532, '100': 597, 'asshole': 1690, 'liek': 8122, 'vincentdooly': 14174, 'dsmoore': 4574, 'fretting': 5627, 'throwing': 13366, 'bowling': 2516, 'realise': 10970, 'cricket': 3733, 'eatting': 4696, 'kraft': 7854, 'coz': 3660, 'note': 9519, 'gabba': 5756, 'lmaooo': 8234, 'horrid..but': 6823, 'dude..i': 4590, 'all..': 1320, 'ow': 9904, 'realized': 10975, 'splinter': 12478, '//twitpic.com/py9p': 504, 'boyfriend/girlfriend': 2525, 'kelly': 7704, 'clarkson': 3254, 'nh': 9370, 'wuw': 14786, 'craigsanaotmy': 3682, 'uhhhhh': 13866, 'taquisha': 13056, 'swear': 12926, 'lie': 8119, 'fiancee': 5311, 'era': 4916, 'studio': 12747, 'classic': 3258, 'session': 11798, 'mall': 8505, 'kanjiong..': 7654, 'la..': 7904, 'eclipse': 4703, '.did': 327, 'liberal': 8111, 'flash': 5407, 'mistake': 8904, 'stephanie': 12627, 'meyer': 8789, 'cain': 2802, 'missu': 8902, 'mmmmmmmmm': 8931, 'idkkkkkk': 7000, 'mayday': 8645, 'parade': 9988, 'stereo': 12631, 'thanx': 13232, 'kansa': 7656, '-dorthy': 234, 'clark': 3252, 'looked': 8306, 'sloshed': 12161, 'animatronic': 1452, 'effect': 4732, 'nap': 9231, 'planned': 10324, 'erase': 4917, 'youd': 14958, 'merciless': 8755, 'fun-making': 5711, 'latin': 7980, 'commence': 3423, '.now': 362, 'stud': 12745, 'thwirl': 13391, 'checker': 3090, 'decorated': 4035, 'rid': 11297, 'team': 13099, 'crybaby': 3780, 'uf': 13845, 'staff/players': 12561, 'puke': 10741, 'explore': 5083, 'trashed': 13630, 'irresponsible': 7322, 'garbage': 5794, 'perk': 10153, 'buttercup': 2745, 'cabbage': 2788, 'lock': 8260, 'congregation': 3506, 'daniel': 3935, 'elton': 4786, 'john': 7545, 'lordschmindie': 8326, 'jungle': 7615, 'force': 5516, 'hurt/help/stand': 6927, 'stretch': 12716, 'touch': 13559, 'wall': 14306, 'self-serving': 11747, 'confession': 3489, 'tattling': 13077, 'plicating': 10355, \"'fuck\": 35, 'stocking': 12662, 'itunes': 7375, 'scene': 11618, 'disgusting': 4316, 'rawr': 10944, 'avoid': 1804, 'brush': 2636, 'grief': 6138, '.hate': 340, 'poker': 10393, 'normally': 9499, 'motivation': 9039, 'politician': 10405, 'anally': 1418, 'raped': 10917, 'lube': 8393, 'ideal': 6984, 'chrisssy': 3189, 'chantelle': 3042, 'alesha': 1300, 'kailee': 7651, 'torus': 13545, 'iddkkkkk': 6982, 'genre': 5880, 'fuzzy': 5739, 'doodle': 4444, 'he/she': 6489, 'devastatingly': 4178, 'good-looking': 6026, 'revenge': 11255, 'snubbed': 12268, 'cube': 3793, 'umm..': 13886, 'kn': 7800, 'co-pilot': 3328, 'tonight': 13504, 'awake': 1809, 'latina': 7981, 'accent': 1087, 'speaking': 12422, 'ifuckinloveyou': 7010, 'sucks.merry': 12812, 'celebrating': 2975, \"'firsts\": 34, '-the': 255, 'mclaine': 8664, 'idk.down': 6997, 'buckeye': 2661, 'butter': 2744, 'w/chocolate': 14257, 'yummm': 15010, 'bwnt': 2765, 'headed': 6493, 'flock': 5437, 'heresy': 6584, '100pancheros': 603, '1chipotle': 675, 'here-it': 6579, 'st': 12549, 'pat': 10043, 'soulja': 12369, 'talent': 13026, 'image': 7068, 'aaye': 1049, 'gre': 6116, 'gay-re': 5824, 'anonymously': 1477, 'natalie': 9245, 'wazap': 14388, 'hav': 6465, 'si': 11995, 'forcing': 5518, 'cane': 2865, 'gtg': 6191, 'luvya': 8423, '..sad': 298, 'goodbye': 6032, 'addict': 1150, 'day..': 3973, 'hoody': 6790, 'scary': 11613, 'legendary': 8057, 'they..': 13283, 'screw': 11674, 'state': 12599, 'obsessing': 9616, 'delivery': 4086, 'markmancao': 8573, 'stll': 12659, 'ahahahaha': 1236, 'yer': 14903, 'needd': 9290, 'yaa': 14845, 'phonee': 10229, 'ahah': 1232, 'owww': 9912, 'yhu': 14922, 'stratched': 12698, 'yeahh': 14873, 'th': 13206, 'nextt': 9362, 'awhhh': 1831, 'loveyouto': 8371, 'vagabond': 14084, 'were..': 14458, 'the.perfect.dog': 13245, 'b/c': 1865, 'erk': 4923, 'sod': 12296, 'rod': 11361, 'serling': 11789, 'nearby': 9275, 'fell': 5285, 'incident': 7130, 'comp': 3438, 'subjective': 12784, 'adopted': 1175, 'non': 9457, 'celibate': 2981, 'mourns': 9051, 'celibacy': 2980, 'demise': 4094, 'condolence': 3484, '//twurl.nl/a16z8c': 543, '11a-2p': 621, 'orbitcast': 9811, 'launching': 7995, 'sirius': 12060, 'xm': 14817, '//tinyurl.com/a49xds': 492, 'challenge': 3026, 'karrock': 7668, 'nut': 9567, 'manitoba': 8534, 'itself': 7373, 'ride': 11299, 'spelled': 12443, 'differently': 4246, 'spehshul': 12439, 'insulin': 7235, 'd.': 3873, '_o': 1026, 'uv': 14063, 'filter': 5340, 'kit': 7779, 'glare': 5962, 'grandpa': 6094, 'garden': 5796, 'freeze': 5615, 'obviously': 9622, 'helping': 6566, 'disabled': 4288, 'worthwhile': 14733, 'photobucket': 10232, 'lerner': 8081, 'andsoitis26': 1430, 'stranded': 12692, 'desert': 4143, 'island': 7340, 'link..': 8179, 'good..': 6027, '//tinyurl.com/6xmnyr': 480, 'payment': 10073, 'bust': 2730, 'skate': 12087, 'boarding': 2416, 'utopia': 14059, 'ron': 11390, 'browz': 2629, '1000+questions': 599, 'yesterday.but': 14913, 'yesterday.what': 14914, 'remaining': 11132, 'authorized': 1775, 'squatting': 12526, 'testosterone': 13192, 'mega': 8715, 'soccer': 12285, 'honk': 6780, 'horn': 6814, 'flip': 5428, 'hormone': 6813, 'league': 8026, 'lolss': 8289, 'lds': 8020, 'weapon': 14398, 'shane': 11843, 'germany..now': 5894, 'hotel': 6840, 'work-out': 14711, 'routine': 11428, '..if': 285, 'shape': 11845, 'mentally': 8744, 'apparently': 1552, '4got': 864, 'spencer': 12447, 'antler': 1502, 'leopard': 8076, 'planet': 10323, 'vvvvvvvummmmmmmmm': 14244, 'putting': 10783, 'hhaha': 6612, 'zune': 15061, 'enuff': 4892, 'facial': 5137, 'dominant': 4420, 'trait': 13612, 'among': 1406, 'east': 4680, 'herd': 6576, \"'cept\": 21, 'depart': 4112, 'vvvvv': 14242, 'sophisticated': 12352, 'eep': 4729, 'serious.real': 11784, 'athlete': 1720, 'cheat': 3082, 'appearance': 1556, 'level': 8094, 'whorey': 14561, 'fukka': 5705, 'hmmmmm': 6715, '.maybe': 358, 'nooooooo': 9483, 'spamming': 12404, 'chaos': 3044, 'cheetos': 3109, 'cheeseyyy': 3106, 'carl': 2900, 'stab': 12552, 'somewhat': 12326, 'professionally': 10654, 'english': 4861, 'begging': 2132, 'apology': 1548, 'chockenberry': 3170, 'lugar': 8401, 'childhood': 3141, 'hocking': 6727, 'loogies': 8303, 'personality': 10167, 'careing': 2896, 'genuinly': 5882, 'honduran': 6775, 'chilean': 3144, 'peruvian': 10178, 'lisa': 8192, 'med': 8700, 'quiet': 10839, '.goin': 337, 'mountains..and': 9047, 'nuvo': 9574, 'britt': 2602, 'grunny': 6186, 'onyd': 9756, 'say.also': 11588, 'excuse': 5046, 'lurk': 8418, 'oddest..': 9636, 'umm': 13885, 'layout': 8014, 'strap': 12697, 'empty': 4835, 'ft': 5671, 'mecha': 8696, 'canon': 2867, 'missile': 8891, 'array': 1622, 'bellowing': 2159, 'spy': 12519, 'br00t4l': 2532, 'powered': 10502, 'rocking': 11358, 'jeremy': 7486, 'album': 1292, 'teacher': 13094, 'mature': 8635, 'realllyyyy': 10981, 'tend': 13163, 'attracted': 1746, 'chillen': 3148, 'paul': 10061, 'jizz': 7519, 'tew': 13193, 'nd': 9268, 'iwill': 7384, 'cole': 3375, 'kreep': 7857, '//zi.ma/373a67': 557, 'sandwich': 11539, 'ingredient': 7188, 'known': 7823, 'humankind': 6897, 'immediate': 7080, 'disposal': 4332, 'uninteresting': 13954, 'beens': 2120, 'ick': 6973, 'contact': 3537, 'bsa': 2645, 'tech': 13112, 'bbf': 2055, 'ng': 9365, 'cardio': 2889, 'mycoke': 9169, 'reward': 11267, 'driven': 4536, 'milwaukee': 8851, 'alpine': 1352, 'ock': 9632, 'alert': 1299, 'dr.': 4489, 'underwear': 13927, 'boyshort': 2526, 'ahve': 1248, 'ehhh': 4748, 'good/day': 6030, 'term': 13177, 'ppt': 10511, 'printed': 10608, 'thus': 13389, 'deck': 4030, 'lovin': 8372, 'probable': 10625, 'homies': 6767, '7': 925, 'funn': 5719, 'approval': 1573, 'judging': 7591, 'caught': 2953, 'gai-damn': 5768, 'support': 12873, 'linked': 8180, 'stand': 12575, 'influence': 7178, 'grandma': 6092, 'sam': 11520, 'l.': 7894, 'basically': 2022, 'porshe': 10448, 'razor': 10949, 'ramon': 10897, 'surely': 12890, 'ultimate': 13880, 'warrior': 14344, 'shaking': 11837, 'rope': 11404, '9': 974, 'drop': 4547, 'marissa': 8567, 'nicole': 9386, 'gomez': 6018, 'nn': 9423, 'y0u': 14836, 'f0rq3+': 5121, 'b0u+': 1867, '+': 205, 'h03': 6259, 'midget': 8821, 'w/a': 14254, 'hookhand': 6796, 'hangin': 6395, 'collar': 3378, 'bury': 2721, 'd-e-a-d': 3872, 'autotune': 1788, \"mo'fos\": 8936, 't-pain': 12979, 'bond': 2447, 'freezing': 5617, 'sunny': 12851, 'ahead': 1238, 'simplicity': 12035, 'google': 6040, 'cleo': 3276, 'regular': 11093, 'size': 12078, 'mini': 8863, 'password': 10036, 'sucked': 12804, 'farely': 5202, 'teaachgee': 13092, 'mirror': 8878, 'monday': 8982, 'babble': 1878, 'sheet': 11873, 'doihknowyuh': 4408, 'andyuhrlike': 1434, 'spammingmyfs': 12405, 'involving': 7294, 'rhino': 11275, 'chasing': 3070, 'polo': 10411, 'cologne': 3386, 'represents': 11175, 'extremly': 5101, 'ate': 1716, '=/': 999, 'skittle': 12105, 'parnoid': 10009, 'stephen': 12630, 'txt': 13814, 'cnt': 3325, 'rotten': 11420, 'oak': 9599, 'hollow': 6746, 'hahhahaha': 6347, 'fantastic': 5198, 'too.lucky': 13515, 'sucks.how': 12811, 'scanman': 11601, 'asthepumpturns': 1706, 'judgemental': 7590, 'towards': 13579, 'victim': 14152, 'slipper': 12153, 'ozzy': 9917, 'osbourne': 9836, 'spammer': 12403, 'lonely': 8293, 'btr': 2648, 'limp': 8168, 'bald': 1956, 'yur': 15018, 'omgee': 9730, 'yodda': 14931, 'rate': 10935, 'chalking': 3023, 'seasonal': 11702, 'turning': 13741, 'cuddle': 3797, 'x.x': 14802, 'leat': 8038, 'nadda': 9211, 'hum': 6892, 'scrooge': 11682, 'bugging': 2675, 'underneath': 13916, \"'damn\": 28, 'retweeting': 11247, 'sucker': 12805, 'mannnyyy': 8541, 'strawberry-banana': 12702, 'smoothy': 12211, 'carrie': 2909, 'underwood': 13931, 'cheated': 3083, 'spice': 12456, 'answered': 1485, 'flintacious': 5427, 'final': 5343, 'documentary': 4395, 'continuity': 3550, 'spproductions': 12504, 'tellin': 13144, 'tony_d': 13509, 'novel': 9532, 'locus': 8263, 'horde': 6811, 'samba': 11524, 'amigo': 1401, 'literally': 8205, 'destroyed': 4168, 'mythbusters': 9184, 'nerdy': 9322, 'nerd..no': 9320, 'suprise': 12883, 'launch': 7994, 'nerdz': 9324, 'rool': 11395, 'bleeding': 2351, 'boycott': 2523, 'carry': 2912, '2010': 700, 'camaro.r': 2832, 'beastttt': 2082, 'yank': 14855, '//twitpic.com/tr56': 517, 'beta': 2201, 'wp': 14746, 'widget': 14583, 'panel': 9975, 'okayy': 9703, 'likeee': 8154, 'looove': 8319, 'audrey': 1754, 'buttt': 2753, 'allll': 1329, 'conversation': 3564, 'barack': 1998, 'yoo': 14936, 'kuszinn': 7879, 'kus': 7878, 'repeat': 11162, 'dooooo': 4449, 'nottt': 9530, '//tinyurl.com/94v4b5': 490, 'apple/hate': 1561, 'microsoft': 8812, '*faints*': 125, 'east-side': 4681, 'whaaaaa-': 14477, 'feelin': 5275, 'geeeezus': 5848, 'mufucka': 9107, 'yee': 14887, '=_=': 1001, 'stfu': 12643, 'shiit': 11898, 'gim': 5932, 'hahahahahaha': 6312, 'condom': 3485, 'steak': 12614, 'taquitos': 13057, 'rockettransfer.com': 11356, 'aj': 1269, 'court': 3645, 'dsm': 4573, 'impossible': 7102, 'breakfast': 2568, 'bathing': 2036, 'suit': 12829, 'swimming': 12947, 'pulled': 10744, 'ehealthtrust': 4746, 'robocop': 11348, 'd.w': 3876, 'poet': 10384, 'scorpion': 11649, 'ajula': 1271, 'herrr': 6593, 'skype': 12113, 'lsd': 8387, 'kudos': 7872, 'donning': 4435, 'apparel': 1551, 'scissors': 11642, 'knife': 7805, 'spear': 12423, 'sword': 12958, 'pencil': 10111, 'dildo': 4260, 'cattle': 2951, 'prod': 10644, 'timothy': 13429, 'carson': 2914, 'misplacing': 8888, 'losing': 8332, 'huuuh': 6934, 'ohky': 9681, '16.04.10': 649, 'comeback': 3407, 'experienced': 5072, 'elevator': 4771, 'fucken': 5684, 'fagget': 5151, 'pushing': 10772, 'daisy': 3898, 'hahlo': 6349, 'twhirl': 13768, 'tweetdeck': 13758, 'al': 1279, 'convos': 3567, 'understand': 13920, 'protect': 10698, 'import': 7100, 'saved': 11579, '400': 841, 'dpi': 4487, 'cussing': 3841, 'custard': 3843, 'crave': 3692, 'proper': 10683, 'existed': 5054, 'scissor': 11641, 'hating': 6460, 'complex': 3459, 'explains': 5080, 'jar': 7443, 'squatter': 12525, 'bounce': 2506, 'offer': 9651, 'fuck-ton': 5680, 'fridge': 5632, 'ours': 9855, 'sweezy': 12944, \"y'all\": 14833, 'havin': 6472, 'mimosa': 8852, 'homey': 6764, 'eviscerates': 4998, 'matthew': 8632, '//tinyurl.com/6becmm': 471, 'campaign': 2841, 'terrible': 13180, '-politicians': 246, 'ethic': 4955, 'exam': 5029, '2x': 770, 'md': 8668, 'recovering': 11037, 'andre': 1428, '3000': 781, 'reconsider': 11031, 'liter': 8204, 'ature': 1749, 'subject': 12783, 'wholeheartedly': 14542, 'bathtub': 2040, 'restrain': 11221, 'knocking': 7814, 'leaving': 8043, ':1': 991, 'brighten': 2592, 'considerably': 3518, 'cert': 3003, 'strikingly': 12721, 'embarq': 4801, 'high-tech': 6625, 'cam': 2830, 'meldcole': 8723, 'us': 14034, 'schtick': 11633, 'price': 10589, 'valid': 14091, 'stupidest': 12768, 'cell': 2983, 'aboustly': 1066, 'brain-deficient': 2545, 'gaia': 5769, 'faggy': 5156, 'phony': 10230, 'giggling': 5927, 'single': 12047, 'combined': 3402, 'birthday/christmas': 2282, 'supply': 12872, 'mythbuster': 9183, 'alameda': 1283, 'e.a': 4653, 'elequant': 4770, 'attention': 1742, 'foing': 5467, 'vvvvvvv': 14243, 'jew': 7502, 'equate': 4911, 'political': 10404, 'criticism': 3745, 'israel': 7347, 'calling': 2822, 'established': 4945, 'freedom': 5611, 'rocket': 11355, 'celery': 2979, 'across': 1123, 'lane': 7945, 'spinning': 12468, 'bronx': 2617, 'strongest': 12733, 'emotion': 4826, 'invited': 7289, 'colder': 3373, 'indyank': 7164, 'harisn': 6430, 'everytime..': 4993, 'time..': 13424, 'most..': 9031, 'lighted': 8138, 'behaves': 2138, 'slumlord': 12168, 'nutty': 9572, 'ttc': 13710, 'brownie': 2625, 'discover': 4306, 'upon': 14009, 'sucha': 12799, 'dj': 4369, 'che..dude': 3077, 'heavily': 6520, 'slackin': 12117, 'skidding': 12091, 'grass': 6106, 'tide': 13403, 'techie': 13113, 'history': 6677, 'truace': 13686, 'bck': 2060, 'rarely': 10926, 'ignore': 7017, 'understanding': 13922, 'mets': 8786, 'adding': 1154, 'payroll': 10076, 'collapse': 3377, 'division': 4362, 'lead': 8022, 'gather': 5812, 'express': 5091, 'confusion/enjoyment': 3497, '20min': 703, 'assumed': 1699, 'fireplace': 5367, 'chimney': 3152, 'duct': 4586, 'according': 1098, 'baltimore': 1964, 'slim': 12148, 'thin': 13293, 'gns3': 5994, 'dynamips': 4647, 'almond': 1338, 'supplement': 12871, '2mrrw': 760, 'tumblr': 13726, 'inversely': 7283, 'affect': 1194, 'justlikeanovel': 7631, '*raises': 167, 'gaily*': 5770, 'darling': 3945, 'holla': 6745, 'supergay': 12862, 'fcuk': 5256, '.spencer': 377, 'kkkk': 7790, 'ricotta': 11296, 'burned': 2712, 'accurately': 1107, 'cheesey': 3105, 'welll': 14448, 'useing': 14042, 'compliment': 3461, \"''fake\": 7, 'reall': 10977, 'drawing': 4506, 'blank': 2339, 'b-mo': 1862, 'whoop': 14547, 'normal': 9498, 'ugli': 13855, 'ahha': 1242, 'ughk': 13853, 'frmo': 5653, 'arsclan': 1631, 'tower': 13581, 'series': 11780, 'midieval': 8822, 'upgradable': 14001, 'pathway': 10052, 'continual': 3545, 'ooooh': 9768, 'weasel': 14402, 'post-nerd': 10475, 'procrastination': 10642, 'surgery': 12896, '45-60': 849, 'sized': 12079, 'bladder': 2326, 'zro': 15059, 'march': 8554, 'ironic': 7314, 'cicar': 3219, 'race': 10861, 's-l-o-w': 11485, 'struggled': 12737, 'edmund': 4722, 'gwenn': 6250, 'canada': 2849, 'tbh': 13086, 'smileyyyyy': 12201, 'dood': 4443, 'maynn': 8649, 'bee': 2115, 'trippin': 13671, 'dridri': 4527, 'steph125': 12626, 'dependent': 4119, 'think..': 13301, 'fourteenth': 5573, 'proceeded': 10635, 'atleast': 1729, 'royal': 11434, 'rigga-ma-rool': 11307, 'buts': 2741, 'automated': 1785, 'bottom-feeding': 2503, 'fish': 5378, 'category': 2945, '|': 15068, 'wordsliveinlies': 14707, 'scrappys_girl': 11664, 'madonna': 8471, 'dero': 4138, 'girllfriend': 5944, 'uglly': 13857, 'willll': 14607, 'evven': 5009, 'youur': 14983, 'callled': 2823, 'katellyn': 7673, 'aggress': 1218, 'kristens': 7860, 'tighht': 13407, 'happenedd': 6407, 'ibuprofin': 6965, '10:40': 610, 'underthink': 13925, 'phrase': 10240, 'impression': 7105, 'bubbly': 2657, 'sunshine': 12855, 'awesomeness': 1823, 'aries': 1606, 'hash': 6438, 'arrived': 1625, '.merry': 359, 'yogurt': 14934, 'pudding': 10738, 'lik': 8148, '~_~': 15074, '*runs': 172, 'away*': 1815, 'long-ass': 8298, 'gilligan': 5930, 'outfit': 9865, 'slipping': 12154, 'pull': 10743, 'castanza': 2932, 'maried': 8563, 'blueberry': 2405, 'dialogue': 4204, 'formspring.me': 5549, 'benyl': 2176, 'detail': 4170, 'telemarketers': 13136, 'chevere': 3123, 'daley': 3901, 'center..she': 2994, 'hispanic': 6672, 'school..': 11630, 'ricky': 11295, 'martin': 8589, 'truth': 13702, '*not*': 162, 'previously': 10586, 'sensitive': 11766, 'holidaze': 6744, 'pale': 9960, 'whore..': 14559, 'giant': 5918, 'flag': 5401, \"o'malley\": 9589, 'drank': 4502, 'culprit': 3805, 'gab': 5755, 'leprechaun': 8079, 'constant': 3527, 'whining': 14520, 'projectile': 10666, 'vomiting': 14222, 'volcanic': 14216, 'eruption': 4931, 'pumped': 10748, 'kellidunlap': 7703, 'hill': 6645, 'jaw': 7450, 'ache': 1113, 'anticipating': 1499, 'hottie': 6846, 'situation': 12074, 'temp': 13151, 'mommy': 8979, 'cheerleader': 3100, '*must': 158, '*': 92, 'bully': 2690, 'filmed': 5338, 'uncle': 13907, 'talkk': 13034, 'ticketing': 13399, 'tight': 13408, '//tinyurl.com/6fro26': 475, 'socialing': 12287, 'reflected': 11065, 'cookie': 3569, 'youthful': 14978, 'countdown': 3630, 'six': 12075, 'ring': 11318, 'behavior': 2139, 'alter': 1361, 'misperception': 8886, 'difficult': 4248, 'rw': 11479, 'months.you': 8999, 'tempted': 13159, 'druunk': 4567, 'one.no': 9745, 'toooo': 13522, 'easy.thats': 4689, 'hannukah': 6400, 'burst': 2720, 'laffing': 7921, '16': 647, 'hah': 6288, 'spirit': 12470, 'eisner': 4753, 'frank': 5589, 'government': 6069, 'regulating': 11095, 'personal': 10165, 'blogged': 2380, 'loyalty': 8385, '//refinedgeek': 444, 'com': 3396, 'question..': 10831, 'clint': 3291, 'eastwoods': 4687, 'farmer': 5204, 'el': 4757, 'torito': 13536, 'salsa': 11516, 'awesomely': 1822, 'walking': 14305, 'sitch': 12068, 'economy': 4706, 'zarlom': 15034, 'example': 5030, 'superman': 12865, '//tinyurl.com/5sgv8c': 464, 'closing': 3308, 'opening': 9787, 'drugz': 4554, 'belly': 2160, 'lawyer': 8006, 'juggling': 7597, 'thundercunt': 13384, 'childish': 3142, 'insult': 7236, 'knee': 7802, 'cardiac': 2887, 'crisis': 3743, '+prior': 214, 'help..': 6563, 'sandraknits': 11537, 'cece': 2969, 'sashakane': 11559, 'receipe': 11007, 'authenic': 1771, 'burrito': 2717, 'filling': 5335, 'tasty': 13071, 'daughter': 3961, 'paint': 9949, 'xen': 14813, 'nail': 9218, 'rumor': 11466, 'oh..that': 9667, 'jordy..': 7571, 'spiderman': 12460, 'fit': 5384, 'began.lol': 2129, 'italian': 7363, 'beef': 2118, 'ironically': 7315, 'deserve': 4145, 'unattractive': 13901, 'tightywhities': 13411, 'panty': 9981, 'cent': 2992, 'soy': 12390, 'tit': 13444, 'north': 9500, 'blackout': 2323, 'hime': 6653, 'teasing': 13109, 'blower': 2395, 'shovel': 11960, 'lonestar': 8296, 'understands': 13923, 'film': 5336, 'mute': 9150, 'lexi': 8099, 'hve': 6936, 'weridest': 14462, 'cutest': 3851, 'ach': 1112, 'beast': 2080, 'cybershopping': 3864, 'amazon.com': 1389, 'retailer': 11230, 'choice': 3172, '*hug*': 141, 'pregnancy': 10543, 'scare': 11603, 'boi': 2428, 'reasonable': 10993, '8+': 952, 'soulless': 12371, 'myer': 9170, 'bishes': 2285, 'mt': 9089, 'spokane': 12484, '7days': 945, 'skiers..': 12092, 'loved': 8363, 'yeah..': 14870, 'carbs': 2883, 'banana': 1972, 'gain': 5772, 'mass': 8608, 'cals': 2829, 'awhhhh': 1832, 'brings': 2596, 'fishing': 5380, 'litterally': 8211, 'commented': 3426, 'obliously': 9609, 'questiosn': 10833, '-rape-': 248, 'ohkay': 9679, 'watz': 14375, '3-5': 774, 'promo': 10672, 'min': 8853, 'promo-': 10673, 'aspect': 1669, 'restart..my': 11218, 'relentless': 11118, 'loxy': 8383, 'smtg': 12213, 'chury': 3215, 'cgy': 3013, 'cow-tipping': 3654, 'snipe-hunting': 12244, 'factor': 5145, 'btw..and': 2651, 'intestine': 7266, 'nervous': 9326, 'retirement': 11235, 'damnn': 3921, '3c': 812, 'raining': 10888, 'feeiling': 5273, 'electricity': 4765, 'ghetto': 5910, 'lake': 7926, 'librarian': 8112, 'connnnceidddddeddd': 3511, 'owned': 9908, 'metal': 8777, 'luv': 8420, 'littlebigplanet': 8214, 'crossovers-': 3760, 'incompatible': 7136, 'fiction': 5315, 'dragging': 4495, \"g'night\": 5746, 'hawt': 6477, 'girlie': 5943, '2008': 696, 'keeping': 7697, \"'buffy\": 19, 'kissed': 7775, 'wonderfully': 14681, 'father': 5226, 'ohio': 9677, 'viseversa': 14191, 'emotionally': 4828, 'detached': 4169, 'dreamy': 4519, 'roomates': 11397, 'atlanta..ew': 1727, 'jedi': 7465, 'nuthin': 9568, 'arousing': 1620, 'addictive': 1153, 'giggle': 5925, 'love/hate': 8360, 'skinny': 12098, 'alligator': 1326, 'chitown': 3166, 'r.': 10852, 'gator': 5816, 'suk': 12832, 'soul': 12368, 'reinvent': 11102, 'lappy': 7954, 'usin': 14046, 'fm': 5456, 'othrwise': 9848, 'bak': 1948, 'bbye': 2057, 'last.fm': 7965, 'hacking': 6278, 'mate': 8617, 'mah': 8482, 'ingen': 7187, 'dinosaur': 4272, 'tokusatsu': 13483, 'hammond': 6383, 'wilt': 14611, 'rebounding': 11003, 'cryn': 3781, \"hate'n\": 6443, 'is..and': 7331, 'scale': 11597, '1-10': 583, 'nico': 9384, 'height': 6542, 'ft/in': 5673, 'centimeter': 2995, 'pret': 10565, 'thug': 13377, 'wood': 14687, 'beetle': 2125, 'badhorse_': 1923, 'cutting': 3855, 'nerdyedge': 9323, 'steaming': 12619, 'injection': 7196, 'c++': 2780, 'win32': 14616, 'api': 1544, 'rebel': 10999, 'pushed': 10771, 'safeway': 11502, '2yrs': 771, 'lolis/moe/fansubs/mecha/yaoi': 8284, 'hebrew': 6524, 'k3': 7640, 'c0rnd0q': 2782, 'welp': 14450, 'shocker': 11924, 'blood': 2389, 'tape': 13051, 'loop': 8320, 'zig': 15044, 'idris': 7004, 'earl': 4661, 'n.o': 9195, 'drummer': 4557, '11': 616, '250': 723, 'lb': 8016, 'whatsoever': 14498, 'lobster': 8254, 'ligature': 8135, 'portland-area': 10458, 'assignment': 1692, 'editor': 4719, 'addressed': 1157, 'wondered': 14679, 'purty': 10768, 'relieve': 11123, 'hiccup': 6618, 'mungkin': 9125, 'berhasil': 2179, 'persistent': 10162, 'gmn': 5989, 'arse': 1632, 'midnight': 8823, '.don': 330, 'naw': 9261, 'whoo-hoo': 14545, 'ricksavage': 11294, 'elf': 4773, 'mia': 8800, '//twitpic.com/trf3': 518, 'learn': 8032, 'infertile': 7170, 'schitzephrenia': 11623, 'adolescent': 1172, 'stage': 12562, 'adhd': 1161, 'crazily': 3703, 'vick': 14150, 'skippin': 12101, '//www.vamooz.com/': 554, 'myyearbook.com': 9187, 'thoroughly': 13330, 'kickled': 7736, 'fabsubbing': 5128, 'negative': 9298, '44': 846, 'winnipeg': 14633, 'whore.': 14558, 'soooo': 12346, 'dontt': 4440, 'north.': 9501, 'atheist': 1717, 'fund': 5714, 'raiser': 10891, 'cablazo': 2792, 'depressing': 4125, 'valentine': 14087, \"'bah\": 17, 'humbug': 6899, 'girl..pretty': 5940, 'phat': 10204, '-p.': 245, 'concealed': 3469, 'me..': 8673, 'headbands/ponytails': 6492, 'caller': 2821, 'valet': 14090, 'prosciutto': 10688, 'salty': 11519, 'em..': 4790, 'crossing': 3758, 'dubai': 4577, 'inanimate': 7120, 'hooker': 6794, 'recession': 11015, 'whooping': 14553, 'alphabet': 1351, 'twinkle': 13776, 'kidd': 7738, 'ndd': 9270, 'knoo': 7815, 'reallyy': 10985, 'theeree': 13251, 'stupidd': 12766, 'scaredd': 11605, 'sayy': 11593, 'anythingg': 1526, 'myy': 9186, 'growl': 6170, 'pidpoid': 10258, 'splashed': 12475, '163': 652, '1.29': 588, 'aroundme': 1618, 'courrupted': 3642, 'interwebs': 7265, 'irl': 7311, 'fandom/reads': 5193, 'fanfic': 5194, 'survival': 12905, 'eagle': 4658, 'stompin': 12668, 'playoff': 10343, 'cowgurls': 3657, \"'talking\": 80, 'lolz': 8291, 'invite': 7288, 'geriatric': 5890, 'restroom': 11224, 'cleaned': 3267, 'future': 5736, 'jordan': 7568, '.we': 397, 'qoutes': 10809, 'muchos': 9103, 'allangoesdmb': 1322, 'av': 1789, 'cheer': 3097, 'detroit': 4175, 'rooting': 11403, 'file': 5328, 'whaaaaat': 14479, 'apply': 1566, 'line': 8173, 'wheel': 14504, 'indicates': 7153, 'spin': 12466, 'rush': 11473, 'youuuuuuu': 14987, 'meat': 8692, 'label': 7907, 'graph': 6103, 'input': 7205, 'hyundai': 6944, 'clay': 3263, 'aiken': 1254, 'noooo': 9480, 'aswell': 1711, 'uncomfortable': 13908, 'tcot': 13088, 'lmfao.r': 8240, 'hahagreat': 6295, 'that.i': 13239, 'advantage': 1184, 'appreciate': 1569, 'besides': 2183, 'amy': 1413, 'winehouse': 14626, 'refusal': 11072, 'rehab': 11096, 'jackie': 7404, 'remainder': 11131, 'nicee': 9375, 'sexuality': 11815, 'forecast': 5522, '//is.gd/clbj': 427, 'shan': 11842, 'kinqst0n': 7771, 'cuhz': 3802, 'forrreal': 5559, 'x86': 14804, '-v': 258, '-f': 235, 'darwin': 3948, '*hugz*': 143, 'west': 14466, 'noon': 9476, 'sumpin': 12840, 'reborn': 11002, 'wikipedia': 14596, 'anniversary': 1464, 'cried': 3734, 'buffy': 2671, 'sarah': 11552, 'michelle': 8806, 'gellar': 5860, 'hee': 6530, 'insurance': 7238, 'luckily': 8398, 'juicy': 7604, 'nay': 9263, 'woul': 14735, 'duke': 4603, 'awhhhhhhhhhhhhhhhhhh': 1833, 'arab': 1585, 'reach': 10960, 'offence': 9645, 'hatemail': 6453, 'hilarious': 6640, 'biker': 2266, \"can't/wo\": 2848, 'washing': 14352, 'cait': 2804, 'lightsabers': 8145, 'alcoholic': 1295, 'basic': 2021, 'structure': 12735, 'neither': 9308, 'whaaa': 14475, 'chuuu': 3217, 'doooinnn': 4448, 'guuurrrrrrlllll': 6237, 'hungry': 6916, '//twitpic.com/wlgq': 533, 'pice': 10249, 'trasler': 13633, 'latke': 7983, 'opportunity': 9794, 'z-co': 15028, 'specified': 12431, 'forgotten': 5541, 'masculine': 8601, 'succeed': 12793, 'ryan_b': 11482, 'bangle': 1983, 'purests': 10763, 'aaanyyywhoooooooo': 1040, 'uuuhm': 14060, 'marker': 8570, 'colored': 3389, '0_o': 576, 'holding': 6740, 'curious': 3826, 'bruce': 2631, 'springsteen': 12512, 'mum': 9120, 'tinder': 13431, 'hinders': 6658, 'waffle': 14285, 'linksys': 8182, 'v.5': 14068, 'swearing': 12927, 'marries': 8582, 'russell': 11474, 'adorable': 1176, 'year..who': 14881, 'thinkkk': 13307, 'yhur': 14923, 'prety': 10579, 'casue': 2934, 'flue': 5448, 'squirrel': 12532, 'walked': 14302, 'guilt': 6212, 'succeeded': 12794, 'frequent': 5623, 'sizing': 12081, 'chart': 3067, 'childrens': 3143, 'distinctive': 4343, 'monkey': 8992, 'everydamnday': 4982, 'coke': 3369, 'latter': 7985, 'like/hate': 8151, 'eatin': 4693, 'throne': 13359, 'gaza': 5832, 'feeding': 5272, 'waging': 14287, 'breding': 2576, 'cartoon': 2918, 'network': 9333, 'controversial': 3561, 'cigar': 3220, 'tweetup': 13765, 'mock': 8945, 'underpays': 13919, 'harassed': 6418, 'belittled': 2153, 'protecting': 10699, 'brb': 2564, 'slitting': 12157, 'wrist': 14758, 'aunt': 1761, 'tmi': 13455, 'watchin': 14362, 'folk': 5473, 'madmain': 8469, 'yummie': 15009, 'looooooove': 8317, 'boy/girl': 2522, 'scout': 11658, 'obese': 9606, 'trusted': 13698, 'coworkers': 3659, 'relate': 11106, 'stuff-': 12753, 'process-': 10637, 'decides': 4027, 'armpit': 1611, 'aliea': 1309, 'jesse': 7496, 'james': 7426, 'joplin': 7567, 'pony': 10423, 'ditto': 4355, 'spent': 12451, 'gwen': 6249, 'youposted': 14967, 'nooooo': 9481, 'opposed': 9795, 'tease': 13107, 'there..': 13271, '.they': 387, 'funniest': 5722, 'ngl': 9368, 'screwed': 11675, 'empire': 4830, 'northbrook': 9502, 'bahaha': 1935, 'throwed': 13365, 'joint': 7555, 'willl': 14606, 'bahah': 1934, 'noooot': 9488, 'muchh': 9099, 'sucks..i': 12809, 'sky': 12110, 'scientific': 11637, 'memory': 8736, 'tweetin': 13761, 'nikkas': 9408, 'focused': 5461, 'hustla': 6932, 'duck-i': 4582, 'out-duck': 9859, 'seatac': 11705, 'riding': 11305, 'ol': 9713, 'treated': 13648, 'wth': 14777, 'bl': 2314, 'relax': 11112, 'dive': 4359, 'broadband': 2608, 'beggar': 2130, 'chooser': 3178, 'hypocrite': 6941, 'badge': 1922, 'tip': 13436, 'greek': 6124, 'boomer': 2467, 'blanket': 2340, 'bam': 1965, 'supe': 12858, 'entered': 4877, 'whore-ay': 14556, 'skip': 12099, 'pe': 10081, 'ed': 4709, 'hardy': 6427, '*are*': 104, 'craft': 3680, 'mafia': 8474, 'clinic': 3289, 'shooooo': 11930, 'training': 13611, 'gow2': 6071, 'xbox': 14807, 'amount': 1408, 'stupidity': 12769, 'devoid': 4185, 'knowledge': 7821, 'intalnirile': 7241, 'viitoare': 14171, 'pentru': 10124, 'asta': 1705, 'din': 4263, 'pacate': 9927, 'nu': 9549, 'sa': 11490, 'ajung': 1272, 'penga': 10117, 'candle': 2862, 'nondescript': 9466, 'samantha': 11522, 'lmao.r': 8232, 'although': 1365, 'diz': 4368, 'steelers': 12621, 'zac': 15030, 'president': 10559, 'united': 13957, 'angelzilla': 1441, 'false': 5183, 'nightmaremyles': 9402, 'replying': 11170, 'personaly': 10171, 'inspire': 7220, 'striped': 12725, 'non-coffee': 9459, 'drinker': 4531, 'ever..jason': 4976, 'jason': 7446, 'belive': 2154, 'haiku': 6351, 'dickenson': 4219, 'poetry': 10385, 'righ': 11308, 'shotgun': 11946, 'flow': 5444, 'boooooring': 2471, '*sleeps*': 182, 'longest': 8301, 'ckuss': 3242, '..you': 309, 'wrap': 14749, 'willy': 14610, 'tj': 13451, 'cosign': 3610, 'mid': 8817, '90': 976, 'daylight': 3979, 'demon': 4099, '3-year-old': 775, 'frontier': 5660, 'ordeal': 9812, 'atmospher': 1731, 'task': 13067, 'gahh': 5766, 'filthy': 5342, 'puckering': 10737, 'sphincter': 12455, 'stolen': 12665, 'optimistic': 9802, 'violence': 14183, \"'peaceful\": 64, 'fatty': 5231, 'clinicals..which': 3290, 'life..': 8127, 'gay-for-pay': 5823, 'newegg.com': 9348, '500': 881, 'gig': 5922, '~*krystle*~': 15072, 'ohiuogdfgjnksdfgnisbgudbgubgfdgiubdbggiuhdfguihdfguihpgpuihgiudfhgjkhdghpdsfughudphypushgupghuhuhpuighghoihfdiogio': 9678, 'bathrobe': 2037, 'pcd': 10079, 'ripping': 11322, 'phillips': 10215, 'ba-dum-bum': 1872, 'vote': 14224, 'web-voter': 14407, 'terrified': 13181, 'biiiiiishop': 2264, 'femmes': 5292, 'blog..she': 2379, 'wendy': 14452, 'oriental': 9824, 'grilled': 6144, 'gram': 6089, 'direct': 4277, 'church': 3213, 'oil': 9687, 'spill': 12464, 'hunger': 6915, 'stache': 12556, 'tug': 13724, 'lem': 8065, 'fair': 5163, 'colour': 3391, 'overated': 9882, 'typing': 13825, 'ummmmm': 13890, 'plain': 10320, 'vanilla': 14099, 'raseberry': 10929, 'cheesecake': 3104, 'lab': 7906, 'pimped': 10279, 'gold': 6011, 'uhhh': 13864, 'frensh': 5621, 'arabic': 1586, 'egypt': 4742, 'lotta': 8343, '1-5': 584, 'prom': 10670, 'gambit': 5779, 'funning': 5723, 'sleeve': 12135, 'liers': 8124, 'mobo': 8942, 'manufacturer': 8546, 'firmware': 5372, 'fence': 5293, 'taylor': 13085, 'grade': 6081, '*gag*': 130, 'showtime': 11971, '9829': 982, 'kindness': 7764, 'meowl': 8750, 'youuur': 14985, 'daddyyy': 3891, '5yrs': 908, 'learnin': 8034, 'newbie': 9346, 'drm': 4542, 'amazon': 1388, 'mp3s': 9068, 'floating': 5436, 'accidentally': 1093, 'rabbit': 10856, 'cage': 2801, 'dint': 4273, 'forehead': 5523, 'bros': 2620, 'perv': 10179, 'n.e.r.d': 9194, 'intelligent': 7244, 'lest': 8087, 'aural': 1763, 'utility': 14057, 'cust': 3842, 'svc': 12919, 'stubborn': 12743, '6gb': 921, 'ram': 10894, 'too..': 13513, 'woo': 14685, 'deaf': 3997, 'rating': 10938, 'math': 8621, 'university': 13960, 'violator': 14182, 'urself': 14032, '*sad': 173, 'day*': 3972, 'heh': 6533, 'employed': 4831, 'strip': 12723, 'usual': 14049, 'nkotb': 9421, 'dheyy': 4197, 'havee': 6468, 'causee': 2956, 'babygirl': 1890, 'thirsty': 13312, 'nj': 9419, 'fritos': 5649, 'adrianne': 1179, 'torres': 13542, 'dunkin': 4621, 'dumpling': 4617, 'rap': 10913, 'den': 4103, 'tweeting': 13762, 'acoustic': 1121, 'yamaha': 14854, 'squier': 12531, 'telecaster': 13134, 'dusty': 4631, 'partner': 10023, 'crutons': 3778, 'stale': 12568, 'bread': 2565, 'begin': 2133, 'charger': 3055, 'ace': 1111, 'logo': 8268, 'itellyouthat.com': 7365, 'orthodontics': 9834, 'airplaning': 1264, 'cuss': 3839, 'ud': 13843, 'lyk': 8430, 'suxd': 12918, 'dick.bt': 4216, 'rit': 11325, 'b4': 1871, 'cyandle': 3861, 'pc': 10077, 'queer': 10826, 'ftr': 5674, 'motor': 9043, 'liquid': 8189, 'jumper': 7609, '*goes': 136, 'god*': 6000, 'ye': 14863, 'olde': 9716, 'proposition': 10687, 'marrying': 8584, 'gitu': 5949, 'jaman': 7423, 'dulu': 4606, '_him_': 1025, 'guantanamo': 6193, 'bay': 2048, 'brand': 2551, 'hmm..popcicles': 6701, 'shredded': 11973, 'wb': 14389, 'munte': 9127, 'sherrieholmes': 11886, 'louislandon': 8352, 'petefromthehip': 10186, 'encouraging': 4844, '314.': 787, '..i': 283, 'axcuse': 1850, 'oatmeal': 9601, 'downside': 4479, 'indianola': 7152, 'meetups': 8714, 'isolation': 7346, 'post-traumatic': 10477, 'inbred': 7125, 'bomb': 2437, 'athletic': 1721, 'radio': 10874, 'station': 12604, 'passport': 10035, 'cabo': 2794, 'integrate': 7242, '401': 843, 'cobourg': 3342, 'kingston': 7769, 'joyous': 7582, 'trek': 13651, 'relative': 11111, 'phn': 10220, 'bullshit': 2688, 'here..im': 6582, 'bousta': 2512, 'promote': 10675, 'cash': 2926, 'suffering': 12823, 'grey': 6136, 'supporting': 12876, 'b-list': 1861, 'ilyke': 7063, 'bitchh': 2296, 'temperature': 13153, 'tundra': 13728, 'coffeeclub': 3365, 'choke': 3173, 'banging': 1980, 'michigan': 8807, 'superstar': 12868, 'woodson': 14689, '23': 712, 'okc': 9707, 'annoyed': 1469, 'birdwalk..cuz': 2279, 'beat..but': 2084, 'sir..hell': 12059, 'd*': 3871, 'gucci': 6198, 'bandana': 1974, 'aite': 1268, 'hott': 6843, '130': 637, '165': 653, 'solid': 12304, 'aching': 1117, '//xrl.us/greengiant': 556, 'celtic': 2989, 'kobe': 7832, 'interesting': 7256, 'filtered': 5341, 'camcorder': 2834, '3rd': 822, 'flaming': 5405, 'mantra': 8544, 'rebellion': 11000, 'goddamm': 6004, 'costco': 3615, 'ranch': 10901, 'diner': 4265, 'sand': 11532, 'w/42': 14253, 'plasma': 10328, 'groovy': 6160, 'capuccino': 2878, 'pur': 10759, 'rick': 11292, 'warren': 14343, 'invocation': 7290, 'neighborhood': 9305, 'bh': 2231, 'host': 6830, 'verse': 14135, '.just': 352, 'auto': 1776, 'tuning': 13731, 'megavideo': 8719, 'offshore': 9661, 'hoster': 6833, 'giggled': 5926, 'dyslexic': 4648, 'fluffy': 5451, 'rubbing': 11444, 'followed': 5476, 'carpool': 2908, 'gayest': 5829, 'blondie': 2388, 'kombat': 7839, 'mom/dad': 8972, 'monroe': 8995, 're-read': 10957, 'tho..im': 13323, 'while..sucks': 14516, 'knight': 7806, 'learning': 8035, 'spite': 12474, 'climbed': 3287, 'michaela': 8804, 'avocado': 1803, \"'good\": 37, 'indulged': 7161, 'homemade': 6758, 'nacho': 9207, 'olive': 9722, 'oh..': 9666, 'kanyes': 7658, 'ohhhhh': 9673, 'chance': 3035, 'cheesteak': 3107, 'reg': 11075, 'overjoyed': 9886, 'section': 11717, 'sweetheart': 12940, 'clash': 3255, 'complement': 3456, 'habit': 6273, 'uh': 13861, 'mobile': 8940, 'ummmmmmm': 13892, 'nicest': 9377, 'tourn': 13575, 'ashley': 1650, 'ooo..': 9763, 'grumpy-face': 6185, 'grumpier': 6184, 'rudy': 11455, 'ily2': 7062, 'healthy': 6504, 'www.icareformybody.info': 14793, 'play-that': 10336, 'tweens': 13755, 'w/potty': 14263, 'crossed': 3757, 'w/1': 14251, 'allisoncarter': 1327, 'correct': 3601, 'moron.i': 9025, 'meet..still..i': 8712, '-.-': 218, 'tie': 13404, 'sticky': 12649, 'paaaaaaaarrrtttyyyy': 9926, 'wow-this': 14744, 'resolution': 11203, \"'09..\": 13, 'gno': 5991, 'yak': 14852, 'blk': 2372, 'polo/cargo': 10412, 'pants/white': 9979, 'runner': 11471, '//twitpic.com/t47m': 514, 'motto': 9045, 'jammas': 7430, 'tire*': 13441, 'spelling/grammar': 12445, 'wore': 14708, 'sometiimes': 12321, 'unwieldy': 13989, 'lenee': 8073, 'bo*o': 2414, 'incense': 7128, 'episcopalian': 4906, 'funeral': 5715, 'choked': 3174, '+_+': 211, 'hifftt': 6623, 'limit': 8165, 'december': 4021, 'decoration': 4036, 'selling': 11753, 'august': 1759, 'hookup': 6797, 'jaja': 7418, 'mua': 9094, 'ck4u': 3240, 'lmfaooo': 8242, 'raycroft': 10947, 'hunter': 6919, 'ruined': 11460, 'benson-': 2173, 'bank': 1986, 'dont/': 4438, 'gun': 6224, 'defend': 4050, 'zombie': 15052, 'cruel': 3769, 'buncha': 2700, 'bein': 2144, 'huddled': 6877, 'winamp': 14617, 'browser': 2628, 'dying': 4644, 'ummmmmm': 13891, 'idaho': 6980, 'friends..': 5640, 'tabiahhhh': 12994, 'epi': 4903, 'todd': 13473, 'ruinning': 11462, 'twitch': 13782, 'marks-a-lot': 8574, 'pork': 10445, 'sausage': 11574, 'squirting': 12535, 'pokemon': 10392, 'wu-tang': 14778, 'clan': 3248, 'mannered': 8540, 'awz': 1848, 'ovum': 9903, 'spotty': 12501, 'heartbeat': 6512, 'fam': 5184, 'aujala': 1760, 'transatlantic': 13616, 'hi5': 6615, 'bitchling': 2299, 'suckas': 12803, 'translation': 13620, 'naty': 9254, 'alseep': 1357, 'talkin': 13032, 'spectrum': 12432, \"'89\": 14, 'cleveland': 3278, 'hon': 6774, 'hub': 6872, 'tryin': 13705, 'nahhh': 9215, 'srsy': 12544, 'ami': 1399, 'kat': 7671, 'comedy': 3409, 'flavio': 5411, 'louie': 8349, 'crown': 3764, 'actor': 1133, 'worm': 14723, 'downloading': 4477, 'suggestion': 12827, 'crazyness': 3705, 'nonetheless': 9468, 'strep': 12711, 'depeche': 4116, 'mode': 8949, 'se': 11689, '//twitter.com/tcar/status/1073343643': 541, 'student': 12746, 'xlr': 14816, 'mics': 8816, 'iron': 7313, 'moonlight': 9002, 'dryness': 4571, 'wakeup': 14298, 'response/actions': 11214, 'love/hate/dislike': 8361, 'yankee': 14856, '//tinyurl.com/8vgfyp': 488, '0the': 580, 'paybks': 10069, '*kate': 150, 'souter*': 12382, '//is.gd/ed5v': 430, 'toffee': 13477, '________': 1020, 'darlin': 3944, 'inconvenient': 7139, 'youuu': 14984, 'positive': 10466, 'trunk': 13696, 'sooner': 12344, 'beg': 2128, 'differ': 4243, 'prince': 10602, 'pancake': 9971, 'chappelle': 3047, 'clemmensen': 3275, 'cloape': 3299, 'destiny': 4166, 'beyond': 2222, 'nom': 9452, 'bark': 2008, 'scrabble': 11659, 'bethlehem': 2208, 'constantly': 3528, 'tourist': 13574, 'pussyr': 10777, 'dming': 4379, 'muster': 9147, 'yey': 14921, 'drunkenness': 4564, 'dialing': 4203, 'texting': 13200, 'disowned': 4327, '*grumble*': 138, 'magpie': 8481, 'plague': 10319, 'sneak': 12232, 'maul': 8636, 'information': 7182, 'gladly': 5959, 'whale-itis': 14484, 'unable': 13897, 'log': 8265, 'pocahontas': 10377, 'wanderer..faith': 14316, 'barbarian': 2002, 'typical': 13824, 'response': 11213, 'entitled': 4887, 'sb': 11594, 'hog': 6734, 'breathe': 2573, 'kurt': 7877, 'central': 2996, 'bare': 2005, 'slowest': 12163, 'highspeed': 6633, 'penne': 10121, 'amazingg': 1386, 'ckute': 3243, 'ducking': 4584, 'autocorrect': 1784, 'lameee': 7936, '3315': 792, 'donald': 4426, 'trump': 13695, 'aree': 1592, 'outrage': 9873, 'jbatman': 7457, 'crawl': 3694, 'biology': 2276, 'voted': 14225, 'artistic': 1642, 'decision': 4029, 'lasandwich': 7960, 'calculus': 2811, 'ahhhhh': 1247, 'snowinggggggg': 12262, '..arrrghghghghhhhh': 269, 'shite': 11910, 'slang': 12121, 'witten': 14656, 'ruin': 11459, 'racing': 10866, 'evo..metallic': 5000, 'stripe': 12724, 'tinted': 13434, 'florida': 5442, 'katy': 7678, 'perry': 10159, 'ooopsie': 9778, 'updating': 14000, 'eff': 4731, 'lolol': 8286, 'faking': 5176, 'stuuupid': 12772, 'huck': 6875, 'dlololol': 4374, 'hood': 6786, 'forsure': 5560, 'attended': 1740, 'necessarily': 9280, 'kissing': 7776, 'sexxx': 11817, 'bwahaha': 2762, 'prius': 10615, 'gallon': 5777, 'tank..': 13047, 'beneath': 2169, 'plz': 10372, 'wow..': 14745, '7:54pm': 943, 'haha..': 6290, 'know..': 7819, 'plusthe': 10370, 'nanny': 9229, 'doggy': 4404, 'mastiff': 8612, 'pure': 10761, 'bred': 2575, 'akc': 1275, 'grill': 6143, '.that': 383, 'sixth': 12076, 'dimension': 4262, 'becomes': 2106, 'iparty': 7301, 'loos': 8321, 'establish': 4944, 'alreadya': 1355, 'survive': 12906, 'khaos': 7723, 'flawww': 5417, 'buddieee': 2665, 'grrrrr': 6179, 'chat': 3071, '//www.chatzy.com/498131478193': 546, 'sake': 11508, 'arrogance': 1628, 'chavs': 3075, 'jock': 7537, 'latino': 7982, 'smexiest': 12195, 'ariel': 1605, 'warped': 14341, 'way..': 14380, 'studyin': 12749, 'ferrell': 5296, 'yim': 14928, 'chest': 3120, 'layoff': 8013, 'jk..': 7523, 'chitty': 3167, 'loser..that': 8330, 'compete': 3445, 'encourage': 4841, 'cancel': 2853, 'license': 8115, 'shez': 11890, 'probly': 10632, 'chested': 3121, 'ckant': 3241, 'anonymus': 1479, 'dumm': 4614, 'seaworld': 11708, 'religion': 11125, 'queensland': 10825, 'sans': 11544, '53': 892, '25': 722, 'tempature': 13152, 'howling': 6859, 'knoow': 7816, '..well': 307, 'closed': 3304, '36': 803, 'grannie': 6097, 'disneyland': 4325, 'barnes': 2010, 'noble': 9435, 'mamma': 8511, 'overnover-': 9891, 'goodness': 6037, \"''make\": 8, 'dunut': 4625, 'gg': 5906, 'wayne': 14381, '0n': 578, 'leprecon': 8080, 'jumped': 7608, 'scarred': 11612, 'yua': 14996, 'liil': 8146, 'h.b.m': 6256, 'fwum': 5740, 'needa': 9289, 'iit': 7033, 'neck': 9282, 'postage': 10479, '3-4': 773, 'recommended': 11029, 'spelling': 12444, 'misspelled': 8897, 'sony': 12339, 'lemenadeee': 8066, 'crashing': 3691, 'iloveeyou': 7050, 'deployed': 4122, 'fiat': 5312, 'icecubes': 6969, 'formerly': 5547, 'cheek': 3095, 'hahahahahaahaha': 6309, 'dakota': 3899, 'silvey': 12029, 'badevan': 1921, 'nyc': 9580, 'fox': 5576, 'roll': 11372, '12/31': 630, 'queenofspain': 10823, 'coast': 3337, 'certain': 3004, 'coaster': 3338, 'apart': 1541, 'typo': 13826, 'wyoming': 14798, 'emahsnouoy': 4793, 'beauty': 2096, '43': 845, 'kg': 7722, 'dieting': 4241, 'mekdot': 8721, 'despised': 4161, 'lousy': 8354, 'hiss': 6673, 'homebasenyc': 6753, 'much..*sigh*': 9098, 'ply': 10371, 'alpha': 1350, 'analyzing': 1423, 'owning': 9910, 'absolute': 1077, 'penelope': 10114, 'depressive': 4127, 'compaq': 3441, 'okayyyy': 9705, 'reckon': 11022, 'stayin': 12609, 'hers': 6595, 'orthodontist': 9835, 'docotr': 4392, 'jkjk': 7525, 'whoa': 14539, 'sirjee': 12061, 'slice': 12138, 'spray': 12506, 'bake': 1949, '10-15': 594, 'flipping': 5430, '375': 808, 'broil': 2612, 'wi': 14576, 'overload': 9887, 'scroll': 11680, 'upsetting': 14017, 'enjoyable': 4864, 'croons': 3754, 'tatum': 13079, 'krista': 7859, 'herer': 6583, 'oread': 9819, 'obsesed': 9614, 'jgarber': 7508, 'claimed': 3247, 'rhomboid': 11276, 'triangular': 13657, \"'washcloth\": 88, 'sedge': 11722, 'stitch': 12658, 'handed': 6387, 'pooped': 10431, 'spac': 12394, 'wah': 14288, 'fingered': 5354, '*coverage*': 113, 'hodgman': 6728, 'excerpt': 5039, 'conclude': 3477, 'bitach': 2289, 'didja': 4231, 'utah': 14055, 'procrastinating': 10641, 'keesha': 7698, 'directed': 4278, 'wpmu': 14748, 'slicehost': 12140, 'tutorial': 13748, 'creating': 3715, 'setup': 11805, 'fugly': 5699, 'desperate': 4157, 'thankz': 13230, 'yikes': 14927, 'knoww': 7824, 'attn': 1745, '..no': 292, 'badly': 1924, 'magenta': 8476, 'annoys': 1472, 'farwyde': 5207, 'till': 13415, 'tedious': 13119, 'cursed': 3835, 'chameleon': 3031, 'direction': 4279, 'aah': 1042, 'twitorfit.com': 13787, 'twitter/hotornot': 13795, 'mashup': 8604, 'clone': 3302, 'login': 8267, 'recycle': 11042, 'lol-': 8275, 'traffic-': 13604, 'spilled': 12465, 'piggy-chain': 10270, 'keychain': 7719, 'button': 2751, 'flashlight': 5408, 'permission': 10155, 'rice': 11286, 'fricken': 5629, 'diy': 4367, 'alb': 1289, 'cub': 3791, 'e.g': 4654, 'fitt': 5386, 'menu': 8748, 'edge': 4712, 'whatevs': 14495, 'n00b': 9196, 'hottest': 6845, 'cabel': 2789, 'unique': 13955, 'follwoing': 5482, 'disregard': 4335, 'offended': 9647, 'jelly': 7473, 'sandwhich': 11538, 'niiice': 9404, 'likewise': 8157, 'boricua': 2482, 'boricuas': 2484, 'rob': 11342, 'pattinson': 10059, 'installed': 7223, 'gom': 6017, 'match': 8615, 'weaponry': 14399, 'defenceless': 4049, 'oops': 9780, \"'defend\": 29, 'blubbery': 2402, 'ballsy': 1962, 'kohl': 7836, 'nora': 9496, 'demanding': 4090, '.haha': 338, 'dread': 4509, 'rage': 10879, 'hobo': 6725, 'loserrr': 8331, 'alraedy': 1353, 'heb': 6523, '27': 731, 'snowstorm': 12265, 'tallahassee..92': 13037, 'flipped': 5429, 'ambulance': 1394, 'kmellon': 7799, 'homeland': 6756, 'adfreak': 1160, 'mug': 9108, 'adrants': 1177, 'mousepad': 9053, 'misconstrued': 8881, 'suspended': 12913, 'cleanup09': 3271, 'cheque': 3116, 'bahahaha': 1936, 'va': 14073, 'heyheatherr': 6603, 'weatherr': 14405, 'oracle': 9807, 'peoplesoft': 10129, 'enrolment': 4871, 'debatable': 4013, 'unverified': 13988, 'sandbar': 11534, 'ehukai': 4750, \"honoli'i\": 6781, 'hilo': 6648, 'private': 10617, 'urgh': 14026, 'no1': 9432, 'hopin': 6807, 'pavlova': 10065, 'transport': 13624, 'expense': 5068, 'artist': 1641, 'rocker': 11354, 'f.o.e': 5118, 'crappy': 3687, 'nezua': 9364, 'cripchick': 3739, '0:37': 575, '//tinyurl.com/69rbnb': 468, 'soubd': 12367, 'luv/hate': 8421, 'championship': 3034, 'knicks': 7804, 'shalll': 11839, 'woohoo': 14693, 'srry': 12542, 'kook': 7844, 'benmack': 2172, 'deserved': 4146, 'explosion': 5085, 'mainstream': 8491, 'jailbreak': 7417, 'patch': 10044, 'n95': 9199, 'cam.no': 2831, 'graduated': 6085, 'is/was': 7332, 'shorten': 11942, '//tinyurl.com/8rkl9r': 487, 'rats-i': 10939, '//openzap.com': 438, '12-09-08': 626, '//ping.fm/f3aka': 442, 'flo': 5434, 'goodie': 6035, 'jamz': 7432, 'rotflmao': 11417, 'singing': 12046, 'seizure': 11740, 'zee': 15039, 'tighter': 13410, 'frog': 5655, 'fighting': 5324, 'w/your': 14269, 'painted': 9951, '..ahhh': 266, 'hottt': 6847, 'seniorrr': 11763, 'grizzly': 6153, 'originally': 9828, 'memphis': 8737, 'mayo': 8650, 'tow': 13577, 'forgeting': 5534, 'crunch': 3774, 'sounded': 12375, 'serving': 11796, 'basis': 2024, 'escalade': 4933, 'j/p': 7392, '*throws': 193, '52': 890, 'you*': 14950, 'pose': 10461, '*forgets': 128, 'number*': 9559, 'wrapping': 14751, 'environmentally': 4897, 'ian': 6958, \"'nam\": 54, 'thrown': 13367, 'explained': 5078, 'restricted': 11222, 'sidewalk': 12004, 'liqour': 8188, 'board': 2415, 'barstools': 2012, 'talisa': 13028, 'rat': 10933, 'water-': 14366, 'fire-proof': 5362, 'encrypted': 4845, 'forwarded': 5568, 'archived': 1588, 'hola': 6737, 'orli': 9831, 'www.luckystartups.com': 14794, 'interview': 7264, 'peep': 10103, 'nurse': 9565, 'traveling': 13638, 'fraking': 5583, 'arsehole': 1633, 'dick..': 4215, 'injuring': 7198, 'myself..': 9175, 'inflicted': 7177, 'desperate..which': 4158, 'am..': 1376, 'siiigghhh': 12016, 'ab': 1050, 'coolest': 3575, 'ap': 1537, 'm3': 8443, 'nn3r': 9424, 'qu': 10814, 'kly': 7797, 'luk3d': 8405, 'y0ur': 14837, 'f0rm': 5120, 'pr': 10513, 'nq': 9542, '+ur3': 215, 'b3': 1868, 'qq3': 10811, '0rq': 579, 'y3+': 14840, 'q0+': 10792, 'h0rny': 6260, 'd3n': 3882, 'vv3': 14240, '3x': 824, 'unpr0+3': 13974, '+3d': 209, 'd0': 3879, '+h': 213, 'nk': 9420, 'pr3qn': 10514, 'n+': 9193, 'yolanda': 14935, 'enemy': 4854, 'television': 13140, 'calamityjen': 2809, 'positively': 10467, 'plump': 10368, 'chubby': 3206, '//tinyurl.com/yozen3': 499, 'goshh': 6056, 'rocked': 11353, '~*gawd': 15071, '*eye': 123, 'roll*': 11373, 'heidi': 6540, 'twitter/last.fm': 13796, 'implied': 7097, 'evolved': 5004, 'bothering': 2500, 'knwo': 7827, '2012': 701, 'y2k': 14838, 'coat': 3339, 'jean': 7463, 'bomber': 2441, 'peyton': 10193, 'draft': 4491, 'rewrote': 11270, 'cloved': 3311, 'sca': 11596, 'salem': 11511, 'portland': 10457, 'seahawks': 11691, 'opponent': 9792, 'bean': 2075, 'starring': 12589, 'costner': 3616, 'dearest': 4005, 'babydoll': 1889, 'hitch': 6680, 'hike': 6638, 'babay': 1876, 'jew-boy': 7503, '//twitpic.com/tyu9': 519, 'slda': 12128, 'goten': 6061, 'closer': 3305, 'cn': 3323, 'betr.how': 2209, 'yeaaa': 14866, 'sm3ll': 12176, 'lykk': 8433, 'c0tt': 2783, 'q3': 10795, 'h33s3': 6263, 'gad': 5760, 'happens..glad': 6410, 'settled': 11804, 'denies': 4105, 'existence': 5055, 'argue': 1601, 'athiest': 1719, 'clarke': 3253, '160': 650, 'eeeeew': 4725, 't.t': 12982, 'paranoid': 9995, 'righteous': 11313, 'scream': 11667, 'distance': 4340, 'shuck': 11980, 'suv': 12916, 'hazard': 6482, 'concerned': 3473, 'frack': 5578, '7a-11p': 944, 'w/kids': 14259, 'nogin': 9445, 'advice': 1189, 'je': 7460, 'hebt': 6525, 'decide': 4024, 'sheos': 11881, 'pwoplw': 10787, 'haz': 6481, 'bandwagon': 1975, 'beiber': 2143, 'creatively': 3718, 'spiritually': 12472, 'onthe': 9754, 'raven': 10940, 'fed': 5269, 'tiny': 13435, 'spoon': 12496, 'fork': 5542, 'toothpick': 13529, 'whiterabbit819': 14531, 'jonas': 7564, 'freind': 5618, '*really*': 169, 'housework': 6852, 'waking': 14299, 'lr': 8386, 'department': 4114, 'marc': 8553, 'blucas': 2403, 'humanity': 6896, 'loveable': 8362, 'goof': 6039, 'douchebag': 4464, 'instantly': 7226, 'cbarrett': 2960, 'observed': 9613, 'repeatedly': 11163, '..are': 268, 'lmfaoo': 8241, 'sayoonarra': 11592, 'buzzed': 2760, 'twiddling': 13770, '*gasps*': 131, 'hasnt': 6439, 'selfish': 11748, 'selfless': 11750, 'dislexic': 4321, 'dork': 4455, 'embarrassed': 4804, 'favor': 5241, 'vaca': 14075, 'woowhoo': 14701, 'smokies': 12208, 'creek': 3724, 'infront': 7185, 'potentially': 10490, 'shooting': 11933, 'ru': 11440, 'facebk': 5133, 'mingle': 8862, 'yt': 14994, 'volume': 14219, 'blaring': 2342, 'celine': 2982, 'deon': 4111, 'kardashian': 7661, 'reggie': 11081, 'dirt': 4283, 'prostitues': 10694, 'cal': 2808, 'yeswhat': 14916, 'slumber': 12166, 'officially': 9658, 'function': 5712, 'sheeeeit': 11869, 'shaydechelle': 11860, 'wrapped': 14750, 'rotflmaooooooo': 11418, 'cumleone': 3812, 'teacup': 13097, 'faker': 5175, 'reveal': 11251, 'nerve': 9325, 'folded': 5469, 'drawer': 4505, 'hahahahahaahahahahahahhhahaha': 6310, '//twitpic.com/vme7': 530, 'bm': 2412, '.hey': 343, 'fullmoon': 5708, 'getogether': 5899, 'eddie': 4711, 'spreading': 12509, 'lay': 8008, '2gb': 748, 'supple': 12870, '1408': 642, 'thesoxroxmaster': 13281, 'thnksss.': 13320, 'thass': 13234, 'juss': 7624, 'grind': 6149, 'hamilton': 6380, 'immortal': 7084, 'invincible': 7286, 'privileged': 10618, 'all-powerful': 1319, 'above-da-law': 1071, 'i-am-da-law': 6951, 'justify': 7628, 'topic': 13533, \"henry's..\": 6571, 'haven': 6470, '//www.youtube.com/watch': 555, 'v=tkjyzhzhokm': 14071, 'feature=popular': 5263, 'moist': 8960, 'duncan': 4620, 'hines': 6660, 'lived': 8218, 'handy': 6392, 'mostly': 9033, 'moral': 9010, 'avidd': 1801, 'recharge': 11016, 'rad': 10870, 'assure': 1702, 'ought': 9852, '^__^': 1016, 'violated': 14181, 'payoff': 10074, 'confused': 3494, 'fixing': 5394, 'wiz': 14658, 'fixin': 5393, '//www.e-castig.com/index.php': 548, 'r=c1o6s': 10854, 'grossest': 6163, 'equal': 4909, 'excel': 5032, 'whine': 14518, 'chase': 3069, 'snake': 12223, 'str8': 12688, 'technically': 13115, 'penetration': 10116, 'vcard': 14110, 'virgin': 14187, 'ollie': 9724, '8:30': 968, 'swap': 12923, 'persnickety': 10163, 'reboot': 11001, '4chan': 861, 'maker': 8499, 'friendster': 5642, 'craziest': 3701, 'ohaii': 9668, 'hahahahahah': 6311, '//i120.photobucket.com/albums/o163/kelcee247/0000diesal.jpg': 419, 'craig': 3681, 'certainly': 3005, ':runs': 994, 'gangplank': 5789, 'phoenix': 10224, 'be..': 2067, 'boulder': 2505, 'peeps..': 10105, 'highest': 6628, 'outgoing': 9866, 'bundesliga': 2701, 'brasilian': 2557, 'bossanova': 2491, 'licking': 8117, 'lever': 8095, 'connect': 3508, 'exchange': 5042, 'enabled': 4838, 'active': 1130, 'sync': 12969, 'math/science': 8622, 'physic': 10241, 'histery': 6675, 're-think': 10958, 'set-up': 11800, 'mooosta': 9005, 'filipino': 5331, 'w/c': 14256, 'you..': 14952, '..be': 272, 'invisible': 7287, 'project': 10665, 'cheddar': 3093, 'heylin1234': 6604, '-_o': 226, 'oopsie': 9781, 'picturing': 10257, 'costume': 3617, 'prouder': 10706, 'shelf': 11877, 'edition': 4718, '..digitally': 275, 'remastered': 11135, 'sandra': 11536, 'lee': 8045, 'inthe': 7267, 'rechargeable': 11017, 'nastiness': 9240, 'krawt': 7855, 'smh': 12196, '.this': 388, 'nigg': 9391, 'ddd': 3991, 'neat': 9277, 'piling': 10273, 'ummm..im': 13888, 'quitter': 10844, 'kind/speed': 7758, '60': 913, 'deleting': 4076, '.seven': 374, 'seeeveeeennn': 11728, 'jking': 7524, 'softball': 12300, 'cory': 3609, 'erik': 4922, 'beginning': 2136, 'coltrane': 3392, 'zoom': 15058, 'prog': 10661, 'smelling': 12193, 'mpls': 9070, 'thatll': 13240, 'desing': 4153, 'discussion': 4312, 'art': 1636, 'technology': 13117, 'sm': 12175, 'urgent': 14025, 'sender': 11760, 'traveled': 13637, 'round': 11424, 'shank': 11844, 'rusty': 11477, 'grabbing': 6078, 'ankle': 1456, 'needing': 9293, 'food/care': 5493, 'chuu': 3216, 'babeyy': 1882, 'obsessed': 9615, 'shiny': 11901, '10lbs': 614, 'chubbier': 3205, 'posting': 10482, 'gene': 5866, 'annoy': 1468, 'san': 11531, 'diego': 4239, 'traf': 13602, 'probs': 10634, 'threw': 13353, 'healthier': 6503, 'boxed': 2518, 'wine': 14625, 'columbus': 3394, 'chillin': 3149, 'resident': 11198, 'overhaul': 9884, 'refer': 11057, 'separate': 11771, '50': 880, 'gears2': 5843, 'whattttt': 14500, 'o________o': 9595, '..nahhhh': 291, 'roller': 11376, 'extremely': 5100, \"would'nt\": 14737, 'resist': 11199, 'april2': 1579, 'haa': 6266, 'surprise': 12898, 'kaya': 7680, 'toast': 13465, 'hamlet': 6381, 'spoilt': 12483, 'martindeboer': 8591, 'rant': 10911, 'ryan': 11481, 'ross': 11410, 'il': 7041, 'wbeckett': 14390, 'donut': 4441, 'stone': 12669, 'fails': 5160, 'extend': 5094, 'paradigm': 9989, 'greeting': 6129, 'comfortness': 3415, 'liar': 8109, 'threat': 13347, 'coincidence': 3368, 'kindly': 7763, 'nazi': 9264, 'pickin': 10251, 'heckk': 6527, 'hillary': 6646, 'strange': 12693, 'uke': 13876, 'tempting': 13160, 'charango': 3050, 'string': 12722, 'millisecond': 8848, 'patience': 10053, 'willpower': 14609, 'love-sweet': 8359, 'comedy-mr.': 3410, 'deed': 4041, 'minnesota': 8870, 'hahahaahha': 6301, 'forgiving': 5539, 'forgettin..no': 5535, 'ways..': 14382, 'dy': 4641, 'chill': 3146, 'baptist': 1992, 'impact': 7090, 'generation': 5872, 'offend': 9646, 'deeply': 4043, 'on-': 9735, 'ferocious': 5295, 'cornered': 3594, 'rascally': 10928, 'with..': 14650, 'belonged': 2161, 'irritate': 7325, 'misconception': 8880, 'oxygen': 9913, 'afterward': 1207, \"'93\": 15, '29-5-4': 736, 'tamale': 13041, 'milk..': 8843, 'thang..the': 13216, 'worrying': 14726, 'respondin': 11212, 'favve': 5248, 'creep': 3725, 'pedophile': 10096, 'siiiigh': 12017, 'folding': 5471, 'becuz': 2110, 'entouch': 4888, 'jam': 7420, '//tinyurl.com/44aaob': 456, 'gigantic': 5923, 'cutter': 3853, 'bethharte': 2207, 'tag-team': 13007, 'whup-ass': 14567, \"c'mon\": 2778, 'beth': 2205, 'tf2': 13205, 'nashionality': 9237, 'ordinary': 9818, 'ulrike': 13879, '700.': 930, 'glutinous': 5984, 'farthest': 5206, 'youve': 14988, 'hometown': 6760, 'saran': 11553, 'rubber': 11443, 'questioning': 10832, 'travesti': 13639, 'immitate': 7082, 'singer': 12044, 'boardwalk': 2417, 'cedar': 2970, 'sari': 11558, 'clever': 3279, '//tinyurl.com/axf82t': 493, 'hahahhahaahhahaha': 6341, 'mod_alex': 8946, 'hahahahahahahah': 6316, 'meatspace': 8693, 'winding': 14620, \"'super\": 75, 'settle': 11803, 'knock': 7812, 'port+oj': 10450, 'it.as': 7360, 'remedy': 11137, 'theme': 13258, '.how': 346, 'hmmm..': 6707, 'starving': 12597, 'countries..well': 3636, 'food.r': 5492, 'missles': 8894, 'satelite': 11565, 'split': 12479, 'atom': 1732, 'control.r': 3559, 'inhumane': 7191, 'overlook': 9888, 'ut': 14054, 'giagantic': 5917, 'breast': 2571, 'poop': 10430, 'stock': 12661, 'yard': 14857, 'tumble': 13725, 'escalator': 4934, 'subconscious': 12782, 'smosh': 12212, 'smelled': 12192, 'gaga': 5763, 'christina': 3195, 'aguilera': 1228, 'bwaha': 2761, '._': 314, 'snowing': 12261, 'clipse': 3295, 'tom': 13489, 'breihan': 2579, 'invasion': 7281, 'c-': 2781, 'effort': 4735, 'unconvinced': 13910, 'marvel': 8593, 'slamming': 12119, 'sample': 11529, 'amici': 1400, 'feast': 5259, 'memeing': 8732, 'evo_terra': 5001, 'cock-measuring': 3348, 'fetish': 5301, 'drunken': 4562, '//en.wikipedia.org/wiki/charybdis_': 415, 'dumbed': 4611, 'lawlz': 8004, 'no..': 9430, 'dudo': 4593, 'astonishing': 1708, 'networking': 9335, 'squeezing': 12530, 'quickwitted': 10838, 'corporation': 3599, 'aquarium': 1583, 'jimmy': 7515, 'hotdog': 6839, 'sweetie': 12941, 'mixed': 8912, 'yeah..very': 14871, 'bcoz': 2061, 'resemble': 11193, 'xentury': 14814, 'discussed': 4310, 'osu': 9837, 'bcs': 2062, 'exposed': 5089, '36-exposure': 804, 'undeveloped': 13933, 'disappointed': 4297, 'removed': 11152, 'appeased': 1558, 'breathing': 2574, 'wierdest': 14586, 'dye': 4642, 'beluga': 2165, 'parenting': 10003, 'politics': 10406, 'smith': 12204, 'mammal': 8512, 'prophet': 10686, 'heterosexual': 6599, 'anal': 1417, 'amazingly': 1387, 'molotov': 8967, 'hamas': 6377, 'terror': 13184, 'sprawl': 12505, 'transportation': 13625, 'snuggie': 12270, 'traditional': 13601, 'blanket-loving': 2341, 'uhmmm': 13870, 'euro': 4961, 'alton-darby': 1367, 'decepticonian': 4023, 'incomprehensible': 7137, 'photogenic': 10234, '-not-': 243, 'thought-provoking': 13339, 'donnie': 4434, 'darko': 3943, 'no-': 9427, 'drumming': 4558, 'u32e1what': 13840, 'includes': 7133, 'cspers': 3785, 'stuffy': 12756, 'litter': 8210, 'portman': 10459, 'cuter': 3849, 'cancellation': 2854, 'wed.': 14414, '*already*': 102, 'blocking': 2377, 'hustle': 6933, 'mob': 8938, 'grave': 6113, 'regard': 11077, '//is.gd/a4vq': 422, 'twirl': 13778, 'crack': 3670, 'berry': 2182, '3204694136': 789, 'quest': 10829, 'collect': 3379, 'eleventy': 4772, 'billion': 2270, 'thousand': 13341, 'nudging': 9550, 'abt': 1081, 'otherwise': 9845, 'fone': 5486, 'blowin': 2396, '7foot': 946, '400lb': 842, 'wooosahh': 14697, 'h2o': 6262, 'roommate': 11399, 'tomcat': 13493, 'sweetest': 12939, 'ass..in': 1680, 'seriousness': 11787, 'teapot': 13102, 'fab': 5127, 'mariathemuse': 8562, 'aoa': 1535, 'kurot': 7876, 'tat': 13072, 'faa': 5125, 'lalala': 7932, 'daa': 3887, 'daaa': 3888, 'yuletide': 15006, 'carol': 2905, 'laaaa': 7905, 'spankin': 12409, 'girl..wow': 5941, 'stupid..': 12765, 'felching': 5284, 'redundant': 11051, 'anymore..': 1516, 'stored': 12681, 'asp': 1668, 'original': 9827, 'congratulating': 3503, 'humanitarian': 6895, 'lmao..': 8230, 'yurr': 15019, 'hm..': 6690, 'talkn': 13035, 'skank': 12085, 'laterrrr': 7977, 'cnn': 3324, 'cupidboi79': 3822, 'paulkaplan5': 10063, 'upstate': 14018, 'kobaa': 7831, 'uhm': 13867, 'wooden': 14688, 'dragon': 4496, 'collier': 3385, 'gleeful': 5966, 'kumbaya': 7874, 'serf': 11777, 'cheerful': 3099, 'supose': 12869, 'bragger': 2541, \"'online\": 63, 'she-wolf': 11864, 'root': 11402, 'faithless': 5172, 'struck': 12734, 'amor': 1407, 'okami': 9698, 'finished': 5356, 'oddly': 9637, 'mkdc': 8919, 'kinda..eesh..the': 7761, 'maaan-fuck': 8448, 'tryna': 13707, 'somet': 12317, 'blew': 2359, 'appointment': 1568, 'tangle': 13044, 'struggle': 12736, 'plzzz': 10373, 'itsah': 7372, 'hairflip': 6358, 'democracy': 4097, 'swings..': 12951, 'cheeky': 3096, 'notification': 9526, 'toyboy': 13585, 'kay': 7679, 'pollyanna': 10410, 'rbl': 10951, 'lookup': 8310, 'reinstall': 11101, 'server': 11793, 'regift': 11082, 'bama': 1966, 'pastor': 10042, 'troy': 13682, 'rough': 11422, 'revision': 11261, 'concise': 3476, 'munch': 9123, 'w/our': 14261, 'tyler': 13818, 'via': 14143, 'phone..kinda': 10227, 'a-hole': 1032, 'sharp': 11852, 'claw': 3262, 'yoghurt': 14933, 'post-shoe': 10476, 'narcissistic': 9233, 'prez': 10587, 'edith': 4716, 'ann': 1457, '//tinyurl.com/6a8yrr': 470, 'trial': 13656, 'limited': 8167, 'hall': 6371, 'spoiled': 12481, '108': 607, 'astoundingly': 1709, 'sham': 11840, 'vice-versa': 14147, 'paulcarr': 10062, 'mbites': 8654, 'demotix/i': 4101, 'ignorant': 7016, 'shld': 11921, 'knowledgeable': 7822, 'imitation': 7075, 'espn': 4940, 'nickis': 9381, 'tring': 13669, 'leavin': 8042, 'joking': 7558, 'ctrl': 3788, 'refresh': 11069, 'ocd': 9630, 'favv': 5247, 'waterpark': 14370, 'blink': 2364, 'friggin': 5645, 'biiig': 2263, '.come': 324, 'moddest': 8948, 'damage': 3907, 'boiled': 2429, 'closest': 3306, 'starbucks': 12584, 'driveu2013thru': 4538, 'ridiculed': 11302, 'realizing': 10976, 'whaat': 14480, 'orangatang': 9809, 'hahahahha': 6335, 'm33+': 8445, 'm0nd': 8442, 'v3': 14069, '3v': 823, 'scarlett': 11610, 'jp': 7583, 'plate': 10331, 'rudolph': 11453, 'misfit': 8883, 'fitting': 5388, 'dirty..trust': 4285, 'oooollllldddd': 9770, 'ffffound': 5308, 'waldo': 14300, 'helga': 6548, 'guys-lucas': 6245, 'casey': 2925, 'gabe': 5758, 'jake': 7419, 'girls-': 5945, 'maddie': 8465, 'nicky': 9383, 'pumpkin': 10749, 'sipping': 12057, 'me-go': 8672, 'yeppppppppppppppppppp': 14902, 'searching': 11699, 'leather': 8039, 'binder': 2273, 'bible': 2242, 'insert': 7214, '//files.formspring.me/profile/20100511/4bea173ca6455_thumb.jpg': 416, '..i.hate.him': 284, 'prayer': 10524, 'culkins': 3804, 'achieve': 1114, 'failure': 5161, 'l00k': 7898, 'gudd': 6199, 'flyer': 5454, 'friggen': 5644, 'glamour': 5960, 'yeash': 14885, 'garlic': 5799, 'kthxbai': 7868, '58389': 900, 'ps3': 10718, 'device': 4183, 'bummer': 2694, 'twitmance': 13786, 'grumble': 6183, 'wackiland': 14283, 'goo': 6024, 'dissatisifed': 4336, 'mattbacak': 8627, 'lipstick': 8187, 'perogued': 10157, 'canadawest': 2850, 'carmel': 2904, 'spooked': 12494, 'prosperity': 10691, '//twitpic.com/xinl': 534, 'cocky': 3353, 'phil': 10210, 'twittered': 13797, 'putin': 10782, 'rasputin': 10931, 'att': 1734, 'uverse': 14064, 'bizness..': 2310, 'sht': 11978, 'nod': 9442, 'drivin': 4540, '-10': 221, 'btwn': 2652, \"'fail\": 32, 'capactiy': 2873, 'watt': 14374, 'yuu': 15020, 'meann': 8684, 'pittsburgh': 10304, 'exporting': 5088, 'cmu': 3322, 'grad': 6080, 'boob': 2456, 'ism': 7342, 'caint': 2803, '*insert': 145, 'here*': 6578, 'ill.': 7043, 'skilled': 12095, 'cot4': 3618, 'caused': 2955, 'wipe': 14635, 'vicious': 14149, 'everyone..': 4985, 'alexisssss': 1305, 'fukk': 5704, 'thozz': 13342, 'gona': 6020, 'shtt': 11979, 'touchhh': 13562, 'yyyyou': 15026, '-remz': 249, 'switched': 12954, 'hbu': 6485, 'slighty': 12147, 'loll': 8285, '19.99': 669, 'handling': 6390, 'moreee': 9015, '-dakota': 232, 'garage': 5793, 'stair': 12565, 'nicca': 9372, 'shovelin': 11961, 'negates': 9297, 'despise': 4160, 'organization': 9821, 'ann-margaret': 1458, 'tiffany': 13406, 'recognize': 11024, 'gearhound': 5842, 'icelantic': 6971, 'dailup': 3895, 'dismembered': 4323, 'continuing': 3549, 'didn': 4232, 'gum': 6218, 'do|have': 4485, 'cheered': 3098, 'disclaimer': 4302, 'believer': 2151, 'met..': 8776, 'christards': 3192, '000': 572, 'spree': 12510, 'seth': 11801, 'role': 11371, '4:30a.m': 858, 'bubble': 2656, 'hahahahahahjdshgskdg': 6330, 'noooooooooooooo': 9486, 'reaction': 10962, 'tahts': 13009, 'aroundhuh': 1617, 'predict': 10533, 'meal': 8678, 'antsy': 1505, 'hahhahah': 6346, 'bodtf': 2422, 'poultry': 10494, 'yeah..what': 14872, 'lmao..i': 8231, 'uhhhh': 13865, 'welllll': 14449, 'hahahaah': 6300, 'worryr': 14727, 'onlyr': 9751, 'lonelyr': 8294, 'downr': 4478, 'massage': 8609, 'ri': 11281, 'ulouse': 13878, 'danica': 3933, 'bk': 2312, 'evoke': 5002, 'tear': 13103, 'huahahaha': 6871, 'keyboard-brain-error': 7718, 'nova': 9531, 'recovers': 11038, 'suffer': 12821, 'scruff': 11684, 'fashion': 5211, 'sneaky': 12235, 'hacker': 6277, 'whom': 14543, 'story~': 12685, 'reflects': 11067, 'atlanta': 1725, 'steven': 12639, 'non-gay-roommate': 9462, 'youll': 14962, 'primeluva..homeboy': 10599, 'ceviche': 3011, 'stumper': 12761, '..r': 297, 'utmost': 14058, 'iget': 7011, 'offense': 9649, 'thong': 13326, 'understood': 13924, 'asscheeks': 1685, 'underwire': 13930, 'explain': 5077, 'spicy': 12457, 'lookit': 8309, '125mg': 633, 'nigggah': 9398, 'isz': 7352, 'circumsized': 3230, 'ahahaahahahaha': 1234, 'yourr': 14970, 'craigslist': 3683, 'luxury': 8424, 'idkk..': 6999, 'herself': 6596, 'alybrooke': 1372, 'hahhaha': 6345, 'yeahhh': 14874, 'xbl': 14806, 'readd': 10964, 'origin': 9826, 'justified': 7627, 'mba': 8652, 'pity': 10305, 'downtrodden': 4483, 'employee': 4832, 'manager': 8522, 'silently': 12022, 'crab': 3668, 'nahhhhhhhhhhhhhhhhh': 9217, 'pro-gator': 10621, 'anti-anyone': 1493, 'asinine': 1656, 'oddest': 9635, 'shirt': 11906, '//tinyurl.com/3ryxxw': 454, 'painful/sad': 9948, 'glistening': 5968, 'dairy': 3897, 'thieving': 13291, 'curbed': 3824, 'greatest': 6120, 'created': 3713, 'receive': 11008, 'presentyyyy': 10558, 'whee': 14503, 'advertising': 1188, '2007.': 695, 'anyways..': 1531, 'graduation': 6086, 'hilary': 6642, 'duff': 4596, 'veneer': 14123, 'cheating': 3085, 'ax': 1849, 'murderer': 9130, 'soap': 12275, 'snapped': 12227, 'funk': 5717, 'sparkly': 12415, 'gloomy': 5973, 'sexual': 11814, 'individually': 7157, 'fifteen': 5321, 'whyyyyy': 14575, 'noooooo': 9482, 'godaddy': 6003, 'cprpoker': 3664, 'addiction': 1152, 'seeming': 11733, 'anyones': 1521, 'privacy': 10616, 'shared': 11848, 'foo': 5489, 'realised': 10971, 'asian': 1654, 'bahahahahhaha': 1938, 'burroughs': 2719, 'bukowski': 2682, 'clock': 3300, 'ginsberg': 5936, 'sniff': 12241, 'stressing': 12715, 'ae': 1191, '11am': 622, 'remotely': 11149, 'identified': 6989, '*shakes': 176, 'pussy*': 10775, 'noooooooooo': 9485, 'knowing': 7820, 'thursday': 13388, 'fo': 5458, 'kiis': 7744, 'usv': 14053, 'smurfet': 12219, 'smurf': 12218, \"t'was\": 12976, 'hohoto': 6736, 'jerky': 7489, 'purple': 10765, 'slapped': 12124, 'airplane': 1263, 'kkkkayy': 7791, 'memorieskillme': 8734, 'humor': 6906, 'therefore': 13275, 'aaron': 1045, 'hugest': 6882, 'serena': 11775, 'learned': 8033, \"leave'em\": 8041, 'spare': 12411, 'poinsetta': 10386, 'pot': 10486, 'geigh': 5857, 'beeeeeitch': 2116, 'jpg': 7584, 'grats': 6112, 'tweeted': 13759, 'expressive': 5092, 'hollyrhoffman': 6747, 'humidity': 6901, 'humid': 6900, 'sparkling': 12414, 'addition': 1155, 'resume': 11227, 'presence': 10553, 'wayward': 14383, 'upgraded': 14003, \"'posed\": 66, 'sunset': 12854, 'redneck': 11049, 'unlike': 13965, '_': 1017, 'perhaps..depends': 10148, 'belladonna': 2158, 'fff': 5307, 'christy': 3200, 'canyon': 2870, 'me-future': 8671, '2night': 763, 'accuracy': 1105, 'krk': 7862, \"it'smissing\": 7354, 'thirdorso': 13311, 'spacebarkeystroke.actually': 12397, 'thougu': 13340, 'spit': 12473, 'roflmao': 11365, 'warp': 14340, 'banjamin': 1984, 'harry': 6433, 'potter': 10492, 'watchman': 14364, 'valkyrie': 14092, '1001': 601, 'homophobic': 6773, 'compare': 3442, '1900s': 670, 'soulmate': 12372, 'regisitertown': 11087, 'randalltown': 10904, 'rd..': 10954, '*laugh*': 153, 'hd': 6487, 'further': 5729, '//twitpic.com/sqha': 512, 'seattle': 11707, 'revolting': 11263, 'illegal': 7044, 'misbehave': 8879, 'sympathy': 12967, 'tijeras': 13412, 'obvious/safe/kick-ass-game': 9621, 'route': 11426, 'lbp': 8017, 'mgs4': 8792, 'resistance': 11200, 'horse': 6827, 'stumbled': 12758, '//is.gd/a8cz': 423, 'movement': 9058, 'headphone': 6496, 'imac': 7067, 'edible': 4713, 'mishel': 8884, 'checkbook': 3088, 'skillz': 12096, 'spicy.r': 12458, 'mexican.r': 8788, 'strawberry': 12701, 'har': 6416, 'ifeel': 7009, 'bcuz': 2063, 'wamu': 14314, 'live-check': 8216, 'deposit': 4123, 'opened': 9786, 'toby': 13469, 'rental': 11157, 'storage': 12679, 'exist': 5053, 'physical': 10242, 'heading': 6495, 'anyhow': 1513, 'meahh': 8677, 'bradda': 2536, 'professor': 10655, 'giligan': 5929, 'coconut': 3355, 'fix': 5390, 'boat': 2418, 'delishhhhh': 4083, 'dome': 4419, 'ikan': 7036, 'anythang': 1522, 'hayyy': 6480, 'sometimes-today': 12324, 'guys-': 6244, 'wiley': 14600, 'anthem': 1489, 'noone': 9477, 'defect': 4048, 'chud': 3208, 'pecan': 10092, 'bleah': 2348, 'liquor': 8191, 'purchase': 10760, 'hahahha': 6338, 'payed': 10070, 'thw': 13390, 'rong': 11391, 'bizness': 2309, 'hahahahahahahahahahaha': 6319, 'moan': 8937, 'xo': 14823, 'nature': 9253, 'tripping': 13672, 'form': 5543, 'fill..': 5333, 'anwser': 1507, 'kindest': 7762, 'tomorrow..back': 13498, 'donate': 4427, 'comin': 3418, 'frisco': 5648, 'definition': 4062, 'smite': 12203, 'fury': 5732, 'hatin': 6459, 'lunch/coffee': 8413, 'evening': 4970, 'in2': 7118, 'pair': 9956, 'pjs': 10314, 'scorreeee': 11650, 'invention': 7282, 'hahahahahhahahahahahaha': 6333, 'continues': 3548, 'fuk': 5701, 'generallyt': 5871, 'element': 4768, 'burglary': 2707, 'threee': 13351, 'comfy': 3416, '*cut': 115, 'eye*': 5104, 'posse': 10469, 'derickrethans': 4136, 'industry': 7162, 'waaaay': 14278, 'rhetoric': 11272, 'sympathetic': 12965, 'jet': 7501, 'tricky': 13663, 'career': 2893, 'diarrhea': 4207, 'stumped': 12760, 'everythinnn': 4991, 'fixed': 5392, 'twinsie': 13777, 'dosent': 4458, 'newest': 9350, 'chainsaw': 3018, 'masacare': 8599, 'theater': 13246, 'stayed': 12608, 'attacked': 1736, 'breaker': 2567, 'cracking': 3678, 'kitchen..about': 7781, 'hanger': 6394, '.r': 372, '.not': 361, 'nocking': 9439, 'plastered': 10329, 'scaring': 11609, 'hahhaa': 6344, 'windy': 14624, 'curve': 3837, 'b*tch': 1860, 'uwgb': 14065, 'w/all': 14255, 'synth': 12973, 'begining..good': 2135, 'wrestling': 14756, 'raw': 10943, 'wcw': 14391, 'beard': 2078, 'urz': 14033, 'infrastructure': 7184, 'tabiiii': 12995, 'twin': 13772, 'hammer': 6382, 'remembering': 11140, 'ffckatg': 5306, 'awash': 1813, 'whore-moans': 14557, 'anywhere..and': 1533, 'nursing': 9566, 'stockton': 12663, 'prank': 10522, 'peed': 10098, 'butterfly': 2747, '8.40': 954, 'twitted': 13791, '5lbs': 904, 'scrawny': 11666, 'bulk': 2683, 'receiver': 11010, 'giver': 5954, 'blagojevich': 2328, 'king-o-rama': 7767, 'medal': 8701, 'winner': 14630, 'nevershoutnever': 9344, 'span': 12406, 'toothpaste': 13528, 'appropriate': 1572, 'measuring': 8691, 'nuno': 9564, 'bettencourt': 2213, 'chevys': 3124, 'cadillacs': 2797, 'stereotype': 12632, \"i'ma\": 6947, '.lol': 355, '..oh': 296, 'myth': 9182, 'mozillla': 9066, 'thunderbird': 13382, 'causing': 2957, '333333': 796, 'bianca': 2236, 'zealand': 15037, 'midwestern': 8825, 'region': 11084, 'karen': 7663, 'haircut': 6357, 'mario': 8566, 'hahhahahahahah': 6348, 'you.r': 14954, 'crayola': 3698, 'reschedule': 11188, 'offensive': 9650, 'jb': 7456, 'consistent': 3522, 'km': 7798, 'chaotic': 3045, 'ofzo': 9664, 'gerard': 5889, 'umbrella': 13884, 'academy': 1086, '-shame': 251, 'partyn': 10026, 'jayla': 7455, 'vincinity': 14175, 'haejin.r': 6285, 'pox': 10506, 'shoulder': 11951, 'finger.r': 5353, 'dubble': 4578, 'painting.r': 9954, 'rollerblade': 11377, 'inworship': 7295, 'chuck': 3207, 'bike': 2265, 'copyright': 3585, '169': 654, 'abcd91': 1056, 'reserved': 11195, 'sesame': 11797, 'dice': 4209, 'mildly': 8836, 'guykawaski': 6242, 'babaysitting': 1877, 'mowing': 9064, 'legal': 8053, 'restuarant': 11225, 'alix': 1316, 'cruch': 3766, 'civilized': 3237, 'mcdonald': 8658, '55n-40w-170n-olivew': 894, '270n': 732, 'happening': 6408, 'inevitable': 7167, 'marmite': 8577, '//tinyurl.com/pxw3w': 495, 'thread': 13346, 'sumthan': 12841, 'currently..r': 3832, 'polester': 10398, 'teal': 13098, 'blouse': 2392, 'geekcast': 5850, 'inspirational': 7219, 'ya.yea': 14844, 'probelm': 10629, \"'turns\": 84, 'maryz41': 8598, 'sleighz': 12136, 'pieec': 10261, 'hot97': 6838, 'entertain': 4880, 'willingly': 14604, 'scarletts': 11611, '//twitpic.com/t9za': 515, 'splattering': 12476, 'hubbub': 6873, 'iowa': 7298, 'nevermind': 9342, 'brainwave': 2547, 'fascinates': 5208, 'travis': 13641, 'prostitue': 10693, 'cboys': 2962, 'gbp': 5836, 'hahahhaa': 6339, 'bangladesh': 1982, 'fantasy': 5199, 'ryanruppe': 11483, '..like': 287, 'burgundy': 2708, 'choking': 3175, 'pinot': 10290, 'noir': 9446, 'grapey': 6102, 'dangerous': 3931, 'tld': 13453, 'yestadayy': 14911, 'sheeyat': 11874, '.freezing': 335, 'parking': 10007, 'define': 4059, 'kuz': 7885, 'ithink': 7369, 'tawking': 13082, 'reflex': 11068, 'turban': 13733, 'meaningful': 8682, 's.o': 11487, 'drunker': 4565, 'word..more': 14703, 'drunkener': 4563, 'reproduce': 11178, 'overpopulate': 9892, 'oooooohhh': 9774, 'oven': 9876, 'blast': 2343, 'rinky': 11320, 'dinky': 4269, 'geeking': 5851, 'wp.com': 14747, 'reviewing': 11259, 'rank': 10909, 'unnngggg': 13972, 'again..ooo': 1210, 'th..nevermind': 13207, 'hci': 6486, 'mabuti': 8452, 'philippine': 10212, 'hangover': 6397, 'krkipp99': 7863, 'j-fish': 7389, 'sneek': 12236, 'hahahahahahahahaha.your': 6317, 'eric': 4921, 'ahhaha': 1244, 'hiphop': 6664, 'ester': 4948, 'dean': 4002, 'shyyttt': 11994, 'dallas': 3902, 'half-price': 6369, 'mecca': 8695, 'trade': 13598, 'errrgg': 4930, 'once..but': 9742, 'a+s': 1030, 'sleet': 12134, 'frosting': 5661, 'fix..': 5391, 'hildebrant': 6643, 'shots..': 11947, \"guy's..\": 6239, 'midwest': 8824, 'trackstar': 13594, 'reliable': 11120, 'sore/stiff': 12355, 'oi': 9685, 'vey': 14141, 'plumbing-i': 10367, '2inches': 752, 'indiana': 7151, 'packed': 9933, 'teen': 13126, 'tent': 13171, 'commit': 3431, 'appeared': 1557, 'resisting': 11201, 'msn': 9086, 'anime': 1453, 'bleach': 2347, 'o.k': 9592, 'bendele': 2168, 'puppy': 10758, 'ep': 4902, 'jst': 7587, 'waited': 14294, 'dow': 4470, 'frosty': 5662, 'ass-grabs': 1675, 'metronauts': 8783, '45': 848, 'iilooveeyouu': 7030, 'alexiss.': 1304, 'momlogic': 8974, 'montana': 8997, 'strict': 12717, 'beep.hello': 2121, 'moto.its': 9042, 'teeannuhh': 13122, 'cmon': 3321, 'position': 10465, 'dressed': 4524, 'embryo': 4811, 'sperm': 12452, 'sickening': 12000, 'peel': 10101, 'base': 2015, 'supposedly': 12880, 'citrus': 3234, 'semester': 11755, 'snack': 12220, 'ahahahahaha': 1237, 'plea': 10347, 'saving': 11580, 'alexisnicolehodnett': 1303, 'besttestt': 2197, 'iloveyouu': 7058, 'lexiflagss': 8100, 'unemployment': 13937, 'increase': 7142, 'clive': 3297, 'dominion': 4422, 'misstep': 8901, 'imprint': 7107, '..sing': 300, 'princess': 10603, 'horrified': 6825, 'squlor': 12536, 'chine': 3155, '4am': 859, 'bro-rape': 2606, 'naked': 9220, 'improve': 7109, 'digestive': 4250, 'panda': 9973, 'awhile..': 1835, 'polygamist': 10415, 'foe': 5463, 'failing': 5159, 'bentley': 2175, 'opt': 9801, 'loading': 8250, 'individual': 7156, 'cocoa': 3354, 'sweetness': 12942, 'tale': 13024, 'potbelly': 10489, 'backyard': 1908, 'wd': 14392, 'repair': 11161, 'rug': 11458, 'chewed': 3126, 'interact': 7250, 'comedian': 3408, 'ducky': 4585, 'dhatt': 4196, 'anticipation': 1500, 'mayer': 8646, 'mannequin': 8538, 'mcmahon': 8666, \"i'o\": 6948, 'rerun': 11187, 'nono': 9471, 'tru': 13685, 'sub': 12778, 'weiner': 14433, 'gps': 6074, 'savor': 11583, \"'you\": 89, 'fdo': 5257, 'twitching': 13783, 'bavarian': 2046, 'creme': 3729, 'whipped': 14524, 'icing': 6972, 'rlly': 11331, 'book-': 2463, '//www.facebook.com/profile.php': 549, 'id=1601024519': 6979, '*know*': 152, 'purpose': 10766, 'snob': 12247, 'besttfriend': 2198, 'led': 8044, 'pancakes-have': 9972, 'batter': 2042, 'discovered': 4307, 'microwaved': 8815, 'digit': 4255, 'cellphone': 2985, 'dublin': 4579, 'asap': 1646, 'evys': 5010, 'trucker': 13689, 'www.truckingrooster.com': 14795, \"freak'n\": 5600, '4.5.': 837, 'neglected': 9300, '27th': 733, 'spark': 12412, 'guy-polite': 6240, 'spontaneous': 12491, 'lonesome': 8295, 'geeeeez': 5847, 'contagious': 3539, 'culture': 3808, 'sowwwyyyy': 12388, 'yum': 15007, 'guten': 6234, 'morgen': 9017, 'eitherrrrrr': 4756, 'g': 5745, 'yahh': 14849, 'babeyyygirl': 1883, 'matterr': 8630, 'butttt': 2754, 'andd': 1426, 'now~': 9540, 'interface': 7258, 'jamaican': 7421, '-s': 250, 'derby': 4132, 'ray': 10945, 'flared': 5406, 'aggrivation': 1220, 'junkie': 7618, '/deadpoor': 561, 'dessert': 4163, 'jobless': 7533, 'praise': 10520, 'despite': 4162, 'canal': 2852, '*my*': 159, 'lash': 7962, 'year-': 14879, 'spew': 12453, 'dew': 4187, 'nvm': 9576, 'announced': 1466, 'q1': 10794, 'courrseeee': 3641, 'dudee': 4592, 'bye': 2768, 'failed': 5158, 'rapist': 10919, 'tied': 13405, 'davros': 3969, 'ala-god-damn-bama': 1281, 'bidness': 2247, 'skool': 12106, 'doomed': 4446, 'it..': 7356, 'usctrojans': 14037, 'betta': 2211, 'ballz': 1963, 'penis': 10119, 'longboard': 8299, 'dedicated': 4039, 'footie': 5510, 'wag': 14286, '35': 802, 'gloria': 5974, 'shw': 11990, 'fill': 5332, 'w/who': 14268, 'knws': 7829, '//twitpic.com/vkky': 528, 'leggins': 8059, 'stirrup': 12657, 'gay-thorities': 5825, 'depended': 4118, 'jia': 7509, 'resorted': 11206, 'mbd': 8653, 'shutter': 11988, 'irrelevant': 7320, 'retooling': 11237, 'vip': 14186, 'pj': 10312, 'chiropractor': 3163, '80': 956, 'fist*': 5383, 'current': 3830, 'washed': 14350, 'up..': 13995, 'paradise': 9990, 'efron': 4736, 'rare': 10925, 'mariannemancusi': 8561, 'frickin': 5630, 'select': 11743, 'thruthful': 13371, 'slurpees': 12171, 'welcome..': 14441, 'mickey': 8809, 'goreng': 6050, 'ohz': 9684, '8217': 963, 'pimp': 10278, 'umbracians': 13883, 'cg09': 3012, 'whupped': 14568, 'animated': 1450, 'gif': 5920, 'rubinathy15': 11446, 'ikno': 7038, 'grul': 6182, 'surfing': 12894, \"'net\": 56, 'foolish': 5503, 'atheletes': 1718, 'mill': 8845, 'drain': 4498, 'mention': 8745, 'season..why': 11701, 'yourslf': 14975, 'camping': 2843, 'memo': 8733, 'identity': 6990, 'continue': 3546, 'depth': 4130, 'crude': 3767, 'technical-cum-legal': 13114, 'expertise': 5075, 'bot': 2494, 'fackin': 5142, 'missy': 8903, 'locke': 8261, 'bettys': 2216, '//www.formspring.me/lmt23': 551, 'numb': 9555, 'linkin': 8181, 'p-b-pig': 9919, 'domain': 4418, 'toldja': 13485, 'archive': 1587, 'arrrgghhh': 1630, 'hunting': 6920, 'query': 10827, 'processor': 10639, 'rude-bitch': 11449, 'premiere': 10546, 'stonetalon': 12672, 'mtns': 9091, 'stranglethorn': 12696, 'hagrid': 6287, 'cluster': 3320, 'practice': 10516, 'generator': 5873, 'home..sucks': 6752, '7lbs': 948, 'represented': 11174, 'burdeon': 2705, 'myownwoman407': 9172, '*nikki': 160, 'snap': 12224, 'sashay': 11560, 'showin': 11968, 'ass*': 1672, 'bat': 2033, 'attic': 1743, 'rabies': 10859, 'crazyyy': 3706, 'aarontait': 1047, 'strategy': 12699, 'marget': 8558, 'segmentation': 11738, 'itune': 7374, 'therapist': 13268, 'cycle': 3865, 'rampage': 10899, '10:30': 609, 'abbey': 1053, 'bier': 2250, 'cafe': 2798, 'juneau': 7614, 'redefined': 11047, 'paying': 10072, 'income': 7135, 'tourette': 13572, 'genius': 5879, 'camp': 2840, 'lmaooooooo': 8237, 'generally': 5870, 'telly': 13146, 'computer/laptop': 3467, 'scratch': 11665, 'bad.do': 1916, 'detention': 4173, 'crumble': 3772, 'tounge': 13570, 'multiple': 9119, 'frienf': 5643, 'mud': 9104, 'showering': 11967, '.life': 353, '//sharebee.com/c0756ec0': 446, 'brutal': 2640, 'flake': 5402, 'mask': 8606, 'izzard': 7386, 'pronounce': 10678, 'herb': 6575, 'favouritest': 5245, 'dupa': 4627, 'vezi': 14142, 'eu': 4960, 'mai': 8484, 'excelurile': 5034, 'mult': 9116, 'povestile': 10499, 'lotr': 8339, 'install': 7222, 'tolkien': 13488, 'font': 5487, 'dom': 4417, 'mayag': 8641, 'snide': 12240, 'burying': 2722, '//bit.ly/bv3e': 404, 'mang': 8526, 'dough': 4467, 'nostalga': 9510, 'dontcha': 4439, \"o'clock\": 9586, 'ulcer': 13877, 'lining': 8177, 'cringe': 3738, 'jks': 7527, 'sero': 11790, 'iim': 7032, 'pedo': 10095, 'neva': 9338, 'dodge': 4397, 'acted': 1125, 'hate.you.so.much': 6450, 'hooker.hahaha': 6795, 'snapple': 12228, 'raspberry': 10930, 'oj-homestyle': 9691, 'juicey': 7603, 'nm': 9422, 'messagi': 8767, 'u.s.a': 13834, 'mar': 8549, 'wy': 14797, 'thy': 13393, 'wayyy': 14385, 'gmail': 5986, \"'05\": 11, 'tucked': 13718, 'tool': 13519, 'consume': 3534, 'cv': 3858, 'crippled': 3740, 'laying': 8011, 'landed': 7942, 'upright': 14014, 'monster': 8996, 'hide': 6620, 'complection': 3455, 'aardvark': 1043, 'discontent': 4304, 'reverse': 11257, 'halo': 6374, '-north': 242, 'dreary': 4520, \"'cause\": 20, 'skullet': 12107, 'hush': 6931, 'tapped': 13053, 'reckless': 11021, 'largest': 7957, 'amusement': 1410, 'tracksuit': 13595, 'victory': 14155, 'vengeance': 14124, 'chamber': 3030, 'swooooooord': 12957, 'atl': 1724, 'unlawful': 13963, 'combatant': 3400, \"*you're*\": 203, 'imprisoners': 7108, 'wrongly': 14769, 'word.haha': 14704, 'quirk': 10841, 'strictly': 12718, 'timb': 13420, 'army': 1612, 'certified': 3008, 'foggy': 5464, 'dart': 3947, 'pinned': 10289, 'gotcha': 6060, 'yeaaaaa': 14867, 'wea': 14394, 'breeding': 2577, 'backed': 1899, 'sheez': 11875, 'overcame': 9883, 'mojo': 8962, 'iep': 7006, 'newsroom': 9356, 'noo': 9474, 'item..': 7367, 'available': 1791, 'illuminati': 7046, 'dickk': 4221, '.oats': 364, 'helm': 6560, 'prop': 10681, '8.': 953, 'publicly': 10734, 'hire': 6670, 'sales-whore': 11512, 'variations..but': 14105, 'truce..put': 13687, 'z': 15027, 'slithering': 12156, '*cuts': 116, 'doug': 4466, 'down-sizing': 4472, 'wardrobe': 14330, 'accommodate': 1094, 'tommy': 13495, 'komment': 7840, 'lacey': 7912, 'brandi': 2552, 'm.': 8439, 'megan': 8718, 'priceless': 10591, 'ri-dic-u-lous': 11282, 'chfristmas': 3131, 'bt': 2646, 'drawn': 4507, 'hunny': 6917, 'fack': 5141, 'vag': 14083, 'drupal': 4566, 'leolaporte': 8075, 'sends': 11762, '67k': 918, '0.20/txt': 571, '13400.00/tweet': 638, 'obsolete': 9618, 'dramaqueenrissa': 4501, 'hannah_rae': 6399, 'departed': 4113, 'greenville': 6127, '-so': 252, 'shoul': 11948, '82': 961, 'forgive': 5537, 'stephbarnard': 12629, 'aawwhh': 1048, 'shortcake': 11941, 'embarassment': 4799, 'ploy': 10361, 'thou': 13333, 'sometimes..angels': 12325, 'perfection': 10140, 'lighthearted': 8141, 'grader': 6082, '//twitter.grader.com': 542, 'flying': 5455, 'mentioned': 8746, 'sergio': 11778, 'hak': 6363, 'conley': 3507, 'crittenton': 3748, 'jerryd': 7492, 'pt': 10728, 'desktop': 4156, 'tha': 13208, 'dayum': 3981, '10:22am': 608, 'limping': 8169, 'hurting': 6929, 'disaster': 4299, 'unhealthy': 13950, 'fascination': 5210, 'gouda': 6065, \"keep'em\": 7696, 'curvy': 3838, 'cherry': 3118, 'nobu': 9438, 'auto-tune': 1782, 'hummin': 6904, 'sooooo': 12347, 'guess.haha': 6202, 'icecream': 6968, 'svt': 12920, 'tweet-up': 13757, 'cupertino': 3821, '7ish': 947, 'mcluhan': 8665, 'leary': 8036, 'translate': 13619, 'racial': 10864, 'dick/rich': 4217, '//tinyurl.com/697e3g': 467, 'clover': 3312, 'referring': 11061, '24/7': 717, 'itv': 7376, 'fa': 5123, 'shizz': 11919, 'applied': 1564, '*fail*': 124, 'recount': 11035, 'sweeney': 12935, 'keanu': 7690, 'suchh': 12800, 'sluuttt': 12174, 'davebenjamin': 3964, 'tainting': 13015, 'lyke': 8431, 'gurlz': 6231, 'lyedd': 8426, 'jaded': 7413, 'daft': 3892, 'shee': 11867, 'dhat': 4194, 'bihh': 2261, 'saidd': 11506, 'grooming': 6158, 'clipper': 3293, 'biting': 2304, 'unsanitary': 13981, 'fraudulent': 5597, 'filed': 5329, 'sign': 12010, 'notarized': 9517, 'affidavit': 1195, '4/20': 838, 'vickers': 14151, 'recommend': 11027, 'danie': 3934, 'whn': 14537, 'gonn': 6023, '2gether': 750, 'coma': 3398, 'fubar': 5677, 'lawl': 8003, 'ridic': 11301, 'sticker': 12645, 'replacement': 11166, 'bar..': 1996, 'green.r': 6126, 'luhh': 8403, 'dha': 4193, 'grl': 6154, 'becky': 2104, 'tut': 13746, 'built': 2679, 'pyrmids': 10789, 'offered': 9652, 'package': 9932, 'absurd': 1080, 'preparing': 10551, '.4': 312, '..2': 263, 'provided': 10710, 'hoor': 6799, 'simcity': 12030, 'stable': 12555, 'foward': 5575, 'inauguration': 7122, 'definantly': 4056, 'cutee': 3848, 'tithe': 13446, 'cl': 3244, 'ean': 4659, 'regarding': 11078, 'obsession': 9617, 'thermite': 13276, 'scrambled': 11661, 'instrument': 7230, 'guus': 6236, 'generic': 5874, 'anti-welcome': 1497, 'heather': 6515, 'dick-in-a-box': 4212, 'timberlake': 13421, 'keedingg': 7692, 'research': 11191, 'duhh': 4600, 'typee': 13823, 'likee': 8153, 'shelling': 11879, 'xp..': 14828, 'necklace': 9284, 'kayla': 7682, 'phoebe': 10223, 'tricked': 13660, 'hahahahaahahahahah': 6305, 'polygamy': 10416, 'grrrr': 6178, 'shag': 11832, 'funnier': 5721, 'jiz': 7518, 'hatemonger': 6454, 'suprises': 12885, 'spaghetti': 12399, 'wutt': 14785, 'gawt': 5821, 'pregnaant': 10542, 'zerooooo': 15042, 'g-r-e-a-t.r': 5747, 'lap': 7952, 'baiting': 1947, 'afl': 1198, 'bruno': 2635, 'ihad': 7024, 'yearz': 14884, 'nopee': 9492, 'snuggle': 12271, 'decidedly': 4026, 'non-sexual': 9464, 'jaye': 7454, '//twitpic.com/vbgo': 525, 'kinda-freezing': 7760, 'once-in-a-while': 9741, 'sucky': 12815, '//twitpic.com/vl1t': 529, 'ewwiee': 5014, 'mmmmmkayyyyy': 8928, 'thriller..': 13356, 'yeppp': 14901, 'foreign': 5524, 'pol': 10395, 'abortion': 1062, 'organizer': 9822, '*thinkin*': 192, 'bustin': 2734, 'jieber': 7512, 'cobain': 3341, 'impress': 7103, '2many': 756, 'lifetime': 8132, 'perspective': 10173, 'austinites': 1767, 'htown': 6869, 'smoker': 12207, 'reception': 11014, 'snowmageddon': 12263, '*whistling': 200, 'non-chalantly*': 9458, 'channeling': 3040, 'inappropriate': 7121, 'awwwwww': 1846, '//shortxt.com/9ytyj2r': 447, 'wax': 14377, 'eyebrow': 5105, 'insted': 7228, 'homework': 6762, 'every1': 4979, 'hip-hop': 6663, 'w/the': 14265, 'sumtimes': 12844, 'milf': 8839, 'bonus': 2453, 'censorship': 2990, 'auto-corrected': 1779, 'frequently': 5624, 'mumbai': 9121, 'lates': 7978, 'irrisitable': 7324, 'michael': 8803, 'scott-esque': 11654, 'infiltrated': 7172, 'acct': 1103, 'pantsuit': 9980, 'fur': 5726, 'modem': 8952, 'eek': 4728, 'beyonce': 2221, \"'love\": 47, \"'hate\": 39, 'girly': 5947, 'jessicajarrell': 7498, 'tooooo': 13523, 'swatch': 12924, 'tanning': 13049, 'salon': 11515, 'losman': 8333, 'gett': 5900, '=gay': 1003, 'drobo': 4543, 'makeup': 8500, 'calm': 2824, 'boo..lmao': 2455, 'smtp': 12215, 'tweets-thats': 13763, 'psycho': 10726, 'realistic': 10972, 'you/': 14955, 'decade': 4020, 'reiner': 11100, 'reprised': 11177, 'alan': 1284, 'brady': 2540, 'busting': 2735, 'humming': 6905, 'maternity': 8619, 'several': 11807, 'comfortably': 3414, 'zip': 15046, 'jeans-liz': 7464, 'lange': 7947, 'mid-belly': 8818, 'trendy': 13653, 'on-shore': 9738, 'field': 5318, 'bu': 2653, 'hasa': 6437, 'habshan': 6275, '+faved': 212, 'hacked': 6276, 'sang': 11541, 'lyee': 8427, 'mikey': 8832, 'behh': 2141, 'tearn': 13105, 'asz': 1713, '*if*': 144, 'brushing': 2637, 'knot': 7817, 'hair.id': 6354, 'polished': 10402, 'occassionallyby': 9625, 'airport': 1265, 'shine': 11900, 'awh': 1829, 'arv': 1644, 'badd': 1919, 'ship': 11902, 'background': 1900, '_________': 1021, 'govt': 6070, 'overall': 9880, 'ui': 13874, 'streamlined': 12705, 'intuitive': 7277, 'ishould': 7338, 'lu': 8391, 'promo..lmao': 10674, 'grassroots': 6107, 'involve': 7291, 'apt': 1581, 'eying': 5110, 'worried': 14724, 'despereaux': 4159, 'ratatouille': 10934, 'maryy': 8596, 'munchkin-themed': 9124, 'heiffa': 6541, 'op': 9783, 'menage': 8739, 'jacket': 7402, 'zest': 15043, 'audacious': 1751, 'appeal': 1553, 'wrecked': 14752, 'rotary': 11412, 'ewwwwwww': 5019, 'bailing': 1943, 'wouldve': 14742, 'buyin': 2757, 'brat': 2559, 'iphones': 7303, 'graveyard': 6114, 'muuuuahhhahaha': 9153, 'fancied': 5191, 'politely': 10403, 'declined': 4032, 'buzz': 2759, '7.99': 926, 'suai': 12776, 'rudolph..smart': 11454, 'staring': 12586, '..same': 299, 'versi': 14136, '9835': 983, '//blip.fm/~14szw': 411, 'festive': 5300, 'underwater': 13926, 'correction': 3603, '*wannabe*': 197, 'fashionista': 5213, 'prob..': 10624, 'chatted': 3073, 'value': 14095, 'telemarketing': 13137, 'scheme': 11622, 'ok..sorry': 9695, 'telle': 13142, 'drafts-': 4492, 'humiliation-play': 6902, 'metal-bristled': 8778, 'hairbrush': 6356, 'awhh': 1830, 'kfc': 7721, 'mashed': 8603, 'potatoe': 10488, 'bowl': 2515, '24th': 720, 'gatorade': 5817, 'papal': 9983, 'accept': 1088, 'laundry': 7996, 'marathon': 8551, 'stickler': 12647, '//twitpic.com/t17d': 513, 'dochobbes': 4390, 'prize': 10619, 'haunted': 6464, '110': 619, 'weekend..haha': 14428, 'chardonnay': 3052, 'beatles': 2087, 'temptation': 13158, 'regularly': 11094, 'gamed': 5781, 'gray': 6115, 'cardigan': 2888, 'retweeted': 11245, 'subsequently': 12788, '9773': 979, 'bec': 2098, 'cells..': 2986, 'aging': 1222, 'capitalist': 2875, 'dogma': 4405, 'fodder': 5462, 'everlasting': 4977, 'uncertainty': 13906, 'ps2': 10717, 'emulation': 4836, 'component': 3463, 'sympathize': 12966, 'goshzillions': 6057, 'soar': 12278, 'prostiture': 10695, 'ect': 4708, 'anythanqq': 1523, 'lesser': 8085, 'performance': 10144, 'vs.': 14233, 'reject': 11103, 'supre': 12881, 'drina.': 4529, '53x': 893, 'm3+3r': 8444, 'q0': 10791, 'ld': 8019, 'shuts': 11987, 'falafel': 5177, 'sr': 12539, 'nahhhh': 9216, 'serve': 11792, 'remix': 11146, 'd=': 3885, 'joomla': 7566, 'skywriting': 12115, 'camper': 2842, 'andi': 1427, 'phoned': 10228, 'invaded': 7279, 'aggravation': 1217, 'fortpolk': 5563, 'military': 8841, 'nuu-uhh': 9573, 'counteract': 3631, 'enthusiasm': 4883, 'awwwww': 1845, 'workin': 14716, 'valeria': 14089, 'cozy': 3661, '*snort*': 186, 'nana': 9227, 'kum': 7873, 'fxckin': 5742, 'namee': 9226, 'fuckinn': 5692, 'whuss': 14569, 'pump': 10747, 's0': 11488, 'rd': 10953, 'bruh': 2632, 'bust3d': 2731, 'l0': 7897, '0f': 577, 'm0mmasz': 8441, 'sh3': 11829, 'sturizin': 12770, 'do3': 4388, 'cture': 3789, 't0': 12984, 'be3': 2068, 'ry': 11480, 'zzzz': 15064, 'ppy': 10512, 'puzzie': 10785, 'zach': 15031, 'translator': 13621, 'prime': 10598, 'h00000rnyy': 6258, 'f0': 5119, 'qq': 10810, 'y3w': 14841, 'shayla': 11861, 'peeped': 10104, '30mins-and': 784, 'naaah': 9203, 'broker': 2615, 'scarier': 11607, 'wrose': 14770, 'firey': 5370, '//tinyurl.com/6y8kae': 481, 'forgetting': 5536, 'elaborate': 4759, 'owner': 9909, 'retire': 11234, 'absitence': 1076, '//is.gd/d2pt': 429, 'co.': 3331, 'downstairs': 4480, 'pulling': 10745, 'appt': 1576, 'bach': 1896, 'ugh..': 13848, 'environmental': 4896, 'sensitivity': 11767, 'stink': 12655, 'sea': 11690, 'therapeutic': 13267, 'pee': 10097, 'jacked': 7401, 'betrayal': 2210, 'grin': 6146, 'barbecue': 2003, 'varies': 14106, 'regionally': 11085, 'tomato-': 13491, 'vinegar-based': 14177, 'mustard': 9145, 'messy': 8774, 'cancelled': 2855, 'photocopy': 10233, 'hellboy': 6553, 'fat..lol': 5222, 'jericho': 7487, 'cheater': 3084, 'thrilled': 13355, 'alcohol': 1294, 'gurl/boy': 6230, 'foooooooooooooood': 5505, 'meow': 8749, 'o-face': 9591, 'bi': 2234, 'irogs': 7312, 'civil': 3236, 'firm': 5371, 'discovery': 4308, 'tiresome': 13443, 'gl': 5957, 'atty': 1748, 'convince': 3565, 'gerry': 5896, 'drumset': 4559, 'perplexed': 10158, 'distract': 4345, 'postman': 10483, 'totnes': 13557, 'brietastic': 2589, 'womanizer': 14675, 'slave': 12127, 'jackson': 7409, 'didntt': 4234, 'whud': 14566, 'kuute': 7884, 'eachothuh': 4657, 'playz': 10346, 'paintz': 9955, 'wallz': 14310, 'joeljohnson': 7541, 'corporate': 3598, 'blogging': 2384, 'measurable': 8688, 'defined': 4060, 'cristyissues': 3744, 'campy': 2845, 'leguizamo': 8063, 'wahlburg': 14290, 'un-metal': 13895, 'hella-metal': 6552, 'singhs': 12045, 'blingee': 2363, 'pegasus': 10108, 'cheyene': 3129, 'secretless': 11714, '*sure*': 190, 'nigger': 9397, 'predictability': 10534, 'whuup': 14570, 'predictable': 10535, 'kev': 7713, 'bayside': 2051, 'secondhand': 11712, 'serenade': 11776, 'haley': 6364, 'fishy': 5381, 'arnold': 1613, 'vinyl': 14180, 'tile': 13414, 'terrain': 13178, 'steam': 12618, 'vac': 14074, 'sacrafice': 11493, 'relates': 11108, 'dvr': 4637, 'jobros': 7535, 'jobro': 7534, 'stuffer': 12755, 'blond': 2386, 'audition': 1753, 'identical': 6988, 'weren': 14459, '-steffy-': 253, 'motivator': 9040, 'vicariously': 14146, 'speedy': 12438, 'rectifying': 11041, 'freeway': 5614, 'obeist': 9605, 'hieght': 6622, 'partying': 10025, 'worldwide': 14722, 'holdin': 6739, 'ploop': 10356, 'whatev': 14492, 'gullible': 6217, 'written': 14765, 'ceiling': 2971, 'card..': 2885, 'enforcing': 4857, 'tomorow': 13496, 'morning.sucks': 9023, 'shd': 11862, 'biblical': 2243, 'chop': 3179, 'melon': 8726, 'on..': 9739, 'heaven': 6519, 'dl': 4372, 'feenin': 5280, 'socially': 12290, 'inept': 7165, 'bacn': 1909, 'buddhfied': 2663, 'bangkok': 1981, 'houseboy': 6850, 'measured': 8690, 'ac/dc': 1085, 'karenlongstaff': 7664, 'kecks': 7691, 'brother..for': 2622, 'naughty': 9255, 'omfgshz': 9728, 'lemonbars': 8070, 'mee': 8708, 'ergh': 4920, '.fat': 334, 'twix': 13808, 'tm': 13454, 'slashfic': 12126, 'guardian': 6196, 'jokingly': 7559, 'remarked': 11134, 'insomnia': 7218, 'drinkin': 4532, 'blastin': 2344, '50cent': 885, '52nd': 891, 'unfortuantly': 13944, 'tarzan': 13065, '-__-': 225, 'soda': 12297, 'spouse': 12503, \"'night\": 57, 'motivated': 9038, '11pm': 623, \"'morning\": 51, 'emily': 4814, 'arrives': 1626, '5:30am': 902, 'roger': 11368, 'xmen': 14822, '2007': 694, 'mailing': 8487, 'republic': 11179, 'liz': 8223, 'omgosh': 9732, 'psh': 10720, 'summit': 12838, 'pilaf': 10272, 'novelist': 9533, 'bath': 2034, 'sooooooo': 12349, 'juzz': 7635, 'mothur': 9036, 'zzzzzz': 15065, 'snore': 12253, 'lmbo': 8238, 'bawling': 2047, 'harvest': 6435, 'congratu-fucking-lations': 3501, 'jenna': 7480, 'hhhhhighhhhyeaaaahhhh': 6613, 'thnks': 13319, 'hahahahaaha': 6304, 'port': 10449, 'charlotte': 3062, 'hate..': 6449, 'shitty': 11914, 'restore': 11220, 'iq': 7305, 'almighty': 1337, 'freaking': 5603, 'grrr': 6176, 'ex-friend': 5021, 'o_0': 9594, 'lucked': 8397, '.fag': 333, 'shark': 11851, 'jbt': 7458, 'kolika': 7838, 'kada': 7646, 'meni': 8741, 'nikad': 9406, 'nije': 9405, 'pamet': 9967, 'udjem': 13844, 'kadu': 7647, 'nationality': 9248, 'tehehehe': 13131, 'leading': 8024, 'everybodies': 4980, 'turnaround': 13738, 'dip': 4275, 'snow..lol': 12258, 'dateing': 3958, 'jaybee': 7453, 'alxeander': 1371, 'yucky': 15000, 'needle': 9294, 'xmas..': 14819, 'muhh': 9112, 'qirl': 10805, 'cuhh': 3801, 'kan': 7653, 'qive': 10806, 'thaa': 13209, \"u'v\": 13831, 'lucy': 8400, 'twitterholic': 13798, 'germ': 5891, 'carrier': 2910, 'peso': 10182, '*poof*': 165, 'tracking': 13593, 'percentage': 10137, '2lb': 755, 'focus': 5460, 'elsewhere': 4785, 'arises': 1607, 'aye': 1853, '3333333333': 798, 'wooo': 14695, 'pepsi': 10135, 'logo/can': 8269, '2day-i': 744, 'evry': 5006, 'othr': 9847, '*watches': 198, 'up*': 13993, 'kinetic': 7765, 'typography..and': 13827, 'toothbrush': 13527, 'impetuosity': 7095, 'sl': 12116, 'incredibly': 7144, 'flawless': 5416, 'wolf': 14672, 'existing': 5056, 'frugal': 5664, 'negociating': 9301, 'lool': 8311, 'chicago': 3133, '.it': 350, 'bogart': 2424, 'indian': 7150, 'sincerely': 12040, 'resizes': 11202, 'fisher': 5379, 'proton': 10704, 'deathtrap': 4012, 'happiest': 6412, 'mann': 8537, 'chrissy': 3190, 'savannah': 11577, 'unboxed': 13905, 'trty': 13684, 'dreamhost': 4514, 'thundercats': 13383, 'hooooo': 6798, 'reallu': 10982, 'fuuuuck': 5738, '10000': 600, 'prettier': 10572, 'stopp': 12677, 'bitchhh': 2297, 'hahahaa': 6299, 'september': 11772, '12.': 627, 'vtu': 14234, '75': 934, 'overwelmed': 9899, 'choppy': 3181, 'hippy': 6667, 'chemical-y': 3113, 'enormous': 4868, 'insulation': 7234, 'horrific': 6824, 'warns': 14339, 'robert': 11345, 'tristancrane': 13673, 'unf': 13941, \"'how\": 40, 'centred': 2997, 'spinoff': 12469, 'asl': 1666, 'wasted': 14356, 'obnoxious': 9610, 'good=/': 6031, '9r': 988, '8r': 971, 't-mobile': 12978, 'germany': 5893, 'usa': 14035, 'nationwide': 9249, 'hundred': 6913, 'stripper': 12726, 'jaaaay': 7395, 'kaaaaayyyyyy': 7644, 'kin': 7756, 'pffft': 10196, 'pray': 10523, 'definately': 4057, 'devi': 4182, 'slit': 12155, 'oz': 9916, 'rockmount': 11359, 'fleur': 5420, 'li': 8108, 'black/silver': 2316, 'ding': 4266, '28': 734, 'irrational': 7319, 'facility': 5138, 'humble': 6898, 'selcom60': 11741, 'baker': 1951, 'snowed': 12260, 'sum': 12835, 'kc': 7688, 'taryns': 13064, 'rack': 10869, 'phantom': 10202, 'musical': 9139, 'futr': 5735, 'np': 9541, 'whirlpool': 14526, 'exe': 5047, 'hp': 6861, 'sporting': 12498, 'chalet': 3021, '*just*': 149, 'stomp': 12667, 'crotch': 3761, \"smack'em\": 12178, 'smallest': 12181, 'struggling': 12739, 'faith': 5171, 'unlock': 13967, 'bucket': 2659, 'merten': 8762, 'blowtorch': 2399, '.time': 389, 'avalanche': 1792, 'regis': 11086, 'european': 4963, '22': 706, 'kilo': 7753, 'laid': 7925, 'feenstra': 5281, 'miiiiiiiiiiiiiiiiiiiiiiiiiine': 8829, '33333333333': 799, 'toonami': 13520, 'drew': 4526, 'australian': 1770, 'pen': 10110, 'interest': 7254, 'aaronage': 1046, 'keyshia': 7720, 'profession': 10652, 'cast': 2931, 'randomly': 10907, 'throughout': 13362, 'deli': 4077, 'inconvenience': 7138, 'oncers': 9743, 'behave': 2137, 'calender': 2813, 'alabama': 1282, 'sleeper': 12131, 'cody': 3362, 'bringing': 2595, 'rosie': 11409, \"o'donnell\": 9587, 'shika': 11899, 'braless': 2549, 'estimated': 4949, 'redo': 11050, 'estimation': 4950, 'calculated': 2810, '//tinyurl.com/8d8v8c': 485, 'hobby': 6724, 'beeped': 2122, 'vera': 14130, 'corination': 3589, 'rover': 11430, 'flaunt': 5410, 'to..': 13462, 'mommie': 8977, 'gabby': 5757, 'plopping': 10357, 'newly': 9351, 'substance': 12790, 'retweet': 11244, '//austingirlblog.wordpress.com': 403, 'feedback': 5271, 'sccessful': 11616, 'venture': 14128, 'l.a.': 7896, 'phew': 10208, 'flick': 5422, 'warm.its': 14333, 'hamburger': 6378, 'pshhh': 10721, '.andy': 318, 'mounting': 9049, 'soapbox': 12276, 'quantumofsuck': 10818, 'transporter': 13626, 'sheep': 11871, 'speech': 12434, 'hears': 6508, 'happier': 6411, '*blinks*': 107, 'becka': 2102, 'descended': 4139, 'fortunately': 5564, 'whatcha': 14490, 'author': 1773, 'brook': 2618, 'tpo': 13588, 'aug.': 1757, '10th': 615, 'jan': 7433, 'irritating': 7327, 'cept': 3000, 'anniston': 1463, 'nakedbard': 9221, 'practical': 10515, 'dalmatian': 3903, 'reid': 11098, 'urghhh': 14027, 'trauma': 13634, 'hiding': 6621, 'vehicle': 14119, '*bitch*': 106, 'manhattan': 8527, 'tenth': 13172, '247': 719, 'workhorse': 14715, 'divinewrite': 4360, 'e-book': 4651, 'yuppp': 15016, 'leweb': 8098, 'kickin': 7733, '6th': 923, 'fired': 5363, 'insanity': 7210, 'ignorance': 7015, 'reallly': 10980, 'anger': 1442, 'rudness': 11451, 'degrade': 4066, 'crazzzy': 3708, 'ight': 7012, 'margin': 8559, 'ohkay..so': 9680, 'ramp..so': 10898, 'slam': 12118, 'brake': 2548, '.hahaha': 339, 'mobileme': 8941, 'surf': 12891, 'consumer': 3535, 'baggy': 1930, 'abducted': 1058, 'dishwasher': 4318, 'thunking': 13386, \"'thunking\": 82, 'con': 3468, 'israeli': 7348, 'hezay': 6610, 'nevah': 9339, 'bid': 2246, 'roadie': 11337, 'rabbitsu2019': 10857, 'irish': 7309, 'podcasts': 10381, 'nopeee': 9493, 'sag': 11503, 'munich': 9126, 'thankfully': 13220, 'rapper': 10920, 'hosues': 6835, '8230': 964, 'gooood': 6045, '3.': 776, 'horrible..': 6820, 'blocker': 2376, 'geolocationing': 5884, 'cheeseburger': 3103, 'firstgiving.com': 5374, 'firstgiving.org': 5375, 'firewall': 5368, 'laughter': 7993, 'authority': 1774, 'dnd': 4382, 'cheney': 3115, 'mozart': 9065, 'asconn': 1647, 'newport': 9352, 'ct': 3786, 'cyprus': 3868, 'landlord': 7944, 'asken': 1659, 'sigh..': 12008, 'telw': 13149, 'altho': 1364, 'explaining': 5079, 'ordered': 9816, '260': 728, 'premium': 10547, 'upgrading': 14004, 'cope': 3581, '7:00': 940, 'fatter': 5230, 'facist': 5140, 'commie': 3430, 'gentleman-like': 5881, 'coded': 3360, 'guess..': 6201, 'owe': 9905, 'lycra': 8425, 'sight': 12009, 'journal': 7576, 'sunglass': 12848, 'vitamin': 14201, 'don+': 4424, 'vv0rk': 14239, \"'i\": 42, 'conroversy': 3513, 'managing': 8524, 'nakeed': 9223, 'theflygirl': 13252, 'negro': 9302, 'elbow': 4760, 'surrogate': 12902, 'am/pm': 1377, 'sens': 11764, 'dulled': 4605, 'mebbe': 8694, 'cpmouter': 3663, 'sed': 11720, 'stickie': 12646, 'happend': 6404, 'ss': 12545, 'blunts': 2407, 'kahala': 7648, 'insider': 7216, 'it-': 7355, '9786': 980, 'thermodynamics': 13277, 'purposeful': 10767, 'branding': 2553, 'manner': 8539, 'v=wjehii-jjhe': 14072, 'feature=youtu.be': 5264, 'snobbish': 12249, 'anybodi': 1510, 'sorry..that': 12359, 'buggin': 2674, 'expand': 5063, 'thingy': 13298, 'fuck/suck/touch': 5682, 'alwaysthink': 1370, 'clueless': 3319, 'insulting': 7237, 'fashionable': 5212, 'hujikhjkuiljkkj': 6889, 'lmaoooooo': 8236, 'nagging': 9212, 'cod5': 3357, '360.': 806, 'emo-ball..': 4820, 'un-follow': 13894, 'pft-': 10198, 'packin': 9935, 'oyster': 9915, 'foodie': 5495, 'rofl': 11364, 'bow': 2514, 'superior': 12863, 'wisdom': 14639, 'barlett': 2009, 'tim.': 13419, 'custom': 3844, 'immagrants': 7078, 'hey-dumb-fuck-guys-stop-trying-so-hard': 6602, 'blahh': 2332, 'moooooooooooooooooo': 9004, 'justtt': 7632, 'bigg': 2254, 'dikk': 4259, 'yuhh': 15002, 'blubber': 2401, 'disappear': 4294, 'weddings..': 14416, 'shud': 11981, 'grateful': 6110, 'mornin': 9020, '-with': 259, 'previous': 10585, 'actvities-': 1138, 'attractive': 1747, 'girls/guys': 5946, 'applies': 1565, 'event': 4972, 'caaaaarrrrbbbs': 2786, 'sharing': 11850, 'picky': 10255, 'fyi': 5744, 'rosary': 11406, 'uplifting': 14007, 'otaku': 9840, 'cosplay': 3612, 'plastic': 10330, 'reasons-': 10996, 'pattern': 10057, 'ava': 1790, 'gecko': 5844, 'hoodies': 6788, 'sweeet': 12933, 'today..': 13472, 'mwhahahaa': 9164, 'continued': 3547, 'hellraiser': 6558, 'trouser': 13680, 'sensory': 11768, '**spontaneously': 98, 'combusts**': 3404, 'damn..you': 3918, 'wating': 14372, 'instance': 7224, 'shaq': 11846, 'bless': 2356, 'assured': 1703, 'emotional': 4827, 'manipulative': 8533, 'uphill': 14005, 'climb': 3286, 'tosha': 13548, 'o___o': 9596, 'iloveyoubaby': 7054, 'iloveyoutoobabygirl': 7057, '^': 1012, 'activex': 1131, 'initial': 7193, 'g.': 5748, 'haejin': 6284, 'goodin': 6036, 'aston': 1707, 'diva': 4358, 'pug': 10739, 'hiamoe': 6616, 'ttyl8r': 13714, 'waay': 14280, 'cathyrnmarie': 2950, 'hahaaaahaaha': 6294, 'forgiven': 5538, 'shelter': 11880, 'syler': 12963, '252': 724, 'ber': 2178, 'ghajini': 5909, 'bedtime': 2113, 'abide': 1059, 'dickinson': 4220, 'lilmommaabc': 8163, 'retort': 11238, 'skating': 12088, 'loft': 8264, 'mojoes': 8963, 'owen': 9906, 'fred': 5606, 'blade': 2327, 'realz': 10987, 'undies': 13934, 'tolerance': 13486, 'preach': 10528, 'blah-blah-blah': 2330, 'edit': 4714, 'tad': 13004, 'hermioneway': 6588, 'tres': 13655, 'posh': 10464, 'martini': 8592, 'ipa': 7300, 'beckoning': 2103, 'amberto': 1391, 'neede': 9291, 'whas': 14488, 'rappin': 10922, 'peachy': 10086, 'feelingggggg': 5277, \"you'recoming\": 14949, 'describes': 4141, 'thrill': 13354, 'seeker': 11730, 'work-wise': 14712, 'finishing': 5357, 'patries': 10055, 'fragile': 5581, 'stamen': 12572, 'tryhard': 13704, 'sin': 12037, 'corpse': 3600, 'skully': 12108, 'knit': 7807, 'bodiest': 2421, 'clockin': 3301, \"'fat\": 33, 'dave': 3962, 'chapelle': 3046, 'anymore..fuckin': 1517, 'wiki': 14595, 'demo': 4096, 'pimple': 10281, 'caryrn': 2921, '7:00pm': 941, 'announcement': 1467, 'meryl': 8763, 'streep': 12706, 'arsonist': 1635, 'bell-end': 2156, 'pineapple': 10284, 'cjb2m5': 3239, 'england': 4860, 'you..hahhaa': 14953, 'babie': 1885, 'ballfuck': 1959, 'samurai': 11530, 'cried..': 3735, '182': 665, 'wedged': 14418, 'prevented': 10582, 'detective': 4172, 'gumshoe': 6223, 'wright': 14757, 'dayyym': 3985, 'shira': 11904, 'calorie/fat': 2827, 'wayyyy': 14386, 'easilyyyyyyy': 4678, 'sneaking': 12234, 'nonsense': 9473, '.terrible': 381, 'fluently': 5450, 'no-sign': 9429, 'taco': 13002, \"'command\": 23, 'arrow': 1629, 'pimping': 10280, 'specially': 12427, 'connex': 3510, 'rer': 11186, 'hmph': 6717, 'niece': 9387, 'safely': 11499, 'likey': 8158, 'more..why': 9013, 'raptr': 10924, 'seldo': 11742, 'dearly': 4006, 'maddow': 8466, 'segregate': 11739, 'poodle': 10426, 'squeeze': 12528, 'echoplex': 4701, 'recollection': 11026, 'awsomeeeeeee': 1838, 'hey~~happy': 6609, 'movie~': 9061, 'proff': 10657, 'up..damn': 13996, 'yous': 14976, 'shew': 11889, 'hermet': 6587, 'lykee': 8432, 'ohhemmgee': 9670, 'hiii': 6636, 'snuck': 12269, 'aidan': 1251, 'crib': 3732, 'bossman': 2492, 'birthstone': 2284, 'knw': 7826, 'stood': 12674, 'maid': 8485, 'poncey': 10417, 'protection': 10700, 'vaccuum': 14080, 'comprise': 3465, 'to-do': 13461, 'productivity': 10651, 'newsy': 9357, '1.0': 587, 'squirt': 12534, 'shout': 11955, 'sk': 12083, 'subscriber': 12786, 'sunburn': 12846, 'shrimp': 11974, 'champagne': 3033, 'townhouse': 13583, 'wireless': 14637, 'digis': 4254, 'wordpress': 14706, 'template': 13155, 'summon': 12839, 'undead': 13911, 'memorized': 8735, 'annoyes': 1470, 'eachother': 4656, 'amen': 1396, 'bradsucks': 2539, '~chris~': 15075, 'honolulu': 6782, 'non-stop': 9465, 'discipline': 4301, 'dementation': 4091, 'dominate': 4421, 'obtenebration': 9619, '.3': 311, 'nothches': 9520, 'blackberrydom': 2320, 'earliest': 4663, 'bastages': 2030, 'inflated': 7175, 'generously': 5876, 'portioned': 10456, 'eats': 4695, 'blintz': 2368, 'marquess': 8578, 'queensbury': 10824, 'en': 4837, 'garde': 5795, 'seminar': 11757, 'gcpets': 5837, 'old-fashioned': 9715, 'bar-': 1994, 'glance': 5961, 'mystique': 9181, 'hombre': 6750, 'abrams': 1073, 'scorsese': 11651, 'compared': 3443, 'jealousy': 7462, 'whilst': 14517, 'aussie': 1764, 'overtaking': 9897, 'overlooked': 9889, 'jackass': 7400, 'ooooo': 9772, 'default': 4046, 'decode': 4033, 'anything..': 1525, 'search': 11697, 'damn..wolfmother': 3917, 'velvet': 14122, 'revolver': 11266, 'oo': 9757, '..guurrrl': 277, '..b/c': 270, 'muchoo': 9101, 'celeb': 2972, '2morrow': 758, 'mmovie': 8932, 'butthead': 2748, 'martha': 8587, 'stewert': 12642, 'baaah': 1875, 'hv': 6935, 'embarassed': 4798, 'kai': 7649, '808s': 960, 'faux-man': 5235, 'real-man-hate': 10969, 'nowadays': 9537, 'toe': 13475, 'earlobe': 4664, 'bruise': 2633, 'enivetable': 4862, 'end..that': 4847, 'woken': 14671, 'samanthaaaaaaaaaa': 11523, 'sliding': 12145, 'thiz': 13315, 'nasttty': 9242, 'climax': 3285, 'parodied': 10010, 'dede': 4037, 'bliss': 2371, 'hahahahahahahahahahahahahahahahahahaha': 6322, 'earlyerr': 4666, '//twitpic.com/rrvm': 508, '//twitpic.com/wixa': 532, 'tooo': 13521, 'reindeer': 11099, 'zero': 15041, 'entertaiin': 4879, 'mhee': 8794, 'yorkers': 14945, 'yorkers+holiday': 14946, 'shopping+crowded': 11937, 'lot=': 8338, 'people..lol': 10127, 'swollen': 12956, 'electricute': 4766, 'cellfonne': 2984, 'ethnicity': 4958, 'anorexic': 1480, 'giraffe': 5938, 'ididnt': 6993, 'igo': 7020, 'lakez': 7930, 'hippups': 6666, 'download': 4475, 'reva-thy': 11250, 'remote': 11147, 'comeon': 3411, 'mental': 8743, 'j': 7387, 'beng': 2170, 'heck': 6526, 'donkey': 4431, 'testicals': 13189, 'hahahahhahah': 6336, 'thakssssssssssssss': 13213, 'faggoty': 5155, 'secks': 11710, 'blowjob': 2398, 'pinky': 10288, 'cl-ass-y': 3245, 'awesomes': 1824, 'anyone..': 1520, 'aaand': 1039, 'chrystal': 3204, 'recording': 11034, 'andys': 1433, 'baby-fat': 1888, '4:30': 857, 'revelation': 11253, 'fob': 5459, 'tix': 13450, \"'/\": 10, 'bartender': 2014, 'zomgz': 15054, 'fontfeed': 5488, '174': 659, '5000': 883, 'puter': 10781, 'proved': 10708, '..by': 273, 'twitterific': 13800, 'ringo': 11319, 'scion': 11639, 'disc': 4300, 'katrinaneufeld': 7677, 'blackstone': 2324, 'variety': 14107, 'electricals': 4764, 'hades': 6282, 'destination': 4164, 'journey': 7578, 'pesky': 10181, 'mistletoe': 8906, 'coach': 3333, 'kayleigh': 7685, 'exhausted': 5052, 'tims': 13430, 'goodfellas': 6034, 'iilove': 7031, 'yuuuaaa': 15022, 'akekeke': 1276, 'ewwwwwweyy': 5018, 'skers': 12089, 'velour': 14121, 'praline': 10521, 'defecation': 4047, 'carefully': 2895, 'frontal': 5658, 'nudity': 9551, 'prop8': 10682, 'facto': 5144, 'keith': 7700, 'smarting': 12185, 'not-being-crowned-the-next-russert': 9515, 'weatherford': 14404, 'craving': 3693, 'janet': 7436, 'wrestlher': 14755, 'sorting': 12364, 'drying': 4570, 'underlying': 13915, 'aiint': 1253, 'sortaa': 12363, 'charice': 3057, 'baha': 1933, 'allz': 1336, 'stupid-ass-rodimus': 12764, 'fantabibulous': 5197, 'shitbird': 11909, 'teller': 13143, 'irrisistably': 7323, 'jamie': 7429, 'adam': 1141, 'francis': 5588, 'ford': 5519, 'coppola': 3583, 'griego': 6139, 'wos': 14734, 'jumping': 7611, 'conclusion': 3478, 'beachhh': 2071, 'moustache': 9054, 'twitchy': 13784, 'yayyyy': 14862, 'header': 6494, 'analytics': 1422, 'elliott': 4780, '**i': 96, 'script': 11679, 'solve': 12308, 'cockroach': 3350, 'fairytale..': 5170, 'cuffed': 3800, '78deg': 939, 'fooled': 5500, 'twenmax': 13766, '//blog.greensock.com/tweenmaxas3/': 412, 'vehemently': 14118, 'blatant': 2345, 'noise/disrespect': 9448, 'rookie': 11394, 'synced': 12970, 'boyy': 2528, 'mon': 8980, 'l8': 7902, '11pm+': 624, 'tokbox': 13482, 'yet-': 14918, 'st8': 12551, 'omfggg': 9727, 'cocktease': 3352, 'tennant': 13168, 'woop': 14698, 'turnbull': 13739, 'true..': 13691, 'trainer': 13610, 'mwahahahahahahahahaha': 9162, 'basicc': 2023, 'ditz': 4357, 'reow': 11160, 'zaxby': 15035, 'cordele': 3586, '//loopt.us/i0a8qq': 436, 'overrated': 9894, 'cultural': 3807, 'fad..': 5146, 'overpriced': 9893, 'hermanos': 6586, 'jamessime': 7427, 'dead_by_january_i_didnt_sign_up_for_this_shit': 3995, 'younger': 14964, 'tirb': 13439, 'suitcase': 12831, 'bitter': 2306, 'fuckied': 5688, 'rim': 11317, 'pierogies': 10267, 'wwere': 14790, 'lololol': 8287, 'romantic': 11385, 'expectation': 5065, 'outing': 9867, 'twittetfriendz': 13805, 'alyssa': 1374, 'milano': 8835, 'cheese.r': 3102, 'corinne': 3590, 'zimbabwe': 15045, 'next-door': 9361, '-question-': 247, 'pour': 10497, 'hilarious..and': 6641, 'lilke': 8162, 'phobia': 10222, 'moronic': 9026, 'access': 1091, 'particularly': 10018, 'british': 2599, 'pronunciation': 10679, 'broad': 2607, 'leeme': 8048, 'choo': 3176, 'numbaa': 9557, 'wouldn': 14739, '//tinyurl.com/63gsj7': 465, 'tobey': 13468, 'intention': 7248, 'pkzwrt': 10316, 'hommy': 6768, 'ex-scharrel': 5026, 'lijst': 8147, 'regelaares': 11080, 'zunes': 15062, 'torrent': 13541, 'dd-wrt': 3990, 'router': 11427, 'priority': 10611, 'papparazzi': 9986, 'visual': 14198, 'criagslist': 3731, 'cork': 3591, 'shawnwildermuth': 11858, 'software': 12301, 'irresistible': 7321, 'stepdad': 12624, 'arkansas': 1609, 'bailey': 1942, 'sue': 12820, 'bfg': 2229, 'hector': 6529, 'kitteenip': 7784, 'extract': 5098, 'pnc': 10375, 'swine': 12948, 'yesh': 14907, 'toliet': 13487, 'mwahah': 9159, '-holiday': 238, 'hugs-': 6886, 'chillin.': 3150, 'cottage': 3619, 'printing': 10609, 'bil': 2268, 'bernanke': 2180, 'ewston': 5012, 'seesmic': 11736, 'tyierdurden': 13817, 'pastel': 10039, 'cab': 2787, 'fghsdj': 5309, 'uuummm': 14061, '.fuck': 336, '//tinyurl.com/75wwrp': 482, 'hmm..sloth': 6702, 'blip': 2369, 'malicious': 8504, 'oj': 9690, '..karma': 286, 'him~': 6657, 'attempts..damn': 1738, 'juicee': 7600, 'actor/actress': 1134, 'beached': 2070, 'blessed': 2357, 'hoovered': 6800, 'prezzies': 10588, 'achieved': 1115, 'alternator': 1363, 'fri': 5628, 'tues.': 13721, '..hahaha': 278, 'landfill': 7943, 'reserve': 11194, 'yelling': 14895, 'golden': 6012, 'axe': 1851, 'castle': 2933, 'crasher': 3690, 'newer': 9349, 'davidlano': 3967, 'leeds': 8047, 'fraser': 5594, 'gap': 5792, 'concession': 3475, 'tarren': 13063, 'jessica': 7497, '4.': 832, 'twissed': 13779, 'twitter-missed': 13793, 'alllrighhhtyy': 1331, 'ikrr': 7040, 'wud': 14780, 'productive': 10650, 'lmmmao..me': 8246, 'chuggin': 3209, 'beeen': 2117, 'wks': 14663, 'editorialising': 4720, 'bbc': 2054, 'offender': 9648, 'aol': 1536, '1998.': 673, 'refers': 11062, 'length': 8074, '*wink': 201, 'bitchez': 2295, 'miiss': 8830, 'skippay': 12100, \"'09\": 12, 'fancy': 5192, 'jeff': 7468, 'muzak': 9155, 'thng': 13317, 'leisurely': 8064, 'vichick': 14148, 'weekday': 14426, 'dreading': 4510, 'nintendo': 9413, 'oldschoolftw': 9720, 'biazillion': 2240, 'sassy': 11561, 'lauriewrites': 7999, 'margeaux': 8557, 'octave': 9633, 'range': 10908, 'grate': 6109, 'hahahahahha': 6331, 'ion': 7296, 'megabus': 8716, 'transporation': 13623, 'knitting': 7808, 'neightbor': 9306, 'taught': 13080, 'summary': 12836, 'sga': 11825, 'crackfic': 3674, 'excellent': 5033, 'trapped': 13628, 'hmm..dogs': 6695, 'average': 1796, 'dre': 4508, 'fading': 5148, '//twitpic.com/qtt0': 506, 'bingo': 2274, 'waaaaay': 14277, 'it..wait': 7359, 'killahills': 7748, 'deliver': 4084, 'pizza..lol': 10311, 'youz': 14989, 'baybay': 2049, '50ft': 886, 'barbarella': 2001, 'mcgowan': 8661, 'vagina': 14085, 'yeaaah': 14868, 'messed': 8769, '8says': 972, 'order8': 9815, 'j-a-c-k.': 7388, 'mom-he': 8971, 'regret': 11090, 'billy': 2271, 'mini-poster': 8864, \"*didn't*\": 119, 'eg': 4737, 'assing': 1693, 'interpret': 7260, '9am': 986, '7pm': 949, 'fa50': 5124, 'ultra': 13881, '50k': 887, '25k': 725, 'juggernaut': 7596, 'u00bflistography': 13835, '*falls': 126, 'fabulous': 5129, 'off*': 9642, 'twerp': 13767, 'thrive': 13357, 'payin': 10071, 'emery': 4813, 'veryy': 14139, 'sting': 12653, 'barb': 1999, 'iloveyouutoobabyy': 7059, 'petie_martin': 10189, 'shondor': 11928, 'shabbos': 11830, 'locally': 8256, 'dickens': 4218, '12:30': 634, 'covert': 3651, 'ops': 9800, 'postponed': 10484, 'alaskan': 1288, \"'cuz\": 26, 'poster': 10481, 'cough': 3621, '*smiling*': 184, 'faaaaake': 5126, 'painter': 9952, 'hahahahahahahahahahahahahhahaha': 6323, 'wifey': 14588, 'lol=': 8280, 'eligible': 4775, 'revocation': 11262, 'thoughh': 13337, 'omgomgomg': 9731, 'herpes': 6592, 'ehhhh': 4749, 'depend': 4117, 'lighten': 8139, 'listed': 8198, 'frustrating': 5666, 'sadly': 11496, 'britneys': 2601, 'pectoral': 10093, 'development': 4180, 'moron': 9024, 'tacky': 13001, 'tee..': 13121, 'quarter': 10819, 'kinky': 7770, 'stuff-yeah': 12754, 'naa': 9201, 'whosz': 14563, 'niggaaa': 9394, 'bullllllllll': 2687, 'bugger': 2673, 'screaming..': 11670, 'usuallly': 14051, 'teamblack': 13101, 'paintball': 9950, 'tractor': 13596, 'creative..one': 3717, 'stare': 12585, 'gay..and': 5827, 'mutilple': 9151, 'variable': 14103, 'serial': 11779, 'networkers': 9334, 'fine..': 5350, 'was..haha': 14348, 't3': 12985, 'pu': 10731, 'uhp': 13873, 'spontaeity': 12490, 'stability': 12554, 'au': 1750, 'gratin': 6111, 'pax': 10066, 'hockey': 6726, 'charity': 3059, 'whhenz': 14512, 'birthdeyy': 2283, 'rhyming': 11280, 'invariably': 7280, '4-5': 830, 'scam': 11598, 'resell': 11192, 'z-lister': 15029, 'gloriously': 5976, 'unaffected': 13899, 'friendfeed': 5636, 'downtime': 4481, 'scoble': 11644, 'norwich': 9507, 'australia': 1768, '.hug': 347, 'backing': 1901, \"'mother\": 52, 'frat': 5595, 'freezind': 5616, 'tx': 13812, 'gorilla': 6052, 'ape': 1543, 'ass-scratching': 1677, 'primate': 10597, 'zoo': 15057, 'evans': 4967, 'newcastle': 9347, '-1': 220, '-6': 223, 'brassic': 2558, 'on-line': 9737, 'keel': 7694, 'lovingly': 8374, \"e'rbody\": 4650, 'coolin': 3576, '5th': 907, 'yuuuuuuu': 15023, 'icm': 6974, 'taggged': 13008, 'lottery': 8344, 'juno': 7619, 'syncing': 12971, 'markup': 8575, 'snippet': 12245, '==': 1000, 'profit': 10659, 'urine': 14030, 'onlky': 9749, 'jap': 7439, 'automatic': 1786, 'airsoft': 1266, 'rifle': 11306, 'jordin': 7569, 'rudeo': 11450, 'greyhound': 6137, 'leakage': 8030, 'carrying': 2913, 'grudge': 6181, 'haveing': 6469, 'impatient': 7093, 'crabby': 3669, 'gender': 5864, 'precious': 10531, 'nate': 9246, 'watcher': 14361, 'eeyore': 4730, 'demented': 4092, 'socal': 12283, 'applaud': 1559, 'execution': 5049, 'nsync': 9547, 'backstreet': 1904, 'jumbos': 7606, 'strike': 12719, 'gong': 6022, 'adjustment': 1164, 'required': 11185, '1005': 602, 'bullet': 2686, 'presentationzen': 10556, 'shy': 11992, 'lakerss': 7929, 'bbbyyyyy': 2053, '2o1o': 765, 'avid': 1800, 'bih': 2260, 'patd': 10045, 'int': 7240, 'rambo': 10895, 'welkom': 14444, 'besluiten': 2184, 'maar': 8450, 'te': 13090, 'volgen': 14218, 'religious': 11126, 'e-mail': 4652, 'misplaced': 8887, 'grandparents..': 6095, 'backround': 1903, '20yrs': 704, 'aged': 1214, 'wlw': 14664, 'marvellous': 8594, 'zippo': 15048, 'fueled': 5698, '2getha': 749, 'yeshhh': 14909, 'kryptonite': 7866, 'accomplish': 1095, 'weakness': 14397, 'mvie': 9156, 'trailor': 13607, 'parl': 10008, 'bradjward': 2537, 'freddy': 5607, 'nonrealistic..mostly': 9472, 'sec': 11709, 'iam': 6957, 'cuzzin': 3857, 'beautidul': 2091, 'spirit-': 12471, 'out.i': 9861, 'procrastinator.': 10643, '58382': 899, 'pacsun': 9937, 'metropark': 8784, 'biiaaaatch': 2262, '.oh': 366, '.60': 313, 'parrtayy': 10013, 'wack-ass': 14282, 'co-worker': 3330, 'hilton': 6649, 'telephone': 13139, 'raphaela': 10918, 'foiled': 5466, 'foolproof': 5504, 'hpy': 6862, 'bthdy': 2647, 'yooo': 14937, 'pls': 10362, 'twitterverse': 13803, 'par': 9987, 'dalesandros': 3900, 'orjim': 9829, 'gayborhood': 5828, 'flist': 5433, 'striked': 12720, 'heartattack': 6511, 'adamar': 1143, 'kaydoll': 7681, 'bettaa': 2212, 'rhubinathy': 11277, 'othe': 9841, 'otherinbox': 9843, '//otherinbox.com': 439, 'retrieve': 11239, 'imdb': 7072, 'sunlight': 12849, 'balloono': 1960, 'a.k.a': 1036, 'bommer': 2444, 'lameguest': 7938, 'jenny': 7484, 'swirl': 12952, 'confiting': 3492, 'cryovac': 3782, 'tenderloin': 13165, 'bucket..': 2660, 'secretly': 11715, 'rsa': 11437, 'beaker': 2073, 'red-bull': 11045, 'whoop-ass': 14548, 'mhmm': 8796, 'otoh': 9849, 'passionately': 10034, 'burnt': 2714, '*sends': 175, 'basket*': 2026, 'yoooooooooou': 14938, 'tarlynxeno': 13062, 'yoooooou': 14940, 'toooooo': 13524, 'b.': 1864, '102.7': 606, '97.1': 978, 'snooped': 12251, 'medicine': 8705, 'cabinet': 2791, 'concern': 3472, 'flaw': 5415, 'majesters..': 8495, 'throwback': 13364, 'harlem': 6431, 'abanks32': 1052, 'homegirl': 6755, '45th': 852, 'tthan': 13711, 'nigga..u': 9393, 'jay-z': 7452, 'karate': 7660, 'dozen': 4484, 'hissing': 6674, 'roach': 11335, 'wolfnoma': 14673, 'scotch': 11652, 'ail': 1255, 'black_milk': 2318, 'graham': 6087, 'constitutional': 3529, '//tinyurl.com/4upez4': 457, 'challenged': 3028, 'vivid': 14202, 'alt': 1360, 'moistness': 8961, 'eon': 4901, 'toseecopulation': 13546, 'native': 9250, 'capture': 2877, '+0': 206, 'h0+': 6257, 'ebay': 4697, 'typeall': 13821, 'faught': 5232, 'kendall': 7705, 'pff': 10194, 'orlando': 9830, 'mongering': 8986, '..which': 308, 'movin': 9062, 'spleen': 12477, 'reather': 10997, 'kel': 7701, 'sureee': 12888, 'hopped': 6810, 'aug': 1756, 'robin': 11347, 'batman': 2041, 'was..': 14347, 'hmm..well': 6704, 'spidermans': 12461, 'pressure': 10561, 'probally': 10627, 'dont..': 4437, 'judgement': 7589, 'acceptable': 1089, '.major': 357, \"'take\": 79, 'ads..': 1180, 'gary': 5804, 'practising': 10517, '4pm': 868, 'parcel': 9997, 'gatesville': 5811, 'idgaf': 6991, 'you/http': 14957, '//lofistl.com': 435, 'awesome/bad': 1821, '..of': 295, 'too-didnt': 13511, 'appreciated': 1570, 'god-that': 6001, 'apologize': 1546, 'assumption': 1701, 'inborn': 7123, 'left-handedness': 8050, 'amazed': 1382, 'loss.these': 8335, 'week.amazing': 14425, 'wuld': 14781, 'jelous': 7476, 'dave_malby': 3963, 'colfax': 3376, 'agent': 1216, 'leftttttt': 8051, 'hoped': 6804, 'mack': 8460, 'shunned': 11985, 'amish': 1402, 'shun': 11984, 'outcast': 9862, 'st.': 12550, 'bernard': 2181, 'nipplesz': 9415, 'whats-his-name': 14497, 'watever': 14371, 'pleasant': 10348, 'hectic': 6528, 'touche': 13560, 'humility': 6903, 'it/para': 7362, 'tod': 13470, 'leu00e9is': 8093, 'lo': 8247, 'cambiado': 2833, 'aspecto': 1670, 'nombre': 9453, 'historias': 6676, 'mismas': 8885, '//perdidaentretuszapatos.blogspot.com/': 440, 'think/u00bfquu00e9': 13303, 'parece': 9999, 'wats': 14373, 'wid': 14579, '3469': 801, 'phenomenon': 10206, 'ain': 1257, 'developed': 4179, 'haiti': 6361, 'dropper': 4549, 'nra': 9543, 'alexis': 1302, 'toasty': 13467, 'revise': 11260, 'prettty': 10575, '..ll': 288, 'spec': 12425, 'somewhere..': 12328, 'sharin': 11849, 'order..haha': 9814, '12.55': 629, 'dgaf': 4191, 'highly': 6631, 'perfume': 10146, 'sureeee': 12889, ':3': 992, '//twitpic.com/uakz': 521, 'himto': 6656, 'bryar': 2643, 'adventure': 1185, 'kissy': 7777, 'facee': 5135, 'krebs': 7856, 'spazzy': 12419, '1/3rd': 592, 'boredddddddd': 2481, 'musician': 9141, 'webpage': 14410, 'pigeon': 10269, 'robbed': 11343, 'countless': 3634, 'occasion': 9623, 'disagreeing': 4291, 'mid-major': 8819, 'prove': 10707, 'undeserving': 13932, 'hamfisted': 6379, 'ass-backwards': 1673, '11.2': 618, 'kkkkkkkkk': 7794, 'good/': 6029, 'float': 5435, '*premium*': 166, 'speedier': 12437, 'shoddy': 11926, 'w/stink': 14264, 'hate-y-ish': 6448, 'surface': 12892, 'rail/trolleys': 10884, 'blinked': 2365, 'like..': 8150, 'verrrryyy': 14134, 'thankful': 13219, 'info/directions': 7180, 'populist': 10444, 'talented': 13027, '..u': 306, 'taskpaper': 13068, 'sanity': 11542, 'gtd': 6190, 'hitlist': 6682, '*jealous*': 148, 'inexplicably': 7168, 'fascinating': 5209, 'queue': 10834, '//twitpic.com/v2mo': 523, 'both..': 2496, 'hendersonville': 6570, 'podcast': 10380, 'belt': 2163, 'generous': 5875, 'tanking': 13048, 'delicous': 4080, 'buaha': 2655, 'dicky': 4224, 'kyle': 7888, '500.': 882, 'oooh..thats': 9766, 'layne': 8012, 'refered': 11058, 'competition': 3447, 'fir': 5360, 'ie': 7005, 'turnover': 13744, 'sd': 11688, 'denver': 4108, 'marital': 8568, 'bashful': 2020, 'greater': 6119, 'sci-fi': 11634, 'sg': 11824, 'sgc': 11826, '//itweet.net/web/': 432, 'texture': 13203, 'niggaitus': 9395, 'footage': 5508, 'penny': 10122, 'loveeeee': 8366, 'chose': 3184, 'elysiumgwj': 4788, 'certis': 3009, 'demiurge': 4095, 'gwjrabbit': 6251, 'isayah': 7333, 'der': 4131, 'molly': 8966, 'cleanin': 3268, \"mf'in\": 8790, 'siamese': 11996, 'economic': 4704, 'welfare': 14443, 'card/flowers': 2886, 'thanlyou': 13231, 'pah': 9941, 'haahaha': 6272, 'fella': 5286, 'bane': 1977, 'gahaha': 5765, 'whip': 14522, 'butt..': 2743, 'cup-able': 3819, 'showww': 11972, 'excercise': 5038, 'dickkkkkkkkkkkkkk': 4222, 'brittany': 2603, 'mayodan': 8651, 'abbie': 1054, 'ellisboro': 4781, 'either.dumbass': 4755, '.and': 317, 'lst': 8388, 'aintchur': 1259, 'vness': 14209, 'finesse': 5351, 'sixtyone': 12077, 'inability': 7119, 'relying': 11129, '//is.gd/1yvl': 420, 'survey': 12904, 'icystorm': 6977, 'romance': 11382, 'respond': 11210, 'fag-o-licious': 5150, '__________': 1022, 'nsfw': 9545, '//tinyurl.com/6d9ew5': 473, 'sox': 12389, 'onterio': 9753, '..god': 276, 'no-competition': 9428, 'oooommmmmmmmg': 9771, 'perjury': 10152, 'betcha': 2203, 'gluten': 5983, 'traderjoes': 13600, 'silk': 12024, 'colorful': 3390, 'painting': 9953, 'procrastinated': 10640, 'cock-blocked': 3347, 'favrd': 5246, 'eight': 4751, 'gymnastics': 6253, 'thunder': 13381, 'anymore..must': 1518, 'pissing': 10299, 'piratee': 10294, 'alley': 1324, 'potty': 10493, '.at': 320, 'stacy': 12559, 'bump': 2695, '-hellz': 237, 'qoinqq': 10807, 'wannah': 14321, 'quy': 10849, 'bounced': 2507, 'hahahahahahahhahahahahahahahahahahhahahahahahahahahahahaahahhahaahhahahaahahahaaaaaa': 6328, 'beating': 2086, 'hateration': 6456, 'mohawk': 8959, 'rotf': 11415, 'want..': 14324, 'eminems': 4816, 'rihanna': 11315, '*evil': 121, 'grin*': 6147, 'nachoes': 9208, 'tune/album': 13730, 'neverr': 9343, 'mudhole': 9105, 'partially': 10015, 'anecdotal': 1436, 'horizon': 6812, '20-30cm': 691, 'metric': 8782, 'wutchu': 14784, 'pateint': 10046, 'didint': 4230, 'omfg': 9726, 'funky': 5718, 'has-what': 6436, 'outkast': 9868, 'bothered': 2499, 'perth': 10176, 'straightened': 12691, 'serioulsy': 11781, 'jasonanderson': 7447, 'biggest-jack-ass': 2257, 'retweeter': 11246, 'ahhhh': 1246, 'sil': 12019, 'tub': 13716, 'managed': 8520, 'ltr': 8390, 'gummo': 6221, 'borrow': 2487, 'bur`li': 2704, 'hugh': 6885, 'ceo': 2999, 'evolve': 5003, 'aaarrrg': 1041, 'leahsairy': 8028, 'gr8': 6075, 'indy': 7163, 'plugin': 10365, 'fuckery': 5686, 'welcomed..only': 14442, 'whaha': 14481, 'ja': 7394, 'zon': 15055, 'raar': 10855, 'idee': 6986, 'ze': 15036, 'lezen': 8105, 'iets': 7007, 'tegen': 13129, \"'gezegt\": 36, 'heeft': 6531, 'moet': 8957, 'vragen': 14231, 'tick': 13396, 'rumble': 11465, 'honorary': 6783, 'graduate': 6084, 'lmmfao': 8245, 'soory': 12350, 'ski': 12090, '+1': 207, '+2': 208, 'pilot': 10277, 'filmmaking': 5339, 'nyt': 9584, 'warming': 14334, 'shoveling': 11962, 'reliably': 11121, 'sweaty': 12930, 'accutally': 1110, 'fucl': 5696, 'horrendous': 6818, '*feel*': 127, 'cinema': 3222, 'preteen': 10566, 'h3rd': 6264, 'su': 12775, 'k3d': 7641, 'cum3d': 3811, '0+3rszz': 570, '3y3sz': 827, 'm0': 8440, 'n3d': 9197, 'qh+': 10802, 'l0nq': 7900, 'stacking': 12558, '*lol*': 154, 'un': 13893, 'endure': 4853, 'rape': 10916, 'lito': 8209, 'prostitute': 10696, 'eyez': 5109, 'rndm': 11333, 'seanhackbarth': 11695, 'hate-fest': 6446, 'diagnosed': 4200, '8pm': 970, 'madhouse': 8468, 'prerequisite': 10552, 'dose': 4457, 'vader': 14082, 'clubhouse': 3315, 'tils': 13416, 'whinier': 14519, 'massive': 8610, 'facetious': 5136, 'low-calorie': 8376, 'twinface': 13773, 'atcq': 1715, 'zacky': 15033, 'gubgivits': 6197, 'thingies': 13297, 'lullabot': 8407, 'charm': 3064, 'grub': 6180, 'marshmallow': 8586, 'rote': 11414, 'bae': 1926, 'wam': 14313, 'basketball': 2027, 'nailed': 9219, 'bootcamp': 2475, 'popcorn': 10435, 'mmmh': 8923, 'mrs.': 9077, 'caldwell': 2812, 'java': 7448, 'brendon': 2580, 'rufus_': 11457, 'jackhammer': 7403, 'cupcake': 3820, 'adapt': 1145, 'semblance': 11754, 'moderation': 8953, 'insects/bugs': 7211, 'ant': 1488, 'anti-bug': 1494, 'ughh': 13850, 'estee': 4947, 'lauder': 7986, 'cosmetic': 3611, 'dept': 4129, 'allergy': 1323, 'rickroll': 11293, 'testing': 13191, 'hardd': 6422, 'occur': 9627, 'draggin': 4494, 'disturbance': 4350, 'chelsea': 3111, 'loyal': 8384, 'stressful': 12714, 'partier': 10019, 'intersting': 7263, '*coughcough*': 112, 'lowlife': 8380, 'man/woman': 8518, 'kcoolbye': 7689, 'nt': 9548, '4me': 867, 'papers.i': 9985, 'nw': 9577, 'chnls': 3168, 'tk': 13452, '2mch': 757, 'phon': 10225, '//twitpic.com/xipq': 535, 'erg': 4919, 'aside': 1655, 'shovelling': 11963, 'guestlist': 6207, 'bommm': 2445, 'claus': 3261, 'smart-ass': 12183, 'disgusted': 4315, 'ela': 4758, 'hygiene': 6939, 'mniehaus': 8933, 'mm': 8920, 'naples': 9232, 'overnight': 9890, 'ughhh': 13851, 'sterling': 12635, 'symptom': 12968, 'fallen': 5179, 'imply': 7099, 'heals': 6501, 'shocking': 11925, 'portfolio': 10454, 'class..': 3257, 'bushy': 2726, 'trim': 13667, 'plez': 10354, 'kthnx': 7867, 'bar-b-q': 1995, 'mmmmm': 8927, 'mtv': 9092, 'jilly': 7513, 'grimy': 6145, 'trenton': 13654, '//www.formspring.me/bornbadd': 550, 'mata': 8614, 'conflict': 3493, 'finance': 5346, 'admin': 1165, '*shrug*': 177, 'lmaoooo': 8235, 'diddy': 4229, 'jenndow': 7481, 'jenf80': 7479, 'twitter-whore': 13794, 'bombing': 2442, 'pro-military': 10622, 'large': 7956, '//twitpic.com/w588': 531, 'yeeeeeeeeeeesssss': 14889, 'salinger': 11513, 'itll': 7371, 'tash': 13066, '800-soapie-kha': 958, 'property': 10685, 'mhr': 8797, 'optimus': 9803, 'alexx': 1307, 'extraordinary': 5099, '*clings*': 111, 'for..': 5513, 'crock': 3751, 'visualize': 14199, 'hassleshoff': 6440, 'crawling': 3697, 'ellas': 4779, 'beteter': 2204, 'envy': 4898, 'bandwidth': 1976, 'bambi': 1967, 'lols': 8288, 'easter': 4684, 'crutch': 3777, 'duel': 4595, 'chard': 3051, 'filipina': 5330, 'foreigner': 5525, 'hahahahahahaah': 6313, 'spency': 12448, 'ddddd': 3992, 'sucks.sorry': 12813, 'kthxbye': 7869, 'bunny': 2703, 'pal': 9958, 'jaron': 7445, 'furthermore': 5730, 'gtalk': 6189, 'integration': 7243, 'rooms..': 11400, 'interesting..': 7257, 'k-8': 7638, 'terifying': 13176, 'suspected': 12912, 'ghurrr': 5915, 'wuzz': 14788, 'upp': 14010, 'nuttin': 9571, 'busyy': 2737, 'croc': 3749, 'australia-': 1769, 'wildlife': 14599, 'blushy': 2411, 'face*': 5132, 'sneaker': 12233, 'sandal': 11533, 'a.job.being': 1035, 'pfffft': 10195, 'rosenbergradio': 11408, 'cipha': 3227, 'heores': 6572, 'post..': 10478, 'schedule..you': 11621, 'kkk': 7789, 'ditty': 4356, 'quality': 10815, 'evryday': 5008, 'pelvic': 10109, 'thrust': 13370, '/wordpress/wp-content/plugins': 568, '/themes': 565, '/uploads': 567, '2.7': 687, 'stupidddd': 12767, 'accountt': 1102, '*is*': 146, \"'nerd\": 55, 'development/design': 4181, '//ping.fm/4gnjj': 441, 'laughin': 7990, 'duhhh': 4601, '172': 658, 'heavy-hitter': 6522, 'blackmail': 2322, 'tray': 13642, 'peeled': 10102, 'prickly': 10593, 'pear': 10089, 'chilled': 3147, 'prick': 10592, 'bag/purse..': 1928, 'yeeee': 14888, 'visible': 14192, 'killin': 7751, 'conquer': 3512, 'space-time': 12396, 'continuum': 3552, 'nested': 9329, 'fairfax': 5165, 'chesthair': 3122, 'alll': 1328, 'dayy': 3983, 'outnumbered': 9871, 'deleating': 4073, 'wishlist': 14645, 'cargo': 2897, 'scrap': 11662, 'tues': 13720, 'insane-o': 7208, '10.': 595, 'relevant': 11119, 'puk': 10740, 'son-of-a-bitch': 12332, 'becoz': 2108, 'metaphor': 8779, 'northerner': 9503, 'southerner': 12385, 'language..': 7950, 'so..': 12273, 'coba': 3340, 'tebak': 13110, 'ini': 7192, 'bahasa': 1940, 'apa..': 1539, 'kamu': 7652, 'ngerti': 9366, 'ngga': 9367, 'aku': 1278, 'ngomong': 9369, 'apa': 1538, '*resumes': 170, 'half-life': 6368, 'marathon*': 8552, 'adonis': 1173, 'flooding': 5438, 'river': 11328, 'june': 7613, 'asking-in': 1663, 'souplantation': 12379, 'hung': 6914, 'sk8rs': 12084, \"'nomo'4\": 59, '2-all': 682, 'blur': 2408, 'twitpics': 13790, 'sideways': 12005, 'tok': 13481, 'wrn': 14766, 'meanin': 8680, 'nothn': 9523, 'sexula': 11816, 'thankn': 13223, 'kirby': 7772, 'unspoken': 13984, 'whever': 14511, 'arctic': 1589, 'whaa': 14474, 'ashamed': 1648, 'outdated': 9863, 'garnettlee': 5800, 'videogames': 14160, '1up': 679, 'independence': 7146, 'pounded': 10496, '0': 569, 'haaaha': 6269, 'marley': 8576, 'prollyy': 10669, 'amnesia': 1405, 'muggs': 9110, '//tinyurl.com/8ecw8m': 486, 'chef': 3110, 'hairnet': 6359, 'fpr': 5577, 'whoopee': 14550, '2k9': 753, 'jack-of-all-trades-in-the': 7399, 'hmm..im': 6699, 'hii': 6635, 'ceara..': 2968, 'suprised': 12884, 'personality.super': 10168, 'there..that': 13274, 'jensen': 7485, 'thingie': 13296, 'bling': 2362, 'co2': 3332, 'eyeliner': 5107, 'smearing': 12189, 'lyrically': 8436, 'spanked': 12408, 'work-kinda': 14710, 'numba': 9556, 'pfftt': 10197, 'scott': 11653, 'slumdogs': 12167, 'rem': 11130, 'yelp': 14897, 'ignored': 7018, 'abrilll': 1074, 'iloveyhuuu': 7052, 'muchooo': 9102, 'glory': 5978, 'steve': 12638, 'youngun': 14966, 'ilovehim': 7051, '*delicious*': 118, '//veganom.com/': 545, '//snurl.com/8fhdw': 451, 'donated': 4428, ':shrug': 995, 'squaresies': 12524, 'spoke': 12485, 'sheed': 11868, 'iverson': 7381, 'serration': 11791, 'stouffer': 12686, 'wasn': 14353, 'ggilmore': 5907, 'gundam': 6226, 'gumed': 6220, 'arnt': 1614, 'u_u': 13841, 'guys..': 6246, 'unpredictable': 13975, 're-add': 10956, 'looooong': 8314, 'eastern': 4685, '2wks': 769, 'returned': 11242, 'refund': 11071, 'datz': 3960, 'kuzo': 7886, 'lien': 8123, 'toughpads': 13568, 'noah': 9433, 'saturn': 11570, 'earring': 4669, 'leotard': 8077, 'along-': 1344, 'torturing': 13544, 'pixel': 10309, 'sings': 12048, 'up=/': 13997, 'boheme': 2427, 'earwax': 4673, 'vinegar': 14176, 'cancerous': 2857, 'ofcourse': 9640, 'scipio': 11640, 'mondai': 8981, 'naturally': 9252, 'artificially': 1639, 'albertsons': 1291, 'karrine': 7667, 'momlogic.com': 8975, \"fuck'n\": 5679, 'jeep': 7466, 'impacted': 7091, 'smashed': 12187, '1800qzak': 664, 'discount': 4305, 'idkk': 6998, 'alottttt': 1349, 'bourgie': 2510, 'successful': 12796, 'heatsink': 6517, 'bent': 2174, 'courier': 3640, 'challange..it': 3025, 'responce': 11209, 'torpedo': 13540, 'open-toed': 9785, 'mainly': 8490, 'consolidating': 3524, 'babershop': 1881, 'christofer': 3198, 'karted': 7669, 'knwon': 7828, 'copper': 3582, 'elec': 4762, 'week..': 14424, 'furthest': 5731, 'intend': 7245, 'disposing': 4334, '*twitch*': 196, 'i.': 6952, 'precede': 10530, 'powerpoint': 10504, 'phillipines': 10214, 'backpack': 1902, 'southern': 12384, 'peru': 10177, 'aruba': 1643, 'mayan': 8642, 'jungleness': 7616, 'zackly': 15032, 'chipeft': 3159, 'reqd': 11181, 'abundance': 1082, '//rurl.org/18kr': 445, 'babysitting': 1892, 'contractor': 3555, 'flame': 5403, 'melody': 8725, 'faux-mance': 5236, 'gammon': 5785, '2times': 767, 'ofa': 9639, 'maintaining': 8492, 'sobriety': 12282, 'cartwheel': 2919, 'logic': 8266, 'tickle': 13400, 'firework': 5369, 'enjoying': 4866, 'adtrotrain': 1182, 'begged': 2131, 'rainbow': 10887, 'poly': 10414, 'towel': 13580, 'fckn': 5255, 'trashy': 13632, 'irc': 7308, 'elderly': 4761, '4.0': 833, '*gesticulates': 133, 'thumbs*': 13380, 'packing': 9936, 'dynamic': 4646, 'snoring': 12255, '6-2': 911, 'happends': 6405, 'esta': 4943, 'aqui..or': 1584, 'whtvr': 14565, 'd.c.': 3875, 'years..of': 14883, 'colombia': 3387, 'd.c': 3874, 'sumthing': 12843, 'meter': 8780, 'luke': 8406, 'hulk': 6891, '456': 851, 'cap': 2871, 'awareness': 1812, 'baking': 1953, '.theres': 386, 'material': 8618, 'reciprocity': 11020, 'lauren': 7998, 'angst': 1446, 'canda': 2860, 'roland': 11370, 'pallys': 9964, 'warcraft': 14328, 'iii': 7029, 'sponsor': 12487, 'olympics': 9725, 'nick-name': 9379, 'out-of-town': 9860, 'reveler': 11254, 'arriving': 1627, 'woopin': 14699, 'challet': 3029, 'basque': 2028, 'amazes': 1383, 'aft': 1202, 'sinus': 12055, 'infection': 7169, 'upper': 14012, 'congestion': 3498, 'd40': 3883, 'thehell': 13253, 'youhave': 14960, 'eclair': 4702, 'japan..i': 7441, 'jamican': 7428, 'patty': 10060, 'pooey': 10427, 'insightful': 7217, 'helpful': 6565, 'hoe-ishness': 6730, 'sinned': 12051, 'opppzz': 9798, 'vulcan': 14237, 'hottboi': 6844, 'mamn': 8513, '2do': 746, 'freplce': 5622, 'idk..': 6996, 'texas.4': 13196, 'videos.5': 14162, 'pix.ly': 10308, 'regreted': 11091, 'happaneing': 6402, 'interpretive': 7261, 'twinke': 13774, 'whateva': 14493, 'cool..': 3573, '//tinyurl.com/axmzxe': 494, 'sarcastic': 11556, 'independently': 7148, 'poppin': 10439, 'mayne': 8648, 'tata': 13073, 'anagram': 1416, '//twitpic.com/s13a': 510, 'scottiethehottie': 11655, 'photographer08': 10235, '~nerd': 15076, 'gathered': 5813, 'jordon': 7570, 'louse': 8353, 'smudge': 12216, 'fourth': 5574, 'blahhhh': 2334, 'bolognaise': 2435, 'buried': 2709, '**in**': 97, 'receiving': 11011, 'foodbanks': 5494, 'bigtime': 2259, 'tomvenuto': 13499, 'solution': 12307, 'released': 11116, 'albert': 1290, 'nessarenee': 9328, 'sustanol': 12915, 'deca': 4019, 'jackman': 7407, 'stronger..fuck': 12732, '**bitch***': 95, 'moby': 8943, 'shooter': 11932, 'escape': 4935, 'pppfff': 10510, 'cognac': 3367, 'argumentative': 1604, 'opportunie': 9793, 'hurt..but': 6926, 'torture': 13543, 'realllly': 10979, 'parked': 10006, 'dumber': 4612, 'toughbook': 13567, 'dreamt': 4518, 'hugerobots': 6881, 'escaped': 4936, 'palace': 9959, 'revolution': 11264, 'khia': 7724, 'area': 1591, 'nosee': 9509, 'piercedd': 10263, 'shep': 11882, 'ranting': 10912, 'debug': 4016, 'yuch': 14997, 'forfeit': 5531, 'argentina': 1598, 'gayy': 5830, 'boyyu2665': 2529, 'idid': 6992, 'textt': 13202, 'songs..then': 12335, 'ether': 4953, '-kaycee': 240, 'sincere': 12039, 'accountable': 1101, 'pajnstl': 9957, 'unsick': 13983, 'prolific': 10667, 'effing': 4734, '.damn': 326, 'smiley': 12200, 'whoo': 14544, 'retarded.': 11233, 'pretending': 10571, 'vonnegut': 14223, 'syndication': 12972, 'bother..': 2498, 'ne-yo': 9272, 'solo': 12306, '1.69/gal': 589, 'petty': 10191, 'bullshiz': 2689, 'aaaawwwww': 1038, 'drooled': 4545, 'booba': 2457, 'corentin': 3588, 'homeboy': 6754, 'whale-like': 14485, 'deprived': 4128, 'mnths': 8934, '40.': 840, 'absorb': 1079, 'drunk-tweet': 4561, 'twitterware': 13804, 'too-fucking-right': 13512, 'virgnin': 14189, 'management': 8521, 'implmenting': 7098, 'itil': 7370, 'meth': 8781, 'fooling': 5502, 'harassing': 6419, 'togetherr': 13479, 'dryer': 4569, 'lol.damn': 8279, 'dancer': 3926, 'poo': 10424, 'vomit': 14221, 'it..lucy': 7357, 'ella': 4778, '9824': 981, '.yer': 399, 'swinger': 12950, 'ppo': 10509, 'defensive': 4052, 'coordinator': 3579, 'tomlin': 13494, 'included': 7132, 'whaaaaaaaaaat': 14478, 'pho': 10221, 'pasteur': 10041, 'upped': 14011, 'xe': 14812, 'lua': 8392, 'dreamed': 4513, 'amber': 1390, 'bitchx': 2300, 'sql': 12521, 'suckwell': 12814, 'php': 10239, 'fip': 5359, 'silent': 12021, 'fluent': 5449, 'klingon': 7796, 'auto-assume': 1777, 'trusty': 13701, 'awwwwz': 1847, 'cubicle': 3794, 'somthing': 12330, 'dayyy': 3984, 'georgia': 5888, 'artile': 1640, '.omg': 367, 'ooowwww': 9779, 'rotfl': 11416, 'nostalgic': 9511, 'powerful': 10503, 'non-intuitive': 9463, 'snappy': 12229, 'wiener': 14585, 'stoned': 12670, '*no': 161, 'homo*': 6770, 'blogtv': 2385, 'pongo': 10422, 'self-centered': 11745, 'socialmedian': 12292, 'up-justin': 13994, 'entirety': 4886, 'skipping..which': 12103, 'jjprojects': 7521, 'garrett': 5803, 'revealing': 11252, 'sylar/peter': 12962, 'rayray': 10948, 'lowdown': 8378, 'jit..': 7517, 'anit': 1455, 'pacifist': 9930, 'conundrum': 3562, 'revolve': 11265, 'cellulars': 2987, \"'bill\": 18, '//tinyurl.com/97jrc6': 491, 'hysterical': 6942, 'meager': 8675, 'stipend': 12656, 'smaller': 12180, 'kkkkk': 7792, 'sick..pussy': 11999, 'tween': 13754, 'jams..': 7431, 'cared': 2892, 'caring': 2899, 'lmfaooooo': 8243, 'distinctly': 4344, 'smell..haha': 12191, 'notorious': 9528, 'horny': 6817, 'multi-tasking': 9118, 'more..fucking': 9012, 'radar': 10871, 'bu-bye': 2654, 'predator': 10532, 'richest': 11290, 'oprah': 9799, 'hahahahahahahahahhahahaha': 6325, 'personalized': 10169, 'depression': 4126, 'atlanta..and': 1726, 'antibiotic': 1498, 'neti': 9332, 'approach': 1571, 'kzero.co.uk': 7892, 'vw': 14245, 'consultancy': 3532, 'd/l': 3878, 'followin': 5478, 'embarraced': 4802, 'iandrea': 6959, 'preview': 10583, 'suing': 12828, 'business..this': 2728, 'ego': 4741, 'mwahahah': 9161, 'auto-dm': 1780, 'dragonball': 4497, 'offically': 9655, 'cheesy': 3108, 'bootleg': 2476, 'yun': 15013, 'tanja_c': 13045, 'grrr-power': 6177, 'inhaler': 7189, 'fang': 5195, 'yatty': 14860, 'poopy': 10432, 'train..i': 13609, 'jury': 7622, 'duty': 4633, 'biased': 2237, 'okey': 9708, 'dokey': 4412, '..sweet': 302, 'tak': 13018, 'snad': 12222, 'ani': 1448, 'nemel': 9311, 'psat': 10719, 'ted': 13118, 'budu': 2668, 'muset': 9136, 'stahnout': 12563, 'hrat..': 6864, 'mam': 8506, 'fronte': 5659, 'fallout': 5182, 'dalsi': 3904, \"i'd\": 6946, 'jellyfish': 7475, 'though..': 13335, 'withdraw': 14651, 'aggressive': 1219, 'commenting': 3427, 'widely': 14581, 'lunchbox': 8414, 'donky': 4432, 'edits': 4721, 'wart': 14345, 'mself': 9081, 'turbo': 13734, 'unfortunate': 13945, 'thta': 13374, 'certainty': 3006, 'definatly': 4058, 'trader': 13599, 'cruise': 3770, 'annnddd': 1465, 'advocate': 1190, 'preface': 10537, 'sunrise': 12852, 'yellow': 14896, 'skyline': 12112, 'weekly': 14429, 'embarrasing': 4803, 'riden': 11300, 'epiphany': 4905, 'unnecessary': 13971, 'lh13': 8107, 'gb': 5833, 'rain..wud': 10886, 'snow..crazy': 12257, 'kno..lol': 7810, 'wnna': 14665, 'egads': 4738, 'snarl': 12230, 'warranty': 14342, 'hadda': 6281, 'banoffee': 1990, 'commute': 3437, 'peaceful': 10084, 'b-slap': 1863, 'teehee': 13124, 'twoosh': 13811, 'gnna': 5990, 'fxk': 5743, '.ass': 319, 'inherently': 7190, '.srt': 378, 'format': 5544, 'kiddy': 7741, 'aren': 1594, 'shiiit': 11897, 'whiny': 14521, 'popped': 10438, 'gdocs': 5839, 'freestyle': 5613, 'dino': 4271, 'pron': 10677, 'tostitos': 13553, 'fiesta': 5320, 'sponsorship': 12489, 'arizona': 1608, 'illness': 7045, '4-': 829, 'bosca': 2489, 'ink': 7199, 'obcene': 9604, 'exorcist': 5060, '-a': 227, 'peezy': 10107, 'eh..i': 4745, 'offering': 9653, 'scottish': 11656, 'beware': 2219, 'hatein': 6452, 'yhuuuu': 14926, 'brandon': 2554, 'ssssssooooo': 12548, 'operating': 9790, 'bad..it': 1915, 'masturbate': 8613, 'visited': 14196, 'aroused': 1619, 'coldplay': 3374, 'tourns..': 13576, 'grinding': 6150, 'jolt': 7562, '//tinyurl.com/8woa3j': 489, '.o': 363, 'ghosties': 5913, '*ahem*': 101, 'safest': 11500, 'imo.hate': 7088, 'grit': 6152, 'feb': 5267, 'hahahar': 6337, 'groove': 6159, 'target': 13060, 'mckinnon': 8662, 'soooooo': 12348, '20+': 690, 'mpg': 9069, 'unreasonable': 13980, 'thing..': 13295, 'eh..': 4744, '*scrolling*': 174, 'pong': 10421, 'shh': 11891, '.dnt': 328, 'any1': 1509, 'mwah': 9158, 'hollywood': 6748, 'prissy': 10614, 'half-way': 6370, \"theyr'e\": 13285, 'aswesome': 1712, 'cameren': 2837, 'loomen': 8312, 'nyetwarty': 9582, 'catalinaloves': 2937, 'actin': 1126, 'mr.b': 9073, 'fest': 5298, 'ashleypalmero': 1651, 'photography': 10236, 'turkish': 13736, 'blip.fm': 2370, 'chauvinist': 3074, 'mattress': 8634, 'suddenly': 12818, '176': 660, 'dreamboat': 4512, 'eodm': 4900, 'perform': 10143, 'circus': 3232, 'ugo': 13860, 'justine': 7630, 'ic': 6966, 'prior': 10610, 'suntem': 12856, 'dar': 3939, 'ne': 9271, 'gandem': 5786, 'gasim': 5808, 'mascota': 8600, 'putem': 10780, 'scoate': 11643, 'dulap': 4604, 'cand': 2859, 'vrem': 14232, 'acuzam': 1139, 'cineva': 3223, 'nenorocul': 9313, 'nostru': 9512, 'chunk': 3212, 'supershuttle': 12867, 'primetime': 10600, 'shuttle': 11989, 'lax': 8007, 'chickhen': 3136, 'emma': 4817, 'missssseddd': 8900, 'yuhhhhh': 15004, '222222': 709, '33333': 795, 'sukka': 12833, 'hmm..idk': 6697, 'musically': 9140, 'cobra': 3343, 'starship': 12591, 'murs': 9133, 'srhaber': 12540, 'dcfc': 3988, 'vision': 14193, 'motion': 9037, 'detect': 4171, 'rec': 11004, 'sprting': 12516, 'qualtily': 10816, 'mine..': 8861, 'yas': 14859, 'tabbbbbi': 12992, 'damn..impressive': 3916, 'whyy': 14574, 'terry': 13186, 'preichet': 10545, 'hindsight': 6659, 'school-something': 11629, 'clermont': 3277, 'recovery': 11039, 'center': 2993, 'yacht': 14847, 'hmm..illegal': 6698, 'smoked': 12206, 'shroomies': 11976, 'meee': 8709, 'koala': 7830, 'kona': 7842, 'avflox': 1798, 'becase': 2100, 'baddddd': 1920, 'hahahahahhahahhaahhahahahah': 6334, 'ayee': 1854, 'yerr': 14904, 'infoooo': 7181, 'commerical': 3429, 'gordon': 6048, 'marinates': 8564, 'foodsies': 5496, 'joined': 7553, 'partna': 10022, 'go..thank': 5996, 'guarantee': 6194, 'ust': 14048, 'neutron': 9337, 'anygirl': 1512, 'persuaded': 10174, 'haaaay': 6268, 'modeling': 8951, 'wrong..': 14768, 'mustache': 9144, 'apologises': 1545, 'givafuck': 5950, 'friendless': 5637, 'stated': 12600, 'appealing': 1554, 'intro': 7273, 'cucumber+rspec': 3796, 'jacko': 7408, 'subway': 12792, 'exposure': 5090, 'lexis_': 8102, 'guh': 6209, 'tipsy': 13437, 'hel': 6545, 'juic': 7598, 'frm': 5651, 'shuddup': 11982, 'grownass': 6172, 'gaaaaay': 5751, 'iwanna': 7382, 'neopets': 9315, 'wtffff': 14775, 'mmmm': 8925, 'gaaaambit': 5753, 'tine911': 13432, 'rewarded': 11268, '26': 727, 'txts': 13815, 'christine': 3196, 'flirt': 5431, 'bukkake': 2681, 'endearment': 4848, 'ginderelly': 5934, 'jizzed': 7520, 'christianity': 3194, '*exists*': 122, 'mithra': 8909, 'lamb': 7934, '*gay*': 132, 'johnhenrymuller': 7546, 'vmodas': 14207, 'laswtnight': 7969, 'kennedy': 7707, 'churchill': 3214, 'abraham': 1072, 'lincoln': 8170, 'shouting': 11957, \"'kin\": 44, 'wankaz': 14318, 'opposition': 9797, 'plse': 10363, 'paied': 9944, 'bitey': 2303, 'morning..thank': 9022, 'portable': 10451, 'ugler': 13854, 'exception': 5037, 'donahue': 4425, 'twittr': 13807, 'thattttt': 13242, 'hm': 6689, 'suree': 12887, 'thaaa': 13210, 'kikk': 7745, 'unsung': 13985, 'riveted': 11329, 'supported': 12874, 'relegation': 11117, 'flavoured': 5414, 'hobbie': 6722, 'satisfaction': 11566, 'russian': 11476, 'stephanieeeeey': 12628, 'jes': 7494, 'grapefruit': 6100, 'heyllo': 6605, 'serato': 11774, 'crackin..lol..i': 3677, 'blinkin': 2367, 'shoutem': 11956, 'dothan': 4459, 'h0w': 6261, 'mii': 8828, 'excepting': 5036, 'speard': 12424, 'survives': 12908, 'experiance': 5070, 'inducing': 7160, 'hoodsag': 6789, 'dhoni': 4198, 'nee': 9285, 'deer': 4044, 'hahahahahahah': 6314, 'lezbian': 8104, 'thankyouverymuch': 13228, 'mrs.dallor': 9078, 'okae': 9697, 'anti-internet': 1496, 'catholicism': 2949, 'sinner': 12052, 'irked': 7310, 'nopppeeee': 9494, 'him-r': 6651, 'thst': 13372, 'mission': 8893, 'title': 13447, 'dmbass': 4378, 'ethnic': 4957, 'jocko': 7538, 'miranda': 8877, 'murphy': 9132, 'yumm': 15008, 'p-diddys': 9920, 'jdoir': 7459, 'channing': 3041, 'voting': 14227, 'mccain': 8655, 'gathering': 5814, 'songg': 12334, 'leslie': 8084, 'nielson': 9388, 'dracula': 4490, 'clipping': 3294, 'think..oh': 13302, 'videotape': 14163, 'recommendation': 11028, '4volumize': 873, 'grippos': 6151, 'diggiety': 4252, 'mason': 8607, 'betha': 2206, 'curren': 3829, 'analogy/comment': 1420, 'belenophobic': 2146, 'idealist': 6985, '..then': 303, 'ff': 5304, 'thomas': 13325, 'gibson': 5919, 'awesome-': 1820, 'eod': 4899, 'bathe': 2035, 'avoided': 1805, 'provoke': 10711, 'divorcing': 4365, 'hmp': 6716, 'ohhhhhhh': 9674, 'wny': 14666, 'sc': 11595, '24th-28th': 721, 'gbg': 5834, 'mighty': 8827, 'sitcom': 12069, 'require': 11184, 'vegemite': 14114, 'buttered': 2746, 'nomnom': 9456, 'functional': 5713, 'fave': 5238, 'fsing': 5670, '/fuck/': 563, 'lyin': 8428, 'sammich': 11527, 'tranny': 13614, 'manny': 8542, 'cyclist': 3866, 'ooof': 9764, 'kung': 7875, 'fu': 5676, 'firefail': 5364, 'neutralizing': 9336, 'horniness': 6816, 'dumb-ass': 4609, 'negativity': 9299, 'meaningless': 8683, 'sweeeet': 12932, 'fukn': 5706, 'joe-bear': 7540, 'scoot': 11646, 'eraser': 4918, 'rake': 10892, 'unbelievable': 13902, 'icon': 6975, 'starbuckks': 12583, 'high..my': 6626, 'sqz': 12538, 'pg': 10199, 'tyme': 13819, 'horseradish': 6828, 'condiment': 3483, 'parasite': 9996, 'dove': 4469, 'ob/gyn': 9602, 'choreography': 3183, 'quick..smh': 10836, 'cumputa': 3813, 'it..so': 7358, 'victoriau2019s': 14154, 'danced': 3925, 'frying': 5669, 'adriane': 1178, 'gilmore': 5931, 'joanne': 7530, 'xxxorcist': 14831, \"lacey'z\": 7913, 'dandruff': 3928, 'impale': 7092, 'granny': 6098, 'ravin': 10941, 'rabids': 10858, 'oral': 9808, 'screwing': 11676, 'step-father': 12623, 'there..pocket': 13273, 'replace': 11164, 'okaythats': 9702, 'pretttyyy': 10576, 'grandama': 6091, 'waving': 14376, 'windmill': 14621, 'baaaaah': 1873, 'suspicious': 12914, 'kicker': 7732, 'rewind': 11269, 'loltomino': 8290, 'best/worst': 2188, 'laura': 7997, 'monkees': 8991, 'pulp': 10746, '//is.gd/brvs': 425, '//is.gd/b4yp': 424, 'antrel': 1503, 'rolle': 11374, 'previewed': 10584, 'hehee': 6536, 'crikey': 3736, 'narcotic': 9234, 'steel': 12620, 'unwrapping': 13990, 'japanese': 7442, 'manko': 8536, 'koshinukei': 7851, 'teme': 13150, 'bastard/bitch': 2032, 'followng': 5480, '501': 884, 'adedd': 1159, 'meah': 8676, 'forr': 5558, 'righhtt': 11309, 'noww': 9539, 'iss_': 7349, 'oit': 9689, 'blockbuster': 2374, 'persia': 10161, 'javeed': 7449, '1-800-': 585, 'msunderstoodxxx': 9088, 'jello': 7472, 'roxx': 11432, 'un-pc': 13896, 'chalky': 3024, 'w3n': 14273, 'virginity': 14188, 'winnie': 14631, 'pooh': 10428, 'stung': 12762, 'caffeine': 2799, 'sitter': 12071, 'foremost': 5526, 'weaker': 14396, 'givin': 5955, 'voucher': 14228, 'northier': 9504, '//formspringme.zendesk.com/home': 417, 'limitation': 8166, 'banger': 1979, 'standtard': 12578, 'imagination': 7069, 'timberlakes': 13422, 'buffalo': 2670, 'congradulations': 3499, 'ducked': 4583, 'snape': 12226, \"'smart\": 72, 'bestestt': 2190, 'penguin': 10118, 'congratz': 3505, 'unapologetic': 13900, 'foreverrr': 5530, 'celeb..': 2973, 'hahar': 6342, 'twinkie': 13775, 'mula': 9114, 'dani': 3932, 'tel': 13132, 'undoubtedly': 13935, 'homopedia': 6771, 'singapore': 12043, 'tosh': 13547, \"''santa\": 9, 'uhh..i': 13863, 'frak': 5582, 'khub': 7725, 'jamay': 7424, 'baithain': 1946, 'bongay': 2451, '//snipurl.com/9a5ct': 449, 'dat..let': 3952, 'emo-indie': 4823, 'fated': 5225, 'doodling': 4445, 'formspringing': 5553, 'planting': 10327, 'smiling': 12202, 'over-rated': 9878, 'generalistic': 5869, 'journo': 7579, 'socmed': 12295, 'insensitive': 7213, 'rodney': 11362, 'uhm.i': 13868, 'forced': 5517, '3mb': 818, '5mb': 905, 'a-holes': 1033, 'scramble': 11660, 'ooga': 9758, 'booga': 2461, 'foocha': 5490, 'tooth': 13525, 'processing': 10638, 'charged': 3054, 'assault': 1684, 'ass-whooping': 1678, 'f3r0c': 5122, '0u': 581, 'werre': 14464, 'dhatss': 4195, 'deary': 4007, 'frnd': 5654, 'brandyn': 2556, 'wha': 14473, 'bop': 2479, 'pettite': 10190, 'lowe': 8379, 'wiked': 14594, 'weird..': 14436, 'ilove': 7048, 'griffin': 6142, 'pwnt': 10786, 'werent': 14460, 'videorecording': 14161, 'videoclip': 14159, 'bgdrummerboy34': 2230, 'underground': 13914, 'sto': 12660, 'emo-hair+hip': 4822, 'hop-fitted': 6802, 'gang': 5788, 'initiation': 7194, 'nop.e': 9490, 'diff': 4242, '-http': 239, '//twitpic.com/v440': 524, 'ughh~': 13852, 'diaper': 4206, 'nemo': 9312, 'giiiiiirl': 5928, 'jeffreyparadise': 7469, 'richiepanic': 11291, 'darkness': 3942, 'dt': 4575, 'cluck': 3317, 'faggoteaters': 5154, 'wednesday': 14419, '78': 937, 'thurs': 13387, 'phail': 10201, 'assessment': 1688, 'introduced/email/contact': 7275, '//twitpic.com/pyb6': 505, 'columbine': 3393, 'tragedy': 13605, 'saporta': 11551, 'bankroll': 1988, 'nyquil': 9583, 'excedrin': 5031, 'bitch/whore': 2293, 'sfl': 11823, 'sponsored': 12488, 'recipies': 11019, 'ohmygod': 9683, 'recommends': 11030, 'cups/night': 3823, '____________': 1024, 'palin': 9963, '4awhile': 860, 'virtually': 14190, 'ciontinue': 3226, 'demi': 4093, 'lovato': 8356, 'stapler': 12581, 'aww..': 1840, 'newton': 9358, 'mahfood': 8483, 'scribd': 11678, 'presentation': 10555, '//bit.ly/thmh': 408, 'rundown': 11470, 'nashville': 9238, 'sedated..we': 11721, 'chemical': 3112, 'touchscreen': 13565, 'autopilot': 1787, 'shepherd': 11883, 'mutt': 9152, 'mercury': 8756, 'poisoning': 10390, 'mamet': 8510, 'thermometer': 13278, 'piven': 10306, 'nerd-o': 9319, 'goldies': 6013, 'nastiest': 9239, 'again..shes': 1211, 'sumthin': 12842, 'charmin..thts': 3066, 'muh': 9111, 'aviod': 1802, 'sprinkle': 12513, 'jkjkjk': 7526, 'reset': 11197, 'dingleberry': 4267, 'everyother': 4986, 'exotic': 5061, 'lifegroup': 8129, 'thoseeeeee': 13332, 'resolved': 11204, 'haaa': 6267, '//twitpwr.com/xr/': 540, 'prefers': 10540, 'check/fix': 3087, 'wiggle': 14591, 'drench': 4522, 'dik': 4258, 'useful': 14041, 'steroid': 12637, 'fat..': 5221, 'ms.': 9080, '//tinyurl.com/7f2h7g': 484, 'damn..im': 3915, 'shit..we': 11908, 'brussels': 2639, 'sprout': 12515, '8th': 973, \"'specially\": 73, '//graphics1.snopes.com/photos/arts/graphics/toilet2.jpg': 418, '//www.topshop.com/webapp/wcs/stores/servlet/productdisplay': 553, 'beginindex=20': 2134, 'viewallflag=false': 14167, 'catalogid=19551': 2938, 'storeid=12556': 12682, 'categoryid=160952': 2946, 'parent_category_rn=42344': 10002, 'productid=1762331': 10649, 'langid=-1': 7948, 'trusting': 13700, \"c'mere\": 2777, 'swaying': 12925, 'forth': 5562, 'haitian': 6362, 'hate-ee-uhn': 6445, 'narrow': 9236, 'steady': 12613, 'whooo': 14546, 'crew': 3730, 'ammmmmbbaaaaaa': 1404, 'pringles': 10606, 'caffiene': 2800, 'exclamation': 5045, 'overuse': 9898, '******************meowww*************************': 94, 'programed': 10663, 'ney': 9363, '.lot': 356, 'lexxxi': 8103, 'wannnaa': 14322, 'llikkkee': 8228, 'asskk': 1695, 'meeh': 8710, 'somee': 12314, 'quesstionss': 10828, 'onn': 9752, 'formspringggg': 5552, 'herrree': 6594, 'ammmmm': 1403, 'w/e': 14258, 'guy/girl': 6241, '/emo': 562, 'gremlin': 6133, 'kickass': 7730, 'slo': 12158, 'renaissance': 11154, 'faire': 5164, '3oh': 819, 'wham': 14486, 'ibe': 6962, 'duining': 4602, 'eron': 4925, 'er..': 4915, 'godly': 6006, 'blousee': 2393, 'angus': 1447, '//snipurl.com/93pdr': 448, 'sabi': 11492, 'niya': 9418, 'seed': 11725, 'ffb': 5305, 'lied': 8121, 'b33fy': 1869, 'ember': 4807, 'wen': 14451, 'eva': 4965, 'competitor': 3448, 'symbian': 12964, 'nokia': 9451, 'deal..i': 4000, '2..man': 685, 'forme': 5545, '*sigh': 180, 'witch': 14648, 'bakery': 1952, 'okaydokay': 9701, 'l00kin': 7899, 'beezy': 2126, 'hurted': 6928, 'matthudgins': 8633, 'tozer': 13586, 'nastyy': 9244, 'hugged': 6883, 'ashlie': 1652, 'hkdimon': 6688, 'akismet': 1277, 'randi..': 10905, 'follows': 5481, 'spelt': 12446, 'eveyln': 4995, 'while..': 14515, '//twitpic.com/yn2s': 539, 'suriously': 12897, 'global': 5971, 'workplace': 14719, 'harden': 6423, 'glow-in-the-dark': 5981, 'glowing': 5982, 'multi-millionaire': 9117, 'wall-e': 14307, 'triumphant': 13674, 'hillside': 6647, 'abcdefghijklmnopqrstuvwxyz': 1057, \"'t\": 78, '800': 957, 'fuel': 5697, 'jupiter': 7621, 'bestfriend/babieeee': 2193, 'iloveyou': 7053, 'wirelss': 14638, '=x': 1006, 'wtfuhh': 14776, 'trickk': 13661, 'catchh': 2941, 'fade': 5147, 'homiee': 6766, 'quantity': 10817, 'introvert': 7276, 'extrovert': 5102, 'sunscreen': 12853, 'haha.yeah': 6292, 'cbd': 2961, 'tc': 13087, 'swedish': 12931, 'reeeeses': 11054, '83': 965, 'banquet': 1991, 'ramen': 10896, 'yeahhhhhhhhhhhhhhhhh': 14876, 'asudden': 1710, 'iglazer': 7013, 'defrag': 4064, 'fleece': 5418, 'collectible': 3381, 'hrm': 6865, 'greece': 6121, 'trample': 13613, '4rm': 869, 'cincinnati': 3221, '.ooooowwwww': 368, '..hmmmm': 281, 'gu': 6192, 'useless': 14043, 'sling': 12151, 'disability': 4287, 'discrimination': 4309, 'c+': 2779, 'asks': 1665, 'wiifitenthused': 14593, 'ohhla': 9676, '6wordepitaph': 924, 'lavish': 8001, 'vacasia': 14076, 'fasten': 5215, 'seatbelt': 11706, 'pussycat': 10776, 'pissed.you': 10298, 'to.hope': 13463, 'pssh': 10723, 'thesaurus': 13279, 'screamed': 11668, 'danvers': 3937, '1440': 643, 'uk': 13875, 'looooooool': 8316, 'icp': 6976, 'display': 4330, 'weve': 14472, 'juggalos': 7595, 'battle': 2044, 'sudden': 12817, 'oxymoron': 9914, 'geesh': 5853, 'shailee': 11833, 'coarse': 3336, 'idr': 7003, '140.': 641, 'deluged': 4088, 'fuss': 5734, 'tight..': 13409, 'cc3pt': 2964, 'qon3': 10808, 'duuuu': 4635, 'creativity': 3719, 'association': 1697, 'hittin': 6684, 'bestttt': 2199, 'rachul': 10863, 'soz': 12391, '.mi': 360, '=op': 1004, 'below': 2162, 'dummy': 4615, 'meridian': 8758, 'morgan': 9016, '//bit.ly/f8ld': 405, 'pickup': 10254, 'mercifully': 8754, 'fatman': 5228, 'assholeman-who-will-piss-everyone-completely-the-fuck-off': 1691, 'lyrical': 8435, 'pants..smh': 9978, 'jabbawockeez..': 7396, 'latency': 7973, 'rudolf': 11452, 'petersen': 10188, 'rollercoasters': 11379, 'dealing': 4001, 'william': 14602, 'philip': 10211, 'k.': 7639, 'nooooooooooooooo': 9487, '-did': 233, '.ahahahahahahaha': 316, 'why/how': 14573, 'ranking': 10910, 'fleshbot': 5419, '//is.gd/a3ah': 421, 't.v': 12983, 'hmm..i': 6696, 'whorer': 14560, 'anthony.formspring': 1490, 'doucher': 4465, 'the.illumanati': 13244, '..so': 301, 'really..hmmmm': 10984, 'calraigh': 2828, 'spotz': 12502, 'doggie': 4403, 'director': 4281, 'commentary': 3425, 'techno': 13116, 'corrected': 3602, \"'reply\": 69, 'paterson': 10048, 'joseph': 7573, 'nooooooooo': 9484, 'xddd': 14809, '.the': 384, 'kocker': 7833, 'souly': 12373, 'mankind': 8535, 'fuckitty': 5693, 'catholic': 2948, 'nda': 9269, 'yoville': 14990, 'hibachi': 6617, 'huli': 6890, 'trilogy': 13666, 'mandated': 8525, 'education': 4723, 'curriculum': 3833, 'degrading': 4067, 'intimidated': 7268, '*phoebe': 164, 'treatment': 13649, 'metrosexual': 8785, 'surrounding': 12903, 'phase': 10203, 'danny': 3936, 'rejection': 11105, '12.1.5.0': 628, 'microsoft.sharepoint.upgrade.spsearchdatabasesequence': 8813, 'vm': 14205, 'overworked': 9901, 'booding': 2460, 'sobranie': 12281, '//bit.ly/voyu': 409, 'festival': 5299, 'variant': 14104, 'shittiness': 11912, 'ibruprfn': 6964, 'corrupted': 3606, 'trilla': 13665, 'patent': 10047, '4.5': 836, 'shiver': 11915, 'persume': 10175, 'porking': 10446, 'oviously': 9902, 'iloveyouhh': 7055, 'pedifile': 10094, 'adangta': 1144, 'jadi': 7414, 'ane': 1435, 'taa': 12989, 'marah': 8550, '*buat': 109, 'muka': 9113, 'mrh*': 9076, 'esh': 4937, 'venti': 14127, 'latte': 7984, '.your': 401, 'beautifully': 2095, 'worded': 14705, 'stuf': 12751, 'frknn': 5650, 'decorate': 4034, 'pokin': 10394, 'packer': 9934, 'bart': 2013, 'starr': 12588, 'crushed': 3776, '92': 977, 'nsakes': 9544, 'dash': 3949, 'oliver': 9723, 'alexander..she': 1301, 'bar..literally': 1997, 'rapping': 10923, 'titty': 13448, 'streaming': 12704, 'plant': 10326, 'seedless': 11726, 'watermelon': 14369, '//twitpic.com/tywj': 520, 'nerd/geek': 9321, 'homework.dang': 6763, 'delish': 4082, 'ravioli': 10942, 'im2': 7065, 'hsdpa': 6867, 'kodiak': 7834, '___________': 1023, 'tought': 13569, 'anouther': 1483, 'oldest': 9718, 'gout': 6066, 'admirer': 1168, 'noopee': 9489, 'criticize': 3746, 'doules': 4468, 'scandalous': 11600, 'byron': 2771, 'partition': 10021, 'winblows': 14618, 'osx': 9838, 'neal': 9273, 'peart': 10091, 'ray..that': 10946, 'painful..maybe': 9947, 'hmm..a': 6692, '.a': 315, 'hidden': 6619, 'treasure': 13645, 'interaction': 7251, 'mateu2019s': 8620, 'walt': 14312, 'mindtouch': 8858, 'zeno': 15040, 'finalist': 5344, 'enterprise': 4878, '//is.gd/cleo': 428, 'myyyy': 9188, 'deserted': 4144, 'selfishness': 11749, 'subscription': 12787, 'hmm.r': 6705, '850th': 967, 'dutch': 4632, 'ho-ho': 6719, 'nicolas': 9385, 'sinterklaas': 12054, 'telstra': 13147, 'conroy': 3514, 'net.au': 9331, 'pokecheck': 10391, 'glass*': 5965, 'option': 9804, 'grain': 6088, 'jelouse': 7477, 'beautiful-': 2093, 'corp.': 3597, 'cherish': 3117, 'perkiness': 10154, '*shuns*': 179, 'parrot': 10012, 'pun': 10750, 'intended': 7246, 'possession': 10470, 'fareway': 5203, 'knacker': 7801, 'westcountry': 14468, 'lotto': 8345, 'mmmmhhhmmm': 8926, 'marribbbiii': 8580, 'iloveyuhhh': 7060, 'moeee': 8956, 'tmrw': 13458, 'no..i': 9431, 'tongue-in-cheek': 13503, 'fatigue': 5227, \"'til\": 83, 'external': 5096, 'frame': 5585, 'outlook': 9870, '700': 929, 'hoard': 6721, '2give': 751, 'transmission': 13622, 'uqhhh': 14019, 'iquess': 7306, 'goht': 6008, 'youh.': 14959, 'derek': 4134, 'devyn': 4186, '-aka-': 228, \"'wagon\": 87, 'ayt': 1856, 'molested': 8965, 'lmfaooooooo': 8244, 'legally': 8055, 'rossi': 11411, 'platform': 10333, 'casba': 2923, 'census': 2991, 'schmensus': 11625, 'spa': 12393, 'mummy': 9122, 'youngest': 14965, 'pausing': 10064, '411': 844, 'ijuz': 7034, 'shawn': 11857, 'bradley': 2538, '9-foot-tall': 975, 'rejected': 11104, 'fold': 5468, 'regina': 11083, 'spektor': 12440, 'featuring': 5266, 'mrh': 9075, 'kaboodle': 7645, 'jg*': 7507, 'deny': 4109, 'schnauzer': 11626, 'ears~always': 4670, 'hildie': 6644, 'tails~how': 13013, 'cropping': 3756, 'imstars': 7113, 'aufeminin': 1755, 'com/': 3397, 'stars/fan/': 12590, 'my-chemical-': 9167, 'romance/': 11384, 'romance-': 11383, '20080121-366383.': 698, '*take': 191, 'supreme': 12882, 'professorship': 10656, 'mit': 8908, '4sho': 870, 'surprisingly': 12900, 'sig': 12006, 'irony': 7317, 'deffo': 4055, 'weimer': 14432, 'inflation': 7176, 'maria': 8560, 'wombat': 14676, 'primary': 10596, 'data': 3953, 'thn': 13316, 'f***': 5114, 'pre-empt': 10526, '.of': 365, 'restriction': 11223, 'definitive': 4063, 'geared': 5841, 'i.e': 6954, 'slander': 12120, 'libel': 8110, 'obscenity': 9611, 'yaar': 14846, 'sceen': 11617, 'ole': 9721, 'yeller': 14894, 'producer': 10647, 'exporter': 5087, 'ip': 7299, 'patterened': 10056, 'hmm..uhh': 6703, 'crashed': 3689, 'concret': 3480, 'scraped': 11663, 'victoria': 14153, 'unprotected': 13978, 'oohh': 9760, '..bahah': 271, 'lightsaber': 8144, 'gogo': 6007, 'crocheting': 3750, 'playstation': 10344, 'dreaming': 4517, 'xmas..lol': 14820, 'amywhere': 1414, 'hhaahhaahahaha': 6611, 'davey': 3965, 'sped': 12433, 'webstars': 14412, 'lol..how': 8277, 'assistant': 1694, '1860': 666, 'playaa': 10338, '.um': 394, 'usual..': 14050, 'audio': 1752, 'lag': 7922, 'wider': 14582, 'tatas': 13074, 'friend..': 5635, 'venturing': 14129, 'lameness': 7939, 'prevailed': 10581, 'isht': 7339, 'dipping': 4276, 'commen': 3422, 'concrete': 3481, 'molten': 8968, 'lava': 8000, 'airway': 1267, 'thenn': 13262, 'roasted': 11341, 'verbal': 14131, 'portion': 10455, 'sardine': 11557, 'aerodynamic': 1193, 'thinner': 13308, '666.': 917, 'sorrrrrrrrrrry': 12356, 'caterpillar': 2947, 'replacing': 11167, 'britney': 2600, '808': 959, 'probowl': 10633, 'attending': 1741, 'him..': 6652, 'chiiiiiiiiiiild': 3138, 'surviving': 12909, 'dudde': 4587, 'fuuck': 5737, 'bleed': 2350, 'stingy': 12654, 'vodka': 14212, 'hoof': 6791, 'subscribed': 12785, 'dion': 4274, 'luving': 8422, '*smack*': 183, 'johnwilliams713': 7548, 'streko': 12709, 'trace': 13591, 'disappears': 4296, 'urie': 14028, 'neptunegrand': 9317, 'bfff': 2226, 'cheak': 3079, 'crackberry': 3671, 'artificial': 1638, 'sweetener': 12938, 'wizard': 14659, 'exit': 5058, '7:51': 942, '8212': 962, 'equipment': 4912, 'hmm..depends': 6694, 'cutesied': 3850, 'westerner': 14469, 'complacent': 3450, 'v.': 14067, '1984.': 672, '13-sided': 636, 'paralellogram': 9992, 'jumprope': 7612, 'lighting': 8142, 'ft.': 5672, 'pre-lit': 10527, 'pressuring': 10563, 'kitsap': 7783, 'lipservice': 8186, '29th': 737, 'ditch': 4353, 'tinkerbell': 13433, 'alienware': 1311, 'imho': 7074, 'tee': 13120, 'robertocstone': 11346, 'juiceman': 7602, 'djbigdaddy': 4370, 'kenny': 7708, 'santagold': 11546, 'brian': 2584, 'regan': 11076, 'clip': 3292, '*ehem*ehem*': 120, 'xoxoashleyxo': 14826, 'myspacin': 9179, 'browse': 2627, 'texan': 13194, '//tinyurl.com/69xzth': 469, 'a-bud': 1031, 'payback': 10068, 'knob': 7811, 'photonucket.r': 10237, 'creaming': 3711, 'sudafed': 12816, 'preggers': 10541, '.see': 373, 'houston': 6854, 'anus': 1506, 'bullcrap': 2685, 'clearer': 3273, 'dreary..': 4521, 'misssed': 8899, 'prisoner': 10613, 'pow': 10500, 'vitale': 14200, 'damn..dat': 3914, 'scary..im': 11615, 'southside..how': 12386, 'here..disz': 6581, 'crazii..*tearsz*': 3702, 'gnocchi': 5992, 'manhattanite': 8528, 'zucker': 15060, 'garren': 5802, 'unbelieveable': 13903, 'indiekid': 7154, 'kimber_regator': 7755, 'eliminates': 4777, 'circulation': 3229, 'tapper': 13054, 'dx': 4640, 'giveaway': 5952, 'thankyuh': 13229, 'manilow': 8532, 'duffle': 4597, 'lithia': 8208, 'anthonyvoedin': 1491, 'bratzgames': 2560, 'reported': 11172, 'forgery': 5532, 'dm-ing': 4376, 'distaste': 4341, 'furry': 5728, 'touched': 13561, 'roman': 11381, 'excess': 5040, 'ass-bitten': 1674, 'bogging': 2425, 'collected': 3380, 'chiko': 3139, \"is'nt\": 7329, 'xdfcvghjkl': 14811, 'parwents': 10027, 'cani': 2866, 'idol': 7002, '16th': 656, 'okaaaaayyy': 9696, 'edc': 4710, 'thad': 13211, 'heheheh': 6539, 'highlight': 6630, 'lott': 8342, 'reed': 11053, 'china': 3154, 'vent/blog/whine': 14126, 'judgment': 7592, 'skill': 12094, 'ponder': 10420, 'jollity': 7560, 'o__o': 9597, 'craaaap': 3667, 'booooooo': 2470, 'hot-': 6837, 'mushroom': 9137, 'chronic': 3202, 'hmmmm..': 6714, 'dina': 4264, 'tons': 13507, 'thanking': 13221, 'recieved': 11018, 'nomination': 9455, 'deserves': 4147, 'participate': 10016, 'mathias': 8623, 'boosie': 2473, 'whatta': 14499, 'megakoko': 8717, 'stove': 12687, 'endless': 4851, 'watermarks..': 14368, 'relieved': 11124, 'pirillo': 10295, 'gunna': 6227, 'yourselves': 14974, 'phewwww': 10209, 'romantically': 11386, 'yet.but': 14919, '709': 931, 'tweets.does': 13764, 'abou': 1063, 'donna': 4433, 'rapperbigpooh': 10921, 'sheila': 11876, 'easton': 4686, 'upkeep': 14006, 'innercity': 7203, 'reoccur': 11159, '4-6': 831, '22.': 707, 'scary..': 11614, 'purge': 10764, 'racially': 10865, 'religiously': 11127, 'gender-based': 5865, 'awfully': 1828, 'greedy': 6123, 'xx': 14829, 'freshy': 5626, 'squeezed': 12529, 'lime': 8164, 'allie': 1325, 'treasury': 13646, 'chuggypeg': 3210, 'tropic': 13677, 'win-win': 14615, 'boss': 2490, 'okay..lol': 9700, 'screwy': 11677, 'tends': 13166, 'naaa': 9202, 'kbitchhhh': 7687, '19th': 674, 'gnome': 5993, '2:30pm': 739, 'tilt': 13417, 'topping': 13534, 'dun': 4619, 'geez..me': 5855, 'oooohh': 9769, 'santos': 11548, 'snowy': 12267, 'vacationing': 14078, 'littla': 8212, 'chess': 3119, 'shouldve': 11954, 'n*gga': 9192, 'kiddin': 7739, 'yea..brang': 14865, 'essence': 4942, 'thanxxxxxx': 13233, 'fairr': 5168, 'nobotty': 9437, 'pretender': 10570, 'exciting': 5044, 'youu2019d': 14981, 'emo/prep/jock': 4825, 'joeschmitt': 7543, 'thanks~': 13226, 'cock*': 3346, '*fvrd': 129, 'minimize': 8867, 'nicce': 9373, 'sarath': 11554, 'd00d': 3880, 'linen': 8174, 'funi': 5716, 'believeing': 2150, 'modern': 8954, 'joburg': 7536, 'lowry': 8381, 'kuck': 7871, 'boricua/moricua/morena': 2483, 'outdoor': 9864, 'experimeting': 5074, 'consistency': 3521, 'relaxed': 11113, 'incorporated': 7141, 'newwest': 9359, 'react': 10961, 'themadhat': 13257, 'charlottesville': 3063, 'l.a': 7895, '.summer': 379, 'granite': 6096, 'countertop': 3632, 'belgium': 2147, 'lopez': 8324, 'dp': 4486, 'numbness': 9561, 'auntie': 1762, 'grassy': 6108, 'ass=': 1682, 'dns': 4383, 'gregpa': 6132, 'co-sign': 3329, 'lender': 8072, 'psshhh': 10724, 'hundertwasser': 6912, 'sewage': 11809, 'pix': 10307, 'silver': 12027, 'surfer': 12893, 'crackheads': 3676, 'sober': 12280, 'travie': 13640, 'mccoy': 8656, 'improvise': 7111, 'helpless': 6567, 'overwelming': 9900, 'preacher': 10529, 'reason..god': 10992, 'ianit': 6960, 'juz': 7634, 'chronicle': 3203, 'narnia': 9235, '//www.gethuman.com/': 552, 'majorly': 8497, 'addy': 1158, '5other': 906, 'pikturess': 10271, 'nuthinqq': 9569, 'fawkinqq': 5249, 'eminem': 4815, 'dictatorship': 4225, 'che': 3076, 'guevara': 6208, 'cleverrrrrrrrrrrrrrr': 3280, 'nbc': 9266, 'mya': 9168, 'ironman': 7316, 'abandoned': 1051, 'wilderness': 14598, 'hosted': 6832, 'karaoke': 7659, 'byee': 2769, 'chumby': 3211, 'qweerty': 10850, 'patti': 10058, 'labelle': 7908, 'rely': 11128, 'nekkid': 9310, 'media..keep': 8703, 'leslea': 8083, 'survived': 12907, 'fetlife': 5302, 'greeter': 6128, 'madman': 8470, '300+': 780, 'tacobot': 13003, 'lol..let': 8278, 'psp': 10722, 'blinkies': 2366, 'assfuck': 1689, 'awsome': 1837, '3.5': 777, 'meddling': 8702, 'haaard': 6270, 'bungee': 2702, 'gained': 5773, 'accountability': 1100, 'determined': 4174, 'austen': 1765, 'randalls': 10903, 'expired': 5076, 'teary': 13106, 'eyed': 5106, 'alil': 1312, 'man..i': 8517, 'joie': 7549, 'beautifulllll': 2094, 'do..my': 4386, 'dec': 4017, 'did/do': 4228, 'swore': 12959, 'her.friend': 6574, 'ass..never': 1681, 'introduced': 7274, 'creature': 3720, 'tony': 13508, 'ex-ou': 5025, 'fogret': 5465, 'executing': 5048, 'fatah': 5223, 'skyscraprs': 12114, 'palestinian': 9961, ':huggles': 993, 'nyaaaa~': 9579, 't_t': 12986, 'saulrand': 11572, '140': 640, 'inlovee': 7201, 'authentically': 1772, 'aveda': 1795, 'though..yay': 13336, 'whaaaa': 14476, 'bretts': 2582, 'pining': 10286, 'garrard': 5801, 'jacksonville': 7410, 'peta': 10184, 'woof': 14692, 'enlighten': 4867, 'vcs': 14111, 'silicon': 12023, 'frambozen': 5584, 'katiebabs': 7676, 'hotness': 6841, 'ither': 7368, 'yesturday': 14915, 'dane': 3929, 'perfer': 10142, 'westcoast': 14467, 'eastcoasters': 4683, 'team-': 13100, 'smthing': 12214, \"'nucks\": 60, 'vegetable': 14115, 'secusuck': 11719, 'envious': 4893, 'tutoring': 13749, '14th': 644, 'geeeeeeek': 5846, 'crawlies': 3696, 'adobe': 1171, 'greasy': 6117, 'day.he': 3975, 'jia..that': 7510, 'bitch-slapped': 2291, 'himm': 6654, 'kyy': 7891, 'slider': 12143, 'meng': 8740, 'hmmm..i': 6708, 'psychology': 10727, 'confusing..': 3496, 'pond': 10419, 'rhett': 11273, 'start-ups': 12593, 'twiterers': 13785, 'defending': 4051, 'dime': 4261, 'wendys': 14453, '//kenny.smoovenet.com/grabpics/terrance.gif': 433, 'charlestrippy': 3061, 'bitch..': 2292, 'earn': 4667, '50usd': 888, 'pathologist': 10051, 'swallowing': 12921, 'therapy': 13269, 'ree-ply': 11052, 'spagross': 12400, 'tiptoe': 13438, '10.5': 596, '//twurl.nl/i3pwps': 544, 'numbnuts': 9562, 'warned': 14337, 'activate': 1129, 'fon': 5485, 'freely': 5612, 'beastsoftheeast.com': 2081, 'glorious': 5975, 'norway': 9506, 'hermit': 6589, 'kewl': 7715, 'yhuuu': 14925, 'saturdayy': 11569, 'teased..': 13108, 'terrorist': 13185, 'writes': 14763, 'dissing': 4339, 'persone': 10172, 'anyting': 1528, 'piano': 10245, 'okayyyyyy': 9706, 'committed': 3432, 'skiing': 12093, 'shiiiit': 11896, 'formspringgg': 5551, 'gunther': 6228, 'rhianna': 11274, 'kroger': 7865, 'disagreed': 4290, 'occean': 9626, 'dispicably': 4329, 'thooough': 13327, '..999': 264, 'plot': 10358, 'thinker': 13304, 'mrs.teacher': 9079, 'all.damn': 1321, 'thumbnail': 13379, 'fantisey': 5200, 'exorbitantly': 5059, 'priced': 10590, 'goody': 6038, 'moneywell': 8985, 'ibank': 6961, 'sext': 11813, 'okayyy': 9704, 'replicate': 11168, 'yeauh': 14886, 'polish': 10401, 'feeln': 5279, 'parting': 10020, 'admitted': 1170, 'lust': 8419, 'kristinaking': 7861, 'iso': 7345, 'dunno..': 4623, 'ooooooh': 9773, 'radar..': 10872, '1hr': 676, '56min': 895, 'witnessed': 14655, '.unislamic': 395, 'unkosher': 13962, 'grossed': 6162, 'ph': 10200, 'hots': 6842, 'squlour': 12537, 'tardy': 13059, 'guzzle': 6247, 'there..master': 13272, 'neee': 9295, '51': 889, 'featured': 5265, 'daydream': 3976, 'remembers': 11141, 'lemonade': 8069, 'kettle': 7712, 'korn': 7850, 'ewwww': 5017, 'thebloggess': 13247, 'bcbryar': 2059, 'pretended': 10569, 'crazzyyy': 3707, 'bibliography': 2244, 'cite': 3233, 'avec': 1794, 'heures': 6600, 'bonjour': 2452, 'semio': 11758, 'jack-in-the-box': 7398, 'suave': 12777, 'bitten': 2305, 'spider': 12459, 'europe': 4962, '2001': 693, 'hogwart': 6735, 'noting': 9527, 'mere': 8757, 'keeking': 7693, 'plethora': 10353, 'handsome': 6391, '30in': 783, 'referencing': 11060, 'safari': 11497, 'floppy': 5441, 'disk': 4320, 'retro': 11240, '//bkite.com/02rhw': 410, 'shove': 11958, 'facbook': 5130, 'beanie': 2076, 'dwn': 4639, 'cld': 3264, 'mattered': 8629, 'humanely': 6894, 'exploited': 5082, 'successfully': 12797, 'intriguing': 7272, 'all-natural': 1318, 'apriiiiiiiiiiiill': 1577, 'uuuu': 14062, 'marerockcity': 8555, 'mormon': 9018, 'minimal': 8866, 'zombs': 15053, 'invade': 7278, 'romy': 11389, 'auto-correct': 1778, 'overrates': 9895, 'taller': 13038, '-there': 256, 'hailey': 6352, 'francaise': 5586, 'mabad': 8451, 'sobbed': 12279, 'w3wt': 14274, 'rarity': 10927, 'geeks/nerds': 5852, 'mme': 8921, 'non-existant': 9460, 'fucktard': 5695, 'tick.tock': 13397, 'yarn': 14858, 'braid': 2543, 'stanford': 12579, 'bey': 2220, 'matronly': 8624, 'cheaply': 3081, 'pasteninja': 10040, 'reporter': 11173, 'humping': 6909, 'reflect': 11064, 'anywhoo': 1534, 'paypal': 10075, 'ohhkayy': 9675, 'offf': 9654, 'washer': 14351, 'die..': 4236, 'eastcoast': 4682, 'crumbling': 3773, 'crooked': 3753, 'hellz': 6559, 'non-gay': 9461, 'conservation': 3515, 'socialist': 12289, 'socialism': 12288, 'brussel': 2638, 'srouts': 12541, 'yuckie': 14999, 'contain': 3540, '57357': 896, 'roomie': 11398, 'naboo': 9206, 'slobber': 12159, 'chalk': 3022, 'zzy': 15063, 'qh+3r': 10804, 'q3r': 10797, 'w00d': 14270, '+3r': 210, 'q00d': 10793, 'b3d': 1870, 'k3q': 7642, '3xc3rc': 825, 'qh+3n': 10803, 'supermarket': 12866, 'trans': 13615, 'crisco': 3742, 'headshot': 6498, 'bride': 2586, '*damn': 117, 'boyz*': 2530, '8/13/09': 955, 'okeyyy': 9709, 'she/he': 11865, 'tabilou': 12996, 'silliest': 12025, 'irrate': 7318, 'creeped': 3726, 'brigade': 2590, 'lumieru': 8409, 'leggy': 8060, 'moose': 9006, 'cariboo': 2898, 'btw..': 2650, 'cave': 2958, 'warty': 14346, 'gobblefuck': 5998, 'ex-husband': 5024, 'stoopid': 12675, 'kaia': 7650, 'beatmaker': 2088, 'legend': 8056, 'severely': 11808, 'noisey': 9449, 'becoming': 2107, 'alos': 1346, 'ia': 6956, 'mstv': 9087, 'dispanded': 4328, 'tracy': 13597, 'recognized': 11025, 'marryyyyy': 8585, 'durr': 4629, 'suckkaaa': 12807, 'yuhhhh': 15003, 'moooee': 9003, 'broadcast': 2609, 'twizzlers': 13809, 'toothache': 13526, 'hunch': 6911, 'caramal': 2881, 'harmonix': 6432, 'bestiee': 2195, 'trimet': 13668, 'man-boobs': 8515, 'phytos': 10244, 'mechanic': 8697, 'thankee': 13218, 'sai': 11504, '*pats': 163, 'stamsgal': 12574, 'head*': 6491, 'nautity': 9257, 'bo': 2413, 'mw': 9157, 'damon': 3922, 'carlton': 2902, 'also..lol': 1359, 'mesg': 8764, 'demote': 4100, 'snowman': 12264, '.even': 332, 'brandy': 2555, \"'human\": 41, 'grapevine': 6101, '3g': 815, 'apologizing': 1547, 'overactive': 9879, 'hauled': 6462, 'taintchoke': 13014, 'shakesperean': 11836, 'aargh': 1044, 'moping': 9008, 'mop': 9007, 'dieeeeeeeee': 4238, 'quoted': 10848, 'mirage': 8876, 'volcano': 14217, '.thar': 382, 'acre': 1122, 'caucasian': 2952, 'monkey-fuck': 8993, 'rudd': 11447, 'brazilian': 2563, 'waxed': 14378, 'love-hate': 8358, 'ugh.i': 13849, 'snored': 12254, 'tossed': 13551, 'night.ur': 9400, 'vacay': 14079, 'goldman': 6014, 'unending': 13938, 'seething': 11737, 'warms': 14335, 'fictional': 5316, 'counselor': 3628, 'principal/headmaster': 10605, '2morw': 759, 'valentinee': 14088, 'kitchengirljo': 7782, 'xmas/hanukkah': 14821, 'noononoononnnoononnonononoonon': 9478, 'mongler': 8987, 'nstraighten': 9546, 'telepathically': 13138, 'minds.r': 8856, 'sparkle': 12413, 'life.r': 8128, 'business.r': 2729, '5.': 878, '6.': 912, 'annd': 1460, 'hoeee': 6731, 'orr': 9833, 'ford..': 5520, 'ther': 13266, 'brock': 2611, 'burke': 2710, 'declare': 4031, 'shuffle': 11983, 'disposed': 4333, '18th': 667, 'dland': 4373, '18+': 663, 'arghh': 1600, 'caryn': 2920, 'boise': 2431, 'missoula': 8895, 'vlingo': 14203, 'prue': 10714, 'charmed': 3065, '2-ii': 683, '3iin': 816, '4iii': 865, \"can'r\": 2847, 'atitude': 1723, 'almosr': 1339, 'satan': 11563, 'tweetie': 13760, 'startup/refresh': 12596, 'scrolling': 11681, 'appo': 1567, 'nibbling': 9371, 'eliminate': 4776, 'kidnapped': 7742, 'alternative': 1362, 'deciding': 4028, 'iuno': 7378, 'ggoing': 5908, 'conversating': 3563, 'anonymousness': 1478, 'feet..lol': 5282, 'mp': 9067, 'probaly': 10628, 'prostate': 10692, 'spasm': 12416, 'funxykins': 5725, 'poured': 10498, 'legalizing': 8054, 'prostitution': 10697, 'oversimplify': 9896, 'repression': 11176, '//tinyurl.com/these-hats-are-damn-tradition': 496, 'wrt': 14772, 'lidell': 8118, 'thicke': 13289, 'wk.i': 14661, 'tho.panic': 13324, 'cd..': 2966, 'longview': 8302, 'w/10k': 14252, 'merit': 8759, 'aloha': 1341, 'flowin': 5446, 'mainland': 8489, 'happing': 6414, 'babi': 1884, 'barbara': 2000, 'angie': 1443, 'tela': 13133, 'laughn': 7992, 'disingenuous': 4319, 'machan': 8457, 'beau': 2090, 'taplin': 13052, 'collector': 3383, 'youu2019re': 14982, 'shia': 11892, 'labeuaf': 7909, '4suree': 872, 'talei': 13025, \"f'real\": 5113, 'depressed': 4124, \"6'0\": 910, \"5'1\": 876, 'sosa': 12366, 'bumsquad': 2697, '.hopefully': 345, '600': 914, '9na': 987, 'sexxyy': 11818, 'mommma': 8978, '.org': 370, 'joiee': 7550, \"'pigpen\": 65, 'atop': 1733, 'portal': 10453, 'raid': 10882, 'rkn': 11330, 'smidge': 12197, 'protein': 10702, '_that_': 1027, 'milky': 8844, 'luigi': 8404, 'masion': 8605, '.twice': 391, '.during': 331, 'chattanooga': 3072, 'nugget': 9553, 'n3qro': 9198, '..not': 293, 'capability': 2872, 'command': 3420, \"'in\": 43, 'sequence': 11773, 'heineken': 6544, 'skipping': 12102, 'independent': 7147, 'legged': 8058, 'jr': 7585, 'areopostale': 1596, 'instyle': 7233, 'mwauuuhhh': 9163, 'nocturnal': 9440, 'ent': 4874, 'aprove': 1580, 'brettlegree': 2581, 'warfare': 14331, 'whatu2019s': 14501, 'cooling': 3577, 'hitman': 6683, 'spontaneousness': 12492, 'chipotle': 3161, 'snackies': 12221, 'jug': 7593, \"'convince\": 24, 'subbed': 12781, '*.ass': 99, 'neice': 9303, 'sis.lol': 12063, 'flaccid': 5400, 'scarin': 11608, 'deaths..but': 4011, 'disz': 4352, 'koo': 7843, 'chipmunk': 3160, 'debating': 4014, 'itchy': 7364, 'ladyboy': 7920, 'oily': 9688, 'yourscenesucks': 14972, '*looks': 155, 'care*': 2891, 'reasoning': 10994, 'bryant': 2642, 'lakers': 7928, 'whelchers': 14505, 'instrumentals': 7232, 'performing': 10145, 'pea': 10082, 'w0obbl3': 14271, 'hahahahahhaahha': 6332, 'totaly': 13556, 'labor': 7910, 'trustin': 13699, 'rhymed': 11279, '*always*': 103, 'hackman': 6279, '99': 984, 'bold': 2433, 'pearl': 10090, 'kb': 7686, 'imean': 7073, 'foreal': 5521, 'vocabulary': 14211, 'crystal': 3783, 'koekjemom': 7835, 'philippines..all': 10213, 'paid..who': 9943, 'funnest': 5720, 'jeroboam': 7490, 'exponentially': 5086, 'michigander': 8808, 'to=': 13464, 'jules': 7605, 'dreamin': 4516, 'ki': 7726, 'kepted': 7710, 'tossing': 13552, 'awaiting': 1808, 'piercings/tattoos': 10266, 'late..lol': 7971, 'joydaily': 7581, 'stating': 12603, 'formsrping': 5557, \"o'hare\": 9588, 'loli': 8282, 'lean': 8031, 'suffered': 12822, 'biatchh': 2239, 'kegels': 7699, 'teyana': 13204, 'blakbillgates': 2335, 'saurez': 11573, '6:30pm': 919, 'consultant': 3533, 'frankies': 5591, 'restart': 11217, 'mindset': 8857, 'gos/cloudos': 6054, 'infinitely': 7173, 'waaaaaay': 14276, 'foul..': 5570, 'in-studio': 7117, 'sherrod': 11887, '2:00': 738, 'booked': 2465, 'runch': 11469, 'muggles': 9109, 'howe': 6857, 'ethinicity': 4956, 'lammmeee': 7940, 'too.she': 13516, 'anti': 1492, 'imo': 7087, 'vancouver': 14098, 'shivoo': 11917, 'chairman': 3020, 'vein': 14120, 'iv': 7379, 'infusion': 7186, 'pssst': 10725, 'waaaiiiitttt': 14279, 'd8': 3884, 'thunderhead': 13385, 'pyramid': 10788, 'brewery': 2583, 'skunk': 12109, 'sho': 11922, 'ex-gay': 5022, 'ministry': 8869, 'schoolers': 11631, 'jezuss': 7505, 'lifeless': 8130, 'inca': 7126, 'intreb': 7270, 'mi-a': 8799, 'fost': 5569, 'pusa': 10769, 'intrebarea': 7271, 'primul': 10601, 'rand': 10902, 'mamatulip': 8509, 'raging': 10880, 'uti': 14056, 'sanj': 11543, '//tinyurl.com/6xe883': 479, 'ati': 1722, 'nvidia': 9575, 'huddling': 6878, '30something': 785, 'gen': 5863, 'indirectly': 7155, 'calming': 2825, 'contacting': 3538, 'good.can': 6028, 'd/a': 3877, 'application': 1563, 'relies': 11122, 'conspicious': 3525, 'knowww.r': 7825, 'kiiddding': 7743, 'sttupppiddddddd': 12741, 'pistachio': 10300, 'auto-dms': 1781, 'alive..um': 1315, 'dn': 4380, 'remake': 11133, 'wimpy': 14613, 'moltz': 8969, 'isdoingitwrong': 7334, '*it*': 147, 'samosa': 11528, 'canteen': 2869, 'pacer': 9928, 'backward': 1906, 'about..': 1068, 'contracted': 3554, '3inches': 817, 'pevert': 10192, 'deannaa..': 4003, 'imyyy': 7114, 'whatchou': 14491, 'willis': 14605, 'twatted': 13753, '//twitpic.com/sbrn': 511, 'robbing': 11344, 'allllllll': 1330, 'neeeeeeed': 9296, 'byyyy..ay': 2773, 'ayyyy': 1857, 'chillinqq': 3151, 'casanova': 2922, 'rev': 11249, 'levigroker': 8097, 'ambiance': 1392, 'sushi': 12910, 'jianken': 7511, 'poser-metro': 10463, 'savvyfatty': 11584, '1hunid': 677, 'dissertation': 4337, 'sikeee': 12018, 'fusion': 5733, 'parellels': 10000, 'numbers.i': 9560, 'tonite..': 13506, 'twaters': 13752, 'speach': 12420, '30ft': 782, 'ladder': 7916, '10ft': 612, 'gp': 6072, 'higher': 6627, 'perishable': 10151, 'taxi': 13084, '4.16': 834, 'stroll': 12728, '4.30': 835, 'fuckk': 5694, 'hatersss.': 6457, 'lahh': 7924, 'yhuu': 14924, 'lexiii': 8101, 'awesomestt': 1825, 'sisterr': 12066, 'gooo': 6043, 'lakerrss': 7927, 'wub': 14779, 'whitney': 14533, 'bagntrash': 1931, 'disappeared': 4295, 'jelly-bean': 7474, 'telus': 13148, 'journchat': 7577, 'tp': 13587, 'glitter': 5969, 'sunlight.lmao.and': 12850, 'transform': 13618, 'mcd': 8657, 'flirting': 5432, 'lookat': 8305, 'qtr': 10813, 'lf': 8106, 'satisfied': 11567, 'weirdo': 14438, 'fkkin': 5397, 'bicthes': 2245, 'hatinqq': 6461, 'booby': 2459, 'amazin': 1384, 'yopu': 14943, 'fkk': 5396, 'wading': 14284, 'puked': 10742, 'ohlala': 9682, 'dago': 3893, 'ktny': 7870, 'tmpt': 13457, 'nongkrong': 9470, 'schooling': 11632, '*grins': 137, 'solitaire': 12305, 'genuois': 5883, 'harem': 6428, 'kouhai~': 7852, 'resulting': 11226, '*wear*': 199, 'souljaboy': 12370, 'bac': 1895, 'hvnt': 6937, 'fml': 5457, '.1': 310, 'solar': 12302, 'mustcha': 9146, 'kool-aid..i': 7846, 'dope..and': 4454, 'requesting': 11183, 'trickster': 13662, 'hobbit': 6723, 'magical': 8478, 'improves': 7110, 'askfrasco': 1660, 'angle': 1444, 'encouragement': 4843, 'lok': 8272, 'actualy': 1137, 'fel': 5283, 'sory': 12365, 'martinandlegend': 8590, 'abs': 1075, 'surgeon': 12895, 'heath': 6514, 'fist': 5382, 'ants..': 1504, 'derekbender': 4135, 'scumbag': 11686, 'foosball': 5506, 'pkgs': 10315, 'scum': 11685, 'shoved': 11959, 'discussing': 4311, 'w/out': 14262, 'forbid': 5514, 'thronkus': 13360, 'spunk': 12517, 'denial': 4104, 'hugging': 6884, \"'mercy\": 49, 'gregory': 6131, 'slimy': 12150, 'kiya': 7786, 'a.m': 1037, 'biz/mktg/pr': 2308, 'toward': 13578, '101s': 605, 'fringe': 5647, 'experiment': 5073, 'vinegrette': 14178, '2.2': 686, 'simon': 12033, 'groban': 6156, 'curly-haired': 3828, 'igot': 7022, 'auto-tuned': 1783, 'supercuts': 12861, '200': 692, 'squeeee': 12527, 'pint': 10291, 'papa': 9982, 'freaked': 5601, 'expressway': 5093, 'www.cantstopthis.net': 14791, 'upcoming': 13998, 'deze': 4189, 'zo': 15050, '//tinyurl.com/urh33': 497, 'you/have': 14956, 'superjail': 12864, '//tinyurl.com/5n55hg': 462, 'kissable': 7774, 'leak': 8029, '..an': 267, 'furnace': 5727, 'panic': 9976, 'kist': 7778, 'lmaoo': 8233, 'hahahahahahahahahaha': 6318, 'reallllly': 10978, 'theotherpplwhodidntreadright': 13265, 'ev': 4964, 'latest': 7979, 'suburb': 12791, 'wide': 14580, 'johnny': 7547, 'walker': 14303, 'burried': 2716, 'bobbypinning': 2420, 'tdhurst': 13089, 'fraternity': 5596, 'chopper': 3180, 'hahahahahahahha': 6326, 'crt': 3765, 'viewsonics': 14168, 'sonys': 12340, 'shrinkage': 11975, 'occurred': 9629, 'humpback': 6908, 'lateral': 7976, 'lisp': 8194, 'battlestar': 2045, 'galactica': 5775, 'departure': 4115, 'sonics': 12337, 'squad': 12522, 'cp3': 3662, 'hornet': 6815, 'pacific': 9929, 'date/marry': 3956, 'roast': 11340, 'glock': 5972, 'sweeling': 12934, 'goodeye': 6033, 'gamerscore': 5782, 'honored': 6784, 'sneeze': 12238, 'burp': 2715, 'bhhah': 2232, 'people-pleaser': 10126, 'nauseous': 9256, 'vmarie': 14206, 'groupie': 6166, 'confess': 3488, 'hahahahah..lol..lol': 6307, 'dammm': 3910, '//twitpic.com/ksek': 503, 'uhmmm..almost': 13871, 'infinity': 7174, 'lobbyist': 8253, 'investing': 7284, 'theyd': 13284, 'digging': 4253, 'yorkie': 14947, 'flour': 5443, 'ex-gays': 5023, 'cruising': 3771, 'sippi': 12056, 'indi': 7149, 'tennessee': 13169, 'rise': 11323, 'kaylas': 7684, 'overanalying': 9881, 'lov': 8355, 'differnt': 4247, \"'comedy\": 22, 'cd87': 2967, '*rolls': 171, 'co-na': 3327, 'clld': 3298, 'guild': 6211, 'soviet': 12387, 'russia': 11475, 'qaeda': 10800, 'flop': 5440, 'whoopi': 14551, 'rtd': 11439, 'thedivasoffial': 13248, 'errmm': 4928, 'fanny': 5196, 'unnatural': 13970, 'eps': 4908, 'trueblood': 13692, 'gash': 5807, 'thrash': 13344, 'spanking': 12410, 'skanky': 12086, '*sniff': 185, 'sniff*': 12242, 'cavity': 2959, 'cinnabuns': 3225, 'sonin': 12338, 'taelin': 13005, 'webb': 14408, 'groupiee': 6167, 'textinqq': 13201, 'formsprinqq': 5555, 'sorrrry': 12357, 'grasp': 6105, 'peach': 10085, 'gemma': 5862, 'cheeeeeeeese': 3094, 'stew': 12641, 'r3': 10853, 'rq': 11436, 'd0n': 3881, 'nigka': 9403, 'browning': 2626, 'deutsch': 4176, 'luc': 8394, 'pic-card': 10247, 'enter-prize': 4876, \"pic-y'know\": 10248, 'templesmith': 13156, 'takeover': 13021, 're-watch': 10959, 'sultan': 12834, 'donwill': 4442, 'yvette': 15024, 'yeeesss': 14890, '/u00bfpodru00edais': 566, 'visitar': 14195, 'u00bfquu00e9': 13836, '//contandolospetalos.blogspot.com/': 413, 'p33t': 9923, 'teefs': 13123, 'bryce': 2644, 'trs': 13683, 'amasing': 1380, 'score': 11647, 'blake': 2336, 'lively': 8220, 'agiiiinnnn': 1221, 'stream': 12703, 'pandora': 9974, 'hairball': 6355, 'beaver': 2097, 'sarcasm': 11555, 'list.r': 8197, 'skydiver': 12111, 'babiesr': 1886, 'oldr': 9719, 'gardenr': 5797, 'drasticallyr': 4503, 'suchho': 12801, '360': 805, '360gb': 807, 'dude.i': 4591, '160gb': 651, 'kow': 7853, 'peerguardian/encryption': 10106, 'scoop': 11645, 'fat-free': 5220, 'ww': 14789, 'elmn8': 4783, 'vwls': 14246, 'intentionally': 7249, \"'sux\": 77, \"'sucks\": 74, 'loooove': 8318, 'otherwise..': 9846, 'guessed': 6203, 'crop': 3755, 'lovelovelove': 8368, 'complimented': 3462, 'removal': 11150, 'friendship': 5641, 'michaeljamesway': 8805, 'frankiero': 5590, 'receieved': 11006, \"'metric\": 50, 'turnout': 13743, 'tpt': 13589, 'rumour': 11467, 'seymour': 11820, 'hoffman': 6733, 'latent': 7974, 'bucs': 2662, 'costa': 3614, 'rica': 11285, 'tropical': 13678, 'tai': 13010, 'homepage': 6759, '//mytwilightsearch.com': 437, 'screencasts': 11672, 'yoou': 14942, 'remy': 11153, 'bitchassness': 2294, 'ty': 13816, 'nuf': 9552, 'bzzz': 2774, 'thiss': 13314, '//tinyurl.com/6d4a86': 472, '-love': 241, 'ribbon': 11284, 'tequila': 13174, 'lure': 8417, 'heart/': 6510, 'awwesome': 1841, 'based': 2017, 'eightysbaby': 4752, 'gewoon': 5904, 'kutavond': 7880, 'toen': 13476, 'kon': 7841, 'ook': 9761, 'niet': 9389, 'slapen': 12123, 'hele': 6547, 'nacht': 9209, 'dus': 4630, 'gelijk': 5858, 'doorgegaan': 4452, 'naar': 9205, 'werk': 14463, 'vanmorgen': 14100, 'thasss': 13235, 'gav': 5818, 'x2': 14803, 'plaxico': 10334, 'analysis': 1421, 'parcells': 9998, 'rember': 11136, '666': 916, '3:39': 811, 'qa': 10799, 'joiieeeee': 7551, 'lalalovee': 7933, 'continental': 3544, 'liquidweb': 8190, 'bff': 2225, 'forevah': 5527, 'spazmatics': 12417, 'casino': 2927, 'horrid': 6822, 'tablet': 12999, 'bondage': 2448, 'literature': 8207, 'hmmm..she': 6710, '.uhhh': 393, 'constructive': 3530, 'annie': 1462, 'sufjan': 12824, 'stevens': 12640, 'asswhole': 1704, 'sniffed': 12243, 'fopr': 5511, 'tution': 13747, 'maam': 8449, '//twitpic.com/xn5j': 537, '.untie': 396, 'saltan': 11518, 'c8': 2784, 'bestbuy': 2189, 'streetwear': 12708, 'yr.': 14993, 'amaretto': 1379, 'stdout': 12612, 'tty': 13712, 'output': 9872, 'hmm..paris': 6700, 'gort': 6053, 'doomsday': 4447, 'manages': 8523, 'mister': 8905, 'reef': 11056, 'occurance': 9628, 'tallllll': 13040, 'piercing': 10264, 'exercising': 5051, 'handicapped': 6388, 'ragout': 10881, 'gack': 5759, 'andymn': 1432, 'hatey-hate': 6458, 'digital': 4256, 'distributed': 4348, 'bd': 2064, \"'could\": 25, 'banjo': 1985, 'fitted': 5387, 'scythe': 11687, 'tmobile': 13456, 'butiful': 2740, 'waz': 14387, 'willow': 14608, 'blacktionary': 2325, 'sophomore': 12353, 'maylene': 8647, 'meme': 8731, 'fc': 5252, 'pjk': 10313, 'hai': 6350, '*touches': 195, 'whale*': 14483, 'hellooo': 6557, 'too..i': 13514, 'path': 10049, 'untaken': 13986, 'agreat': 1225, 'unpack': 13973, 'denny': 4106, 'winning': 14632, 'mechanically': 8699, 'operated': 9789, 'martian': 8588, 'slime': 12149, 'heads..but': 6497, 'galaxy': 5776, 'hopefullly..': 6805, 'genetic': 5877, 'mutation': 9149, 'brain-that': 2546, 'day..somehow': 3974, 'slowly': 12164, 'viii': 14170, 'excessive': 5041, 'bail': 1941, 'punishment': 10754, 'punished': 10753, 'enforced': 4856, 'gblnetwkr': 5835, 'adaptive': 1146, '1000': 598, 'meanwhile': 8687, 'creater': 3714, 'nepa': 9316, 'goood': 6044, 'philosophy': 10218, '^-^': 1013, 'accomplished': 1096, 'u30c4': 13839, 'popsicle': 10441, 'squirrely': 12533, 'kia': 7727, 'ridden': 11298, 'informed': 7183, 'unprepared': 13976, 'hazelnut': 6484, 'taiwan': 13017, 'oki': 9710, 'macau': 8455, 'portugese': 10460, 'stealer': 12616, 'golfer': 6016, '//is.gd/c6vm': 426, 'coooooool': 3578, 'haunt': 6463, 'spade': 12398, 'highjacker': 6629, 'around..contemplating': 1616, '*sticks': 188, 'out*': 9858, 'tasted': 13070, 'bend': 2167, 'blackbird': 2321, 'feather': 5261, 'macaroni': 8454, '.who': 398, 'gem': 5861, 'santogold': 11547, '4shuree': 871, 'black/white': 2317, 'antiquated': 1501, 'heil': 6543, 'spook': 12493, 'qud': 10820, 'abouht': 1064, 'thinq': 13309, 'iwas': 7383, 'livesteez': 8221, 'rememeber': 11142, 'peeing': 10100, 'hafta': 6286, 'myself-must': 9174, 'bad-snow-day': 1914, 'fairness': 5167, 'waisted': 14291, 'b/f': 1866, 'messin': 8771, 'rubbish': 11445, 'gumbo': 6219, 'faveee': 5239, 'timee': 13425, '3pm': 820, 'critique': 3747, 'pass': 10029, 'badass': 1918, 'ream': 10988, 'sausage-like-thing': 11575, 'unprofessional': 13977, 'chino': 3157, 'xl': 14815, 'shook': 11929, 'askk': 1664, 'stuuuff': 12771, 'combination': 3401, 'anti-gay': 1495, 'slur': 12169, 'neon': 9314, 'buddie': 2664, 'woooooooooooot1': 14696, 'tesco': 13187, 'mixture': 8914, 'bueno': 2669, 'hiking': 6639, 'fastu2013paced': 5218, 'bleezard': 2353, 'shiz': 11918, 'tara': 13058, 'hmmm..the': 6711, 'cammando': 2839, 'drinkinggg': 4534, 'duffy': 4598, \"'bad\": 16, 'sinking': 12050, 'pushup': 10773, 'me.thats': 8674, 'm*ttaf*cking': 8438, 'promotion': 10676, 'ungrateful': 13948, 'jesusneedsnewpr': 7500, 'mindvvv': 8859, 'manual': 8545, 't-rex': 12980, 'noisy': 9450, 'movie/musical': 9060, 'redemption': 11048, 'insured': 7239, 'mcfaddern': 8659, 'bollock': 2434, 'wank': 14317, 'cunty': 3817, 'cunter': 3816, '.there': 385, '.should': 375, '16-04-2010': 648, 'sinning': 12053, 'unbirthday': 13904, 'genetics': 5878, 'impulsive': 7112, 'joell': 7542, 'cudi': 3799, 'maniac': 8531, 'libs': 8114, 'lasting': 7966, 'retwisted': 11248, 'maintenance': 8493, 'right..': 11312, 'doesnu2019t': 4401, 'lameeee': 7937, 'peps/frens': 10134, 'fiend': 5319, 'transcribing': 13617, 'infiltrate': 7171, 'maximize': 8639, 'profits..': 10660, 'signin': 12014, 'sign-up': 12011, 'eyetracking': 5108, 'resoundingly': 11207, 'register': 11088, 'folo': 5483, 'recreation': 11040, 'mtch': 9090, 'ht': 6868, 'riiiight': 11316, 'baths..': 2039, 'mtvs': 9093, 'boiling': 2430, 'radius': 10876, 'god..': 6002, 'fayetteville': 5250, 'qtpie': 10812, 'pooch': 10425, 'bum': 2691, '5-14': 877, 'everytday': 4987, 'buurrrrr': 2755, 'weight..aka': 14431, 'science-based..one': 11636, 'composite': 3464, 'double-blind': 4461, 'cat-sized': 2936, 'ouija': 9853, 'bbq': 2056, 'annual': 1473, 'lego': 8062, 'in-n-out': 7116, 'msi': 9084, 'bloodhound': 2390, 'aleeeexis': 1297, 'wooah': 14686, 'babyyyyy': 1894, 'alotta': 1348, 'dunnt': 4624, 'gotz': 6064, 'phizzle': 10219, 'reeemembr': 11055, 'shoppn': 11938, 'thingys': 13299, 'rastaaa': 10932, '-andrea': 229, 'cingular': 3224, 'etsy': 4959, 'chock': 3169, 'anonamis': 1475, '-stephanie': 254, 'publican': 10733, 'chewing': 3127, 'tabbacco': 12991, 'refridgerator': 11070, 'hahahahahahhaha': 6329, 'seriousss': 11788, 'believing': 2152, 'timmeh': 13427, 'mania': 8530, 'justice': 7626, 'witness': 14654, 'complicated': 3460, 'g1': 5749, 'branch': 2550, 'micro-hate': 8811, 'w3': 14272, 'immature': 7079, 'gore': 6049, '//tinyurl.com/5jb76v': 460, 'offset': 9660, 'tuscan': 13745, 'delancey': 4070, 'reckoned': 11023, 'getchur': 5898, 'earphone': 4668, 'wesleyclouden': 14465, 'swansea': 12922, 'underpants': 13918, 'savage': 11576, 'radioactive': 10875, 'endow': 4852, 'super-power': 12860, 'so..r': 12274, 'centrelink': 2998, 'paramore': 9993, 'zodiac': 15051, 'gatliburg..i': 5815, 'mountians': 9048, 'tyring': 13829, 'ho-ho-whore': 6720, 'gasp': 5809, 'vmug': 14208, 'kardashians': 7662, 'kendra': 7706, 'tottally': 13558, 'life.': 8126, 'cache': 2795, 'cubase': 3792, 'photoshop': 10238, 'commander': 3421, 'nebraska': 9278, 'oklahoma': 9712, 'located': 8258, 'do/get': 4387, 'ishh': 7337, 'sorryy': 12360, 'freeaking': 5609, 'arrangement': 1621, 'prettyest': 10578, '6pm': 922, 'mmmmmmm': 8930, 'ello': 4782, '..this': 304, 'kaylanot': 7683, 'pheobe': 10207, 'instinct': 7229, 'tender': 13164, 'manhood': 8529, 'testicle': 13190, 'bwahahahahah': 2764, 'extension': 5095, 'documentation': 4396, '*kicks': 151, 'pc*': 10078, 'boom': 2466, 'mililani': 8840, 'popping': 10440, 'islandcubfree': 7341, 'ugliest': 13856, 'digitally': 4257, 'degeneration': 4065, '*both*': 108, '//www.chrisbrogan.com': 547, 'chrisbrogan': 3188, 'obscure': 9612, 'meantime': 8686, 'mint-chocolate': 8873, 'cone': 3486, 'fort': 5561, 'polk': 10407, 'madam': 8464, '.heel': 342, 'rapattoni': 10915, 'geezzz': 5856, 'ideer': 6987, 'quitting': 10845, 'homophobe': 6772, 'problems..other': 10631, 'have..damn..the': 6467, 'bestfiend': 2191, 'cancun': 2858, '2222': 708, 'socalcub': 12284, 'polomex': 10413, '.cum': 325, 'git': 5948, 'mattfink': 8631, '//bit.ly/qmqj': 407, 'eeeek': 4727, 'safety': 11501, 'ay': 1852, 'vins': 14179, 'frigging': 5646, 'saab': 11491, 'kickle': 7735, 'downey': 4473, 'magnetic': 8480, 'resort': 11205, 'abour': 1065, 'retiring': 11236, 'shorter': 11943, '*giggle*': 134, '480': 854, 'specifially': 12429, 'creeeeepy': 3723, 'foohl': 5497, 'approve': 1574, 'wrist..': 14759, '*barfs': 105, 'quik': 10840, 'bombsquad..quiks': 2443, 'rap-a-lot': 10914, 'cultured': 3809, 'behaviour': 2140, 'unmarried': 13969, 'harass': 6417, 'akamonty': 1274, '*hate*': 139, 'alltime': 1335, 'deffinatly': 4054, 'poeple': 10383, 'evan': 4966, 'irritated': 7326, 'winnar': 14629, '..my': 290, 'mistruths': 8907, 'radical': 10873, 'democrat': 4098, 'theefore': 13250, '//tinyurl.com/2ezd68': 453, '3:20+': 810, 'bloggin': 2383, 'hof': 6732, 'ballot': 1961, 'perez': 10138, 'mosquito': 9029, 'hoppe': 6809, '.smart': 376, 'cofee': 3363, 'sub-standard': 12779, 'inquiry': 7206, 'orly': 9832, 'meditate': 8706, 'rflecting': 11271, 'thnkng': 13318, 'typoos': 13828, '..megan': 289, 'routing': 11429, 'sizee': 12080, 'animation': 1451, 'hmmm..yesterday': 6712, 'amateur': 1381, 'feell': 5278, '//dznr.org/87pa': 414, 'unsanity': 13982, '-thread': 257, 'ladie': 7917, 'sidebar': 12003, 'king/or': 7768, 'uranus': 14022, 'earthquake': 4672, 'uranusquakes': 14023, 'gmat': 5988, 'georgetown': 5887, 'northwestern': 9505, 'uni': 13951, 'low-fat': 8377, 'penetrate': 10115, 'warmth': 14336, 'palm': 9965, 'tequilaggedon': 13175, '//twitpic.com/y2yl': 538}\n"
          ]
        }
      ],
      "source": [
        "print(vect.vocabulary_)"
      ]
    },
    {
      "cell_type": "code",
      "execution_count": null,
      "metadata": {
        "colab": {
          "base_uri": "https://localhost:8080/",
          "height": 419
        },
        "id": "0UmwO2W2xlEX",
        "outputId": "ccab63d7-c82d-4bc9-c949-62fac78894b6"
      },
      "outputs": [
        {
          "data": {
            "text/html": [
              "<div>\n",
              "<style scoped>\n",
              "    .dataframe tbody tr th:only-of-type {\n",
              "        vertical-align: middle;\n",
              "    }\n",
              "\n",
              "    .dataframe tbody tr th {\n",
              "        vertical-align: top;\n",
              "    }\n",
              "\n",
              "    .dataframe thead th {\n",
              "        text-align: right;\n",
              "    }\n",
              "</style>\n",
              "<table border=\"1\" class=\"dataframe\">\n",
              "  <thead>\n",
              "    <tr style=\"text-align: right;\">\n",
              "      <th></th>\n",
              "      <th>content</th>\n",
              "    </tr>\n",
              "  </thead>\n",
              "  <tbody>\n",
              "    <tr>\n",
              "      <th>0</th>\n",
              "      <td>Get fucking real dude.</td>\n",
              "    </tr>\n",
              "    <tr>\n",
              "      <th>1</th>\n",
              "      <td>She is as dirty as they come  and that crook ...</td>\n",
              "    </tr>\n",
              "    <tr>\n",
              "      <th>2</th>\n",
              "      <td>why did you fuck it up. I could do it all day...</td>\n",
              "    </tr>\n",
              "    <tr>\n",
              "      <th>3</th>\n",
              "      <td>Dude they dont finish enclosing the fucking s...</td>\n",
              "    </tr>\n",
              "    <tr>\n",
              "      <th>4</th>\n",
              "      <td>WTF are you talking about Men? No men thats n...</td>\n",
              "    </tr>\n",
              "    <tr>\n",
              "      <th>...</th>\n",
              "      <td>...</td>\n",
              "    </tr>\n",
              "    <tr>\n",
              "      <th>14995</th>\n",
              "      <td>What can you smell right now?</td>\n",
              "    </tr>\n",
              "    <tr>\n",
              "      <th>14996</th>\n",
              "      <td>yew neva seen mi dik nd lol thankz</td>\n",
              "    </tr>\n",
              "    <tr>\n",
              "      <th>14997</th>\n",
              "      <td>whwhwhwhoa just slow down. huh!? what do you ...</td>\n",
              "    </tr>\n",
              "    <tr>\n",
              "      <th>14998</th>\n",
              "      <td>What&amp;;s a subject you wish you knew more about?</td>\n",
              "    </tr>\n",
              "    <tr>\n",
              "      <th>14999</th>\n",
              "      <td>im sure. people find anyting to talk about f...</td>\n",
              "    </tr>\n",
              "  </tbody>\n",
              "</table>\n",
              "<p>15000 rows × 1 columns</p>\n",
              "</div>"
            ],
            "text/plain": [
              "                                                 content\n",
              "0                                 Get fucking real dude.\n",
              "1       She is as dirty as they come  and that crook ...\n",
              "2       why did you fuck it up. I could do it all day...\n",
              "3       Dude they dont finish enclosing the fucking s...\n",
              "4       WTF are you talking about Men? No men thats n...\n",
              "...                                                  ...\n",
              "14995                      What can you smell right now?\n",
              "14996                 yew neva seen mi dik nd lol thankz\n",
              "14997   whwhwhwhoa just slow down. huh!? what do you ...\n",
              "14998    What&;s a subject you wish you knew more about?\n",
              "14999    im sure. people find anyting to talk about f...\n",
              "\n",
              "[15000 rows x 1 columns]"
            ]
          },
          "execution_count": 121,
          "metadata": {
            "tags": []
          },
          "output_type": "execute_result"
        }
      ],
      "source": [
        "X_train"
      ]
    },
    {
      "cell_type": "code",
      "execution_count": null,
      "metadata": {
        "colab": {
          "base_uri": "https://localhost:8080/"
        },
        "id": "u5sASU9fyuyj",
        "outputId": "43bb8460-70a1-4b0b-d9a3-d583dee98b77"
      },
      "outputs": [
        {
          "data": {
            "text/plain": [
              "0        1\n",
              "1        1\n",
              "2        1\n",
              "3        1\n",
              "4        1\n",
              "        ..\n",
              "14995    0\n",
              "14996    0\n",
              "14997    0\n",
              "14998    0\n",
              "14999    0\n",
              "Name: label, Length: 15000, dtype: object"
            ]
          },
          "execution_count": 122,
          "metadata": {
            "tags": []
          },
          "output_type": "execute_result"
        }
      ],
      "source": [
        "y_train"
      ]
    },
    {
      "cell_type": "code",
      "execution_count": null,
      "metadata": {
        "id": "yGLd-oOeyxIn"
      },
      "outputs": [],
      "source": [
        "X_train1=X_train.to_xarray"
      ]
    },
    {
      "cell_type": "code",
      "execution_count": null,
      "metadata": {
        "colab": {
          "base_uri": "https://localhost:8080/"
        },
        "id": "aIgNxaD6y4HE",
        "outputId": "ee7047ed-9193-4387-d8d1-70a141b56095"
      },
      "outputs": [
        {
          "data": {
            "text/plain": [
              "<bound method NDFrame.to_xarray of                                                  content\n",
              "0                                 Get fucking real dude.\n",
              "1       She is as dirty as they come  and that crook ...\n",
              "2       why did you fuck it up. I could do it all day...\n",
              "3       Dude they dont finish enclosing the fucking s...\n",
              "4       WTF are you talking about Men? No men thats n...\n",
              "...                                                  ...\n",
              "14995                      What can you smell right now?\n",
              "14996                 yew neva seen mi dik nd lol thankz\n",
              "14997   whwhwhwhoa just slow down. huh!? what do you ...\n",
              "14998    What&;s a subject you wish you knew more about?\n",
              "14999    im sure. people find anyting to talk about f...\n",
              "\n",
              "[15000 rows x 1 columns]>"
            ]
          },
          "execution_count": 125,
          "metadata": {
            "tags": []
          },
          "output_type": "execute_result"
        }
      ],
      "source": [
        "X_train1"
      ]
    },
    {
      "cell_type": "code",
      "execution_count": null,
      "metadata": {
        "id": "v1GZvHr8zEuM"
      },
      "outputs": [],
      "source": [
        "y_train1=y_train.to_xarray"
      ]
    },
    {
      "cell_type": "code",
      "execution_count": 37,
      "metadata": {
        "colab": {
          "base_uri": "https://localhost:8080/"
        },
        "id": "st5ia4EHzNUU",
        "outputId": "854dc752-25aa-4a2c-aaac-5b7528497b02"
      },
      "outputs": [
        {
          "ename": "NameError",
          "evalue": "name 'y_train1' is not defined",
          "output_type": "error",
          "traceback": [
            "\u001b[1;31m---------------------------------------------------------------------------\u001b[0m",
            "\u001b[1;31mNameError\u001b[0m                                 Traceback (most recent call last)",
            "Cell \u001b[1;32mIn[37], line 1\u001b[0m\n\u001b[1;32m----> 1\u001b[0m \u001b[43my_train1\u001b[49m\n",
            "\u001b[1;31mNameError\u001b[0m: name 'y_train1' is not defined"
          ]
        }
      ],
      "source": [
        "y_train1"
      ]
    },
    {
      "cell_type": "code",
      "execution_count": null,
      "metadata": {
        "id": "tppkHnnvnvPz"
      },
      "outputs": [],
      "source": []
    }
  ],
  "metadata": {
    "colab": {
      "authorship_tag": "ABX9TyOG8AgLJIFzUy8SDakocVQr",
      "collapsed_sections": [],
      "include_colab_link": true,
      "mount_file_id": "1hNuG30k4ToHT5zcflib2w0cYSKDTVDVC",
      "name": "DetectOnlineBullying.ipynb",
      "provenance": []
    },
    "kernelspec": {
      "display_name": "Python 3",
      "name": "python3"
    },
    "language_info": {
      "codemirror_mode": {
        "name": "ipython",
        "version": 3
      },
      "file_extension": ".py",
      "mimetype": "text/x-python",
      "name": "python",
      "nbconvert_exporter": "python",
      "pygments_lexer": "ipython3",
      "version": "3.12.6"
    }
  },
  "nbformat": 4,
  "nbformat_minor": 0
}
